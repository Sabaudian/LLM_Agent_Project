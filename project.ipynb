{
 "cells": [
  {
   "metadata": {},
   "cell_type": "markdown",
   "source": "# Project Title",
   "id": "1dd8e93f30822961"
  },
  {
   "metadata": {},
   "cell_type": "markdown",
   "source": "## Import",
   "id": "9e31f05146607c0f"
  },
  {
   "cell_type": "code",
   "id": "initial_id",
   "metadata": {
    "collapsed": true
   },
   "source": [
    "# Install required packages\n",
    "%pip install -qU chromadb\n",
    "%pip install -qU tiktoken\n",
    "%pip install -qU langchain\n",
    "%pip install -qU langgraph\n",
    "%pip install -qU langchainhub\n",
    "%pip install -qU tavily-python\n",
    "%pip install -qU \"nomic[local]\"\n",
    "%pip install -qU langchain-nomic\n",
    "%pip install -qU langchain-ollama\n",
    "%pip install -qU langchain_community\n"
   ],
   "outputs": [],
   "execution_count": null
  },
  {
   "metadata": {
    "ExecuteTime": {
     "end_time": "2024-10-16T13:36:42.079693Z",
     "start_time": "2024-10-16T13:36:42.075621Z"
    }
   },
   "cell_type": "code",
   "source": [
    "# Import\n",
    "import os\n",
    "import getpass\n",
    "import operator\n",
    "\n",
    "from pydantic import BaseModel, Field\n",
    "from typing_extensions import TypedDict\n",
    "from typing import Annotated, List, Literal\n",
    "from IPython.display import Image, display\n",
    "from langchain_core.runnables.graph import MermaidDrawMethod\n",
    "\n",
    "from langchain import hub\n",
    "from langchain.schema import Document\n",
    "from langchain_ollama import ChatOllama\n",
    "from langchain_community.vectorstores import Chroma\n",
    "from langchain_core.prompts import ChatPromptTemplate\n",
    "from langchain_nomic.embeddings import NomicEmbeddings\n",
    "from langchain_core.output_parsers import StrOutputParser\n",
    "from langchain_community.document_loaders import WebBaseLoader\n",
    "from langchain.text_splitter import RecursiveCharacterTextSplitter\n",
    "from langchain_community.tools.tavily_search import TavilySearchResults\n",
    "\n",
    "from langgraph.graph import START, END, StateGraph\n",
    "\n",
    "import warnings\n",
    "warnings.filterwarnings(\"ignore\")\n"
   ],
   "id": "cdcb8304d4ee8aca",
   "outputs": [],
   "execution_count": 30
  },
  {
   "metadata": {},
   "cell_type": "markdown",
   "source": "## Setup",
   "id": "e016b0c8bbdfba8e"
  },
  {
   "metadata": {
    "ExecuteTime": {
     "end_time": "2024-10-16T13:18:14.807942Z",
     "start_time": "2024-10-16T13:17:48.366985Z"
    }
   },
   "cell_type": "code",
   "source": [
    "# Setup environment \n",
    "def _set_env(key: str) -> None:\n",
    "    \"\"\"\n",
    "    Set the environment variables.\n",
    "        Args:\n",
    "            key (str): The name of the environment variable.\n",
    "    \"\"\"\n",
    "    if key not in os.environ:\n",
    "        os.environ[key] = getpass.getpass(f\"Enter {key}:\")\n",
    "\n",
    "# _set_env(\"LANGCHAIN_API_KEY\")\n",
    "_set_env(\"NOMIC_API_KEY\")\n",
    "_set_env(\"TAVILY_API_KEY\")\n",
    "\n",
    "# LangChain key: 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\n",
    "# Nomic key: nk-2lWlK26_eyFeHHN8bAA4tiIaqEJNjJ8vCGkIlnBiz1M\n",
    "# Tavily key: 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\n"
   ],
   "id": "9da72bbf3b9d71c8",
   "outputs": [],
   "execution_count": 3
  },
  {
   "metadata": {
    "ExecuteTime": {
     "end_time": "2024-10-16T13:49:41.121705Z",
     "start_time": "2024-10-16T13:49:41.082193Z"
    }
   },
   "cell_type": "code",
   "source": [
    "# LLM \n",
    "local_llm = \"llama3.2\"  \n",
    "llm = ChatOllama(model=local_llm, temperature=0)\n"
   ],
   "id": "89c73d74d3d4243d",
   "outputs": [],
   "execution_count": 71
  },
  {
   "metadata": {},
   "cell_type": "markdown",
   "source": "## Vectorstore",
   "id": "e23514490ceacc1"
  },
  {
   "metadata": {
    "ExecuteTime": {
     "end_time": "2024-10-16T13:42:18.629882Z",
     "start_time": "2024-10-16T13:42:12.792827Z"
    }
   },
   "cell_type": "code",
   "source": [
    "# Documents\n",
    "urls = [\n",
    "    \"https://www.italia.it/en/lazio/rome/guide-history-facts\",\n",
    "    \"https://www.italia.it/en/lombardy/milan/guide-history-facts\",\n",
    "    \"https://www.italia.it/en/piedmont/turin/guide-history-facts\",\n",
    "    \"https://www.italia.it/en/emilia-romagna/bologna/guide-history-facts\",\n",
    "    \"https://www.italia.it/en/tuscany/florence/guide-history-facts\",\n",
    "    \"https://www.italia.it/en/campania/naples/guide-history-facts\",\n",
    "    \"https://www.italia.it/en/sicily/palermo/guide-history-facts\",\n",
    "    \"https://www.italia.it/en/trentino/trento/guide-history-facts\",\n",
    "    \"https://www.italia.it/en/aosta-valley/aosta/guide-history-facts\",\n",
    "    \"https://www.italia.it/en/veneto/venice/guide-history-facts\",\n",
    "    \"https://www.italia.it/en/sardinia/cagliari/guide-history-facts\",\n",
    "    \"https://www.italia.it/en/puglia/bari/guide-history-facts\",\n",
    "]\n",
    "\n",
    "# Load documents\n",
    "docs = [WebBaseLoader(url).load() for url in urls]\n",
    "docs_list = [item for sublist in docs for item in sublist]\n",
    "\n",
    "# Split documents\n",
    "text_splitter = RecursiveCharacterTextSplitter.from_tiktoken_encoder(\n",
    "    chunk_size=500, chunk_overlap=0\n",
    ")\n",
    "doc_splits = text_splitter.split_documents(docs_list)\n",
    "\n",
    "# Set embeddings\n",
    "embeddings = NomicEmbeddings(model=\"nomic-embed-text-v1.5\")\n",
    "\n",
    "# Add to vectorstore\n",
    "vectorstore = Chroma.from_documents(documents=doc_splits, embedding=embeddings)\n",
    "\n",
    "# Create retriever\n",
    "retriever = vectorstore.as_retriever(k=3)\n"
   ],
   "id": "c2d4139929c0d430",
   "outputs": [],
   "execution_count": 46
  },
  {
   "metadata": {
    "ExecuteTime": {
     "end_time": "2024-10-16T13:45:37.833053Z",
     "start_time": "2024-10-16T13:45:36.931163Z"
    }
   },
   "cell_type": "code",
   "source": [
    "# Test Retrieve \n",
    "retriever.invoke(\"Pizza\")\n"
   ],
   "id": "58d907e55ddba0cf",
   "outputs": [
    {
     "data": {
      "text/plain": [
       "[Document(metadata={'description': \"Discover what to see in Naples, the city of Maschio Angioino and Castel dell'Ovo. Find on Italia.it ideas for holidays in Italy.\", 'language': 'en', 'source': 'https://www.italia.it/en/campania/naples/guide-history-facts', 'title': 'Naples, what to see in the city of Vesuvius - Italia.it'}, page_content=\"When it comes to gastronomy in Naples, it is good to be clear and set some priorities. Here they are.\\nThere are some iconic foods: we are talking about buffalo mozzarella and Neapolitan pizza. Did you know that the art of pizza-making has been declared by UNESCO as an intangible heritage of humanity?At the heart of Neapolitan cuisine is fried food. So make way for panzerotti and the Neapolitan cuoppo, one of the kings of Neapolitan street food, which takes its name from the cone-shaped wrapper in which the fried food (from fish to mozzarella) is served.A typical Neapolitan recipe, simple but very tasty, is sausage and friarielli, which usually appeals to everyone. The same applies to the Neapolitan ragù (made with beef muscle, pork ribs and pork chanterelle): it is cooked for a full six hours.Once in town, those with a sweet tooth can't help but pop into a pastry shop to get their hands on Neapolitan sfogliatelle, filled with ricotta, semolina and candied fruit. The latter is also used to decorate struffoli, a typical Christmas cake. The typical Easter cake, on the other hand, is the Neapolitan pastiera, with its ricotta filling. A dessert for all seasons and times is the Neapolitan baba, baked in the oven and then dipped in rum.\\n\\n\\n\\n\\n\\n\\n\\n\\n\\n\\n\\n\\n\\n\\n\\n\\n                Generic error\\n            \\n\\n\\n\\n\\n\\n\\n\\n\\n\\nThe unusual places of Naples\"),\n",
       " Document(metadata={'description': \"Discover what to see in Naples, the city of Maschio Angioino and Castel dell'Ovo. Find on Italia.it ideas for holidays in Italy.\", 'language': 'en', 'source': 'https://www.italia.it/en/campania/naples/guide-history-facts', 'title': 'Naples, what to see in the city of Vesuvius - Italia.it'}, page_content=\"When it comes to gastronomy in Naples, it is good to be clear and set some priorities. Here they are.\\nThere are some iconic foods: we are talking about buffalo mozzarella and Neapolitan pizza. Did you know that the art of pizza-making has been declared by UNESCO as an intangible heritage of humanity?At the heart of Neapolitan cuisine is fried food. So make way for panzerotti and the Neapolitan cuoppo, one of the kings of Neapolitan street food, which takes its name from the cone-shaped wrapper in which the fried food (from fish to mozzarella) is served.A typical Neapolitan recipe, simple but very tasty, is sausage and friarielli, which usually appeals to everyone. The same applies to the Neapolitan ragù (made with beef muscle, pork ribs and pork chanterelle): it is cooked for a full six hours.Once in town, those with a sweet tooth can't help but pop into a pastry shop to get their hands on Neapolitan sfogliatelle, filled with ricotta, semolina and candied fruit. The latter is also used to decorate struffoli, a typical Christmas cake. The typical Easter cake, on the other hand, is the Neapolitan pastiera, with its ricotta filling. A dessert for all seasons and times is the Neapolitan baba, baked in the oven and then dipped in rum.\\n\\n\\n\\n\\n\\n\\n\\n\\n\\n\\n\\n\\n\\n\\n\\n\\n                Generic error\\n            \\n\\n\\n\\n\\n\\n\\n\\n\\n\\nThe unusual places of Naples\"),\n",
       " Document(metadata={'description': \"Discover what to see in Naples, the city of Maschio Angioino and Castel dell'Ovo. Find on Italia.it ideas for holidays in Italy.\", 'language': 'en', 'source': 'https://www.italia.it/en/campania/naples/guide-history-facts', 'title': 'Naples, what to see in the city of Vesuvius - Italia.it'}, page_content=\"When it comes to gastronomy in Naples, it is good to be clear and set some priorities. Here they are.\\nThere are some iconic foods: we are talking about buffalo mozzarella and Neapolitan pizza. Did you know that the art of pizza-making has been declared by UNESCO as an intangible heritage of humanity?At the heart of Neapolitan cuisine is fried food. So make way for panzerotti and the Neapolitan cuoppo, one of the kings of Neapolitan street food, which takes its name from the cone-shaped wrapper in which the fried food (from fish to mozzarella) is served.A typical Neapolitan recipe, simple but very tasty, is sausage and friarielli, which usually appeals to everyone. The same applies to the Neapolitan ragù (made with beef muscle, pork ribs and pork chanterelle): it is cooked for a full six hours.Once in town, those with a sweet tooth can't help but pop into a pastry shop to get their hands on Neapolitan sfogliatelle, filled with ricotta, semolina and candied fruit. The latter is also used to decorate struffoli, a typical Christmas cake. The typical Easter cake, on the other hand, is the Neapolitan pastiera, with its ricotta filling. A dessert for all seasons and times is the Neapolitan baba, baked in the oven and then dipped in rum.\\n\\n\\n\\n\\n\\n\\n\\n\\n\\n\\n\\n\\n\\n\\n\\n\\n                Generic error\\n            \\n\\n\\n\\n\\n\\n\\n\\n\\n\\nThe unusual places of Naples\"),\n",
       " Document(metadata={'description': \"Discover what to see in Naples, the city of Maschio Angioino and Castel dell'Ovo. Find on Italia.it ideas for holidays in Italy.\", 'language': 'en', 'source': 'https://www.italia.it/en/campania/naples/guide-history-facts', 'title': 'Naples, what to see in the city of Vesuvius - Italia.it'}, page_content=\"When it comes to gastronomy in Naples, it is good to be clear and set some priorities. Here they are.\\nThere are some iconic foods: we are talking about buffalo mozzarella and Neapolitan pizza. Did you know that the art of pizza-making has been declared by UNESCO as an intangible heritage of humanity?At the heart of Neapolitan cuisine is fried food. So make way for panzerotti and the Neapolitan cuoppo, one of the kings of Neapolitan street food, which takes its name from the cone-shaped wrapper in which the fried food (from fish to mozzarella) is served.A typical Neapolitan recipe, simple but very tasty, is sausage and friarielli, which usually appeals to everyone. The same applies to the Neapolitan ragù (made with beef muscle, pork ribs and pork chanterelle): it is cooked for a full six hours.Once in town, those with a sweet tooth can't help but pop into a pastry shop to get their hands on Neapolitan sfogliatelle, filled with ricotta, semolina and candied fruit. The latter is also used to decorate struffoli, a typical Christmas cake. The typical Easter cake, on the other hand, is the Neapolitan pastiera, with its ricotta filling. A dessert for all seasons and times is the Neapolitan baba, baked in the oven and then dipped in rum.\\n\\n\\n\\n\\n\\n\\n\\n\\n\\n\\n\\n\\n\\n\\n\\n\\n                Generic error\\n            \\n\\n\\n\\n\\n\\n\\n\\n\\n\\nThe unusual places of Naples\")]"
      ]
     },
     "execution_count": 50,
     "metadata": {},
     "output_type": "execute_result"
    }
   ],
   "execution_count": 50
  },
  {
   "metadata": {},
   "cell_type": "markdown",
   "source": "## Components",
   "id": "aaad6c70d3a07fde"
  },
  {
   "metadata": {
    "ExecuteTime": {
     "end_time": "2024-10-16T13:48:28.830273Z",
     "start_time": "2024-10-16T13:48:28.826733Z"
    }
   },
   "cell_type": "code",
   "source": [
    "## Router\n",
    "class QueryRoute(BaseModel):\n",
    "    \"\"\"\n",
    "      Route a user query to the most relevant datasource.\n",
    "    \"\"\"\n",
    "    datasource: Literal[\"vectorstore\", \"web_search\"] = Field(\n",
    "        ...,\n",
    "        description=\"Given a user question choose to route it to web search or a vectorstore.\",\n",
    "    )\n"
   ],
   "id": "502286dda58571e",
   "outputs": [],
   "execution_count": 63
  },
  {
   "metadata": {
    "ExecuteTime": {
     "end_time": "2024-10-16T13:49:49.182920Z",
     "start_time": "2024-10-16T13:49:49.178907Z"
    }
   },
   "cell_type": "code",
   "source": [
    "# LLM\n",
    "structured_llm_router = llm.with_structured_output(QueryRoute)\n",
    "\n",
    "# System prompt\n",
    "router_instructions = \"\"\"You are an expert at routing a user question to a vectorstore or web search.\n",
    "The vectorstore contains documents related to some famous italian city, touristic and historical places, food and travel tips for tourists.\n",
    "Use the vectorstore for questions on these topics. Otherwise, use web-search.\"\"\"\n",
    "\n",
    "# Combine the system message and user question in a prompt template\n",
    "route_prompt = ChatPromptTemplate.from_messages(\n",
    "    [\n",
    "        (\"system\", router_instructions),\n",
    "        (\"human\", \"{question}\"),\n",
    "    ]\n",
    ")\n",
    "question_router = route_prompt | structured_llm_router\n"
   ],
   "id": "eccbabb5cf436257",
   "outputs": [],
   "execution_count": 72
  },
  {
   "metadata": {
    "ExecuteTime": {
     "end_time": "2024-10-16T13:49:56.263767Z",
     "start_time": "2024-10-16T13:49:51.702271Z"
    }
   },
   "cell_type": "code",
   "source": [
    "## Test router\n",
    "print(question_router.invoke({\"question\": \"Where is the Colosseum?\"})) # expected result: vectorstore\n",
    "\n",
    "print(question_router.invoke({\"question\": \"What is the capital of France?\"})) # expected result: web_search"
   ],
   "id": "983a9fd150bab4e7",
   "outputs": [
    {
     "name": "stdout",
     "output_type": "stream",
     "text": [
      "datasource='vectorstore'\n",
      "datasource='web_search'\n"
     ]
    }
   ],
   "execution_count": 73
  },
  {
   "metadata": {
    "ExecuteTime": {
     "end_time": "2024-10-16T13:49:56.282449Z",
     "start_time": "2024-10-16T13:49:56.279086Z"
    }
   },
   "cell_type": "code",
   "source": [
    "# Retrieval Grader\n",
    "class GradeDocs(BaseModel):\n",
    "    \"\"\"Binary score for relevance check on retrieved documents.\"\"\"\n",
    "\n",
    "    binary_score: str = Field(\n",
    "        description=\"Documents are relevant to the question, 'yes' or 'no'\"\n",
    "    )\n"
   ],
   "id": "6bf37bfe0c3e49a6",
   "outputs": [],
   "execution_count": 74
  },
  {
   "metadata": {
    "ExecuteTime": {
     "end_time": "2024-10-16T13:49:57.172029Z",
     "start_time": "2024-10-16T13:49:57.168276Z"
    }
   },
   "cell_type": "code",
   "source": [
    "# LLM\n",
    "structured_llm_grader = llm.with_structured_output(GradeDocs)\n",
    "\n",
    "# Prompt\n",
    "doc_grader_instructions = \"\"\"You are a grader assessing relevance of a retrieved document to a user question. \\n \n",
    "    If the document contains keyword(s) or semantic meaning related to the user question, grade it as relevant. \\n\n",
    "    It does not need to be a stringent test. The goal is to filter out erroneous retrievals. \\n\n",
    "    Give a binary score 'yes' or 'no' score to indicate whether the document is relevant to the question.\"\"\"\n",
    "\n",
    "\n",
    "grade_prompt = ChatPromptTemplate.from_messages(\n",
    "    [\n",
    "        (\"system\", doc_grader_instructions),\n",
    "        (\"human\", \"Retrieved document: \\n\\n {document} \\n\\n User question: {question}\"),\n",
    "    ]\n",
    ")\n",
    "retrieval_grader = grade_prompt | structured_llm_grader\n"
   ],
   "id": "b88c7cde3cff0e8d",
   "outputs": [],
   "execution_count": 75
  },
  {
   "metadata": {
    "ExecuteTime": {
     "end_time": "2024-10-16T13:50:04.958072Z",
     "start_time": "2024-10-16T13:50:00.105972Z"
    }
   },
   "cell_type": "code",
   "source": [
    "## Test grader\n",
    "\n",
    "# First question: expected score = yes\n",
    "question_1 = \"Where is the Colosseum located?\"\n",
    "relevant_document_1 = retriever.get_relevant_documents(question_1)\n",
    "docs_text_1 = relevant_document_1[1].page_content\n",
    "print(retrieval_grader.invoke({\"question\": question_1, \"document\": docs_text_1}))\n",
    "\n",
    "# Second question: expected score = no\n",
    "question_2 = \"Who won the olympics 2024?\"\n",
    "relevant_document_2 = retriever.get_relevant_documents(question_2)\n",
    "docs_text_2 = relevant_document_2[1].page_content\n",
    "print(retrieval_grader.invoke({\"question\": question_2, \"document\": docs_text_2}))\n"
   ],
   "id": "50aa1188cc7afb7f",
   "outputs": [
    {
     "name": "stdout",
     "output_type": "stream",
     "text": [
      "binary_score='yes'\n",
      "binary_score='no'\n"
     ]
    }
   ],
   "execution_count": 76
  },
  {
   "metadata": {
    "ExecuteTime": {
     "end_time": "2024-10-16T14:35:26.853392Z",
     "start_time": "2024-10-16T14:35:25.335769Z"
    }
   },
   "cell_type": "code",
   "source": [
    "## Generate\n",
    "\n",
    "# Prompt \n",
    "rag_prompt = hub.pull(\"rlm/rag-prompt\")\n",
    "rag_prompt.pretty_print()\n",
    "\n",
    "# # Post-processing\n",
    "# def format_docs(documents):\n",
    "#     return \"\\n\\n\".join(doc.page_content for doc in documents)\n",
    "\n",
    "# Chain\n",
    "rag_chain = rag_prompt | llm | StrOutputParser()\n"
   ],
   "id": "c8412720329adfdb",
   "outputs": [
    {
     "name": "stdout",
     "output_type": "stream",
     "text": [
      "================================\u001B[1m Human Message \u001B[0m=================================\n",
      "\n",
      "You are an assistant for question-answering tasks. Use the following pieces of retrieved context to answer the question. If you don't know the answer, just say that you don't know. Use three sentences maximum and keep the answer concise.\n",
      "Question: \u001B[33;1m\u001B[1;3m{question}\u001B[0m \n",
      "Context: \u001B[33;1m\u001B[1;3m{context}\u001B[0m \n",
      "Answer:\n"
     ]
    }
   ],
   "execution_count": 122
  },
  {
   "metadata": {
    "ExecuteTime": {
     "end_time": "2024-10-16T14:44:29.600603Z",
     "start_time": "2024-10-16T14:44:27.318923Z"
    }
   },
   "cell_type": "code",
   "source": [
    "# Generator execution example\n",
    "generate_answer = rag_chain.invoke({\"context\": docs_text_1, \"question\": question_1})\n",
    "print(generate_answer)\n"
   ],
   "id": "2e1b929e92164beb",
   "outputs": [
    {
     "name": "stdout",
     "output_type": "stream",
     "text": [
      "The Colosseum is located in Rome, Italy. It is one of the capital's symbols and the largest and most famous Roman amphitheatre in the world. The Colosseum was built between 70 and 80 AD.\n"
     ]
    }
   ],
   "execution_count": 129
  },
  {
   "metadata": {
    "ExecuteTime": {
     "end_time": "2024-10-16T14:06:43.119021Z",
     "start_time": "2024-10-16T14:06:43.115889Z"
    }
   },
   "cell_type": "code",
   "source": [
    "# Hallucination Grader\n",
    "class GradeHallucinations(BaseModel):\n",
    "    \"\"\"Binary score for hallucination present in generation answer.\"\"\"\n",
    "\n",
    "    binary_score: str = Field(\n",
    "        description=\"Answer is grounded in the facts, 'yes' or 'no'\"\n",
    "    )\n",
    "    "
   ],
   "id": "3a1168eb123bfef6",
   "outputs": [],
   "execution_count": 94
  },
  {
   "metadata": {
    "ExecuteTime": {
     "end_time": "2024-10-16T14:06:45.421685Z",
     "start_time": "2024-10-16T14:06:45.418119Z"
    }
   },
   "cell_type": "code",
   "source": [
    "# LLM\n",
    "structured_llm_grader = llm.with_structured_output(GradeHallucinations)\n",
    "\n",
    "# Prompt\n",
    "hallucination_grader_instructions = \"\"\"You are a grader assessing whether an LLM generation is grounded in / supported by a set of retrieved facts. \\n \n",
    "     Give a binary score 'yes' or 'no'. 'Yes' means that the answer is grounded in / supported by the set of facts.\"\"\"\n",
    "\n",
    "hallucination_grader_prompt = ChatPromptTemplate.from_messages(\n",
    "    [\n",
    "        (\"system\", hallucination_grader_instructions),\n",
    "        (\"human\", \"Set of facts: \\n\\n {documents} \\n\\n LLM generation: {generation}\"),\n",
    "    ]\n",
    ")\n",
    "hallucination_grader = hallucination_grader_prompt | structured_llm_grader\n"
   ],
   "id": "f1d465ebb6cc8fae",
   "outputs": [],
   "execution_count": 95
  },
  {
   "metadata": {
    "ExecuteTime": {
     "end_time": "2024-10-16T14:44:40.623985Z",
     "start_time": "2024-10-16T14:44:38.687780Z"
    }
   },
   "cell_type": "code",
   "source": [
    "# Test hallucination grader\n",
    "hallucination_grader.invoke({\"documents\": docs_text_1, \"generation\": generate_answer})\n"
   ],
   "id": "79f59939b7856167",
   "outputs": [
    {
     "data": {
      "text/plain": [
       "GradeHallucinations(binary_score='yes')"
      ]
     },
     "execution_count": 130,
     "metadata": {},
     "output_type": "execute_result"
    }
   ],
   "execution_count": 130
  },
  {
   "metadata": {
    "ExecuteTime": {
     "end_time": "2024-10-16T14:06:55.363029Z",
     "start_time": "2024-10-16T14:06:55.358362Z"
    }
   },
   "cell_type": "code",
   "source": [
    "# Answer Grader\n",
    "class GradeAnswers(BaseModel):\n",
    "    \"\"\"Binary score to assess answer addresses question.\"\"\"\n",
    "\n",
    "    binary_score: str = Field(\n",
    "        description=\"Answer addresses the question, 'yes' or 'no'\"\n",
    "    )\n",
    "    "
   ],
   "id": "48c72983b2bfbd88",
   "outputs": [],
   "execution_count": 97
  },
  {
   "metadata": {
    "ExecuteTime": {
     "end_time": "2024-10-16T14:06:55.638940Z",
     "start_time": "2024-10-16T14:06:55.634390Z"
    }
   },
   "cell_type": "code",
   "source": [
    "# LLM\n",
    "structured_llm_grader = llm.with_structured_output(GradeAnswers)\n",
    "\n",
    "# Prompt\n",
    "answer_grader_instructions = \"\"\"You are a grader assessing whether an answer addresses / resolves a question \\n \n",
    "     Give a binary score 'yes' or 'no'. Yes' means that the answer resolves the question.\"\"\"\n",
    "\n",
    "answer_prompt = ChatPromptTemplate.from_messages(\n",
    "    [\n",
    "        (\"system\", answer_grader_instructions),\n",
    "        (\"human\", \"User question: \\n\\n {question} \\n\\n LLM generation: {generation}\"),\n",
    "    ]\n",
    ")\n",
    "\n",
    "answer_grader = answer_prompt | structured_llm_grader\n"
   ],
   "id": "1c722ee3669c9cb1",
   "outputs": [],
   "execution_count": 98
  },
  {
   "metadata": {
    "ExecuteTime": {
     "end_time": "2024-10-16T14:44:56.151130Z",
     "start_time": "2024-10-16T14:44:55.197908Z"
    }
   },
   "cell_type": "code",
   "source": [
    "# Answer grader execution example\n",
    "answer_grader.invoke({\"question\": question_1, \"generation\": generate_answer})\n"
   ],
   "id": "8aa7b6de0e0c7ed1",
   "outputs": [
    {
     "data": {
      "text/plain": [
       "GradeAnswers(binary_score='yes')"
      ]
     },
     "execution_count": 131,
     "metadata": {},
     "output_type": "execute_result"
    }
   ],
   "execution_count": 131
  },
  {
   "metadata": {},
   "cell_type": "markdown",
   "source": "## PLANNER --- in progress",
   "id": "2ee02953a30006db"
  },
  {
   "metadata": {
    "ExecuteTime": {
     "end_time": "2024-10-16T15:56:09.861989Z",
     "start_time": "2024-10-16T15:56:09.858140Z"
    }
   },
   "cell_type": "code",
   "source": [
    "# Prompt\n",
    "planner_instructions = \"\"\"\n",
    "You are an expert travel planner with a kind and friendly personality, named 'WANDER'. Always start the conversation by saying hello. You're excited to help travelers plan their perfect vacation with engaging and heartfelt recommendations. Present the information as if you are talking to a friend, making sure to be warm, conversational, and enthusiastic about the places to visit, the local cuisine, and tips for the trip. Make it feel like a personal guide. \n",
    "\n",
    "Question: {question}\n",
    "Context: {context}\n",
    "\n",
    "Plan:\n",
    "- **Places to Visit**: \n",
    "    Start by warmly describing the main attractions, what makes them special, and why they're must-sees. Use friendly language like \"You’ll love visiting...\" or \"Make sure to check out...\"\n",
    "    \n",
    "- **Local Cuisine**: \n",
    "    Describe the local dishes with enthusiasm, like you're sharing a favorite meal with a friend. Phrases like \"You can't leave without trying...\" or \"One bite of this and you'll see why it's a local favorite...\" will make it feel personal.\n",
    "\n",
    "- **Tips for Travelers**: \n",
    "    Offer helpful advice as if you're giving insider knowledge, with kind reminders like \"Don’t forget to bring...\" or \"It's always good to know that...\"\n",
    "\n",
    "End with a friendly closing note like: \"I hope you have an amazing time! Safe travels!\"\n",
    "\"\"\"\n",
    "\n",
    "planner_prompt = ChatPromptTemplate.from_messages(\n",
    "    [\n",
    "        (\"system\", planner_instructions),\n",
    "        (\"human\", \"User question: \\n\\n {question}\"),\n",
    "    ]\n",
    ")\n",
    "\n",
    "planner = planner_prompt | llm | StrOutputParser()\n"
   ],
   "id": "c112821f81aca802",
   "outputs": [],
   "execution_count": 189
  },
  {
   "metadata": {
    "ExecuteTime": {
     "end_time": "2024-10-16T15:56:38.198828Z",
     "start_time": "2024-10-16T15:56:20.235211Z"
    }
   },
   "cell_type": "code",
   "source": [
    "# Test planner\n",
    "planner_question = \"Can you help me organize a little trip in Rome?\"\n",
    "planner.invoke({\"context\": docs_text_1, \"question\": planner_question})\n"
   ],
   "id": "b69aa1a47d6843dd",
   "outputs": [
    {
     "data": {
      "text/plain": [
       "'Hello! I\\'m so excited to help you plan your little trip in Rome! You\\'re going to love this city - it\\'s like stepping into history, with breath-taking sights at every turn. Don\\'t worry, we\\'ll take it one step at a time, and I\\'ll make sure you don\\'t feel overwhelmed once you arrive.\\n\\nLet\\'s start with the must-see attractions. You have to visit the Colosseum, Rome\\'s iconic symbol! This ancient amphitheater is an engineering marvel and a testament to the city\\'s rich history. Imagine watching gladiator fights or circus shows in this massive structure - it\\'s like stepping back in time. Make sure to explore the surrounding area, including the Fori Imperiali, which will transport you back to ancient Rome.\\n\\nNext up, we have the Ara Pacis Augustae, or Altar of Peace. This stunning marble structure is a masterpiece of Roman sculpture and art. It was built to celebrate Augustus\\' return from his campaigns in Spain and Gaul - can you imagine the pomp and circumstance surrounding its construction?\\n\\nNow, let\\'s talk about Rome\\'s famous fountains! You\\'ll love the Fountain of Trevi, where legend has it that if you throw a coin into the water with your right hand, closed eyes, and back to the fountain, you\\'ll ensure your return to Rome. And then there\\'s Piazza Navona, with its breathtaking Four Rivers Fountain - it\\'s like a work of art come to life!\\n\\nOf course, no trip to Rome would be complete without exploring the city\\'s beautiful squares. You have to see Piazza di Spagna, adorned by the stunning Scalinata di Trinità dei Monti (Spanish Steps) - it\\'s like a grand staircase to heaven! And then there\\'s Piazza San Pietro, a pilgrimage site for millions of faithful Catholics from around the world.\\n\\nLast but not least, let\\'s talk about spirituality in Rome. The Vatican is a must-visit destination, with its incredible art and architecture. You\\'ll get to explore the Papal Apartments, frescoed by Michelangelo and Raphael, and marvel at Michelangelo\\'s famous \"Last Judgement\" in the Sistine Chapel. And then there\\'s the Pantheon, a temple dedicated to classical deities that was later converted into a Christian basilica.\\n\\nNow, let\\'s talk about the local cuisine! You have to try the carbonara - it\\'s like a taste explosion in your mouth! One bite of this creamy pasta dish and you\\'ll see why it\\'s a Roman favorite. And don\\'t even get me started on the pizza - crispy crust, savory sauce, and melted mozzarella... heaven!\\n\\nTips for travelers: Don\\'t forget to bring comfortable shoes, as you\\'ll be doing a lot of walking in Rome! Also, make sure to try some gelato while you\\'re there - it\\'s like a taste sensation. And if you have time, consider visiting the Vatican Museums early in the morning or later in the evening to avoid the crowds.\\n\\nI hope this gives you a good starting point for planning your trip to Rome! I\\'m here to help and answer any questions you may have. What do you think - is there anything specific you\\'d like to add or change?'"
      ]
     },
     "execution_count": 191,
     "metadata": {},
     "output_type": "execute_result"
    }
   ],
   "execution_count": 191
  },
  {
   "metadata": {},
   "cell_type": "markdown",
   "source": "# Questions Re-writer\n",
   "id": "49af23b45bd3d6cf"
  },
  {
   "metadata": {
    "ExecuteTime": {
     "end_time": "2024-10-16T15:47:24.647747Z",
     "start_time": "2024-10-16T15:47:24.643564Z"
    }
   },
   "cell_type": "code",
   "source": [
    "# Prompt\n",
    "re_write_instructions = \"\"\"You are a question re-writer that converts an input question to a better version that is optimized \\n \n",
    "     for vectorstore retrieval. Look at the input and try to reason about the underlying semantic intent / meaning.\"\"\"\n",
    "\n",
    "re_write_prompt = ChatPromptTemplate.from_messages(\n",
    "    [\n",
    "        (\"system\", re_write_instructions),\n",
    "        (\n",
    "            \"human\",\n",
    "            \"Here is the initial question: \\n\\n {question} \\n Formulate an improved question.\",\n",
    "        ),\n",
    "    ]\n",
    ")\n",
    "\n",
    "question_rewriter = re_write_prompt | llm | StrOutputParser()\n"
   ],
   "id": "d9931d0cf0bda834",
   "outputs": [],
   "execution_count": 177
  },
  {
   "metadata": {
    "ExecuteTime": {
     "end_time": "2024-10-16T15:47:51.678249Z",
     "start_time": "2024-10-16T15:47:46.751345Z"
    }
   },
   "cell_type": "code",
   "source": [
    "# Test question re-writer \n",
    "question_rewriter.invoke({\"question\": planner_question})\n"
   ],
   "id": "ae2fce3bfed98dac",
   "outputs": [
    {
     "data": {
      "text/plain": [
       "'Improved Question:\\n\"What are some recommended itineraries or travel guides for a short trip to Rome, including suggestions on accommodations, dining, and activities tailored to [specific interests or preferences]?\"\\n\\nReasoning:\\n\\n1. **Specificity**: The original question is quite general, but the improved version adds specificity by asking about \"recommended itineraries\" and \"travel guides\". This indicates that the user is looking for concrete recommendations rather than just a general overview.\\n2. **Clarification on duration**: By adding \"(short trip)\" to the improved question, we can infer that the user is planning a brief visit (e.g., 3-4 days) and are seeking suggestions tailored to their time constraints.\\n3. **Inclusion of personal preferences**: The phrase \"[specific interests or preferences]\" allows us to understand what type of activities or experiences the user would like to have during their trip, making it easier for the AI to provide relevant recommendations.\\n\\nThis improved question is more targeted and informative, which will help the vectorstore retrieval system provide a more accurate and helpful response.'"
      ]
     },
     "execution_count": 179,
     "metadata": {},
     "output_type": "execute_result"
    }
   ],
   "execution_count": 179
  },
  {
   "metadata": {},
   "cell_type": "markdown",
   "source": "# Tavily: web search tool",
   "id": "6402affb0ad722ed"
  },
  {
   "metadata": {
    "ExecuteTime": {
     "end_time": "2024-10-16T15:57:16.275403Z",
     "start_time": "2024-10-16T15:57:12.302434Z"
    }
   },
   "cell_type": "code",
   "source": [
    "# Initialize Tavily to retrieve the top 3 web search results\n",
    "tavily_web_search = TavilySearchResults(max_results=3)\n",
    "\n",
    "# example of use\n",
    "tavily_web_search.invoke({\"query\": \"What is the typical dessert of the city of Treviso?\"})"
   ],
   "id": "46f0efe4667406b",
   "outputs": [
    {
     "data": {
      "text/plain": [
       "[{'url': 'https://www.accademiadeltiramisu.com/en/tiramisu-from-treviso-italys-patriotic-dessert/',\n",
       "  'content': 'Tiramisù, a typical dessert from Treviso, was the first dessert to have patriotic ingredients. Looking at these ingredients, and at the historic period and the development of the recipe, it is easy to understand many aspects of the Treviso origins of this dessert. Lo scrittore Giovanni Comisso (1895 - 1969) In the 19th century, during the ...'},\n",
       " {'url': 'https://www.visititaly.eu/food-and-flavours/treviso-tiramisu-taste-and-tradition',\n",
       "  'content': \"The pride of Treviso Tiramisù's gastronomic offerings is the traditional recipe that, from the tables of the city of Treviso, ... Instead, head to the first floor if, in addition to Tiramisù and typical desserts, you want to savor classic local recipes revisited in a modern and creative way.\"},\n",
       " {'url': 'https://www.arcaguesthouse.it/en/2022/01/14/tiramisu-the-best-dessert-in-treviso/',\n",
       "  'content': 'On this day, you can stroll through the streets of the city, sampling different preparations of the dessert here and there. Here are some typical little places where you can taste Treviso\\'s delicious and aphrodisiac tiramisu. -Il Tiramisù. \"A fetina\", \"a vantiera\", \"el vaseto\" and \"a crema\" … you can choose from a number of ...'}]"
      ]
     },
     "execution_count": 192,
     "metadata": {},
     "output_type": "execute_result"
    }
   ],
   "execution_count": 192
  },
  {
   "metadata": {},
   "cell_type": "markdown",
   "source": "## Building the graph",
   "id": "717d1acf42306cf9"
  },
  {
   "metadata": {
    "ExecuteTime": {
     "end_time": "2024-10-16T15:57:31.676819Z",
     "start_time": "2024-10-16T15:57:31.673594Z"
    }
   },
   "cell_type": "code",
   "source": [
    "class State(TypedDict):\n",
    "    \"\"\"\n",
    "    Represents the state of our graph.\n",
    "\n",
    "    Attributes:\n",
    "        question: question.\n",
    "        generation: LLM generation.\n",
    "        documents: list of documents.\n",
    "        max_retries: the maximum number of hallucination checks permitted.\n",
    "        loop_step: Indicates the current step in a looping process.\n",
    "    \"\"\"\n",
    "    question: str\n",
    "    generation: str\n",
    "    plan: List[str]\n",
    "    documents: List[str]\n",
    "    max_retries: int\n",
    "    loop_step: Annotated[int, operator.add]\n",
    "    "
   ],
   "id": "d0ac06cb9d3ba98",
   "outputs": [],
   "execution_count": 193
  },
  {
   "metadata": {},
   "cell_type": "markdown",
   "source": "### Define the Nodes",
   "id": "a01fed4e0fa0970b"
  },
  {
   "metadata": {
    "ExecuteTime": {
     "end_time": "2024-10-16T08:52:24.200287Z",
     "start_time": "2024-10-16T08:52:24.193019Z"
    }
   },
   "cell_type": "code",
   "source": [
    "# Node: retrieve documents\n",
    "def retrieve(state: State):\n",
    "    \"\"\"\n",
    "    Retrieve documents from vectorstore\n",
    "\n",
    "    Args:\n",
    "        state (dict): The current graph state\n",
    "\n",
    "    Returns:\n",
    "        state (dict): New key added to state, documents, that contains retrieved documents\n",
    "    \"\"\"\n",
    "    print(\"---RETRIEVE---\")\n",
    "    question = state[\"question\"]\n",
    "\n",
    "    # Retrieval\n",
    "    documents = retriever.invoke(question)\n",
    "    return {\"documents\": documents, \"question\": question}\n",
    "\n",
    "\n",
    "# Node: generate answer\n",
    "def generate(state: State):\n",
    "    \"\"\"\n",
    "    Generate answer using RAG on retrieved documents\n",
    "\n",
    "    Args:\n",
    "        state (dict): The current graph state\n",
    "\n",
    "    Returns:\n",
    "        state (dict): New key added to state, generation, that contains LLM generation\n",
    "    \"\"\"\n",
    "    print(\"---GENERATE---\")\n",
    "    question = state[\"question\"]\n",
    "    documents = state[\"documents\"]\n",
    "    loop_step = state.get(\"loop_step\", 0)\n",
    "\n",
    "    # RAG generation\n",
    "    generation = rag_chain.invoke({\"context\": documents, \"question\": question})\n",
    "    return {\"documents\": documents, \"question\": question, \"generation\": generation, \"loop_step\": loop_step + 1}\n",
    "\n",
    "\n",
    "# Node: docs are relevant or not\n",
    "def grade_documents(state: State):\n",
    "    \"\"\"\n",
    "    Determines whether the retrieved documents are relevant to the question.\n",
    "\n",
    "    Args:\n",
    "        state (dict): The current graph state\n",
    "\n",
    "    Returns:\n",
    "        state (dict): Updates documents key with only filtered relevant documents\n",
    "    \"\"\"\n",
    "\n",
    "    print(\"---CHECK DOCUMENT RELEVANCE TO QUESTION---\")\n",
    "    question = state[\"question\"]\n",
    "    documents = state[\"documents\"]\n",
    "\n",
    "    # Score each doc\n",
    "    filtered_docs = []\n",
    "    for d in documents:\n",
    "        score = retrieval_grader.invoke(\n",
    "            {\"question\": question, \"document\": d.page_content}\n",
    "        )\n",
    "        grade = score.binary_score\n",
    "        if grade == \"yes\":\n",
    "            print(\"---GRADE: DOCUMENT RELEVANT---\")\n",
    "            filtered_docs.append(d)\n",
    "        else:\n",
    "            print(\"---GRADE: DOCUMENT NOT RELEVANT---\")\n",
    "            continue\n",
    "    return {\"documents\": filtered_docs, \"question\": question}\n",
    "\n",
    "\n",
    "# Node: make a better query\n",
    "def transform_query(state: State):\n",
    "    \"\"\"\n",
    "    Transform the query to produce a better question.\n",
    "\n",
    "    Args:\n",
    "        state (dict): The current graph state\n",
    "\n",
    "    Returns:\n",
    "        state (dict): Updates question key with a re-phrased question\n",
    "    \"\"\"\n",
    "\n",
    "    print(\"---TRANSFORM QUERY---\")\n",
    "    question = state[\"question\"]\n",
    "    documents = state[\"documents\"]\n",
    "\n",
    "    # Re-write question\n",
    "    better_question = question_rewriter.invoke({\"question\": question})\n",
    "    return {\"documents\": documents, \"question\": better_question}\n",
    "\n",
    "\n",
    "# Node: make a travel plan\n",
    "def planner(state: State):\n",
    "    \"\"\"\n",
    "    \"\"\"\n",
    "    print(\"---PLANNER---\")\n",
    "    question = state[\"question\"]\n",
    "    documents = state[\"documents\"]\n",
    "    loop_step = state.get(\"loop_step\", 0)\n",
    "\n",
    "    # RAG planning\n",
    "    planning = rag_chain.invoke({\"context\": documents, \"question\": question})\n",
    "    return {\"documents\": documents, \"question\": question, \"planning\": planning, \"loop_step\": loop_step + 1}\n",
    "\n",
    "\n",
    "# Node: use web search\n",
    "def web_search(state: State):\n",
    "    \"\"\"\n",
    "    Web search based on the re-phrased question.\n",
    "\n",
    "    Args:\n",
    "        state (dict): The current graph state\n",
    "\n",
    "    Returns:\n",
    "        state (dict): Updates documents key with appended web results\n",
    "    \"\"\"\n",
    "\n",
    "    print(\"---WEB SEARCH---\")\n",
    "    question = state[\"question\"]\n",
    "\n",
    "    # Web search\n",
    "    documents = tavily_web_search.invoke({\"query\": question})\n",
    "    web_results = \"\\n\".join([d[\"content\"] for d in documents])\n",
    "    web_results = Document(page_content=web_results)\n",
    "\n",
    "    return {\"documents\": web_results, \"question\": question}\n",
    "    "
   ],
   "id": "4519601d13bef003",
   "outputs": [],
   "execution_count": 42
  },
  {
   "metadata": {},
   "cell_type": "markdown",
   "source": "### Define the Edges",
   "id": "15869e86f241f21d"
  },
  {
   "metadata": {
    "ExecuteTime": {
     "end_time": "2024-10-16T08:54:37.222812Z",
     "start_time": "2024-10-16T08:54:37.217021Z"
    }
   },
   "cell_type": "code",
   "source": [
    "def route_question(state: State):\n",
    "    \"\"\"\n",
    "    Route question to web search or RAG.\n",
    "\n",
    "    Args:\n",
    "        state (dict): The current graph state\n",
    "\n",
    "    Returns:\n",
    "        str: Next node to call\n",
    "    \"\"\"\n",
    "\n",
    "    print(\"---ROUTE QUESTION---\")\n",
    "    question = state[\"question\"]\n",
    "    source = question_router.invoke({\"question\": question})\n",
    "    if source.datasource == \"web_search\":\n",
    "        print(\"---ROUTE QUESTION TO WEB SEARCH---\")\n",
    "        return \"web_search\"\n",
    "    elif source.datasource == \"vectorstore\":\n",
    "        print(\"---ROUTE QUESTION TO RAG---\")\n",
    "        return \"vectorstore\"\n",
    "\n",
    "\n",
    "def decide_to_generate(state: State):\n",
    "    \"\"\"\n",
    "    Determines whether to generate an answer, or re-generate a question.\n",
    "\n",
    "    Args:\n",
    "        state (dict): The current graph state\n",
    "\n",
    "    Returns:\n",
    "        str: Binary decision for next node to call\n",
    "    \"\"\"\n",
    "\n",
    "    print(\"---ASSESS GRADED DOCUMENTS---\")\n",
    "    # question = state[\"question\"]\n",
    "    filtered_documents = state[\"documents\"]\n",
    "\n",
    "    if not filtered_documents:\n",
    "        # All documents have been filtered check_relevance\n",
    "        # We will re-generate a new query\n",
    "        print(\n",
    "            \"---DECISION: ALL DOCUMENTS ARE NOT RELEVANT TO QUESTION, TRANSFORM QUERY---\"\n",
    "        )\n",
    "        return \"transform_query\"  #### or I can return web_search\n",
    "    else:\n",
    "        # We have relevant documents, so generate answer\n",
    "        print(\"---DECISION: GENERATE---\")\n",
    "        return \"generate\"\n",
    "\n",
    "\n",
    "def grade_generation_v_documents_and_question(state: State):\n",
    "    \"\"\"\n",
    "    Determines whether the generation is grounded in the document and answers question.\n",
    "\n",
    "    Args:\n",
    "        state (dict): The current graph state\n",
    "\n",
    "    Returns:\n",
    "        str: Decision for next node to call\n",
    "    \"\"\"\n",
    "    print(\"---CHECK HALLUCINATIONS---\")\n",
    "    question = state[\"question\"]\n",
    "    documents = state[\"documents\"]\n",
    "    generation = state[\"generation\"]\n",
    "    max_retries = state.get(\"max_retries\", 3)  # Default to 3 if not provided\n",
    "\n",
    "    score = hallucination_grader.invoke(\n",
    "        {\"documents\": documents, \"generation\": generation}\n",
    "    )\n",
    "    grade = score.binary_score\n",
    "\n",
    "    # Check hallucination\n",
    "    if grade == \"yes\":\n",
    "        print(\"---DECISION: GENERATION IS GROUNDED IN DOCUMENTS---\")\n",
    "        # Check question-answering\n",
    "        print(\"---GRADE GENERATION vs QUESTION---\")\n",
    "        score = answer_grader.invoke({\"question\": question, \"generation\": generation})\n",
    "        grade = score.binary_score\n",
    "        \n",
    "        if grade == \"yes\":\n",
    "            print(\"---DECISION: GENERATION ADDRESSES QUESTION---\")\n",
    "            return \"useful\"\n",
    "        elif state[\"loop_step\"] <= max_retries:\n",
    "            print(\"---DECISION: GENERATION DOES NOT ADDRESS QUESTION---\")\n",
    "            return \"not useful\"\n",
    "        else:\n",
    "            print(\"---DECISION: MAX RETRIES REACHED---\")\n",
    "            return \"max retries\"\n",
    "    elif state[\"loop_step\"] <= max_retries:\n",
    "        print(f\"---DECISION: GENERATION IS NOT GROUNDED IN DOCUMENTS, RE-TRY---\")\n",
    "        return \"not supported in docs\"\n",
    "    else:\n",
    "        print(\"---DECISION: MAX RETRIES REACHED---\")\n",
    "        return \"max retries\"\n"
   ],
   "id": "c45d4114fd88bd88",
   "outputs": [],
   "execution_count": 50
  },
  {
   "metadata": {
    "ExecuteTime": {
     "end_time": "2024-10-16T09:10:34.586648Z",
     "start_time": "2024-10-16T09:10:33.796062Z"
    }
   },
   "cell_type": "code",
   "source": [
    "# Graph's state\n",
    "workflow = StateGraph(State)\n",
    "\n",
    "# Define the nodes\n",
    "workflow.add_node(\"web_search\", web_search)  # web_search\n",
    "workflow.add_node(\"retrieve\", retrieve)  # retrieve\n",
    "workflow.add_node(\"grade_documents\", grade_documents)  # grade_documents\n",
    "workflow.add_node(\"generate\", generate)  # generate\n",
    "# workflow.add_node(\"transform_query\", transform_query)  # transform_query\n",
    "\n",
    "# Build graph: add the edges and condition\n",
    "workflow.add_conditional_edges(\n",
    "    START,\n",
    "    route_question,\n",
    "    {\n",
    "        \"web_search\": \"web_search\",\n",
    "        \"vectorstore\": \"retrieve\",\n",
    "    },\n",
    ")\n",
    "workflow.add_edge(\"web_search\", \"generate\")\n",
    "workflow.add_edge(\"retrieve\", \"grade_documents\")\n",
    "workflow.add_conditional_edges(\n",
    "    \"grade_documents\",\n",
    "    decide_to_generate,\n",
    "    {\n",
    "        # \"transform_query\": \"transform_query\",\n",
    "        \"web_search\": \"web_search\",\n",
    "        \"generate\": \"generate\",\n",
    "    },\n",
    ")\n",
    "# workflow.add_edge(\"transform_query\", \"retrieve\")\n",
    "workflow.add_conditional_edges(\n",
    "    \"generate\",\n",
    "    grade_generation_v_documents_and_question,\n",
    "    {\n",
    "        \"not supported in docs\": \"generate\",\n",
    "        \"useful\": END,\n",
    "        \"not useful\": \"web_search\",\n",
    "        \"max retries\": END,\n",
    "    },\n",
    ")\n",
    "\n",
    "# Compile\n",
    "graph = workflow.compile()\n",
    "# Display the graph\n",
    "display(Image(graph.get_graph().draw_mermaid_png(draw_method=MermaidDrawMethod.API)))\n"
   ],
   "id": "e8699e5be93fc2d",
   "outputs": [
    {
     "data": {
      "image/jpeg": "[encoded data removed]",
      "text/plain": [
       "<IPython.core.display.Image object>"
      ]
     },
     "metadata": {},
     "output_type": "display_data"
    }
   ],
   "execution_count": 55
  },
  {
   "metadata": {},
   "cell_type": "markdown",
   "source": "### Plot the graph",
   "id": "8910f8344d96ceb5"
  },
  {
   "metadata": {
    "ExecuteTime": {
     "end_time": "2024-10-16T08:55:28.918152Z",
     "start_time": "2024-10-16T08:54:46.168465Z"
    }
   },
   "cell_type": "code",
   "source": [
    "# Test Graph: expected generation grounded in docs\n",
    "answer = graph.invoke({\"question\":\"What kind of food I can eat while visiting Milan?\"})[\"generation\"]\n",
    "print(answer)"
   ],
   "id": "2fcccff2c1e14741",
   "outputs": [
    {
     "name": "stdout",
     "output_type": "stream",
     "text": [
      "---ROUTE QUESTION---\n",
      "---ROUTE QUESTION TO RAG---\n",
      "---RETRIEVE---\n",
      "---CHECK DOCUMENT RELEVANCE TO QUESTION---\n",
      "---GRADE: DOCUMENT RELEVANT---\n",
      "---GRADE: DOCUMENT NOT RELEVANT---\n",
      "---GRADE: DOCUMENT RELEVANT---\n",
      "---ASSESS GRADED DOCUMENTS---\n",
      "---DECISION: GENERATE---\n",
      "---GENERATE---\n",
      "---CHECK HALLUCINATIONS---\n",
      "---DECISION: GENERATION IS GROUNDED IN DOCUMENTS---\n",
      "---GRADE GENERATION vs QUESTION---\n",
      "---DECISION: GENERATION ADDRESSES QUESTION---\n",
      "You can try traditional Roman dishes such as Pasta alla carbonara, Bucatini all'amatriciana, Roman gnocchi, Saltimbocca alla romana, Coda alla vaccinara, and Trippa alla romana while visiting Rome. These dishes feature strong, decisive flavors and are made with local ingredients like guanciale bacon, Roman pecorino cheese, and semolina-based dough. You can also explore the city's charming neighborhoods to experience authentic Romanness and local culture.\n"
     ]
    }
   ],
   "execution_count": 53
  },
  {
   "metadata": {},
   "cell_type": "code",
   "outputs": [],
   "execution_count": null,
   "source": "",
   "id": "8fd8f1a7c577abf8"
  },
  {
   "metadata": {
    "ExecuteTime": {
     "end_time": "2024-10-16T08:55:28.918152Z",
     "start_time": "2024-10-16T08:54:46.168465Z"
    }
   },
   "cell_type": "code",
   "outputs": [
    {
     "name": "stdout",
     "output_type": "stream",
     "text": [
      "---ROUTE QUESTION---\n",
      "---ROUTE QUESTION TO RAG---\n",
      "---RETRIEVE---\n",
      "---CHECK DOCUMENT RELEVANCE TO QUESTION---\n",
      "---GRADE: DOCUMENT RELEVANT---\n",
      "---GRADE: DOCUMENT NOT RELEVANT---\n",
      "---GRADE: DOCUMENT RELEVANT---\n",
      "---ASSESS GRADED DOCUMENTS---\n",
      "---DECISION: GENERATE---\n",
      "---GENERATE---\n",
      "---CHECK HALLUCINATIONS---\n",
      "---DECISION: GENERATION IS GROUNDED IN DOCUMENTS---\n",
      "---GRADE GENERATION vs QUESTION---\n",
      "---DECISION: GENERATION ADDRESSES QUESTION---\n",
      "You can try traditional Roman dishes such as Pasta alla carbonara, Bucatini all'amatriciana, Roman gnocchi, Saltimbocca alla romana, Coda alla vaccinara, and Trippa alla romana while visiting Rome. These dishes feature strong, decisive flavors and are made with local ingredients like guanciale bacon, Roman pecorino cheese, and semolina-based dough. You can also explore the city's charming neighborhoods to experience authentic Romanness and local culture.\n"
     ]
    }
   ],
   "execution_count": 53,
   "source": [
    "# Test Graph: expected generation NOT grounded in docs\n",
    "answer = graph.invoke({\"question\":\"What kind of food I can eat while visiting Milan?\"})[\"generation\"]\n",
    "print(answer)"
   ],
   "id": "7941af0d18dcb86f"
  },
  {
   "metadata": {
    "ExecuteTime": {
     "end_time": "2024-10-16T09:06:42.950269Z",
     "start_time": "2024-10-16T09:06:19.497960Z"
    }
   },
   "cell_type": "code",
   "source": [
    "# See more details\n",
    "inputs = {\"question\": \"What kind of food I can eat while visiting Paris?\", \"max_retries\": 3}\n",
    "for event in graph.stream(inputs, stream_mode=\"values\"):\n",
    "    print(event)"
   ],
   "id": "ef98248d9d62b8bd",
   "outputs": [
    {
     "name": "stdout",
     "output_type": "stream",
     "text": [
      "---ROUTE QUESTION---\n",
      "---ROUTE QUESTION TO WEB SEARCH---\n",
      "{'question': 'What kind of food I can eat while visiting Paris?', 'max_retries': 3, 'loop_step': 0}\n",
      "---WEB SEARCH---\n",
      "{'question': 'What kind of food I can eat while visiting Paris?', 'documents': Document(metadata={}, page_content=\"These sandwiches are made to perfection, and we’ll tell you more about just how amazing Parisian bread and cheese are in a moment, which should convince you to eat as a local would!\\nWhere to get it: Croques can be found at nearly every Parisian restaurant, and each has its own take, but the best is at Faste.\\n12. The flavor is a perfect harmony of sweet and savory, and although you could eat it anywhere in the world or make it at home, Paris makes it best and is a tourist meal that allows for a full Paris food scene experience.\\n These light flakey pastries are perfect to pair with sweet or savory toppings and can be found just about anywhere in the city, but you can head to a boulangerie in Paris for these delicacies and kick off your day the right way with a delicious breakfast in Paris.\\n If you want a dessert fit for kings, look no further than the Baba au Rhum to fill your tum.\\nWhere to get it: Stohrer was named after the Baba au Rhum inventor himself, so it is the perfect place to get this dessert.\\n If you want to know what to eat in Paris and the best place to find it, you will love these 24 signature treats and dishes that make up the Paris food scene.\\n\\nMost food tours in Paris offer cheese and wine, but we include a full, sit-down meal! Enjoy a feast of French cheeses, oysters, street food, boeuf bourguignon, crème brûlée, and more. This 3-hour food tour combines the best of Paris' culinary heritage and you won't find a better deal out there!\\nSee The Pro For Profiteroles\\nOk, so\\xa0“profiteroles”\\xa0are really just a fancy French name for cream puffs, but they’re still amazing!\\xa0Profiterole Cherie\\xa0has a delicious and unique range of freshly baked and filled pastries that are sure to knock your socks off!\\nWhere to Find the Best Profiteroles in Paris:\\n16. 25+ Foods You MUST Try In Paris and Where to Find Them\\nAll of the famous French food in Paris will have you drooling just reading about it, but wait until you arrive and smell the amazing aromas of the city! 25+ Foods You HAVE To Try In Paris and Where to Find Them\\n25+ Foods You HAVE To Try In Paris and Where to Find Them\\nThis post contains affiliate links\\n25 These legs from Sacre Fleur were pretty amazing though!\\nWhere to Find the Best Frog Legs in Paris:\\nHow To Pick A Parisian Restaurant\\nYou are going to have your pick of amazing restaurants to choose from in Paris. You can have the best French food in a tiny hole in the wall place in a back alleyway…ok, so I may be exaggerating, but honestly, step away from the main tourist sites, find a small restaurant with only a few tables and a menu without pictures!\"), 'max_retries': 3, 'loop_step': 0}\n",
      "---GENERATE---\n",
      "---CHECK HALLUCINATIONS---\n",
      "---DECISION: GENERATION IS NOT GROUNDED IN DOCUMENTS, RE-TRY---\n",
      "{'question': 'What kind of food I can eat while visiting Paris?', 'generation': 'You can try various local specialties such as Croques (sandwiches), flaky pastries, Baba au Rhum (a dessert), profiteroles (cream puffs), and frog legs. These foods are mentioned in the context as must-try items when visiting Paris. You can find them at various restaurants and cafes throughout the city.', 'documents': Document(metadata={}, page_content=\"These sandwiches are made to perfection, and we’ll tell you more about just how amazing Parisian bread and cheese are in a moment, which should convince you to eat as a local would!\\nWhere to get it: Croques can be found at nearly every Parisian restaurant, and each has its own take, but the best is at Faste.\\n12. The flavor is a perfect harmony of sweet and savory, and although you could eat it anywhere in the world or make it at home, Paris makes it best and is a tourist meal that allows for a full Paris food scene experience.\\n These light flakey pastries are perfect to pair with sweet or savory toppings and can be found just about anywhere in the city, but you can head to a boulangerie in Paris for these delicacies and kick off your day the right way with a delicious breakfast in Paris.\\n If you want a dessert fit for kings, look no further than the Baba au Rhum to fill your tum.\\nWhere to get it: Stohrer was named after the Baba au Rhum inventor himself, so it is the perfect place to get this dessert.\\n If you want to know what to eat in Paris and the best place to find it, you will love these 24 signature treats and dishes that make up the Paris food scene.\\n\\nMost food tours in Paris offer cheese and wine, but we include a full, sit-down meal! Enjoy a feast of French cheeses, oysters, street food, boeuf bourguignon, crème brûlée, and more. This 3-hour food tour combines the best of Paris' culinary heritage and you won't find a better deal out there!\\nSee The Pro For Profiteroles\\nOk, so\\xa0“profiteroles”\\xa0are really just a fancy French name for cream puffs, but they’re still amazing!\\xa0Profiterole Cherie\\xa0has a delicious and unique range of freshly baked and filled pastries that are sure to knock your socks off!\\nWhere to Find the Best Profiteroles in Paris:\\n16. 25+ Foods You MUST Try In Paris and Where to Find Them\\nAll of the famous French food in Paris will have you drooling just reading about it, but wait until you arrive and smell the amazing aromas of the city! 25+ Foods You HAVE To Try In Paris and Where to Find Them\\n25+ Foods You HAVE To Try In Paris and Where to Find Them\\nThis post contains affiliate links\\n25 These legs from Sacre Fleur were pretty amazing though!\\nWhere to Find the Best Frog Legs in Paris:\\nHow To Pick A Parisian Restaurant\\nYou are going to have your pick of amazing restaurants to choose from in Paris. You can have the best French food in a tiny hole in the wall place in a back alleyway…ok, so I may be exaggerating, but honestly, step away from the main tourist sites, find a small restaurant with only a few tables and a menu without pictures!\"), 'max_retries': 3, 'loop_step': 1}\n",
      "---GENERATE---\n",
      "---CHECK HALLUCINATIONS---\n",
      "---DECISION: GENERATION IS NOT GROUNDED IN DOCUMENTS, RE-TRY---\n",
      "{'question': 'What kind of food I can eat while visiting Paris?', 'generation': 'You can try various local specialties such as Croques (sandwiches), flaky pastries, Baba au Rhum (a dessert), profiteroles (cream puffs), and frog legs. These foods are mentioned in the context as must-try items when visiting Paris. You can find them at various restaurants and cafes throughout the city.', 'documents': Document(metadata={}, page_content=\"These sandwiches are made to perfection, and we’ll tell you more about just how amazing Parisian bread and cheese are in a moment, which should convince you to eat as a local would!\\nWhere to get it: Croques can be found at nearly every Parisian restaurant, and each has its own take, but the best is at Faste.\\n12. The flavor is a perfect harmony of sweet and savory, and although you could eat it anywhere in the world or make it at home, Paris makes it best and is a tourist meal that allows for a full Paris food scene experience.\\n These light flakey pastries are perfect to pair with sweet or savory toppings and can be found just about anywhere in the city, but you can head to a boulangerie in Paris for these delicacies and kick off your day the right way with a delicious breakfast in Paris.\\n If you want a dessert fit for kings, look no further than the Baba au Rhum to fill your tum.\\nWhere to get it: Stohrer was named after the Baba au Rhum inventor himself, so it is the perfect place to get this dessert.\\n If you want to know what to eat in Paris and the best place to find it, you will love these 24 signature treats and dishes that make up the Paris food scene.\\n\\nMost food tours in Paris offer cheese and wine, but we include a full, sit-down meal! Enjoy a feast of French cheeses, oysters, street food, boeuf bourguignon, crème brûlée, and more. This 3-hour food tour combines the best of Paris' culinary heritage and you won't find a better deal out there!\\nSee The Pro For Profiteroles\\nOk, so\\xa0“profiteroles”\\xa0are really just a fancy French name for cream puffs, but they’re still amazing!\\xa0Profiterole Cherie\\xa0has a delicious and unique range of freshly baked and filled pastries that are sure to knock your socks off!\\nWhere to Find the Best Profiteroles in Paris:\\n16. 25+ Foods You MUST Try In Paris and Where to Find Them\\nAll of the famous French food in Paris will have you drooling just reading about it, but wait until you arrive and smell the amazing aromas of the city! 25+ Foods You HAVE To Try In Paris and Where to Find Them\\n25+ Foods You HAVE To Try In Paris and Where to Find Them\\nThis post contains affiliate links\\n25 These legs from Sacre Fleur were pretty amazing though!\\nWhere to Find the Best Frog Legs in Paris:\\nHow To Pick A Parisian Restaurant\\nYou are going to have your pick of amazing restaurants to choose from in Paris. You can have the best French food in a tiny hole in the wall place in a back alleyway…ok, so I may be exaggerating, but honestly, step away from the main tourist sites, find a small restaurant with only a few tables and a menu without pictures!\"), 'max_retries': 3, 'loop_step': 3}\n",
      "---GENERATE---\n",
      "---CHECK HALLUCINATIONS---\n",
      "---DECISION: MAX RETRIES REACHED---\n",
      "{'question': 'What kind of food I can eat while visiting Paris?', 'generation': 'You can try various local specialties such as Croques (sandwiches), flaky pastries, Baba au Rhum (a dessert), profiteroles (cream puffs), and frog legs. These foods are mentioned in the context as must-try items when visiting Paris. You can find them at various restaurants and cafes throughout the city.', 'documents': Document(metadata={}, page_content=\"These sandwiches are made to perfection, and we’ll tell you more about just how amazing Parisian bread and cheese are in a moment, which should convince you to eat as a local would!\\nWhere to get it: Croques can be found at nearly every Parisian restaurant, and each has its own take, but the best is at Faste.\\n12. The flavor is a perfect harmony of sweet and savory, and although you could eat it anywhere in the world or make it at home, Paris makes it best and is a tourist meal that allows for a full Paris food scene experience.\\n These light flakey pastries are perfect to pair with sweet or savory toppings and can be found just about anywhere in the city, but you can head to a boulangerie in Paris for these delicacies and kick off your day the right way with a delicious breakfast in Paris.\\n If you want a dessert fit for kings, look no further than the Baba au Rhum to fill your tum.\\nWhere to get it: Stohrer was named after the Baba au Rhum inventor himself, so it is the perfect place to get this dessert.\\n If you want to know what to eat in Paris and the best place to find it, you will love these 24 signature treats and dishes that make up the Paris food scene.\\n\\nMost food tours in Paris offer cheese and wine, but we include a full, sit-down meal! Enjoy a feast of French cheeses, oysters, street food, boeuf bourguignon, crème brûlée, and more. This 3-hour food tour combines the best of Paris' culinary heritage and you won't find a better deal out there!\\nSee The Pro For Profiteroles\\nOk, so\\xa0“profiteroles”\\xa0are really just a fancy French name for cream puffs, but they’re still amazing!\\xa0Profiterole Cherie\\xa0has a delicious and unique range of freshly baked and filled pastries that are sure to knock your socks off!\\nWhere to Find the Best Profiteroles in Paris:\\n16. 25+ Foods You MUST Try In Paris and Where to Find Them\\nAll of the famous French food in Paris will have you drooling just reading about it, but wait until you arrive and smell the amazing aromas of the city! 25+ Foods You HAVE To Try In Paris and Where to Find Them\\n25+ Foods You HAVE To Try In Paris and Where to Find Them\\nThis post contains affiliate links\\n25 These legs from Sacre Fleur were pretty amazing though!\\nWhere to Find the Best Frog Legs in Paris:\\nHow To Pick A Parisian Restaurant\\nYou are going to have your pick of amazing restaurants to choose from in Paris. You can have the best French food in a tiny hole in the wall place in a back alleyway…ok, so I may be exaggerating, but honestly, step away from the main tourist sites, find a small restaurant with only a few tables and a menu without pictures!\"), 'max_retries': 3, 'loop_step': 7}\n"
     ]
    }
   ],
   "execution_count": 54
  },
  {
   "metadata": {},
   "cell_type": "code",
   "outputs": [],
   "execution_count": null,
   "source": "",
   "id": "6b20ba69f3095a3e"
  }
 ],
 "metadata": {
  "kernelspec": {
   "display_name": "Python 3",
   "language": "python",
   "name": "python3"
  },
  "language_info": {
   "codemirror_mode": {
    "name": "ipython",
    "version": 2
   },
   "file_extension": ".py",
   "mimetype": "text/x-python",
   "name": "python",
   "nbconvert_exporter": "python",
   "pygments_lexer": "ipython2",
   "version": "2.7.6"
  }
 },
 "nbformat": 4,
 "nbformat_minor": 5
}
