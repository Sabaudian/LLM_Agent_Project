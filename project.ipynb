{
 "cells": [
  {
   "cell_type": "markdown",
   "id": "1dd8e93f30822961",
   "metadata": {},
   "source": [
    "# LangGraph-Travel Advisor\n",
    "\n",
    "This study explores the development of a Retrieval-Augmented Generation (RAG) agent system. The core libraries employed are LangChain and LangGraph for the the system's architecture, while the Llama3.2 model from Ollama serves as the adopted LLM, providing the main NLP and conversational capabilities. The system integrates Nomic for encoding textual data into dense vector representations, and stores retrieved documents in a Chroma vector database. These technologies allow the system to efficiently handle user queries and generate personalized answers. \n",
    "\n",
    "The goal is to build a simple and responsive travel advisor that can adapt to user needs, suggesting destinations, itineraries, and tips based on real-world data. "
   ]
  },
  {
   "cell_type": "markdown",
   "id": "9e31f05146607c0f",
   "metadata": {},
   "source": [
    "## Import"
   ]
  },
  {
   "cell_type": "code",
   "id": "initial_id",
   "metadata": {},
   "source": [
    "## Install required packages\n",
    "%pip install -qU bs4\n",
    "%pip install -qU chromadb\n",
    "%pip install -qU tiktoken\n",
    "%pip install -qU langchain\n",
    "%pip install -qU langgraph\n",
    "%pip install -qU langchainhub\n",
    "%pip install -qU tavily-python\n",
    "%pip install -qU python-dotenv\n",
    "%pip install -qU \"nomic[local]\"\n",
    "%pip install -qU langchain-nomic\n",
    "%pip install -qU langchain-ollama\n",
    "%pip install -qU langchain_community\n"
   ],
   "outputs": [],
   "execution_count": null
  },
  {
   "cell_type": "code",
   "id": "cdcb8304d4ee8aca",
   "metadata": {},
   "source": [
    "## Import\n",
    "import os\n",
    "import re\n",
    "import getpass\n",
    "import operator\n",
    "import requests\n",
    "\n",
    "from bs4 import BeautifulSoup\n",
    "from dotenv import load_dotenv\n",
    "from urllib.parse import urljoin\n",
    "from pydantic import BaseModel, Field\n",
    "from typing_extensions import TypedDict\n",
    "from IPython.display import Image, display\n",
    "from typing import Annotated, List, Literal\n",
    "\n",
    "from langchain.schema import Document\n",
    "from langchain_ollama import ChatOllama\n",
    "from langchain_community.vectorstores import Chroma\n",
    "from langchain_core.prompts import ChatPromptTemplate\n",
    "from langchain_nomic.embeddings import NomicEmbeddings\n",
    "from langchain_core.output_parsers import StrOutputParser\n",
    "from langchain_core.runnables.graph import MermaidDrawMethod\n",
    "from langchain_community.document_loaders import WebBaseLoader\n",
    "from langchain.text_splitter import RecursiveCharacterTextSplitter\n",
    "from langchain_community.tools.tavily_search import TavilySearchResults\n",
    "\n",
    "from langgraph.graph import START, END, StateGraph\n",
    "\n",
    "import warnings\n",
    "warnings.filterwarnings(\"ignore\")\n"
   ],
   "outputs": [],
   "execution_count": null
  },
  {
   "metadata": {
    "ExecuteTime": {
     "end_time": "2024-10-27T13:36:13.499850Z",
     "start_time": "2024-10-27T13:36:13.497866Z"
    }
   },
   "cell_type": "code",
   "source": [
    "## Constants\n",
    "\n",
    "# URL to crawl to data retrieval\n",
    "EN_URL = \"https://www.italia.it/en\"  \n",
    "\n",
    "# Regions List for URLs\n",
    "REGIONS = [\n",
    "    \"abruzzo\", \"aosta-valley\", \"puglia\", \"basilicata\", \"calabria\", \"campania\", \"emilia-romagna\", \n",
    "    \"friuli-venezia-giulia\", \"lazio\", \"liguria\", \"lombardy\", \"marche\", \"molise\", \"piedmont\", \n",
    "    \"sardinia\", \"sicily\", \"south-tyrol\", \"trentino\", \"tuscany\", \"umbria\", \"veneto\"\n",
    "]\n"
   ],
   "id": "7a3f9774a315c7c3",
   "outputs": [],
   "execution_count": 3
  },
  {
   "cell_type": "markdown",
   "id": "e016b0c8bbdfba8e",
   "metadata": {},
   "source": [
    "## APIs\n",
    "\n",
    "API setup required for the project"
   ]
  },
  {
   "metadata": {
    "ExecuteTime": {
     "end_time": "2024-10-27T13:39:47.882963Z",
     "start_time": "2024-10-27T13:39:47.879911Z"
    }
   },
   "cell_type": "code",
   "source": [
    "## Load APIs from config.env file\n",
    "load_dotenv(dotenv_path=\"config.env\")\n",
    "\n",
    "# Nomic and Tavily APIs \n",
    "NOMIC_API_KEY = os.getenv(\"NOMIC_API_KEY\")\n",
    "TAVILY_API_KEY = os.getenv(\"TAVILY_API_KEY\")\n"
   ],
   "id": "33fde4828e007ac2",
   "outputs": [],
   "execution_count": 4
  },
  {
   "cell_type": "code",
   "id": "9da72bbf3b9d71c8",
   "metadata": {
    "ExecuteTime": {
     "end_time": "2024-10-24T15:28:59.833547Z",
     "start_time": "2024-10-24T15:28:59.830892Z"
    }
   },
   "source": [
    "## Without 'config.env' file use the following function\n",
    "# Setup environment \n",
    "def _set_env(key: str) -> None:\n",
    "    \"\"\"\n",
    "    Set the environment variables.\n",
    "        Args:\n",
    "            key (str): The name of the environment variable.\n",
    "    \"\"\"\n",
    "    if key not in os.environ:\n",
    "        os.environ[key] = getpass.getpass(f\"Enter {key}:\")\n",
    "\n",
    "\n",
    "# Nomic and Tavily APIs \n",
    "_set_env(\"NOMIC_API_KEY\")\n",
    "_set_env(\"TAVILY_API_KEY\")\n"
   ],
   "outputs": [],
   "execution_count": 7
  },
  {
   "cell_type": "code",
   "id": "89c73d74d3d4243d",
   "metadata": {
    "ExecuteTime": {
     "end_time": "2024-10-27T13:40:14.461908Z",
     "start_time": "2024-10-27T13:40:14.426279Z"
    }
   },
   "source": [
    "# # Model & Tool\n",
    "# LLM \n",
    "local_llm = \"llama3.2\"  \n",
    "llm = ChatOllama(model=local_llm, temperature=0)\n",
    "\n",
    "# Initialize Tavily web search tool\n",
    "tavily_web_search = TavilySearchResults(max_results=3)\n"
   ],
   "outputs": [],
   "execution_count": 5
  },
  {
   "metadata": {},
   "cell_type": "markdown",
   "source": "## Get Data",
   "id": "55c05f40fb2b0983"
  },
  {
   "metadata": {
    "ExecuteTime": {
     "end_time": "2024-10-27T13:40:31.978861Z",
     "start_time": "2024-10-27T13:40:21.734141Z"
    }
   },
   "cell_type": "code",
   "source": [
    "# retrieve internal links from a webpage \n",
    "def get_internal_links(home_url: str, max_links: int = 10) -> List[str]:\n",
    "    \"\"\"\n",
    "        Retrieves internal links from the given webpage URL.\n",
    "    \n",
    "        Args:\n",
    "            - website_url: The URL of the webpage to crawl.\n",
    "            - max_links: The maximum number of URLs to retrieve (default is 5).\n",
    "        Returns:\n",
    "            A list of internal URLs.\n",
    "    \"\"\"\n",
    "    # Send a request to the website\n",
    "    response = requests.get(home_url)\n",
    "    \n",
    "    # Parse the content of the webpage\n",
    "    soup = BeautifulSoup(response.content, \"html.parser\")\n",
    "    \n",
    "    # Set of internal links\n",
    "    internal_links = set()\n",
    "    \n",
    "    # Find all <a> tags with href attributes\n",
    "    for link in soup.find_all(\"a\", href=True):\n",
    "        # Convert relative URLs to absolute URLs\n",
    "        href = urljoin(home_url, link[\"href\"])\n",
    "        \n",
    "        # Check if the URL starts with the base URL\n",
    "        if href.startswith(home_url) and '#' not in href:\n",
    "            internal_links.add(href)\n",
    "        \n",
    "        # Stop if we have enough links\n",
    "        if len(internal_links) >= max_links:\n",
    "            break\n",
    "    \n",
    "    return list(internal_links)\n",
    "\n",
    "\n",
    "# internal urls\n",
    "urls = []\n",
    "# Craw internal URLs\n",
    "for region in REGIONS:\n",
    "    base_url = f\"{EN_URL}/{region}\"  # URL for each region\n",
    "    internal_urls = get_internal_links(home_url=base_url) # Get internal URLs \n",
    "    urls.extend(internal_urls)\n",
    "\n",
    "# counter = 0\n",
    "# # Print all internal URLs from all regions\n",
    "# for internal_url in urls:\n",
    "#     counter += 1\n",
    "#     print(internal_url)\n",
    "# \n",
    "# print(f\"Counter: {counter}\")\n"
   ],
   "id": "f806b6f9dad1046a",
   "outputs": [],
   "execution_count": 6
  },
  {
   "cell_type": "markdown",
   "id": "e23514490ceacc1",
   "metadata": {},
   "source": [
    "## Vectorstore"
   ]
  },
  {
   "cell_type": "code",
   "id": "e28d8ef09e20e9f7",
   "metadata": {
    "ExecuteTime": {
     "end_time": "2024-10-24T15:34:38.600971Z",
     "start_time": "2024-10-24T15:29:28.448760Z"
    }
   },
   "source": [
    "# Load documents\n",
    "docs = [WebBaseLoader(url).load() for url in urls]\n",
    "docs_list = [item for sublist in docs for item in sublist]\n",
    "\n",
    "# Split documents\n",
    "text_splitter = RecursiveCharacterTextSplitter.from_tiktoken_encoder(chunk_size=500, chunk_overlap=0)\n",
    "doc_splits = text_splitter.split_documents(docs_list)\n",
    "\n",
    "# Set embeddings\n",
    "embeddings = NomicEmbeddings(model=\"nomic-embed-text-v1.5\", inference_mode=\"local\")\n",
    "\n",
    "# Add to vectorstore\n",
    "vectorstore = Chroma.from_documents(documents=doc_splits, embedding=embeddings, persist_directory=\"./chroma_db\")\n"
   ],
   "outputs": [],
   "execution_count": 10
  },
  {
   "metadata": {
    "ExecuteTime": {
     "end_time": "2024-10-27T13:40:35.992319Z",
     "start_time": "2024-10-27T13:40:34.208263Z"
    }
   },
   "cell_type": "code",
   "source": [
    "# Load from disk\n",
    "database = Chroma(\n",
    "    persist_directory=\"./chroma_db\", \n",
    "    embedding_function=NomicEmbeddings(\n",
    "        model=\"nomic-embed-text-v1.5\", \n",
    "        inference_mode=\"local\"\n",
    "    ), \n",
    ")\n",
    "# Define the retriever\n",
    "retriever = database.as_retriever(search_kwargs={\"k\": 5})\n"
   ],
   "id": "3cf0b8e939ff99ac",
   "outputs": [],
   "execution_count": 7
  },
  {
   "cell_type": "code",
   "id": "58d907e55ddba0cf",
   "metadata": {
    "ExecuteTime": {
     "end_time": "2024-10-27T13:40:40.545349Z",
     "start_time": "2024-10-27T13:40:38.912182Z"
    }
   },
   "source": [
    "# Test retriever\n",
    "question_1 = \"Where is the Colosseum?\"\n",
    "retrieved_docs = retriever.invoke(question_1)\n",
    "print(retrieved_docs)\n"
   ],
   "outputs": [
    {
     "name": "stdout",
     "output_type": "stream",
     "text": [
      "[Document(metadata={'description': 'With an abundance of history, museums and attractions, Rome is a perfect travel destination. Discover the things to see and do.\\r\\n', 'language': 'en', 'source': 'https://www.italia.it/en/lazio/rome', 'title': 'Rome: Attractions to see & Things to do - Italia.it'}, page_content='Museums and monuments\\n\\n\\n\\nLike\\n\\n\\n\\n\\n\\n\\n\\n\\n\\n\\n\\n\\n                Colosseum\\n            \\n\\n                \\n                    Colosseum one of the 7 Wonders of the World\\nThe symbol of the Roman Empire recognized as one of the 7 Wonders of the World, the Flavian Amphitheatre - also known as the Colosseum - is a must-see for anyone visiting Rome. It is the largest amphitheatre in the world, telling the story of the magnificent deeds of gladiators and Ancient Rome. This imposing and evocative place is the most representative icon of Rome and Italy as a whole all over the world; having survived until now, it is a human masterpiece and has always stood out in all its splendour, ensuring unforgettable views and glimpses of the city. The Colosseum today is a dynamic and multi-function place and is used every year to host numerous temporary exhibitions and modern shows for its visitors.\\n\\n                \\n            \\n\\n\\n\\nLazio , Roma\\n\\n\\n\\n\\n\\n\\n\\n\\nHistorical sites\\n\\n\\n\\nLike\\n\\n\\n\\n\\n\\n\\n\\n\\n\\n\\n\\n\\n                Roman Forum'), Document(metadata={'description': \"Discover 5 unusual things to do in Rome: optical illusions in the Church of St Ignatius of Loyola and Piazza Vittorio's magic door.\", 'language': 'en', 'source': 'https://www.italia.it/en/lazio/rome/things-to-do/5-unusual-things-to-do-in-rome', 'title': '5 unusual things to do in Rome - Italia.it'}, page_content='Another church, another mystery. Just 500 metres from the Colosseum, the church of San Pietro in Vincoli guards a grave secret, starting with its name, which derives from the chains kept in a shrine. They are said to have been used to bind St Peter when he was a prisoner in Jerusalem. According to legend, Licinia Eudoxia, wife of the Western Emperor Valentinian III, gave them to Pope Leo I, after receiving them from her mother, also the wife of an emperor, Theodosius II of the East. The church already possessed the chains that had held the saint prisoner in the Mamertine Prison, the oldest prison in Rome. When the chains were brought together, they fused with each other: a miracle. To commemorate it, they erected the church, also called the Basilica Eudossiana, after the empress who helped build it.\\nIn short, Rome is always surprising, including outside the usual itineraries.\\n\\n\\n\\n\\n\\n\\n\\n\\n\\n\\n\\nPrevious\\n\\n\\n\\n\\n\\nSpirituality\\n\\n\\n\\nLike\\n\\n\\n\\n\\n\\n\\n\\n\\n\\n\\n\\nBasilica di San Pietro in Vincoli\\n\\n\\n\\nLazio, Roma\\n\\n\\n\\n\\n\\n\\n\\n\\nNext\\n\\n\\n\\n\\n\\n\\n\\n\\n\\n\\n\\n\\n\\n\\n\\n\\n                Generic error\\n            \\n\\n\\n\\n\\n\\n\\n\\n\\n\\nIn Rome, even dolls have their own hospital'), Document(metadata={'description': 'With an abundance of history, museums and attractions, Rome is a perfect travel destination. Discover the things to see and do.\\r\\n', 'language': 'en', 'source': 'https://www.italia.it/en/lazio/rome', 'title': 'Rome: Attractions to see & Things to do - Italia.it'}, page_content='The futuristic district of Rome\\nA majestic and futuristic urban complex, created as a symbol of the new imperialist and colonial Rometo host the Universal Exhibition of Rome planned in 1942 and never held because of the outbreak of World War II.\\nAn expression of rationalist architecture, the district develops around Piazza Guglielmo Marconi, with its landmark modern obelisk.\\nThe Palace of Roman Civilization, inspired by metaphysical art and nicknamed the \"Square Colosseum\" by locals, is the symbol of this urban area, a huge 68-meter-high travertine mass adorned with 216 arches distributed across its four facades.\\nOther buildings, such as the Palace of the Civilization of Labor and the Palazzo dei Congressi, are just as important. One of the most recent constructions is the Roma Convention Center, more commonly known as \"La Nuvola\" and designed by Studio Fuksas.\\nThe district also houses major museums belonging to the Museum of Civilizations’ circuit with five different sections: the Luigi Pigorini National Museum of Prehistory and Ethnography, the National Museum of Folk Art and Traditions, the Museum of Eastern Art, the National Museum of the Middle Ages and the African Museum.\\n\\n                \\n            \\n\\n\\n\\nLazio , Rome\\n\\n\\n\\n\\n\\n\\n\\n\\nMuseums and monuments\\n\\n\\n\\nLike\\n\\n\\n\\n\\n\\n\\n\\n\\n\\n\\n\\n\\n                Campo de\\' Fiori\\n            \\n\\n                \\n                    The historical neighborhood market in Rome'), Document(metadata={'description': \"Discover 5 unusual things to do in Rome: optical illusions in the Church of St Ignatius of Loyola and Piazza Vittorio's magic door.\", 'language': 'en', 'source': 'https://www.italia.it/en/lazio/rome/things-to-do/5-unusual-things-to-do-in-rome', 'title': '5 unusual things to do in Rome - Italia.it'}, page_content=\"In Piazza Vittorio, the magic door\\n                            \\n\\n\\n\\n                                 A museum of the souls in purgatory\\n                            \\n\\n\\n\\n\\n\\n                                 At the basilica of San Pietro in Vincoli, on the trail of a mysterious miracle\\n                            \\n\\n\\n\\n                                 In Rome, even dolls have their own hospital \\n                            \\n\\n\\n\\n\\n\\n\\n\\n\\n\\n\\n\\n\\n\\n\\n\\n\\n\\n\\n\\n\\n\\n\\n\\n\\n\\n\\n\\n\\n\\nThe Colosseum, the Spanish Steps and St Peter's Basilica are always at the top of the list of things to see in Rome, but the capital holds lesser-known but equally unmissable gems for anyone who happens to be in town. They are all close to the most famous attractions, so it’s easy to include them in your schedule.\\n\\nHere is an itinerary for exploring a hidden Rome, taking in five must-see sights.\\n\\n\\n\\n\\n\\n\\n\\n\\nMap\\n\\n\\nClose\\n\\n\\n\\n\\n\\n\\n\\n\\n\\n\\n\\n\\n\\n\\n\\n\\n\\n\\n\\n\\n\\n\\n\\n\\n\\n\\n\\n\\n\\n\\n\\n\\n\\n\\n\\n\\n\\n\\n\\n\\n\\n\\n\\n\\n\\n\\n\\n\\n\\n\\n\\n\\n\\n\\n\\n\\n\\n\\n\\n\\n\\n\\n\\n\\n\\n\\n\\n\\n\\n\\n\\n\\n\\n\\n\\n\\n\\n\\n\\n\\n\\n\\n\\n\\n\\n\\n\\n\\nInside the church of St Ignatius of Loyola, in search of illusions\"), Document(metadata={'description': 'Enjoy Naples, known for its natural beauties, such as Mount Vesuvius, and pizza. Discover the attractions and things to do.', 'language': 'en', 'source': 'https://www.italia.it/en/campania/naples', 'title': 'Visit Naples: Things to do & Attractions - Italia.it'}, page_content='The best known, the bay of leranto with views of Capri where Ulysses was bewitched by the Sirens. Perhaps lesser known is the cove of Mitigliano, where you can enjoy the view of Punta Campanella, up to Sorrento. Offering two small beaches of volcanic sand, passing through Piano di Sorrento, always holding a Blue flag, and Scrajo beach in Vico Equense where you will find a pool of sulfurous water.  \\n\\n                \\n            \\n\\n\\n3 minutes\\n\\n\\n\\n\\n\\n\\n\\nUNESCO\\n\\n\\n\\nLike\\n\\n\\n\\n\\n\\n\\n\\n\\n\\n\\n\\n\\n                Discovering the archaeological area of Pompeii, Herculaneum and Torre Annunziata\\n            \\n\\n                \\n                    This jewel near Naples, in Campania, which lets you travel back in time, has long held the record as the most visited place in the world. The archaeological area of Pompeii, Herculaneum and Torre Annunziata is among the 58 Italian UNESCO sites in the World Heritage List. It never ceases to amaze, giving you the opportunity to explore the extent of the commercial city of Pompeii, the fewer but better-preserved remains of the ancient town of Herculaneum and the frescoes of the Villa Oplontis in Torre Annunziata, which portray the opulent lifestyle of the wealthy classes at the beginning of the Roman Empire.\\n\\n                \\n            \\n\\n\\n4 minutes')]\n"
     ]
    }
   ],
   "execution_count": 8
  },
  {
   "metadata": {},
   "cell_type": "markdown",
   "source": "## Components",
   "id": "d646f1b1b9b4252f"
  },
  {
   "metadata": {},
   "cell_type": "markdown",
   "source": "### Query is Relevant?",
   "id": "4473c70007bbfb8c"
  },
  {
   "metadata": {
    "ExecuteTime": {
     "end_time": "2024-10-27T13:40:42.829727Z",
     "start_time": "2024-10-27T13:40:42.823809Z"
    }
   },
   "cell_type": "code",
   "source": [
    "class QueryIsRelevant(BaseModel):\n",
    "    \"\"\"\n",
    "      Verify if the query is relevant to the topic of travel or not.\n",
    "    \"\"\"\n",
    "    subject: Literal[\"travel\", \"other\"] = Field(\n",
    "        description=\"Given a user question choose to route it to 'travel' or 'other'.\"\n",
    "    )\n",
    "    \n",
    "# LLM\n",
    "structured_llm_relevant = llm.with_structured_output(QueryIsRelevant)\n",
    "\n",
    "# System prompt\n",
    "relevant_instructions = \"\"\"You are an expert at evaluating the topics of a user question.\n",
    "Use 'travel' if the question concern the topics and concepts related to travel and tourism. Otherwise, use 'other'.\n",
    "\"\"\"\n",
    "\n",
    "# Combine the system message and user question in a prompt template\n",
    "relevant_query_prompt = ChatPromptTemplate.from_messages(\n",
    "    [\n",
    "        (\"system\", relevant_instructions),\n",
    "        (\"human\", \"{question}\"),\n",
    "    ]\n",
    ")\n",
    "relevant_query = relevant_query_prompt | structured_llm_relevant\n"
   ],
   "id": "3100b8edbc43e8fd",
   "outputs": [],
   "execution_count": 9
  },
  {
   "metadata": {
    "ExecuteTime": {
     "end_time": "2024-10-27T13:40:51.013388Z",
     "start_time": "2024-10-27T13:40:45.214306Z"
    }
   },
   "cell_type": "code",
   "source": [
    "# # Test relevance\n",
    "# expected result: vectorstore\n",
    "relevant_1 = relevant_query.invoke({ \n",
    "    \"question\": question_1\n",
    "})\n",
    "print(f\"> query's topic: {relevant_1}\")\n",
    "\n",
    "# expected result: web_search\n",
    "relevant_2 = relevant_query.invoke({ \n",
    "    \"question\": \"What is the capital of France?\"\n",
    "})\n",
    "print(f\"> Query's topic: {relevant_2}\")\n"
   ],
   "id": "d8a31b05fff625ad",
   "outputs": [
    {
     "name": "stdout",
     "output_type": "stream",
     "text": [
      "> query's topic: subject='travel'\n",
      "> Query's topic: subject='other'\n"
     ]
    }
   ],
   "execution_count": 10
  },
  {
   "cell_type": "markdown",
   "id": "aaad6c70d3a07fde",
   "metadata": {},
   "source": "### Router"
  },
  {
   "cell_type": "code",
   "id": "502286dda58571e",
   "metadata": {
    "ExecuteTime": {
     "end_time": "2024-10-27T13:40:53.865589Z",
     "start_time": "2024-10-27T13:40:53.860955Z"
    }
   },
   "source": [
    "## Router\n",
    "class QueryRoute(BaseModel):\n",
    "    \"\"\"\n",
    "      Route a user query to the most relevant datasource -> vectorstore or websearch.\n",
    "    \"\"\"\n",
    "    datasource: Literal[\"vectorstore\", \"web_search\"] = Field(\n",
    "        description=\"Given a user question choose to route it to web search or a vectorstore.\",\n",
    "    )\n",
    "\n",
    "# LLM\n",
    "structured_llm_router = llm.with_structured_output(QueryRoute)\n",
    "\n",
    "# System prompt\n",
    "router_instructions = \"\"\"You are an expert at routing a user question to a vectorstore or web search.\n",
    "The vectorstore contains documents related to some famous italian city, touristic and historical places, food and travel tips for tourists.\n",
    "Use the vectorstore for questions on these topics. Otherwise, use web-search.\"\"\"\n",
    "\n",
    "# Combine the system message and user question in a prompt template\n",
    "route_prompt = ChatPromptTemplate.from_messages(\n",
    "    [\n",
    "        (\"system\", router_instructions),\n",
    "        (\"human\", \"{question}\"),\n",
    "    ]\n",
    ")\n",
    "question_router = route_prompt | structured_llm_router\n"
   ],
   "outputs": [],
   "execution_count": 11
  },
  {
   "cell_type": "code",
   "id": "983a9fd150bab4e7",
   "metadata": {
    "ExecuteTime": {
     "end_time": "2024-10-27T13:40:57.766427Z",
     "start_time": "2024-10-27T13:40:56.189814Z"
    }
   },
   "source": [
    "## Test router\n",
    "# expected result: vectorstore\n",
    "router_1 = question_router.invoke({ \n",
    "    \"question\": question_1\n",
    "})\n",
    "print(f\"> query's route: {router_1}\")\n",
    "\n",
    "# expected result: web_search\n",
    "router_2 = question_router.invoke({ \n",
    "    \"question\": \"Where is the Eiffel tower?\"\n",
    "})\n",
    "print(f\"> Query's route: {router_2}\")\n"
   ],
   "outputs": [
    {
     "name": "stdout",
     "output_type": "stream",
     "text": [
      "> query's route: datasource='vectorstore'\n",
      "> Query's route: datasource='web_search'\n"
     ]
    }
   ],
   "execution_count": 12
  },
  {
   "metadata": {},
   "cell_type": "markdown",
   "source": "### Re-write",
   "id": "146ba3a62ca4a4c5"
  },
  {
   "metadata": {
    "ExecuteTime": {
     "end_time": "2024-10-27T13:41:10.292643Z",
     "start_time": "2024-10-27T13:41:10.288580Z"
    }
   },
   "cell_type": "code",
   "source": [
    "## Re-writer\n",
    "class ReWrite(BaseModel):\n",
    "    \"\"\"\n",
    "        question re-writer.\n",
    "    \"\"\"\n",
    "    rewrite: str = Field(\n",
    "        description=\"Re-write the question optimized for retrieval\"\n",
    "    )\n",
    "    \n",
    "# LLM\n",
    "structured_llm_rewriter = llm.with_structured_output(ReWrite)\n",
    "    \n",
    "# System prompt\n",
    "re_write_instructions = \"\"\"You are a question re-writer that converts an input question to a better version that is optimized \\n \n",
    "     for retrieval. Look at the input and try to reason about the underlying semantic intent / meaning.\"\"\"\n",
    "\n",
    "re_write_prompt = ChatPromptTemplate.from_messages(\n",
    "    [\n",
    "        (\"system\", re_write_instructions),\n",
    "        (\"human\", \"Here is the initial question: \\n\\n {question} \\n Formulate an improved question.\",),\n",
    "    ]\n",
    ")\n",
    "question_rewriter = re_write_prompt | structured_llm_rewriter\n"
   ],
   "id": "19ff315cabd87f25",
   "outputs": [],
   "execution_count": 14
  },
  {
   "metadata": {
    "ExecuteTime": {
     "end_time": "2024-10-27T13:41:13.554562Z",
     "start_time": "2024-10-27T13:41:12.409856Z"
    }
   },
   "cell_type": "code",
   "source": [
    "## Test question re-writer \n",
    "rewriter = question_rewriter.invoke({\n",
    "    \"question\": question_1\n",
    "})\n",
    "print(f\"> Re-written query: {rewriter}\")\n"
   ],
   "id": "2f31f50c009ff5a7",
   "outputs": [
    {
     "name": "stdout",
     "output_type": "stream",
     "text": [
      "> Re-written query: rewrite='What is the location of the Colosseum?'\n"
     ]
    }
   ],
   "execution_count": 15
  },
  {
   "metadata": {},
   "cell_type": "markdown",
   "source": "### Docs Relevance",
   "id": "16d06c021b384042"
  },
  {
   "cell_type": "code",
   "id": "6bf37bfe0c3e49a6",
   "metadata": {
    "ExecuteTime": {
     "end_time": "2024-10-27T13:41:15.029037Z",
     "start_time": "2024-10-27T13:41:15.023364Z"
    }
   },
   "source": [
    "## Docs are relevant or not\n",
    "class GradeDocs(BaseModel):\n",
    "    \"\"\"\n",
    "        Binary score for relevance check on retrieved documents.\n",
    "    \"\"\"\n",
    "    relevance: str = Field(\n",
    "        description=\"Documents are relevant to the question, 'yes' or 'no'\"\n",
    "    )\n",
    "\n",
    "# LLM\n",
    "structured_llm_retrieval = llm.with_structured_output(GradeDocs)\n",
    "\n",
    "# System prompt\n",
    "doc_grader_instructions = \"\"\"\n",
    "You are a grader assessing relevance of a retrieved document to a user question.  \n",
    "If the document contains keyword(s), shares concepts or semantic meaning related to the user question, grade it as relevant. \n",
    "It does not need to be a stringent test. The goal is to filter out erroneous retrievals.\n",
    "Give a binary score 'yes' or 'no' score to indicate whether the document is relevant to the question.\"\"\"\n",
    "\n",
    "grade_prompt = ChatPromptTemplate.from_messages(\n",
    "    [\n",
    "        (\"system\", doc_grader_instructions),\n",
    "        (\"human\", \"Retrieved document: \\n\\n {document} \\n\\n User question: {question}\"),\n",
    "    ]\n",
    ")\n",
    "retrieval_grader = grade_prompt | structured_llm_retrieval\n"
   ],
   "outputs": [],
   "execution_count": 16
  },
  {
   "cell_type": "code",
   "id": "50aa1188cc7afb7f",
   "metadata": {
    "ExecuteTime": {
     "end_time": "2024-10-27T13:41:20.302975Z",
     "start_time": "2024-10-27T13:41:17.045245Z"
    }
   },
   "source": [
    "## Test grader\n",
    "# First question: expected score = yes\n",
    "docs_text_1 = retrieved_docs[0]\n",
    "is_relevant_1 = retrieval_grader.invoke({\"question\": question_1, \"document\": docs_text_1})\n",
    "print(f\"> Query is relevant: {is_relevant_1}\")\n",
    "\n",
    "# Second question: expected score = no\n",
    "question_2 = \"Where is the Eiffel tower?\"   \n",
    "retrieve_document_2 = retriever.invoke(question_2) \n",
    "docs_text_2 = retrieve_document_2[0]\n",
    "is_relevant_2 = retrieval_grader.invoke({\"question\": question_2, \"document\": docs_text_2})\n",
    "print(f\"> Query is relevant: {is_relevant_2}\")"
   ],
   "outputs": [
    {
     "name": "stdout",
     "output_type": "stream",
     "text": [
      "> Query is relevant: relevance='yes'\n",
      "> Query is relevant: relevance='no'\n"
     ]
    }
   ],
   "execution_count": 17
  },
  {
   "metadata": {},
   "cell_type": "markdown",
   "source": "### Planning",
   "id": "7301bbeb4d5406fe"
  },
  {
   "metadata": {
    "ExecuteTime": {
     "end_time": "2024-10-27T13:44:05.537652Z",
     "start_time": "2024-10-27T13:44:05.534210Z"
    }
   },
   "cell_type": "code",
   "source": [
    "# System prompt\n",
    "planner_instructions = \"\"\"\n",
    "You are an expert travel planner with a kind and friendly personality. Always start the conversation by saying hello. You're excited to help travelers plan their perfect vacation with engaging and heartfelt recommendations. Present the information as if you are talking to a friend, making sure to be warm, conversational, and enthusiastic about the places to visit, the local cuisine, and tips for the trip. Make it feel like a personal guide. Don't be concise, but be conversational.\n",
    "\n",
    "Question: {question}\n",
    "Context: {context}\n",
    "\n",
    "Plan:\n",
    "- **Places to Visit**: \n",
    "    Start by warmly describing the main attractions, what makes them special, and why they're must-sees. Use friendly language like \"You’ll love visiting...\" or \"Make sure to check out...\"\n",
    "    \n",
    "- **Recommended Itineraries**: \n",
    "    Suggest possible itineraries that would help travelers make the most of their time. Use phrases like \"If you have 3 days, I recommend starting with...\" or \"For a week-long trip, here's how you could plan each day...\" to give them flexible but structured options.\n",
    "    \n",
    "- **Local Cuisine**: \n",
    "    Describe the local dishes with enthusiasm, like you're sharing a favorite meal with a friend. Phrases like \"You can't leave without trying...\" or \"One bite of this and you'll see why it's a local favorite...\" will make it feel personal.\n",
    "\n",
    "- **Tips for Travelers**: \n",
    "    Offer helpful advice as if you're giving insider knowledge, with kind reminders like \"Don’t forget to bring...\" or \"It's always good to know that...\"\n",
    "\n",
    "End with a friendly closing note like: \"I hope you have an amazing time! Safe travels!\"\n",
    "\"\"\"\n",
    "planner_prompt = ChatPromptTemplate.from_messages(\n",
    "    [\n",
    "        (\"system\", planner_instructions),\n",
    "        (\"human\", \"Question: \\n\\n {question}\"),\n",
    "    ]\n",
    ")\n",
    "plan_chain = planner_prompt | llm | StrOutputParser()\n"
   ],
   "id": "b6053c79b5c28389",
   "outputs": [],
   "execution_count": 18
  },
  {
   "metadata": {
    "ExecuteTime": {
     "end_time": "2024-10-27T13:44:08.176658Z",
     "start_time": "2024-10-27T13:44:08.173482Z"
    }
   },
   "cell_type": "code",
   "source": [
    "## Post-processing\n",
    "def format_docs(documents):\n",
    "    \"\"\"\n",
    "    Formats and cleans the page contents of documents into a single string.\n",
    "\n",
    "    Args:\n",
    "        documents (list): A list of document objects, each containing a 'page_content' attribute.\n",
    "\n",
    "    Returns:\n",
    "        str: A single cleaned string containing the combined page contents,\n",
    "              with excessive whitespace removed.\n",
    "    \"\"\"\n",
    "    # Combine page contents\n",
    "    combined_text = \"\\n\\n\".join(doc.page_content for doc in documents)\n",
    "\n",
    "    # Removing excessive whitespace\n",
    "    cleaned_text = re.sub(r'\\s+', ' ', combined_text).strip()\n",
    "\n",
    "    return cleaned_text"
   ],
   "id": "dc70606ed0eb1a5e",
   "outputs": [],
   "execution_count": 19
  },
  {
   "metadata": {
    "ExecuteTime": {
     "end_time": "2024-10-27T13:44:21.729808Z",
     "start_time": "2024-10-27T13:44:10.756956Z"
    }
   },
   "cell_type": "code",
   "source": [
    "## Test planner\n",
    "planner_docs = retriever.invoke(question_1)\n",
    "planner_docs_txt = format_docs(planner_docs)\n",
    "\n",
    "generated_plan = plan_chain.invoke({\n",
    "    \"context\": planner_docs_txt, \n",
    "    \"question\": question_1,\n",
    "})\n",
    "print(f\"> Plan:\\n{generated_plan}\")\n"
   ],
   "id": "fabd8be62ea0dec",
   "outputs": [
    {
     "name": "stdout",
     "output_type": "stream",
     "text": [
      "> Plan:\n",
      "Hello! I'm so excited to help you plan your trip!\n",
      "\n",
      "The Colosseum is one of the most iconic landmarks in Rome, Italy, and it's a must-see for anyone visiting this incredible city. Located in the heart of Rome, the Colosseum is situated in the Lazio region, near the Roman Forum and other ancient ruins.\n",
      "\n",
      "Imagine walking through the historic center of Rome, surrounded by ancient architecture, street performers, and delicious food – that's where you'll find the Colosseum! It's a short walk from many popular attractions, including the Roman Forum, the Pantheon, and the Trevi Fountain.\n",
      "\n",
      "The address is: Piazza del Colosseo, 00187 Roma RM, Italy\n",
      "\n",
      "You can't miss it! The Colosseum is an imposing structure that dominates the cityscape, with its massive stone walls and towering arches. It's a testament to the engineering and architectural skills of the ancient Romans.\n",
      "\n",
      "When you visit the Colosseum, be sure to explore the surrounding area, which offers stunning views of the city and insights into Rome's rich history. You can also learn about the gladiators who fought here, the emperors who ruled from this very spot, and the events that took place within these ancient walls.\n",
      "\n",
      "Are you ready to experience the grandeur of the Colosseum?\n"
     ]
    }
   ],
   "execution_count": 20
  },
  {
   "metadata": {},
   "cell_type": "markdown",
   "source": "### Check Coherency",
   "id": "c7757286ddef5f63"
  },
  {
   "cell_type": "code",
   "id": "3a1168eb123bfef6",
   "metadata": {
    "ExecuteTime": {
     "end_time": "2024-10-27T13:44:26.162668Z",
     "start_time": "2024-10-27T13:44:26.158549Z"
    }
   },
   "source": [
    "## Coherence grader\n",
    "class GradeCoherence(BaseModel):\n",
    "    \"\"\"\n",
    "        Binary score for planner answer coherency.\n",
    "    \"\"\"\n",
    "    coherence: str = Field(\n",
    "        description=\"Answer is consistent with the documents, 'yes' or 'no'\"\n",
    "    )\n",
    "    \n",
    "# LLM\n",
    "structured_llm_coherence = llm.with_structured_output(GradeCoherence)\n",
    "\n",
    "# System prompt\n",
    "coherency_instructions = \"\"\"\n",
    "You are a rater who evaluates whether the planner is consistent with the information in the documents. \n",
    "You assign a binary score of \"yes\" or \"no\". \"yes\" means the answer is consistent with the documents.\"\"\"\n",
    "\n",
    "coherence_prompt = ChatPromptTemplate.from_messages(\n",
    "    [\n",
    "        (\"system\", coherency_instructions),\n",
    "        (\"human\", \"documents: \\n\\n {documents} \\n\\n planner: {planner}\"),\n",
    "    ]\n",
    ")\n",
    "coherence_grader = coherence_prompt | structured_llm_coherence\n"
   ],
   "outputs": [],
   "execution_count": 21
  },
  {
   "metadata": {
    "ExecuteTime": {
     "end_time": "2024-10-27T13:44:33.781729Z",
     "start_time": "2024-10-27T13:44:29.794217Z"
    }
   },
   "cell_type": "code",
   "source": [
    "## Test Coherency\n",
    "coherency = coherence_grader.invoke({\n",
    "    \"documents\": planner_docs_txt,  \n",
    "    \"planner\": generated_plan  \n",
    "})\n",
    "print(f\"> Answer is coherent: {coherency}\")\n"
   ],
   "id": "79f59939b7856167",
   "outputs": [
    {
     "name": "stdout",
     "output_type": "stream",
     "text": [
      "> Answer is coherent: coherence='yes'\n"
     ]
    }
   ],
   "execution_count": 22
  },
  {
   "metadata": {},
   "cell_type": "markdown",
   "source": "### Answer evaluation",
   "id": "1e01900473b7519f"
  },
  {
   "cell_type": "code",
   "id": "48c72983b2bfbd88",
   "metadata": {
    "ExecuteTime": {
     "end_time": "2024-10-27T13:44:37.424941Z",
     "start_time": "2024-10-27T13:44:37.420172Z"
    }
   },
   "source": [
    "## Answer Grader\n",
    "class GradeAnswers(BaseModel):\n",
    "    \"\"\"\n",
    "        Binary score to assess answer addresses question.\n",
    "    \"\"\"\n",
    "    evaluation: str = Field(\n",
    "        description=\"Answer addresses the question, 'yes' or 'no'\"\n",
    "    )\n",
    "    \n",
    "# LLM\n",
    "structured_llm_grader = llm.with_structured_output(GradeAnswers)\n",
    "\n",
    "# System prompt\n",
    "answer_grader_instructions = \"\"\"\n",
    "You are a grader assessing whether the planner addresses / resolves a request\n",
    "Give a binary score 'yes' or 'no'. Yes' means that the answer resolves the request.\"\"\"\n",
    "\n",
    "answer_prompt = ChatPromptTemplate.from_messages(\n",
    "    [\n",
    "        (\"system\", answer_grader_instructions),\n",
    "        (\"human\", \"User question: \\n\\n {question} \\n\\n Planner: {planner}\"),\n",
    "    ]\n",
    ")\n",
    "answer_grader = answer_prompt | structured_llm_grader\n"
   ],
   "outputs": [],
   "execution_count": 23
  },
  {
   "cell_type": "code",
   "id": "8aa7b6de0e0c7ed1",
   "metadata": {
    "ExecuteTime": {
     "end_time": "2024-10-27T13:44:42.666534Z",
     "start_time": "2024-10-27T13:44:41.252139Z"
    }
   },
   "source": [
    "## Test grade answer\n",
    "grade_answer = answer_grader.invoke({\n",
    "    \"question\": question_1, \n",
    "    \"planner\": generated_plan\n",
    "})\n",
    "print(f\"> Answer 'resolve' the query: {grade_answer}\")\n"
   ],
   "outputs": [
    {
     "name": "stdout",
     "output_type": "stream",
     "text": [
      "> Answer 'resolve' the query: evaluation='yes'\n"
     ]
    }
   ],
   "execution_count": 24
  },
  {
   "cell_type": "markdown",
   "id": "6402affb0ad722ed",
   "metadata": {},
   "source": [
    "# Tavily: web search tool"
   ]
  },
  {
   "cell_type": "code",
   "id": "46f0efe4667406b",
   "metadata": {
    "ExecuteTime": {
     "end_time": "2024-10-27T13:44:52.374666Z",
     "start_time": "2024-10-27T13:44:46.818502Z"
    }
   },
   "source": [
    "# Test Tavily \n",
    "test_web_search = tavily_web_search.invoke({\n",
    "    \"query\": \"What is the answer to the ultimate question of life, the universe, and everything?\"\n",
    "})\n",
    "print(f\"Web search results: {test_web_search}\")"
   ],
   "outputs": [
    {
     "name": "stdout",
     "output_type": "stream",
     "text": [
      "Web search results: [{'url': 'https://simple.wikipedia.org/wiki/42_(answer)', 'content': '42 (answer) 42 is the \"Answer to the Ultimate Question of Life, the Universe, and Everything\" in The Hitchhiker\\'s Guide to the Galaxy books. It was computed by Deep Thought, the second greatest computer ever. [1] The descendants of Deep Thought\\'s creators are upset by the numeric nature of the answer, not understanding what to do with it or'}, {'url': 'https://hitchhikers.fandom.com/wiki/42', 'content': '42 (or forty-two) is the Answer to the Ultimate Question of Life, the Universe and Everything. This Answer was first calculated by the supercomputer Deep Thought after seven and a half million years of thought. This shocking answer resulted in the construction of an even larger supercomputer, named Earth, which was tasked with determining what the question was in the first place. The Earth was'}, {'url': 'https://quoteinvestigator.com/2022/10/29/answer-universe/', 'content': \"The fourth episode recounted a tale about the answer to humanity's ultimate existential question. Millions of years ago a race of hyper-intelligent pan-dimensional beings decided to build a computer called Deep Thought to solve the problem of Life, the Universe and Everything. After the computer was finally built and the question was posed\"}]\n"
     ]
    }
   ],
   "execution_count": 25
  },
  {
   "cell_type": "markdown",
   "id": "717d1acf42306cf9",
   "metadata": {},
   "source": "## Graph: State"
  },
  {
   "cell_type": "code",
   "id": "f1b1b0f1a74c7cc3",
   "metadata": {
    "ExecuteTime": {
     "end_time": "2024-10-27T13:44:56.186786Z",
     "start_time": "2024-10-27T13:44:56.184047Z"
    }
   },
   "source": [
    "# Graph's state\n",
    "class State(TypedDict):\n",
    "    \"\"\"\n",
    "    Represents the state of the graph.\n",
    "\n",
    "    Attributes:\n",
    "        documents: list of documents.\n",
    "        max_retries: the maximum number of hallucination checks permitted.\n",
    "        loop_step: Indicates the current step in a looping process.\n",
    "        planner: LLM planning.\n",
    "        question: question.\n",
    "        web_search: run web search\n",
    "    \"\"\"\n",
    "    documents: List[str]\n",
    "    max_retries: int\n",
    "    loop_step: Annotated[int, operator.add]\n",
    "    planner: str\n",
    "    route: str\n",
    "    topic: str\n",
    "    question: str\n",
    "    web_search: str\n",
    "    "
   ],
   "outputs": [],
   "execution_count": 26
  },
  {
   "metadata": {},
   "cell_type": "markdown",
   "source": "### Graph: Nodes",
   "id": "1124acf9be5cf752"
  },
  {
   "metadata": {
    "ExecuteTime": {
     "end_time": "2024-10-27T13:45:02.470709Z",
     "start_time": "2024-10-27T13:45:02.463358Z"
    }
   },
   "cell_type": "code",
   "source": [
    "# Node: query subject\n",
    "def subject(state: State) -> dict:\n",
    "    \"\"\"\n",
    "        Get the subject of the user query\n",
    "        Args:\n",
    "            state: The current graph state \n",
    "        Returns:\n",
    "            Updates subject key based on the user query\n",
    "    \"\"\"\n",
    "    print(\"---ESTABLISH SUBJECT---\")\n",
    "    question = state[\"question\"]\n",
    "    \n",
    "    subject_score = relevant_query.invoke({\n",
    "        \"question\": question\n",
    "    })\n",
    "    # Return state\n",
    "    return {\"topic\": subject_score, \"question\": question}\n",
    "\n",
    "\n",
    "# Node: off-topic response\n",
    "def standard_reply(state: State) -> dict:\n",
    "    \"\"\"\n",
    "    Responds with a standard message.\n",
    "\n",
    "    Args:\n",
    "        The current state of the graph.\n",
    "    Returns:\n",
    "        Updates planner key.\n",
    "    \"\"\"\n",
    "    # Standard response message to inform the user.\n",
    "    standard_response = (\n",
    "        \"Hello! I'm your travel assistant, and I can help with questions related to travel.\"\n",
    "    )\n",
    "    # Update the state\n",
    "    state[\"planner\"] = standard_response\n",
    "    \n",
    "    # Return state \n",
    "    return {\"planner\": state[\"planner\"]}\n",
    "\n",
    "\n",
    "# Node: query route\n",
    "def router(state: State) -> dict:\n",
    "    \"\"\"\n",
    "        Get the route of the user query\n",
    "    \n",
    "        Args:\n",
    "            state (dict): The current graph state   \n",
    "        Returns:\n",
    "            Updates route key based on the relevant user query\n",
    "    \"\"\"\n",
    "    print(\"---ESTABLISH ROUTE---\")\n",
    "    question = state[\"question\"]\n",
    "    \n",
    "    route_score = question_router.invoke({\n",
    "        \"question\": question\n",
    "    }) \n",
    "    # Return state\n",
    "    return {\"route\": route_score, \"question\": question}\n",
    "\n",
    "    \n",
    "# Node: retrieve documents\n",
    "def retrieve(state: State) -> dict:\n",
    "    \"\"\"\n",
    "        Retrieve documents from vectorstore\n",
    "    \n",
    "        Args:\n",
    "            state: The current graph state\n",
    "        Returns:\n",
    "            state: Updates documents key with only filtered relevant documents\n",
    "    \"\"\"\n",
    "    print(\"---RETRIEVE DOCS---\")\n",
    "    question = state[\"question\"]\n",
    "\n",
    "    # Retrieval\n",
    "    documents = retriever.invoke(question)\n",
    "    \n",
    "    return {\"documents\": documents, \"question\": question}\n",
    "\n",
    "\n",
    "# Node: docs are relevant or not\n",
    "def grade_documents(state: State) -> dict:\n",
    "    \"\"\"\n",
    "        Determines whether the retrieved documents are relevant to the question.\n",
    "    \n",
    "        Args:\n",
    "            state: The current graph state.\n",
    "        Returns:\n",
    "            Updates the web_search key and the documents key with only the relevant documents.\n",
    "    \"\"\"\n",
    "    print(\"---CHECK DOCUMENT RELEVANCE---\")\n",
    "    question = state[\"question\"]    \n",
    "    documents = state[\"documents\"] \n",
    "\n",
    "    relevant_documents = []\n",
    "    select_web= \"NO\"\n",
    "    yes_count = 0\n",
    "    \n",
    "    for doc in documents:\n",
    "        retrieval_score = retrieval_grader.invoke({\n",
    "            \"question\": question, \n",
    "            \"document\": doc.page_content\n",
    "        })\n",
    "        retrieval_grade = retrieval_score.relevance\n",
    "        \n",
    "        if retrieval_grade == \"yes\":\n",
    "            print(\"---DOCUMENT RELEVANCE---\")\n",
    "            relevant_documents.append(doc)\n",
    "            yes_count += 1\n",
    "        else:\n",
    "            print(\"---DOCUMENT NOT RELEVANCE---\")\n",
    "            # select_web = \"yes\"\n",
    "            continue\n",
    "            \n",
    "    # Set web_search to \"yes\" only if the majority of docs are graded as \"no\"\n",
    "    total_docs = len(documents)\n",
    "    if yes_count <= total_docs // 2:\n",
    "        select_web = \"YES\"\n",
    "    \n",
    "    return {\"documents\": relevant_documents, \"web_search\": select_web}\n",
    "\n",
    "\n",
    "# Node: optimize query\n",
    "def rewrite_query(state: State) -> dict:\n",
    "    \"\"\"\n",
    "        Transform the query to produce a better question.\n",
    "\n",
    "        Args:\n",
    "            state: The current graph state.\n",
    "        Returns:\n",
    "            Updates question key with a re-phrased question.\n",
    "    \"\"\"\n",
    "    print(\"---RE-WRITE QUESTION---\")\n",
    "    question = state[\"question\"]\n",
    "\n",
    "    # Re-write question\n",
    "    re_write_query = question_rewriter.invoke({\n",
    "        \"question\": question\n",
    "    })\n",
    "    better_question = re_write_query.rewrite\n",
    "\n",
    "    return {\"question\": better_question}\n",
    "\n",
    "\n",
    "# Node: planning\n",
    "def planner(state: State) -> dict:\n",
    "    \"\"\"\n",
    "        Generates a plan based on the provided query.\n",
    "        \n",
    "        Args:\n",
    "            state: The current graph state.\n",
    "        Returns:\n",
    "            Updates planner key with the plan and\n",
    "            the loop step, incremented by 1.\n",
    "    \"\"\"\n",
    "    print(\"---PLANNER---\")\n",
    "    question = state[\"question\"]            \n",
    "    documents = state[\"documents\"]          \n",
    "    loop_step = state.get(\"loop_step\", 0)   \n",
    "    \n",
    "    # RAG planning\n",
    "    make_plan = plan_chain.invoke({\n",
    "        \"context\": documents,\n",
    "        \"question\": question\n",
    "    })\n",
    "    # Return state\n",
    "    return {\"documents\": documents, \"question\": question, \"planner\": make_plan, \"loop_step\": loop_step + 1}\n",
    "\n",
    "\n",
    "# Node: search on the web\n",
    "def web_search(state: State) -> dict:\n",
    "    \"\"\"\n",
    "    Web search based on the query.\n",
    "\n",
    "    Args:\n",
    "        state: The current graph state\n",
    "    Returns:\n",
    "        Updates documents key with appended web results\n",
    "    \"\"\"\n",
    "    print(\"---WEB-SEARCH---\")\n",
    "    question = state[\"question\"]          \n",
    "    documents = state.get(\"documents\", []) \n",
    "\n",
    "    # Perform a web search using the Tavily\n",
    "    web_docs = tavily_web_search.invoke({\"query\": question})\n",
    "    web_results = \"\\n\".join([doc[\"content\"] for doc in web_docs])\n",
    "    web_results = Document(page_content=web_results)\n",
    "    documents.append(web_results)\n",
    "    # Return state\n",
    "    return {\"documents\": documents, \"question\": question}\n",
    "    "
   ],
   "id": "edfc036e805b5a90",
   "outputs": [],
   "execution_count": 27
  },
  {
   "metadata": {},
   "cell_type": "markdown",
   "source": "### Graph: Edges",
   "id": "ea6962bf9bbc3053"
  },
  {
   "cell_type": "code",
   "id": "b0990194e2b14bc7",
   "metadata": {
    "ExecuteTime": {
     "end_time": "2024-10-27T13:45:07.396182Z",
     "start_time": "2024-10-27T13:45:07.389907Z"
    }
   },
   "source": [
    "# Edge: 'off-topic' or 'on-topic'\n",
    "def route_subject(state: State) -> str:\n",
    "    \"\"\"\n",
    "        Route question to travel or other.\n",
    "    \n",
    "        Args:\n",
    "            state: The current graph state\n",
    "        Returns:\n",
    "            Next node to call\n",
    "    \"\"\"\n",
    "    topic = state[\"topic\"]\n",
    "    topic_grade = topic.subject\n",
    "    \n",
    "    # Determine if subject is off-topic or not\n",
    "    if topic_grade == \"other\":\n",
    "        print(\"===SUBJECT: OTHER===\")\n",
    "        return \"off-topic\"\n",
    "    elif topic_grade == \"travel\":\n",
    "        print(\"===SUBJECT: TRAVEL===\")\n",
    "        return \"on-topic\"\n",
    "    \n",
    "    \n",
    "# Edge: RAG or web\n",
    "def route_question(state: State) -> str:\n",
    "    \"\"\"\n",
    "        Route question to web search or RAG.\n",
    "    \n",
    "        Args:\n",
    "            state (dict): The current graph state\n",
    "        Returns:\n",
    "            Next node to call.\n",
    "    \"\"\"\n",
    "    source = state[\"route\"]\n",
    "    source_grade = source.datasource\n",
    "    \n",
    "    # Decide if route to 'web_search' or 'vectorstore'\n",
    "    if source_grade == \"web_search\": \n",
    "        print(\"===ROUTE: WEB SEARCH===\")\n",
    "        return \"websearch\"    \n",
    "    elif source_grade == \"vectorstore\":\n",
    "        print(\"===ROUTE: RAG===\")\n",
    "        return \"vectorstore\"\n",
    "    \n",
    "\n",
    "# Edge: planner or web_search\n",
    "def decide_to_plan(state: State) -> str:\n",
    "    \"\"\"\n",
    "    Determines if use the planner, ot the web_search.\n",
    "\n",
    "    Args:\n",
    "        state: The current graph state.\n",
    "    Returns:\n",
    "        Next node to call.\n",
    "    \"\"\"\n",
    "    print(\"===EVALUATE DOCUMENTS===\")\n",
    "    # question = state[\"question\"]\n",
    "    go_to_web = state[\"web_search\"]\n",
    "    # filtered_documents = state[\"documents\"]\n",
    "    \n",
    "    if go_to_web == \"YES\":\n",
    "        print(\"===DECISION: GO TO WEB-SEARCH===\")\n",
    "        return \"websearch\"\n",
    "    else: \n",
    "        print(\"===DECISION: GO TO PLANNER===\")\n",
    "        return \"travel_planner\"\n",
    "\n",
    "\n",
    "# Edge: check and decide how to answer\n",
    "def check_and_answer(state: State) -> str:\n",
    "    \"\"\"\n",
    "    Determines whether the planning is coherent and answers question.\n",
    "\n",
    "    Args:\n",
    "        state: The current graph state\n",
    "    Returns:\n",
    "        Next node to call.\n",
    "    \"\"\"\n",
    "    print(\"===CHECK COHERENCY===\")\n",
    "    question = state[\"question\"]\n",
    "    documents = state[\"documents\"]\n",
    "    loop_step = state[\"loop_step\"]\n",
    "    max_retries = state.get(\"max_retries\", 3)\n",
    "    plan = state[\"planner\"]\n",
    "    \n",
    "    coherence_score = coherence_grader.invoke({\n",
    "        \"documents\": format_docs(documents), \n",
    "        \"planner\": plan\n",
    "    })\n",
    "    coherence_grade = coherence_score.coherence\n",
    "    \n",
    "    # Check hallucination\n",
    "    if coherence_grade == \"yes\":\n",
    "        print(\"===DECISION: PLANNER IS COHERENT WITH THE DOCUMENTS===\")\n",
    "        \n",
    "        # Check question-answering\n",
    "        print(\"===EVALUATE PLANNER ANSWER===\")\n",
    "        answer_score = answer_grader.invoke({\n",
    "            \"question\": question,\n",
    "            \"planner\": plan\n",
    "        })\n",
    "        answer_grade = answer_score.evaluation \n",
    "        \n",
    "        if answer_grade == \"yes\":\n",
    "            print(\"===DECISION: PLANNER ADDRESSES QUESTION===\")\n",
    "            return \"useful\"\n",
    "        elif loop_step <= max_retries:\n",
    "            print(\"===DECISION: PLANNER DOES NOT ADDRESS QUESTION===\")\n",
    "            return \"not useful\"\n",
    "        else:\n",
    "            print(\"===DECISION: MAX RETRIES REACHED===\")\n",
    "            return \"max retries\"\n",
    "    elif loop_step <= max_retries:\n",
    "        print(f\"===DECISION: PLANNER IS NOT COHERENT WITH THE DOCUMENTS, RE-TRY===\")\n",
    "        return \"check_coherency\"\n",
    "    else:\n",
    "        print(\"===DECISION: MAX RETRIES REACHED===\")\n",
    "        return \"max retries\"\n"
   ],
   "outputs": [],
   "execution_count": 28
  },
  {
   "metadata": {},
   "cell_type": "markdown",
   "source": "### Build the graph",
   "id": "832bf1194eeb41f8"
  },
  {
   "cell_type": "code",
   "id": "3f6657a62665d40b",
   "metadata": {
    "ExecuteTime": {
     "end_time": "2024-10-27T13:45:12.439724Z",
     "start_time": "2024-10-27T13:45:11.524460Z"
    }
   },
   "source": [
    "# Graph's state\n",
    "workflow = StateGraph(State)\n",
    "\n",
    "# Define the nodes\n",
    "workflow.add_node(node=\"subject\", action=subject)\n",
    "workflow.add_node(node=\"standard_reply\", action=standard_reply)\n",
    "workflow.add_node(node=\"router\", action=router)\n",
    "workflow.add_node(node=\"re_write\", action=rewrite_query)\n",
    "workflow.add_node(node=\"retrieve\", action=retrieve)                 \n",
    "workflow.add_node(node=\"grade_documents\", action=grade_documents)   \n",
    "workflow.add_node(node=\"websearch\", action=web_search)              \n",
    "workflow.add_node(node=\"travel_planner\", action=planner)           \n",
    "\n",
    "# Flow: edges and condition\n",
    "workflow.add_edge(START, \"subject\")\n",
    "workflow.add_conditional_edges(\n",
    "    \"subject\",\n",
    "    route_subject,\n",
    "    {\n",
    "        \"on-topic\": \"re_write\",\n",
    "        \"off-topic\": \"standard_reply\",\n",
    "    }\n",
    ")\n",
    "workflow.add_edge(\"standard_reply\", END)\n",
    "workflow.add_edge(\"re_write\", \"router\")\n",
    "\n",
    "workflow.add_conditional_edges(\n",
    "    \"router\",\n",
    "    route_question,\n",
    "    {\n",
    "        \"websearch\": \"websearch\",\n",
    "        \"vectorstore\": \"retrieve\",\n",
    "    },\n",
    ")\n",
    "\n",
    "workflow.add_edge(\"websearch\", \"travel_planner\")\n",
    "workflow.add_edge(\"retrieve\", \"grade_documents\")\n",
    "\n",
    "workflow.add_conditional_edges(\n",
    "    \"grade_documents\",\n",
    "    decide_to_plan,\n",
    "    {\n",
    "        \"websearch\": \"websearch\",\n",
    "        \"travel_planner\": \"travel_planner\",\n",
    "    },\n",
    ")\n",
    "\n",
    "workflow.add_conditional_edges(\n",
    "    \"travel_planner\",\n",
    "    check_and_answer,\n",
    "    {\n",
    "        \"check_coherency\": \"travel_planner\",\n",
    "        \"useful\": END,\n",
    "        \"not useful\": \"websearch\",\n",
    "        \"max retries\": END,\n",
    "    },\n",
    ")\n",
    "\n",
    "# Compile\n",
    "graph = workflow.compile()\n",
    "# Display the graph\n",
    "display(Image(graph.get_graph().draw_mermaid_png(draw_method=MermaidDrawMethod.API)))\n"
   ],
   "outputs": [
    {
     "data": {
      "image/jpeg": "[encoded data removed]",
      "text/plain": [
       "<IPython.core.display.Image object>"
      ]
     },
     "metadata": {},
     "output_type": "display_data"
    }
   ],
   "execution_count": 29
  },
  {
   "metadata": {
    "ExecuteTime": {
     "end_time": "2024-10-25T15:01:23.516421Z",
     "start_time": "2024-10-25T15:00:55.934939Z"
    }
   },
   "cell_type": "code",
   "source": [
    "# Test Graph: RAG\n",
    "answer = graph.invoke({\n",
    "    \"question\":\"Hi, I'd like to plan a vacation in Italy, in the Sardinia region. What do you suggest me?\"\n",
    "})[\"planner\"]\n",
    "\n",
    "print(f\"\\nTravel Planner:\\n{answer}\")\n"
   ],
   "id": "2e523374ed1af5d1",
   "outputs": [
    {
     "name": "stdout",
     "output_type": "stream",
     "text": [
      "---ESTABLISH SUBJECT---\n",
      "===SUBJECT: TRAVEL===\n",
      "---RE-WRITE QUESTION---\n",
      "---ESTABLISH ROUTE---\n",
      "===ROUTE: RAG===\n",
      "---RETRIEVE DOCS---\n",
      "---CHECK DOCUMENT RELEVANCE---\n",
      "---DOCUMENT RELEVANCE---\n",
      "---DOCUMENT RELEVANCE---\n",
      "---DOCUMENT RELEVANCE---\n",
      "---DOCUMENT RELEVANCE---\n",
      "---DOCUMENT RELEVANCE---\n",
      "===EVALUATE DOCUMENTS===\n",
      "===DECISION: GO TO PLANNER===\n",
      "---PLANNER---\n",
      "===CHECK COHERENCY===\n",
      "===DECISION: PLANNER IS COHERENT WITH THE DOCUMENTS===\n",
      "===EVALUATE PLANNER ANSWER===\n",
      "===DECISION: PLANNER ADDRESSES QUESTION===\n",
      "\n",
      "Travel Planner:\n",
      "Sardinia is a beautiful island in the Mediterranean Sea, known for its stunning beaches, crystal-clear waters, and rich history and culture. Here are some suggestions for your vacation:\n",
      "\n",
      "**Must-see destinations:**\n",
      "\n",
      "1. **Costa Smeralda**: A picturesque coastline with turquoise waters and white-sand beaches.\n",
      "2. **Cagliari**: The capital city of Sardinia, known for its historic center, Roman amphitheater, and stunning cathedral.\n",
      "3. **Alghero**: A charming coastal town with a beautiful old town and a stunning beach.\n",
      "4. **Chia**: A popular beach resort town on the south coast, known for its crystal-clear waters and scenic hiking trails.\n",
      "\n",
      "**Beach activities:**\n",
      "\n",
      "1. **Snorkeling and diving**: Explore the island's incredible marine life and coral reefs.\n",
      "2. **Surfing and windsurfing**: Take advantage of Sardinia's consistent winds and waves.\n",
      "3. **Beach relaxation**: Enjoy the sun, sand, and sea at one of the many beautiful beaches.\n",
      "\n",
      "**Cultural experiences:**\n",
      "\n",
      "1. **Visit ancient ruins**: Explore the island's rich history at sites like Tharros, Nora, and Su Nuraxi di Barumini.\n",
      "2. **Wine tasting**: Sample Sardinia's famous Cannonau wine and learn about the island's wine production.\n",
      "3. **Traditional cuisine**: Try local specialties like suckling pig, seafood risotto, and seada (fried dough balls).\n",
      "\n",
      "**Outdoor activities:**\n",
      "\n",
      "1. **Hiking and trekking**: Explore the island's scenic trails and enjoy breathtaking views.\n",
      "2. **Cycling**: Rent a bike and ride through the countryside or along the coast.\n",
      "3. **Kayaking and paddleboarding**: Paddle through the crystal-clear waters and explore the coastline.\n",
      "\n",
      "**Accommodation:**\n",
      "\n",
      "1. **Luxury resorts**: Choose from high-end hotels and resorts in popular destinations like Costa Smeralda and Alghero.\n",
      "2. **B&Bs and agriturismos**: Experience local hospitality at family-run B&Bs or farm stays.\n",
      "3. **Self-catering apartments**: Rent a self-catering apartment or villa for a more independent stay.\n",
      "\n",
      "**Tips:**\n",
      "\n",
      "1. **Best time to visit**: June to September for warm weather, or April to May and September to October for milder temperatures.\n",
      "2. **Getting around**: Rent a car or use public transportation to explore the island.\n",
      "3. **Language**: Italian is the official language, but many locals speak Sardinian and English.\n",
      "\n",
      "I hope these suggestions help you plan an unforgettable vacation in Sardinia!\n"
     ]
    }
   ],
   "execution_count": 78
  },
  {
   "metadata": {
    "ExecuteTime": {
     "end_time": "2024-10-27T13:47:35.739237Z",
     "start_time": "2024-10-27T13:47:01.224870Z"
    }
   },
   "cell_type": "code",
   "source": [
    "# Test Graph: RAG\n",
    "answer = graph.invoke({\n",
    "    \"question\":\"Hi, can you help me define an itinerary in the city of Verona?\"\n",
    "})[\"planner\"]\n",
    "\n",
    "print(f\"\\nTravel Planner:\\n{answer}\")\n"
   ],
   "id": "9a98ed4c328d9e66",
   "outputs": [
    {
     "name": "stdout",
     "output_type": "stream",
     "text": [
      "---ESTABLISH SUBJECT---\n",
      "===SUBJECT: TRAVEL===\n",
      "---RE-WRITE QUESTION---\n",
      "---ESTABLISH ROUTE---\n",
      "===ROUTE: RAG===\n",
      "---RETRIEVE DOCS---\n",
      "---CHECK DOCUMENT RELEVANCE---\n",
      "---DOCUMENT RELEVANCE---\n",
      "---DOCUMENT NOT RELEVANCE---\n",
      "---DOCUMENT RELEVANCE---\n",
      "---DOCUMENT RELEVANCE---\n",
      "---DOCUMENT NOT RELEVANCE---\n",
      "===EVALUATE DOCUMENTS===\n",
      "===DECISION: GO TO PLANNER===\n",
      "---PLANNER---\n",
      "===CHECK COHERENCY===\n",
      "===DECISION: PLANNER IS COHERENT WITH THE DOCUMENTS===\n",
      "===EVALUATE PLANNER ANSWER===\n",
      "===DECISION: PLANNER ADDRESSES QUESTION===\n",
      "\n",
      "Travel Planner:\n",
      "Hello! I'm so excited to help you plan your trip to Verona, one of the most romantic cities in Italy. You'll love visiting this beautiful city, steeped in history and culture.\n",
      "\n",
      "Verona is famous for being the setting of Shakespeare's Romeo and Juliet, and it's easy to see why - the city's stunning architecture, picturesque streets, and charming piazzas all come together to create a magical atmosphere. Here's a suggested 2-day itinerary to help you make the most of your time in Verona:\n",
      "\n",
      "Day 1:\n",
      "You'll love visiting the iconic Casa di Giulietta (Juliet's House), where legend has it that Juliet Capulet threw herself off the balcony and into the arms of Romeo. The house is now a museum, but it's still possible to see the famous balcony where the tragic lovers shared their final moments together.\n",
      "\n",
      "Next, head to the Piazza delle Erbe, one of Verona's most beautiful squares, surrounded by cafes, shops, and stunning architecture. Be sure to try some local specialties like risotto alla veronese or polenta e osei (polenta with roasted game birds) at one of the many restaurants in the area.\n",
      "\n",
      "In the afternoon, visit the Arena di Verona, a magnificent ancient amphitheater that hosts concerts and opera performances during the summer months. Even if there's no show scheduled, it's still worth exploring the arena and taking in its grandeur.\n",
      "\n",
      "Day 2:\n",
      "Start your day with a visit to the Castelvecchio, a medieval fortress that now houses a museum featuring an impressive collection of art and artifacts from Verona's history. Be sure to explore the charming streets and alleys surrounding the castle, which are lined with beautiful shops and cafes.\n",
      "\n",
      "Next, head to the Adige River and take a romantic stroll along its banks. You can also rent a boat and enjoy a relaxing cruise on the river, taking in the city's stunning views from a different perspective.\n",
      "\n",
      "Finally, end your day with a visit to the Piazza Bra, where you'll find the famous Torre dei Lamberti (Lamberti Tower), which offers breathtaking views of the city. It's the perfect spot to watch the sunset and reflect on an amazing day in Verona.\n",
      "\n",
      "Tips for travelers:\n",
      "\n",
      "* Don't forget to bring comfortable shoes, as you'll be doing a lot of walking throughout your trip.\n",
      "* Be sure to try some local wine, like Valpolicella or Soave, which are both produced in the nearby regions.\n",
      "* If you're visiting during the summer months, be sure to book tickets for the Arena di Verona and other popular attractions in advance.\n",
      "\n",
      "I hope you have an amazing time in Verona! Safe travels!\n"
     ]
    }
   ],
   "execution_count": 31
  },
  {
   "metadata": {
    "ExecuteTime": {
     "end_time": "2024-10-25T14:48:42.204564Z",
     "start_time": "2024-10-25T14:48:01.343675Z"
    }
   },
   "cell_type": "code",
   "source": [
    "# Test Graph: RAG\n",
    "answer = graph.invoke({\n",
    "    \"question\":\"What are the must-visit historical landmarks in Tuscany, and how can I plan a week-long trip around them?\",\n",
    "})[\"planner\"]\n",
    "\n",
    "print(f\"\\nTravel Planner:\\n{answer}\")"
   ],
   "id": "380044f2d31afa25",
   "outputs": [
    {
     "name": "stdout",
     "output_type": "stream",
     "text": [
      "---ESTABLISH SUBJECT---\n",
      "===SUBJECT: TRAVEL===\n",
      "---RE-WRITE QUESTION---\n",
      "---ESTABLISH ROUTE---\n",
      "===ROUTE: RAG===\n",
      "---RETRIEVE DOCS---\n",
      "---CHECK DOCUMENT RELEVANCE---\n",
      "---DOCUMENT RELEVANCE---\n",
      "---DOCUMENT RELEVANCE---\n",
      "---DOCUMENT NOT RELEVANCE---\n",
      "---DOCUMENT NOT RELEVANCE---\n",
      "---DOCUMENT RELEVANCE---\n",
      "===EVALUATE DOCUMENTS===\n",
      "===DECISION: GO TO PLANNER===\n",
      "---PLANNER---\n",
      "===CHECK COHERENCY===\n",
      "===DECISION: PLANNER IS COHERENT WITH THE DOCUMENTS===\n",
      "===EVALUATE PLANNER ANSWER===\n",
      "===DECISION: PLANNER ADDRESSES QUESTION===\n",
      "\n",
      "Travel Planner:\n",
      "Tuscany, Italy is known for its rich history, art, architecture, and natural beauty. Here's a suggested 7-day itinerary for visiting the top historical attractions in Tuscany:\n",
      "\n",
      "Day 1: Florence\n",
      "\n",
      "* Start your journey in Florence, the birthplace of the Renaissance.\n",
      "* Visit the Uffizi Gallery (Galleria degli Uffizi), which houses some of the world's most famous paintings, including Botticelli's \"The Birth of Venus.\"\n",
      "* Explore the Duomo Complex, which includes the Cathedral of Santa Maria del Fiore, the Baptistery of St. John, and Giotto's Campanile.\n",
      "* Walk across the Ponte Vecchio, a medieval stone bridge lined with shops and boutiques.\n",
      "\n",
      "Day 2: Florence\n",
      "\n",
      "* Visit the Accademia Gallery (Galleria dell'Accademia) to see Michelangelo's famous sculpture, David.\n",
      "* Explore the Pitti Palace (Palazzo Pitti), which was once the residence of the Medici family.\n",
      "* Visit the Boboli Gardens (Giardino di Boboli), a beautiful park with stunning views of Florence.\n",
      "\n",
      "Day 3: Siena\n",
      "\n",
      "* Drive to Siena (approximately 2 hours) and explore this charming medieval town.\n",
      "* Visit the Piazza del Campo, which is one of the most beautiful squares in Italy.\n",
      "* Explore the Siena Cathedral (Duomo di Siena), a stunning example of Gothic architecture.\n",
      "* Walk through the narrow streets of the historic center and visit the Palazzo Pubblico.\n",
      "\n",
      "Day 4: San Gimignano\n",
      "\n",
      "* Drive to San Gimignano (approximately 1 hour) and explore this walled medieval town.\n",
      "* Visit the San Gimignano Cathedral (Duomo di San Gimignano), which offers stunning views of the surrounding countryside.\n",
      "* Explore the narrow streets and alleys of the historic center, lined with medieval towers and shops.\n",
      "\n",
      "Day 5: Pisa\n",
      "\n",
      "* Drive to Pisa (approximately 2.5 hours) and visit the famous Leaning Tower (Torre Pendente).\n",
      "* Explore the Piazza dei Miracoli, a UNESCO World Heritage Site that includes the Cathedral of Santa Maria Assunta, the Baptistery of St. John, and the Cemetery of St. Martin.\n",
      "* Visit the Pisa Cathedral Museum to learn more about the history and architecture of the tower.\n",
      "\n",
      "Day 6: Volterra\n",
      "\n",
      "* Drive to Volterra (approximately 1 hour) and explore this charming Etruscan town.\n",
      "* Visit the Volterra Cathedral (Duomo di Volterra), which dates back to the 12th century.\n",
      "* Explore the narrow streets and alleys of the historic center, lined with medieval towers and shops.\n",
      "\n",
      "Day 7: Return to Florence\n",
      "\n",
      "* Drive back to Florence (approximately 2 hours) and spend the day exploring any attractions you may have missed on Day 1 or revisiting your favorite sites.\n",
      "\n",
      "Additional tips:\n",
      "\n",
      "* Consider renting a car or hiring a driver for the day to explore Tuscany's countryside and rural towns.\n",
      "* Be sure to try some of Tuscany's famous food and wine, including Chianti wine and ribollita soup.\n",
      "* Don't forget to take time to relax and enjoy the beautiful scenery and charming towns that Tuscany has to offer.\n",
      "\n",
      "This itinerary provides a good balance of history, art, architecture, and natural beauty, but feel free to customize it based on your interests and preferences.\n"
     ]
    }
   ],
   "execution_count": 41
  },
  {
   "metadata": {
    "ExecuteTime": {
     "end_time": "2024-10-25T14:50:38.325165Z",
     "start_time": "2024-10-25T14:49:53.485805Z"
    }
   },
   "cell_type": "code",
   "source": [
    "# Test Graph: RAG -> WebSearch\n",
    "answer = graph.invoke({\n",
    "    \"question\":\"What are the best hiking trails in the Dolomites, and how should I prepare for a trip in South Tyrol?\",\n",
    "})[\"planner\"]\n",
    "\n",
    "print(f\"\\nTravel Planner:\\n{answer}\")"
   ],
   "id": "2a2c209314122fec",
   "outputs": [
    {
     "name": "stdout",
     "output_type": "stream",
     "text": [
      "---ESTABLISH SUBJECT---\n",
      "===SUBJECT: TRAVEL===\n",
      "---RE-WRITE QUESTION---\n",
      "---ESTABLISH ROUTE---\n",
      "===ROUTE: RAG===\n",
      "---RETRIEVE DOCS---\n",
      "---CHECK DOCUMENT RELEVANCE---\n",
      "---DOCUMENT RELEVANCE---\n",
      "---DOCUMENT RELEVANCE---\n",
      "---DOCUMENT NOT RELEVANCE---\n",
      "---DOCUMENT NOT RELEVANCE---\n",
      "---DOCUMENT NOT RELEVANCE---\n",
      "===EVALUATE DOCUMENTS===\n",
      "===DECISION: GO TO WEB-SEARCH===\n",
      "---WEB-SEARCH---\n",
      "---PLANNER---\n",
      "===CHECK COHERENCY===\n",
      "===DECISION: PLANNER IS COHERENT WITH THE DOCUMENTS===\n",
      "===EVALUATE PLANNER ANSWER===\n",
      "===DECISION: PLANNER ADDRESSES QUESTION===\n",
      "\n",
      "Travel Planner:\n",
      "Hello! I'm so excited to help you plan your adventure in the breathtaking Dolomites and South Tyrol!\n",
      "\n",
      "The Dolomites are a UNESCO World Heritage Site, and for good reason - these mountains offer some of the most stunning scenery on the planet. With over 1,500 square kilometers of protected area, there's no shortage of hiking trails to explore. Let me tell you about some of my favorites!\n",
      "\n",
      "**Must-see Hiking Trails:**\n",
      "\n",
      "1. **Tre Cime di Lavaredo**: This iconic trio of peaks is a must-visit for any hiker. The trail takes you through a stunning valley surrounded by towering mountains, and the views from the top are simply breathtaking.\n",
      "2. **Seceda**: Located in the heart of the Dolomites, Seceda offers some of the most spectacular views in the region. The trail winds its way up to the summit, where you can enjoy panoramic views of the surrounding mountains.\n",
      "3. **Lago di Sorapis**: This picturesque lake is nestled in a stunning valley surrounded by towering peaks. The trail takes you around the lake, offering breathtaking views and opportunities to spot local wildlife.\n",
      "4. **Croda da Lago**: For a more challenging hike, try Croda da Lago! This trail takes you up to the summit of a towering peak, where you can enjoy spectacular views of the surrounding mountains.\n",
      "\n",
      "**Recommended Itineraries:**\n",
      "\n",
      "If you have 3 days, I recommend starting with Tre Cime di Lavaredo. From there, head to Seceda for another day of hiking and exploring. On your final day, try Lago di Sorapis or Croda da Lago for a truly unforgettable experience.\n",
      "\n",
      "For a week-long trip, here's how you could plan each day:\n",
      "\n",
      "Day 1: Arrival in Bolzano and exploration of the city\n",
      "Day 2: Tre Cime di Lavaredo hike\n",
      "Day 3: Seceda hike\n",
      "Day 4: Rest day or explore the town of Cortina d'Ampezzo\n",
      "Day 5: Lago di Sorapis hike\n",
      "Day 6: Croda da Lago hike\n",
      "Day 7: Return to Bolzano and departure\n",
      "\n",
      "**Local Cuisine:**\n",
      "\n",
      "You can't leave South Tyrol without trying some of the local specialties! Be sure to try:\n",
      "\n",
      "* **Goulash**: A hearty beef stew that's perfect for warming up on a chilly mountain day.\n",
      "* **Kaiserschmarrn**: A sweet dessert made from shredded pancake, raisins, and powdered sugar - it's a local favorite!\n",
      "* **Braunriegel**: A type of cured meat that's perfect for snacking on the go.\n",
      "\n",
      "**Tips for Travelers:**\n",
      "\n",
      "Don't forget to bring:\n",
      "\n",
      "* Sturdy hiking boots or shoes with good grip\n",
      "* Comfortable clothing and layers for changing weather conditions\n",
      "* Sunscreen, a hat, and sunglasses for sun protection\n",
      "* Water and snacks for energy boosts along the way\n",
      "\n",
      "It's also always good to know that some trails may be closed due to weather conditions or maintenance. Be sure to check with local authorities or hiking guides before setting out on your adventure.\n",
      "\n",
      "I hope you have an amazing time exploring the Dolomites and South Tyrol! Safe travels, and don't hesitate to reach out if you need any more recommendations or advice.\n"
     ]
    }
   ],
   "execution_count": 42
  },
  {
   "metadata": {
    "ExecuteTime": {
     "end_time": "2024-10-25T14:52:31.912012Z",
     "start_time": "2024-10-25T14:51:57.832832Z"
    }
   },
   "cell_type": "code",
   "source": [
    "# Test Graph: RAG\n",
    "answer = graph.invoke({\n",
    "    \"question\":\"How can I plan an itinerary through Umbria to experience its medieval towns and wine tours?\",\n",
    "})[\"planner\"]\n",
    "\n",
    "print(f\"\\nTravel Planner:\\n{answer}\") \n",
    "    \n",
    "    "
   ],
   "id": "ae457254f1c2afbc",
   "outputs": [
    {
     "name": "stdout",
     "output_type": "stream",
     "text": [
      "---ESTABLISH SUBJECT---\n",
      "===SUBJECT: TRAVEL===\n",
      "---RE-WRITE QUESTION---\n",
      "---ESTABLISH ROUTE---\n",
      "===ROUTE: RAG===\n",
      "---RETRIEVE DOCS---\n",
      "---CHECK DOCUMENT RELEVANCE---\n",
      "---DOCUMENT RELEVANCE---\n",
      "---DOCUMENT RELEVANCE---\n",
      "---DOCUMENT RELEVANCE---\n",
      "---DOCUMENT RELEVANCE---\n",
      "---DOCUMENT RELEVANCE---\n",
      "===EVALUATE DOCUMENTS===\n",
      "===DECISION: GO TO PLANNER===\n",
      "---PLANNER---\n",
      "===CHECK COHERENCY===\n",
      "===DECISION: PLANNER IS COHERENT WITH THE DOCUMENTS===\n",
      "===EVALUATE PLANNER ANSWER===\n",
      "===DECISION: PLANNER ADDRESSES QUESTION===\n",
      "\n",
      "Travel Planner:\n",
      "Umbria is a beautiful region in central Italy known for its rolling hills, charming medieval towns, and excellent wines. Here's a suggested 7-day itinerary for you:\n",
      "\n",
      "Day 1: Arrival in Perugia\n",
      "\n",
      "* Arrive in Perugia, the capital city of Umbria\n",
      "* Explore the historic center, including the Piazza IV Novembre and the Palazzo dei Priori\n",
      "* Visit the Perugina chocolate factory to learn about the famous Bacio chocolates\n",
      "* Overnight in Perugia\n",
      "\n",
      "Day 2: Spoleto and Wine Tasting\n",
      "\n",
      "* Drive to Spoleto (about 1 hour), a medieval town perched on a hilltop\n",
      "* Explore the historic center, including the Piazza del Duomo and the Cathedral of Santa Maria Assunta\n",
      "* Visit a local winery for a wine tasting and lunch (e.g., Castello di Meleto or Fattoria San Giusto a Rentennano)\n",
      "* Overnight in Spoleto\n",
      "\n",
      "Day 3: Assisi and Wine Tasting\n",
      "\n",
      "* Drive to Assisi (about 1.5 hours), a charming hilltop town famous for its connections to Saint Francis\n",
      "* Explore the historic center, including the Piazza del Popolo and the Basilica of San Francesco\n",
      "* Visit a local winery for a wine tasting and lunch (e.g., Fattoria Colle San Giusto or Castello di Montefalco)\n",
      "* Overnight in Assisi\n",
      "\n",
      "Day 4: Spoleto to Todi\n",
      "\n",
      "* Drive to Todi (about 1 hour), another medieval town with stunning views of the Umbrian countryside\n",
      "* Explore the historic center, including the Piazza del Popolo and the Cathedral of Santa Maria Maggiore\n",
      "* Visit a local winery for a wine tasting and lunch (e.g., Fattoria San Giusto a Rentennano or Castello di Montefalco)\n",
      "* Overnight in Todi\n",
      "\n",
      "Day 5: Spoleto to Orvieto\n",
      "\n",
      "* Drive to Orvieto (about 1.5 hours), a charming hilltop town famous for its stunning cathedral and wine production\n",
      "* Explore the historic center, including the Piazza del Popolo and the Cathedral of Santa Maria Assunta\n",
      "* Visit a local winery for a wine tasting and lunch (e.g., Fattoria San Giusto a Rentennano or Castello di Montefalco)\n",
      "* Overnight in Orvieto\n",
      "\n",
      "Day 6: Wine Tasting and Relaxation\n",
      "\n",
      "* Spend the day relaxing at your accommodation or exploring the surrounding countryside\n",
      "* Visit a local winery for a wine tasting and lunch (e.g., Fattoria Colle San Giusto or Castello di Montefalco)\n",
      "* Enjoy a leisurely dinner at a local trattoria\n",
      "\n",
      "Day 7: Departure from Perugia\n",
      "\n",
      "* Drive back to Perugia (about 1.5 hours) for your departure flight\n",
      "\n",
      "This itinerary provides a good balance of medieval towns, wine tastings, and relaxation time. However, feel free to adjust it according to your interests and preferences.\n",
      "\n",
      "Some additional tips:\n",
      "\n",
      "* Umbria is known for its excellent wines, particularly Sagrantino di Montefalco and Grechetto.\n",
      "* Be sure to try some local specialties, such as truffles, prosciutto, and pecorino cheese.\n",
      "* Consider renting a car or booking a guided tour to make the most of your time in Umbria.\n",
      "* Don't forget to bring comfortable shoes and sun protection for exploring the medieval towns.\n",
      "\n",
      "I hope you enjoy your trip to Umbria!\n"
     ]
    }
   ],
   "execution_count": 43
  },
  {
   "metadata": {
    "ExecuteTime": {
     "end_time": "2024-10-24T15:52:40.913726Z",
     "start_time": "2024-10-24T15:52:09.377119Z"
    }
   },
   "cell_type": "code",
   "source": [
    "# Test Graph: WebSearch\n",
    "answer = graph.invoke({\n",
    "    \"question\":\"What kind of food I can eat while visiting Paris?\"\n",
    "})[\"planner\"]\n",
    "\n",
    "print(f\"\\nTravel Planner:\\n{answer}\")\n"
   ],
   "id": "2bd35c6635b67d2f",
   "outputs": [
    {
     "name": "stdout",
     "output_type": "stream",
     "text": [
      "---ESTABLISH SUBJECT---\n",
      "===SUBJECT: TRAVEL===\n",
      "---RE-WRITE QUESTION---\n",
      "---ESTABLISH ROUTE---\n",
      "===ROUTE: WEB SEARCH===\n",
      "---WEB-SEARCH---\n",
      "---PLANNER---\n",
      "===CHECK COHERENCY===\n",
      "===DECISION: PLANNER IS COHERENT WITH THE DOCUMENTS===\n",
      "===EVALUATE PLANNER ANSWER===\n",
      "===DECISION: PLANNER ADDRESSES QUESTION===\n",
      "\n",
      "Travel Planner:\n",
      "Hello! I'm so excited to talk about the food scene in Paris, one of my favorite cities in the world. You'll be delighted to know that French cuisine is renowned for its rich flavors, intricate preparations, and exquisite presentation. When it comes to eating in Paris, you're spoiled for choice with a diverse range of delicious options.\n",
      "\n",
      "First of all, let's start with some classic French dishes that are absolute must-tries when visiting the city. You'll love trying a traditional Croque Monsieur or Madame, which is essentially a grilled ham and cheese sandwich that's perfect for breakfast, lunch, or dinner. These sandwiches are made to perfection, and I just can't recommend them enough! If you want to try one at its best, head to Faste, where the chef puts his own twist on this beloved dish.\n",
      "\n",
      "Next up, let's talk about French pastries – oh, how I adore them! Flaky, buttery croissants are a staple in Parisian bakeries, and you'll find them served with sweet or savory toppings. If you want to start your day off right, head to a boulangerie (that's French for bakery) and indulge in one of these delicious treats.\n",
      "\n",
      "Now, if you're looking for something truly decadent, look no further than the Baba au Rhum at Stohrer, a historic patisserie that's been serving this iconic dessert since 1730! It's essentially a rich, creamy custard cake soaked in rum and topped with caramelized sugar – it's fit for kings (or queens, of course!).\n",
      "\n",
      "Of course, no trip to Paris would be complete without trying some profiteroles, which are essentially cream-filled choux pastry balls. You'll find them at bakeries like Profiterole Cherie, where the chef creates an array of unique flavors and fillings that will leave you wanting more.\n",
      "\n",
      "And then there's the infamous frog legs – a delicacy in France that might sound intimidating to some, but trust me, they're absolutely divine when prepared correctly. If you want to try them at their best, head to Sacre Fleur, where the chef serves up crispy, flavorful frog legs that are sure to impress.\n",
      "\n",
      "Last but not least, let's talk about some of the other delicious foods you can find in Paris. From onion soup to hot chocolate, there's no shortage of tasty options to try. And don't even get me started on the cheese – oh, the glorious cheese! You'll find an incredible variety of artisanal cheeses at every market and shop throughout the city.\n",
      "\n",
      "So, my friend, I hope this gives you a taste (pun intended!) of what Paris has to offer when it comes to food. With so many delicious options to try, you're sure to leave with full belly and happy heart. Bon appétit!\n",
      "\n",
      "I hope you have an amazing time! Safe travels!\n"
     ]
    }
   ],
   "execution_count": 56
  },
  {
   "metadata": {
    "ExecuteTime": {
     "end_time": "2024-10-24T15:53:35.724198Z",
     "start_time": "2024-10-24T15:52:46.390748Z"
    }
   },
   "cell_type": "code",
   "source": [
    "# Test Graph: WebSearch\n",
    "answer = graph.invoke({\n",
    "    \"question\":\"What are the top tourist attractions to explore in Kyoto, Japan, during the cherry blossom season?\"\n",
    "})[\"planner\"]\n",
    "\n",
    "print(f\"\\nTravel Planner:\\n{answer}\")\n"
   ],
   "id": "273a7a4c867d37e9",
   "outputs": [
    {
     "name": "stdout",
     "output_type": "stream",
     "text": [
      "---ESTABLISH SUBJECT---\n",
      "===SUBJECT: TRAVEL===\n",
      "---RE-WRITE QUESTION---\n",
      "---ESTABLISH ROUTE---\n",
      "===ROUTE: RAG===\n",
      "---RETRIEVE DOCS---\n",
      "---CHECK DOCUMENT RELEVANCE---\n",
      "---DOCUMENT NOT RELEVANCE---\n",
      "---DOCUMENT NOT RELEVANCE---\n",
      "---DOCUMENT NOT RELEVANCE---\n",
      "---DOCUMENT NOT RELEVANCE---\n",
      "---DOCUMENT NOT RELEVANCE---\n",
      "===EVALUATE DOCUMENTS===\n",
      "===DECISION: GO TO WEB-SEARCH===\n",
      "---WEB-SEARCH---\n",
      "---PLANNER---\n",
      "===CHECK COHERENCY===\n",
      "===DECISION: PLANNER IS COHERENT WITH THE DOCUMENTS===\n",
      "===EVALUATE PLANNER ANSWER===\n",
      "===DECISION: PLANNER ADDRESSES QUESTION===\n",
      "\n",
      "Travel Planner:\n",
      "Hello! I'm so excited to help you plan your trip to Kyoto, Japan during the breathtaking cherry blossom season. This is one of my favorite times of year to visit this beautiful city, and I just know you'll fall in love with it too!\n",
      "\n",
      "When it comes to top tourist attractions in Kyoto during peak sakura season (usually around March 27 to April 3), there are so many incredible spots to explore. Let me tell you about some of my favorites.\n",
      "\n",
      "First up, we have the iconic **Maruyama Park**. This park is a must-visit for any cherry blossom enthusiast, and it's especially stunning during peak season. The park's tranquil atmosphere, beautiful gardens, and vibrant pink blooms make it the perfect spot to relax and take in the beauty of nature. You'll love visiting Maruyama Park early in the morning or late in the afternoon when the sun is shining, casting a warm glow over the blossoms.\n",
      "\n",
      "Next, I highly recommend **Philosopher's Path**. This scenic walking path is lined with hundreds of cherry blossom trees, creating a stunning canopy of pink and white blooms. The path itself is also steeped in history and culture, as it was originally built by a philosopher named Musō Soseki in the 19th century. Take your time strolling along the path, and don't be afraid to stop and take photos – you'll want to capture every moment of this unforgettable experience!\n",
      "\n",
      "Another must-see attraction is **Kiyomizu-dera Temple**, one of Kyoto's most famous landmarks. This UNESCO World Heritage site is perched on a hill overlooking the city, offering breathtaking views of the surrounding landscape. During cherry blossom season, the temple's grounds are particularly stunning, with thousands of trees blooming in every direction. Be sure to visit early in the morning or late in the afternoon to avoid the crowds and make the most of your time.\n",
      "\n",
      "If you're looking for a more unique experience, I recommend visiting **Arashiyama Bamboo Grove**. While not exclusively a cherry blossom destination, this serene bamboo forest is especially beautiful during peak season. The towering bamboo stalks create a stunning backdrop against which the pink blossoms will bloom, creating an unforgettable visual effect.\n",
      "\n",
      "For a truly immersive experience, consider taking a guided tour of Kyoto's famous **Gion District**, where you can explore traditional Japanese architecture, sample local cuisine, and even catch a glimpse of geisha culture. During cherry blossom season, Gion is especially vibrant, with many shops and restaurants offering special sakura-themed treats.\n",
      "\n",
      "Now, let's talk about some recommended itineraries to help you make the most of your time in Kyoto during peak cherry blossom season. If you have 3 days, I recommend starting with a visit to Maruyama Park and Philosopher's Path on day one, followed by a stroll through Gion District on day two. On day three, head to Kiyomizu-dera Temple and Arashiyama Bamboo Grove for an unforgettable finale.\n",
      "\n",
      "For a week-long trip, here's how you could plan each day:\n",
      "\n",
      "Day 1: Explore Maruyama Park, Philosopher's Path, and Gion District\n",
      "\n",
      "Day 2: Visit Kiyomizu-dera Temple and stroll through the nearby **Nishiki Market**, which offers a wide range of local specialties and souvenirs.\n",
      "\n",
      "Day 3: Head to Arashiyama Bamboo Grove and enjoy a relaxing afternoon in this serene forest. In the evening, head back to Gion District for dinner and entertainment.\n",
      "\n",
      "Day 4: Visit the **Fushimi Inari Shrine**, famous for its thousands of vermilion torii gates that form a stunning tunnel up the mountain. During cherry blossom season, the shrine is especially beautiful, with many trees blooming in every direction.\n",
      "\n",
      "Day 5: Take a day trip to **Nara**, a city located just outside Kyoto that's home to some of Japan's most famous temples and landmarks, including the Todai-ji Temple and Nara Park.\n",
      "\n",
      "Day 6: Return to Kyoto and explore the **Kinkaku-ji Temple** (Golden Pavilion), which is especially stunning during cherry blossom season. Be sure to visit early in the morning or late in the afternoon to avoid the crowds.\n",
      "\n",
      "Day 7: Spend your final day exploring any last-minute attractions, shopping for souvenirs, or simply relaxing in a local park or garden.\n",
      "\n",
      "Now, let's talk about some delicious local cuisine you won't want to miss during your trip. Be sure to try some traditional Japanese dishes like **yakitori** (grilled chicken skewers), **kaiseki** (multi-course meal featuring seasonal ingredients), and **matcha** (green tea) ice cream.\n",
      "\n",
      "Finally, here are a few tips for travelers:\n",
      "\n",
      "* Don't forget to bring comfortable walking shoes and layers for cooler mornings and evenings.\n",
      "* Be prepared for crowds and long lines at popular attractions – consider visiting early in the morning or late in the afternoon to avoid the chaos.\n",
      "* Try to visit some of Kyoto's lesser-known temples and gardens, which are often less crowded than the more famous landmarks.\n",
      "\n",
      "I hope you have an amazing time exploring Kyoto during cherry blossom season! Safe travels\n"
     ]
    }
   ],
   "execution_count": 57
  },
  {
   "metadata": {
    "ExecuteTime": {
     "end_time": "2024-10-24T15:54:19.575308Z",
     "start_time": "2024-10-24T15:53:43.595739Z"
    }
   },
   "cell_type": "code",
   "source": [
    "# Test Graph: WebSearch\n",
    "answer = graph.invoke({\n",
    "    \"question\":\"Which cities in New Zealand offer the best adventure activities, from bungee jumping to glacier hikes?\"\n",
    "})[\"planner\"]\n",
    "\n",
    "print(f\"\\nTravel Planner:\\n{answer}\")"
   ],
   "id": "a030c35d0fd38ed3",
   "outputs": [
    {
     "name": "stdout",
     "output_type": "stream",
     "text": [
      "---ESTABLISH SUBJECT---\n",
      "===SUBJECT: TRAVEL===\n",
      "---RE-WRITE QUESTION---\n",
      "---ESTABLISH ROUTE---\n",
      "===ROUTE: WEB SEARCH===\n",
      "---WEB-SEARCH---\n",
      "---PLANNER---\n",
      "===CHECK COHERENCY===\n",
      "===DECISION: PLANNER IS COHERENT WITH THE DOCUMENTS===\n",
      "===EVALUATE PLANNER ANSWER===\n",
      "===DECISION: PLANNER ADDRESSES QUESTION===\n",
      "\n",
      "Travel Planner:\n",
      "Hello there, fellow travel enthusiast! I'm so excited to help you plan your next adventure in New Zealand. You're looking for some of the best cities to experience thrilling activities like bungee jumping and glacier hiking, right?\n",
      "\n",
      "Well, let me tell you, Queenstown is often referred to as the adventure capital of the world, and for good reason! It's a paradise for thrill-seekers and outdoor enthusiasts. You'll find plenty of opportunities for bungee jumping, skydiving, white-water rafting, and more. The stunning scenery and breathtaking views make it an absolute must-visit destination.\n",
      "\n",
      "One of the most iconic activities in Queenstown is bungee jumping off the Kawarau Bridge, which is indeed the highest commercial bungee jump in the world! You'll feel like you're flying as you take the leap of faith from 43 meters above the river. And if that's not enough, there are plenty of other adventure activities to choose from, such as hiking, mountain biking, and paragliding.\n",
      "\n",
      "Now, I know what you're thinking: \"What about Wanaka?\" Ah, my friend, Wanaka is a close second when it comes to adventure capital status. While Queenstown might have the quantity of activities, Wanaka has the quality and scenery on its side. You'll find plenty of opportunities for hiking, skiing, and snowboarding in the winter months, as well as stunning views of Lake Wanaka and the surrounding mountains.\n",
      "\n",
      "If you're looking for a more unique adventure experience, Glacier Country is definitely worth considering. Heli-hiking on glaciers like Fox or Franz Josef is an unforgettable experience that will leave you breathless (pun intended!). You'll get to explore the breathtaking landscapes and witness the stunning beauty of these natural wonders up close.\n",
      "\n",
      "Now, let's talk about itineraries! If you have 3 days in Queenstown, I recommend starting with a bungee jumping session off the Kawarau Bridge. Then, spend the next day exploring the scenic trails of the Ben Lomond Reserve or taking a hike to the top of Bob's Peak for panoramic views of the town and surrounding mountains.\n",
      "\n",
      "For a week-long trip, here's how you could plan each day:\n",
      "\n",
      "Day 1: Arrival in Queenstown, explore the town, and take a sunset cruise on Lake Wakatipu.\n",
      "Day 2: Bungee jumping off the Kawarau Bridge, followed by a hike to the top of Bob's Peak for stunning views.\n",
      "Day 3: White-water rafting or kayaking on the Shotover River, then relax with a scenic flight over Milford Sound.\n",
      "Day 4: Heli-hiking on Fox Glacier, followed by a visit to the nearby Franz Josef Glacier for some glacier hiking and ice climbing.\n",
      "Day 5: Explore Wanaka's scenic trails, visit the famous Wanaka Tree, and enjoy dinner at one of the town's top restaurants.\n",
      "Day 6: Take a scenic flight over Mount Cook National Park, then hike to the summit of Mount Aspiring for breathtaking views.\n",
      "Day 7: Return to Queenstown for some last-minute shopping or exploring before departing.\n",
      "\n",
      "Now, let's talk about local cuisine! You have to try some of New Zealand's famous dishes like fish and chips, lamb shanks, or a traditional Kiwi breakfast with eggs, bacon, and sausages. And don't forget to indulge in some delicious craft beer or wine from the region!\n",
      "\n",
      "Tips for travelers: Don't forget to bring your sense of adventure (and a good camera!) and be prepared for unpredictable weather conditions. Also, make sure to book your activities and accommodations well in advance, especially during peak season.\n",
      "\n",
      "I hope you have an amazing time exploring New Zealand's adventure capital! Safe travels!\n"
     ]
    }
   ],
   "execution_count": 58
  },
  {
   "metadata": {
    "ExecuteTime": {
     "end_time": "2024-10-27T13:51:18.462421Z",
     "start_time": "2024-10-27T13:51:17.472605Z"
    }
   },
   "cell_type": "code",
   "source": [
    "# Test Graph: Off-topic query\n",
    "answer = graph.invoke({\n",
    "    \"question\":\"Who won the 2024 Olympics?\"\n",
    "})[\"planner\"]\n",
    "\n",
    "print(f\"\\nTravel Planner:\\n{answer}\")\n"
   ],
   "id": "ae9f041cd3420901",
   "outputs": [
    {
     "name": "stdout",
     "output_type": "stream",
     "text": [
      "---ESTABLISH SUBJECT---\n",
      "===SUBJECT: OTHER===\n",
      "\n",
      "Travel Planner:\n",
      "Hello! I'm your travel assistant, and I can help with questions related to travel.\n"
     ]
    }
   ],
   "execution_count": 32
  }
 ],
 "metadata": {
  "kernelspec": {
   "display_name": "Python 3 (ipykernel)",
   "language": "python",
   "name": "python3"
  },
  "language_info": {
   "codemirror_mode": {
    "name": "ipython",
    "version": 3
   },
   "file_extension": ".py",
   "mimetype": "text/x-python",
   "name": "python",
   "nbconvert_exporter": "python",
   "pygments_lexer": "ipython3",
   "version": "3.12.0"
  }
 },
 "nbformat": 4,
 "nbformat_minor": 5
}
