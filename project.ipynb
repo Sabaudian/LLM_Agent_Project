{
 "cells": [
  {
   "cell_type": "markdown",
   "id": "1dd8e93f30822961",
   "metadata": {},
   "source": [
    "# Project Title"
   ]
  },
  {
   "cell_type": "markdown",
   "id": "9e31f05146607c0f",
   "metadata": {},
   "source": [
    "## Import"
   ]
  },
  {
   "cell_type": "code",
   "id": "initial_id",
   "metadata": {},
   "source": [
    "# Install required packages\n",
    "%pip install -qU bs4\n",
    "%pip install -qU chromadb\n",
    "%pip install -qU tiktoken\n",
    "%pip install -qU langchain\n",
    "%pip install -qU langgraph\n",
    "%pip install -qU langchainhub\n",
    "%pip install -qU tavily-python\n",
    "%pip install -qU \"nomic[local]\"\n",
    "%pip install -qU langchain-nomic\n",
    "%pip install -qU langchain-ollama\n",
    "%pip install -qU langchain_community\n"
   ],
   "outputs": [],
   "execution_count": null
  },
  {
   "cell_type": "code",
   "id": "cdcb8304d4ee8aca",
   "metadata": {},
   "source": [
    "# Import\n",
    "import os\n",
    "import re\n",
    "import getpass\n",
    "import operator\n",
    "import requests\n",
    "\n",
    "from bs4 import BeautifulSoup\n",
    "from urllib.parse import urljoin\n",
    "from pydantic import BaseModel, Field\n",
    "from typing_extensions import TypedDict\n",
    "from IPython.display import Image, display\n",
    "from typing import Annotated, List, Literal\n",
    "\n",
    "# from langchain import hub\n",
    "from langchain.schema import Document\n",
    "from langchain_ollama import ChatOllama\n",
    "from langchain_community.vectorstores import Chroma\n",
    "from langchain_core.prompts import ChatPromptTemplate\n",
    "from langchain_nomic.embeddings import NomicEmbeddings\n",
    "from langchain_core.output_parsers import StrOutputParser\n",
    "from langchain_core.runnables.graph import MermaidDrawMethod\n",
    "from langchain_community.document_loaders import WebBaseLoader\n",
    "from langchain.text_splitter import RecursiveCharacterTextSplitter\n",
    "from langchain_community.tools.tavily_search import TavilySearchResults\n",
    "\n",
    "from langgraph.graph import START, END, StateGraph\n",
    "\n",
    "import warnings\n",
    "warnings.filterwarnings(\"ignore\")\n"
   ],
   "outputs": [],
   "execution_count": null
  },
  {
   "metadata": {
    "ExecuteTime": {
     "end_time": "2024-10-19T12:40:15.813835Z",
     "start_time": "2024-10-19T12:40:15.811181Z"
    }
   },
   "cell_type": "code",
   "source": [
    "## Constants\n",
    "\n",
    "# The base URL and the webpage to crawl\n",
    "ITA_HOMEPAGE_URL = \"https://www.italia.it/en\"       # WebPage for Data extraction \n",
    "EN_BASE_URL = \"https://www.italia.it/en\"   # Base URL address for crawling internal URLs \n",
    "\n",
    "# Regions List for URLs\n",
    "REGIONS = [\"abbruzzo\", \"aosta-valley\", \"puglia\", \"basilicata\", \"calabria\", \"campania\", \"emilia-romagna\", \"friuli-venezia-giulia\", \"lazio\", \"liguria\", \"lombardy\", \"marche\", \"piedmont\", \"sardinia\", \"trentino\", \"south-tyrol\", \"tuscany\", \"umbria\", \"veneto\"] \n"
   ],
   "id": "7a3f9774a315c7c3",
   "outputs": [],
   "execution_count": 3
  },
  {
   "cell_type": "markdown",
   "id": "e016b0c8bbdfba8e",
   "metadata": {},
   "source": [
    "## Setup"
   ]
  },
  {
   "cell_type": "code",
   "id": "9da72bbf3b9d71c8",
   "metadata": {
    "ExecuteTime": {
     "end_time": "2024-10-19T12:40:37.549025Z",
     "start_time": "2024-10-19T12:40:19.291625Z"
    }
   },
   "source": [
    "# Setup environment \n",
    "def _set_env(key: str) -> None:\n",
    "    \"\"\"\n",
    "    Set the environment variables.\n",
    "        Args:\n",
    "            key (str): The name of the environment variable.\n",
    "    \"\"\"\n",
    "    if key not in os.environ:\n",
    "        os.environ[key] = getpass.getpass(f\"Enter {key}:\")\n",
    "\n",
    "# _set_env(\"LANGCHAIN_API_KEY\")\n",
    "_set_env(\"NOMIC_API_KEY\")\n",
    "_set_env(\"TAVILY_API_KEY\")\n",
    "\n",
    "# LangChain key: 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\n",
    "# Nomic key: nk-2lWlK26_eyFeHHN8bAA4tiIaqEJNjJ8vCGkIlnBiz1M\n",
    "# Tavily key: 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\n"
   ],
   "outputs": [],
   "execution_count": 4
  },
  {
   "cell_type": "code",
   "id": "89c73d74d3d4243d",
   "metadata": {
    "ExecuteTime": {
     "end_time": "2024-10-19T12:41:22.907737Z",
     "start_time": "2024-10-19T12:41:22.866345Z"
    }
   },
   "source": [
    "# LLM \n",
    "local_llm = \"llama3.2\"  \n",
    "llm = ChatOllama(model=local_llm, temperature=0)\n",
    "\n",
    "# Initialize Tavily web search tool\n",
    "tavily_web_search = TavilySearchResults(max_results=3)\n"
   ],
   "outputs": [],
   "execution_count": 5
  },
  {
   "metadata": {
    "ExecuteTime": {
     "end_time": "2024-10-19T15:58:49.510310Z",
     "start_time": "2024-10-19T15:58:49.213172Z"
    }
   },
   "cell_type": "code",
   "source": [
    "# retrieve internal links from a webpage \n",
    "def get_internal_links(website_url, base_url):\n",
    "    \"\"\"\n",
    "        Retrieves internal links from the given webpage URL that start with the base URL.\n",
    "    \n",
    "        Args:\n",
    "        - website_url (str): The URL of the webpage to crawl.\n",
    "        - base_url (str): The base URL to filter internal links (e.g., \"https://www.italia.it/en\").\n",
    "    \n",
    "        Returns:\n",
    "        - list[str]: A list of internal URLs that begin with the base URL.\n",
    "    \"\"\"\n",
    "    # Send a request to the website\n",
    "    response = requests.get(website_url)\n",
    "    \n",
    "    # Parse the content of the webpage\n",
    "    soup = BeautifulSoup(response.content, \"html.parser\")\n",
    "    \n",
    "    # Set of internal links\n",
    "    internal_links = set()\n",
    "    \n",
    "    # Find all <a> tags with href attributes\n",
    "    for link in soup.find_all(\"a\", href=True):\n",
    "        # Convert relative URLs to absolute URLs\n",
    "        href = urljoin(base_url, link[\"href\"])\n",
    "        \n",
    "        # Check if the URL starts with the base URL\n",
    "        if href.startswith(base_url):\n",
    "            internal_links.add(href)\n",
    "    \n",
    "    return list(internal_links)\n",
    "\n",
    "\n",
    "# Get the internal URLs\n",
    "urls = get_internal_links(website_url=ITA_HOMEPAGE_URL, base_url=EN_BASE_URL)\n",
    "\n",
    "# # Print the list of internal URLs\n",
    "# for url in urls:\n",
    "#     print(url)\n",
    "\n",
    "\n",
    "# # List to store internal URLs from all regions\n",
    "# urls = []\n",
    "# \n",
    "# # Craw internal URLs\n",
    "# for region in REGIONS:\n",
    "#     # Dynamically create the base URL for each region\n",
    "#     base_url = f\"{italian_url}/{region}\"\n",
    "# \n",
    "#     # Get internal URLs for the specific region\n",
    "#     internal_urls = get_internal_links(base_url, base_url)\n",
    "# \n",
    "#     # Add the retrieved URLs to the overall list\n",
    "#     urls.extend(internal_urls)\n",
    "# \n",
    "# counter = 0\n",
    "# # Print all internal URLs from all regions\n",
    "# for internal_url in all_internal_urls:\n",
    "#     counter += 1\n",
    "#     print(internal_url)\n",
    "# \n",
    "# print(f\"Counter: {counter}\")\n"
   ],
   "id": "4030e57f7f4e5632",
   "outputs": [],
   "execution_count": 255
  },
  {
   "cell_type": "markdown",
   "id": "e23514490ceacc1",
   "metadata": {},
   "source": [
    "## Vectorstore"
   ]
  },
  {
   "cell_type": "code",
   "id": "e28d8ef09e20e9f7",
   "metadata": {},
   "source": [
    "# Load documents\n",
    "docs = [WebBaseLoader(url).load() for url in urls]\n",
    "docs_list = [item for sublist in docs for item in sublist]\n",
    "\n",
    "# Split documents\n",
    "text_splitter = RecursiveCharacterTextSplitter.from_tiktoken_encoder(chunk_size=500, chunk_overlap=0)\n",
    "doc_splits = text_splitter.split_documents(docs_list)\n",
    "\n",
    "# Set embeddings\n",
    "embeddings = NomicEmbeddings(model=\"nomic-embed-text-v1.5\", inference_mode=\"local\")\n",
    "\n",
    "# Add to vectorstore\n",
    "vectorstore = Chroma.from_documents(documents=doc_splits, embedding=embeddings)"
   ],
   "outputs": [],
   "execution_count": null
  },
  {
   "metadata": {
    "ExecuteTime": {
     "end_time": "2024-10-19T14:11:37.456588Z",
     "start_time": "2024-10-19T14:11:37.453932Z"
    }
   },
   "cell_type": "code",
   "source": [
    "# Create retriever\n",
    "retriever = vectorstore.as_retriever(k=3, search_type=\"similarity\")\n"
   ],
   "id": "c2d4139929c0d430",
   "outputs": [],
   "execution_count": 99
  },
  {
   "cell_type": "code",
   "id": "58d907e55ddba0cf",
   "metadata": {},
   "source": [
    "# Test retriever\n",
    "retriever.invoke(\"Duomo\")\n"
   ],
   "outputs": [],
   "execution_count": null
  },
  {
   "cell_type": "markdown",
   "id": "aaad6c70d3a07fde",
   "metadata": {},
   "source": "### Router"
  },
  {
   "cell_type": "code",
   "id": "502286dda58571e",
   "metadata": {
    "ExecuteTime": {
     "end_time": "2024-10-19T15:59:04.139807Z",
     "start_time": "2024-10-19T15:59:04.130283Z"
    }
   },
   "source": [
    "## Router\n",
    "class QueryRoute(BaseModel):\n",
    "    \"\"\"\n",
    "      Route a user query to the most relevant datasource -> vectorstore or websearch.\n",
    "    \"\"\"\n",
    "    datasource: Literal[\"vectorstore\", \"web_search\"] = Field(\n",
    "        description=\"Given a user question choose to route it to web search or a vectorstore.\",\n",
    "    )\n",
    "\n",
    "# LLM\n",
    "structured_llm_router = llm.with_structured_output(QueryRoute)\n",
    "\n",
    "# System prompt\n",
    "router_instructions = \"\"\"You are an expert at routing a user question to a vectorstore or web search.\n",
    "The vectorstore contains documents related to some famous italian city, touristic and historical places, food and travel tips for tourists.\n",
    "Use the vectorstore for questions on these topics. Otherwise, use web-search.\"\"\"\n",
    "\n",
    "# Combine the system message and user question in a prompt template\n",
    "route_prompt = ChatPromptTemplate.from_messages(\n",
    "    [\n",
    "        (\"system\", router_instructions),\n",
    "        (\"human\", \"{question}\"),\n",
    "    ]\n",
    ")\n",
    "question_router = route_prompt | structured_llm_router\n"
   ],
   "outputs": [],
   "execution_count": 256
  },
  {
   "cell_type": "code",
   "id": "983a9fd150bab4e7",
   "metadata": {
    "ExecuteTime": {
     "end_time": "2024-10-19T15:59:08.293625Z",
     "start_time": "2024-10-19T15:59:06.704825Z"
    }
   },
   "source": [
    "## Test router\n",
    "# expected result: vectorstore\n",
    "print(question_router.invoke({\"question\": \"Where is the Colosseum?\"}))\n",
    "# expected result: web_search\n",
    "print(question_router.invoke({\"question\": \"What is the capital of France?\"}))\n"
   ],
   "outputs": [
    {
     "name": "stdout",
     "output_type": "stream",
     "text": [
      "datasource='vectorstore'\n",
      "datasource='web_search'\n"
     ]
    }
   ],
   "execution_count": 257
  },
  {
   "metadata": {},
   "cell_type": "markdown",
   "source": "### Relevance",
   "id": "16d06c021b384042"
  },
  {
   "cell_type": "code",
   "id": "6bf37bfe0c3e49a6",
   "metadata": {
    "ExecuteTime": {
     "end_time": "2024-10-19T15:59:13.535655Z",
     "start_time": "2024-10-19T15:59:13.529976Z"
    }
   },
   "source": [
    "# Docs are relevant or not\n",
    "class GradeDocs(BaseModel):\n",
    "    \"\"\"\n",
    "        Binary score for relevance check on retrieved documents.\n",
    "    \"\"\"\n",
    "    binary_score: str = Field(\n",
    "        description=\"Documents are relevant to the question, 'yes' or 'no'\"\n",
    "    )\n",
    "\n",
    "# LLM\n",
    "structured_llm_retrieval = llm.with_structured_output(GradeDocs)\n",
    "\n",
    "# Prompt\n",
    "doc_grader_instructions = \"\"\"\n",
    "You are a grader assessing relevance of a retrieved document to a user question.  \n",
    "If the document contains keyword(s), shares concepts or semantic meaning related to the user question, grade it as relevant. \n",
    "It does not need to be a stringent test. The goal is to filter out erroneous retrievals.\n",
    "Give a binary score 'yes' or 'no' score to indicate whether the document is relevant to the question.\"\"\"\n",
    "\n",
    "grade_prompt = ChatPromptTemplate.from_messages(\n",
    "    [\n",
    "        (\"system\", doc_grader_instructions),\n",
    "        (\"human\", \"Retrieved document: \\n\\n {document} \\n\\n User question: {question}\"),\n",
    "    ]\n",
    ")\n",
    "retrieval_grader = grade_prompt | structured_llm_retrieval\n"
   ],
   "outputs": [],
   "execution_count": 258
  },
  {
   "cell_type": "code",
   "id": "50aa1188cc7afb7f",
   "metadata": {
    "ExecuteTime": {
     "end_time": "2024-10-19T16:01:03.370319Z",
     "start_time": "2024-10-19T16:01:00.855473Z"
    }
   },
   "source": [
    "## Test grader\n",
    "# First question: expected score = yes\n",
    "question_1 = \"Where is the Colosseum located?\" \n",
    "retrieve_document_1 = retriever.invoke(question_1)\n",
    "docs_text_1 = retrieve_document_1[0]\n",
    "print(retrieval_grader.invoke({\"question\": question_1, \"document\": docs_text_1}))\n",
    "\n",
    "# Second question: expected score = no\n",
    "question_2 = \"Who won the olympics 2024?\"   \n",
    "retrieve_document_2 = retriever.invoke(question_2) \n",
    "docs_text_2 = retrieve_document_2[0]\n",
    "print(retrieval_grader.invoke({\"question\": question_2, \"document\": docs_text_2}))\n"
   ],
   "outputs": [
    {
     "name": "stdout",
     "output_type": "stream",
     "text": [
      "binary_score='yes'\n",
      "binary_score='no'\n"
     ]
    }
   ],
   "execution_count": 265
  },
  {
   "cell_type": "code",
   "id": "c8412720329adfdb",
   "metadata": {},
   "source": [
    "# ## Generate\n",
    "# \n",
    "# # Prompt \n",
    "# rag_prompt = hub.pull(\"rlm/rag-prompt\")\n",
    "# # rag_prompt.pretty_print()\n",
    "# \n",
    "# # Post-processing\n",
    "# def format_docs(documents):\n",
    "#     return \"\\n\\n\".join(doc.page_content for doc in documents)\n",
    "# \n",
    "# # Chain\n",
    "# rag_chain = rag_prompt | llm | StrOutputParser()\n"
   ],
   "outputs": [],
   "execution_count": null
  },
  {
   "cell_type": "code",
   "id": "2e1b929e92164beb",
   "metadata": {},
   "source": [
    "# # Generator execution example\n",
    "# generate_answer = rag_chain.invoke({\"context\": relevant_document_1, \"question\": \"Where is the fountain of Trevi?\"})\n",
    "# print(generate_answer)\n"
   ],
   "outputs": [],
   "execution_count": null
  },
  {
   "metadata": {},
   "cell_type": "markdown",
   "source": "### Planning",
   "id": "7301bbeb4d5406fe"
  },
  {
   "metadata": {
    "ExecuteTime": {
     "end_time": "2024-10-19T16:01:07.770124Z",
     "start_time": "2024-10-19T16:01:07.765878Z"
    }
   },
   "cell_type": "code",
   "source": [
    "# Prompt\n",
    "planner_instructions = \"\"\"\n",
    "You are an expert travel planner with a kind and friendly personality. Always start the conversation by saying hello. You're excited to help travelers plan their perfect vacation with engaging and heartfelt recommendations. Present the information as if you are talking to a friend, making sure to be warm, conversational, and enthusiastic about the places to visit, the local cuisine, and tips for the trip. Make it feel like a personal guide. Don't be concise, but be conversational.\n",
    "\n",
    "Question: {question}\n",
    "Context: {context}\n",
    "\n",
    "Plan:\n",
    "- **Places to Visit**: \n",
    "    Start by warmly describing the main attractions, what makes them special, and why they're must-sees. Use friendly language like \"You’ll love visiting...\" or \"Make sure to check out...\"\n",
    "    \n",
    "- **Local Cuisine**: \n",
    "    Describe the local dishes with enthusiasm, like you're sharing a favorite meal with a friend. Phrases like \"You can't leave without trying...\" or \"One bite of this and you'll see why it's a local favorite...\" will make it feel personal.\n",
    "\n",
    "- **Tips for Travelers**: \n",
    "    Offer helpful advice as if you're giving insider knowledge, with kind reminders like \"Don’t forget to bring...\" or \"It's always good to know that...\"\n",
    "\n",
    "End with a friendly closing note like: \"I hope you have an amazing time! Safe travels!\"\n",
    "\"\"\"\n",
    "\n",
    "planner_prompt = ChatPromptTemplate.from_messages(\n",
    "    [\n",
    "        (\"system\", planner_instructions),\n",
    "        (\"human\", \"Question: \\n\\n {question}\"),\n",
    "    ]\n",
    ")\n",
    "plan_chain = planner_prompt | llm | StrOutputParser()\n"
   ],
   "id": "b6053c79b5c28389",
   "outputs": [],
   "execution_count": 266
  },
  {
   "metadata": {
    "ExecuteTime": {
     "end_time": "2024-10-19T13:56:37.578814Z",
     "start_time": "2024-10-19T13:56:37.575059Z"
    }
   },
   "cell_type": "code",
   "source": [
    "# # Post-processing\n",
    "# def format_docs(documents):\n",
    "#     \"\"\"\n",
    "#     Formats and cleans the page contents of documents into a single string.\n",
    "# \n",
    "#     Args:\n",
    "#         documents (list): A list of document objects, each containing a 'page_content' attribute.\n",
    "# \n",
    "#     Returns:\n",
    "#         str: A single cleaned string containing the combined page contents,\n",
    "#               with excessive whitespace removed.\n",
    "#     \"\"\"\n",
    "#     # Combine page contents\n",
    "#     combined_text = \"\\n\\n\".join(doc.page_content for doc in documents)\n",
    "# \n",
    "#     # Clean the combined text by removing excessive whitespace\n",
    "#     cleaned_text = re.sub(r'\\s+', ' ', combined_text).strip()\n",
    "#     \n",
    "#     return cleaned_text\n"
   ],
   "id": "d58099024e39a424",
   "outputs": [],
   "execution_count": 54
  },
  {
   "metadata": {
    "ExecuteTime": {
     "end_time": "2024-10-19T16:02:04.004458Z",
     "start_time": "2024-10-19T16:01:43.956199Z"
    }
   },
   "cell_type": "code",
   "source": [
    "# Test planner\n",
    "planner_question = \"What kind of places can I visit while in Rome?\"\n",
    "retrieved_docs_for_planner = retriever.invoke(planner_question)\n",
    "generated_plan = plan_chain.invoke({\"context\": retrieved_docs_for_planner, \"question\": planner_question})\n",
    "print(generated_plan)\n"
   ],
   "id": "fabd8be62ea0dec",
   "outputs": [
    {
     "name": "stdout",
     "output_type": "stream",
     "text": [
      "Hello! I'm so excited to help you plan your trip to Rome. This city is truly one of the most incredible destinations on earth, with a rich history, stunning architecture, and a vibrant culture that will leave you wanting more.\n",
      "\n",
      "First of all, let's talk about some of the must-see places in Rome. You'll love visiting the Colosseum, the largest amphitheater in the Roman Empire, which is an absolute marvel of engineering and history. It's like stepping back in time to ancient Rome, where gladiators once fought for their lives. Make sure to check out the Roman Forum, too, which is a sprawling archaeological site filled with ancient ruins, temples, and basilicas.\n",
      "\n",
      "Another iconic landmark you won't want to miss is the Pantheon, a magnificently preserved temple that's been standing since 126 AD. Its stunning dome is one of the greatest architectural achievements in history, and it's still an awe-inspiring sight today.\n",
      "\n",
      "Of course, no trip to Rome would be complete without visiting the Vatican City, including the Sistine Chapel and St. Peter's Basilica. The art and architecture here are simply breathtaking – Michelangelo's frescoes on the ceiling of the Sistine Chapel are a highlight not to be missed!\n",
      "\n",
      "Now, let's talk about some of the lesser-known gems in Rome that will give you a more authentic taste of the city. You'll love exploring the charming streets of Trastevere, which is filled with narrow alleys, quaint piazzas, and some of the best food and drink in the city.\n",
      "\n",
      "Another hidden treasure is the Villa Borghese, a beautiful park that's home to several museums, gardens, and a stunning lake. It's the perfect place to relax and unwind after a day of sightseeing.\n",
      "\n",
      "And finally, no trip to Rome would be complete without trying some of the local cuisine! You have to try the carbonara, which is a rich and creamy pasta dish made with bacon or pancetta, eggs, parmesan cheese, and black pepper. It's a Roman classic that will leave you wanting more. And don't forget to wash it down with a glass of wine from one of Italy's many excellent regions.\n",
      "\n",
      "Tips for travelers: Don't forget to bring comfortable shoes, as Rome is a city best explored on foot! Also, be sure to try some of the local gelato – it's the perfect way to cool off on a hot summer day. And if you're visiting in the spring or fall, consider taking a stroll through the beautiful Villa Borghese gardens.\n",
      "\n",
      "I hope this gives you a good starting point for planning your trip to Rome! I hope you have an amazing time exploring this incredible city. Safe travels!\n"
     ]
    }
   ],
   "execution_count": 267
  },
  {
   "metadata": {},
   "cell_type": "markdown",
   "source": "### Check for hallucination",
   "id": "c7757286ddef5f63"
  },
  {
   "cell_type": "code",
   "id": "3a1168eb123bfef6",
   "metadata": {
    "ExecuteTime": {
     "end_time": "2024-10-19T16:04:43.312572Z",
     "start_time": "2024-10-19T16:04:43.305879Z"
    }
   },
   "source": [
    "# Hallucination Grader\n",
    "class GradeHallucinations(BaseModel):\n",
    "    \"\"\"\n",
    "        Binary score for hallucination present in generation answer.\n",
    "    \"\"\"\n",
    "\n",
    "    binary_score: str = Field(\n",
    "        description=\"Answer is grounded in the facts, 'yes' or 'no'\"\n",
    "    )\n",
    "    \n",
    "# LLM\n",
    "structured_llm_hallucination = llm.with_structured_output(GradeHallucinations)\n",
    "\n",
    "# Prompt\n",
    "hallucination_grader_instructions = \"\"\"\n",
    "You are a grader assessing whether the travel planner is grounded in / supported by a set of retrieved facts.\n",
    "Give a binary score 'yes' or 'no'. 'Yes' means that the answer is grounded in / supported by the set of facts.\"\"\"\n",
    "\n",
    "hallucination_grader_prompt = ChatPromptTemplate.from_messages(\n",
    "    [\n",
    "        (\"system\", hallucination_grader_instructions),\n",
    "        (\"human\", \"Set of facts: \\n\\n {documents} \\n\\n Travel planner: {planner}\"),\n",
    "    ]\n",
    ")\n",
    "hallucination_grader = hallucination_grader_prompt | structured_llm_hallucination\n"
   ],
   "outputs": [],
   "execution_count": 268
  },
  {
   "cell_type": "code",
   "id": "79f59939b7856167",
   "metadata": {
    "ExecuteTime": {
     "end_time": "2024-10-19T16:05:48.429734Z",
     "start_time": "2024-10-19T16:05:47.892174Z"
    }
   },
   "source": [
    "# Test hallucination grader\n",
    "hallucination = hallucination_grader.invoke({\"documents\": retrieved_docs_for_planner[0], \"planner\": generated_plan})\n",
    "print(hallucination)\n"
   ],
   "outputs": [
    {
     "name": "stdout",
     "output_type": "stream",
     "text": [
      "binary_score='yes'\n"
     ]
    }
   ],
   "execution_count": 274
  },
  {
   "metadata": {},
   "cell_type": "markdown",
   "source": "### Answer evaluation",
   "id": "1e01900473b7519f"
  },
  {
   "cell_type": "code",
   "id": "48c72983b2bfbd88",
   "metadata": {
    "ExecuteTime": {
     "end_time": "2024-10-19T16:05:54.532518Z",
     "start_time": "2024-10-19T16:05:54.526790Z"
    }
   },
   "source": [
    "# Answer Grader\n",
    "class GradeAnswers(BaseModel):\n",
    "    \"\"\"Binary score to assess answer addresses question.\"\"\"\n",
    "\n",
    "    binary_score: str = Field(\n",
    "        description=\"Answer addresses the question, 'yes' or 'no'\"\n",
    "    )\n",
    "    \n",
    "# LLM\n",
    "structured_llm_grader = llm.with_structured_output(GradeAnswers)\n",
    "\n",
    "# Prompt\n",
    "answer_grader_instructions = \"\"\"\n",
    "You are a grader assessing whether the planner addresses / resolves a request\n",
    "Give a binary score 'yes' or 'no'. Yes' means that the answer resolves the request.\"\"\"\n",
    "\n",
    "answer_prompt = ChatPromptTemplate.from_messages(\n",
    "    [\n",
    "        (\"system\", answer_grader_instructions),\n",
    "        (\"human\", \"User question: \\n\\n {question} \\n\\n Planner: {planner}\"),\n",
    "    ]\n",
    ")\n",
    "answer_grader = answer_prompt | structured_llm_grader\n"
   ],
   "outputs": [],
   "execution_count": 275
  },
  {
   "cell_type": "code",
   "id": "8aa7b6de0e0c7ed1",
   "metadata": {
    "ExecuteTime": {
     "end_time": "2024-10-19T16:06:02.737119Z",
     "start_time": "2024-10-19T16:06:00.544736Z"
    }
   },
   "source": [
    "# Test answer grader\n",
    "answer_grader.invoke({\"question\": planner_question, \"planner\": generated_plan})\n"
   ],
   "outputs": [
    {
     "data": {
      "text/plain": [
       "GradeAnswers(binary_score='yes')"
      ]
     },
     "execution_count": 276,
     "metadata": {},
     "output_type": "execute_result"
    }
   ],
   "execution_count": 276
  },
  {
   "metadata": {},
   "cell_type": "markdown",
   "source": "### Re-write query",
   "id": "dbb13cb898349f04"
  },
  {
   "cell_type": "code",
   "id": "d9931d0cf0bda834",
   "metadata": {
    "ExecuteTime": {
     "end_time": "2024-10-19T16:06:02.756801Z",
     "start_time": "2024-10-19T16:06:02.754213Z"
    }
   },
   "source": [
    "# Prompt\n",
    "re_write_instructions = \"\"\"You are a question re-writer that converts an input question to a better version that is optimized \\n \n",
    "     for vectorstore retrieval. Look at the input and try to reason about the underlying semantic intent / meaning.\"\"\"\n",
    "\n",
    "re_write_prompt = ChatPromptTemplate.from_messages(\n",
    "    [\n",
    "        (\"system\", re_write_instructions),\n",
    "        (\n",
    "            \"human\",\n",
    "            \"Here is the initial question: \\n\\n {question} \\n Formulate an improved question.\",\n",
    "        ),\n",
    "    ]\n",
    ")\n",
    "question_rewriter = re_write_prompt | llm | StrOutputParser()\n"
   ],
   "outputs": [],
   "execution_count": 277
  },
  {
   "cell_type": "code",
   "id": "ae2fce3bfed98dac",
   "metadata": {
    "ExecuteTime": {
     "end_time": "2024-10-19T16:06:09.331709Z",
     "start_time": "2024-10-19T16:06:04.368321Z"
    }
   },
   "source": [
    "# Test question re-writer \n",
    "question_rewriter.invoke({\"question\": planner_question})\n"
   ],
   "outputs": [
    {
     "data": {
      "text/plain": [
       "'Improved Question:\\n\"What are some popular tourist attractions, landmarks, historical sites, and cultural institutions that I can visit during my stay in Rome?\"\\n\\nReasoning:\\n\\n1. **Added specificity**: By specifying \"tourist attractions\", \"landmarks\", \"historical sites\", and \"cultural institutions\", the question becomes more targeted towards specific types of places to visit.\\n2. **Inclusion of duration**: Adding \"during my stay\" implies that the user is looking for suggestions for their entire trip, rather than just a single day or activity.\\n3. **More descriptive language**: Using phrases like \"popular tourist attractions\" and \"cultural institutions\" provides more context about what the user is looking for, making it easier for the vectorstore to retrieve relevant results.\\n\\nThis improved question is better suited for vectorstore retrieval because it:\\n\\n* Uses more specific keywords related to tourism and travel\\n* Includes a clear indication of the duration of the stay\\n* Provides a broader scope of interests (attractions, landmarks, historical sites, cultural institutions)'"
      ]
     },
     "execution_count": 278,
     "metadata": {},
     "output_type": "execute_result"
    }
   ],
   "execution_count": 278
  },
  {
   "cell_type": "markdown",
   "id": "6402affb0ad722ed",
   "metadata": {},
   "source": [
    "# Tavily: web search tool"
   ]
  },
  {
   "cell_type": "code",
   "id": "46f0efe4667406b",
   "metadata": {
    "ExecuteTime": {
     "end_time": "2024-10-19T13:59:13.776967Z",
     "start_time": "2024-10-19T13:59:10.271662Z"
    }
   },
   "source": [
    "# Test Tavily \n",
    "tavily_web_search.invoke({\"query\": \"What is LangGraph?\"})\n"
   ],
   "outputs": [
    {
     "data": {
      "text/plain": [
       "[{'url': 'https://www.langchain.com/langgraph',\n",
       "  'content': 'LangGraph is a stateful, orchestration framework that brings added control to agent workflows. LangGraph Cloud is a service for deploying and scaling LangGraph applications, with a built-in Studio for prototyping, debugging, and sharing LangGraph applications.'},\n",
       " {'url': 'https://www.datacamp.com/tutorial/langgraph-tutorial',\n",
       "  'content': 'LangGraph is a library within the LangChain ecosystem designed to tackle these challenges head-on. LangGraph provides a framework for defining, coordinating, and executing multiple LLM agents (or chains) in a structured manner. It simplifies the development process by enabling the creation of cyclical graphs, which are essential for developing'},\n",
       " {'url': 'https://towardsdatascience.com/from-basics-to-advanced-exploring-langgraph-e8c1cf4db787',\n",
       "  'content': \"LangGraph is a low-level framework that offers extensive customisation options, allowing you to build precisely what you need. Since LangGraph is built on top of LangChain, it's seamlessly integrated into its ecosystem, making it easy to leverage existing tools and components. However, there are areas where LangGrpah could be improved:\"}]"
      ]
     },
     "execution_count": 65,
     "metadata": {},
     "output_type": "execute_result"
    }
   ],
   "execution_count": 65
  },
  {
   "cell_type": "markdown",
   "id": "717d1acf42306cf9",
   "metadata": {},
   "source": "## Graph: State"
  },
  {
   "cell_type": "code",
   "id": "f1b1b0f1a74c7cc3",
   "metadata": {
    "ExecuteTime": {
     "end_time": "2024-10-19T16:32:04.196081Z",
     "start_time": "2024-10-19T16:32:04.192542Z"
    }
   },
   "source": [
    "# Graph's state\n",
    "class State(TypedDict):\n",
    "    \"\"\"\n",
    "    Represents the state of the graph.\n",
    "\n",
    "    Attributes:\n",
    "        documents: list of documents.\n",
    "        max_retries: the maximum number of hallucination checks permitted.\n",
    "        loop_step: Indicates the current step in a looping process.\n",
    "        planner: LLM planning.\n",
    "        question: question.\n",
    "        web_search: run web search\n",
    "    \"\"\"\n",
    "    documents: List[str]\n",
    "    max_retries: int\n",
    "    loop_step: Annotated[int, operator.add]\n",
    "    planner: str\n",
    "    question: str\n",
    "    web_search: str\n",
    "    "
   ],
   "outputs": [],
   "execution_count": 318
  },
  {
   "metadata": {},
   "cell_type": "markdown",
   "source": "### Graph: Nodes",
   "id": "1124acf9be5cf752"
  },
  {
   "metadata": {
    "ExecuteTime": {
     "end_time": "2024-10-19T16:32:11.835462Z",
     "start_time": "2024-10-19T16:32:11.828775Z"
    }
   },
   "cell_type": "code",
   "source": [
    "# Node: retrieve documents\n",
    "def retrieve(state: State):\n",
    "    \"\"\"\n",
    "        Retrieve documents from vectorstore\n",
    "    \n",
    "        Args:\n",
    "            state (dict): The current graph state\n",
    "    \n",
    "        Returns:\n",
    "            state (dict): New key added to state, documents, that contains retrieved documents\n",
    "    \"\"\"\n",
    "    print(\"---RETRIEVE---\")\n",
    "    question = state[\"question\"]\n",
    "\n",
    "    # Retrieval\n",
    "    documents = retriever.invoke(question)\n",
    "    \n",
    "    return {\"documents\": documents, \"question\": question}\n",
    "\n",
    "\n",
    "# Node: docs are relevant or not\n",
    "def grade_documents(state: State):\n",
    "    \"\"\"\n",
    "        Determines whether the retrieved documents are relevant to the question.\n",
    "    \n",
    "        Args:\n",
    "            state (dict): The current graph state\n",
    "    \n",
    "        Returns:\n",
    "            state (dict): Updates documents key with only filtered relevant documents\n",
    "    \"\"\"\n",
    "    print(\"---CHECK DOCUMENT RELEVANCE TO QUESTION---\")\n",
    "    question = state[\"question\"]    \n",
    "    documents = state[\"documents\"] \n",
    "\n",
    "    relevant_documents = []\n",
    "    select_web= \"no\"\n",
    "    \n",
    "    for doc in documents:\n",
    "        retrieval_score = retrieval_grader.invoke(\n",
    "            {\"question\": question, \"document\": doc.page_content}\n",
    "        )\n",
    "        retrieval_grade = retrieval_score.binary_score\n",
    "        \n",
    "        if retrieval_grade == \"yes\":\n",
    "            print(\"---GRADE: DOCUMENT RELEVANT---\")\n",
    "            relevant_documents.append(doc)\n",
    "        else:\n",
    "            print(\"---GRADE: DOCUMENT NOT RELEVANT---\")\n",
    "            # set a flag to indicate that we want to run web search\n",
    "            select_web = \"yes\"\n",
    "            continue\n",
    "       \n",
    "    return {\"documents\": relevant_documents, \"web_search\": select_web}\n",
    "\n",
    "\n",
    "# Node: make query great again\n",
    "def transform_query(state: State):\n",
    "    \"\"\"\n",
    "        Transform the query to produce a better question.\n",
    "    \n",
    "        Args:\n",
    "            state (dict): The current graph state\n",
    "    \n",
    "        Returns:\n",
    "            state (dict): Updates question key with a re-phrased question\n",
    "    \"\"\"\n",
    "    print(\"---TRANSFORM QUERY---\")\n",
    "    question = state[\"question\"]\n",
    "\n",
    "    # Re-write question\n",
    "    better_question = question_rewriter.invoke({\"question\": question})\n",
    "    \n",
    "    return {\"question\": better_question}\n",
    "\n",
    "\n",
    "# Node: planning\n",
    "def planner(state: State):\n",
    "    \"\"\"\n",
    "        Generates a plan based on the provided query.\n",
    "        \n",
    "        Args:\n",
    "            state (dict): The current graph state.\n",
    "    \n",
    "        Returns:\n",
    "            state (dict): Updates planner key with the generated plan and\n",
    "                the loop step, incremented by 1.\n",
    "    \"\"\"\n",
    "    print(\"---PLANNER---\")\n",
    "    question = state[\"question\"]            # get question state\n",
    "    documents = state[\"documents\"]          # get documents state\n",
    "    loop_step = state.get(\"loop_step\", 0)   # Init loop_step \n",
    "    \n",
    "    # RAG planning\n",
    "    make_plan = plan_chain.invoke({\"context\": documents, \"question\": question})\n",
    "    \n",
    "    return {\"planner\": make_plan, \"loop_step\": loop_step + 1}\n",
    "\n",
    "\n",
    "# Node: search on the web\n",
    "def web_search(state: State):\n",
    "    \"\"\"\n",
    "    Web search based on the query.\n",
    "\n",
    "    Args:\n",
    "        state (dict): The current graph state\n",
    "\n",
    "    Returns:\n",
    "        state (dict): Updates documents key with appended web results\n",
    "    \"\"\"\n",
    "    print(\"---WEB SEARCH---\")\n",
    "    question = state[\"question\"]          \n",
    "    documents = state.get(\"documents\", []) \n",
    "\n",
    "    # Perform a web search using the Tavily\n",
    "    web_docs = tavily_web_search.invoke({\"query\": question})\n",
    "    web_results = \"\\n\".join([doc[\"content\"] for doc in web_docs])\n",
    "    web_results = Document(page_content=web_results)\n",
    "    documents.append(web_results)\n",
    "    \n",
    "    return {\"documents\": documents}\n",
    "    "
   ],
   "id": "edfc036e805b5a90",
   "outputs": [],
   "execution_count": 321
  },
  {
   "metadata": {},
   "cell_type": "markdown",
   "source": "### Graph: Edges",
   "id": "ea6962bf9bbc3053"
  },
  {
   "cell_type": "code",
   "id": "b0990194e2b14bc7",
   "metadata": {
    "ExecuteTime": {
     "end_time": "2024-10-19T16:33:18.270923Z",
     "start_time": "2024-10-19T16:33:18.264853Z"
    }
   },
   "source": [
    "# Edge: RAG or web\n",
    "def route_question(state: State):\n",
    "    \"\"\"\n",
    "        Route question to web search or RAG.\n",
    "    \n",
    "        Args:\n",
    "            state (dict): The current graph state\n",
    "    \n",
    "        Returns:\n",
    "            str: Next node to call\n",
    "    \"\"\"\n",
    "    print(\"---ROUTE QUESTION---\")\n",
    "    question = state[\"question\"]\n",
    "    source = question_router.invoke({\"question\": question})\n",
    "    \n",
    "    if source.datasource == \"web_search\": \n",
    "        print(\"---ROUTE QUESTION TO WEB SEARCH---\")\n",
    "        \n",
    "        return \"websearch\"\n",
    "    \n",
    "    elif source.datasource == \"vectorstore\":\n",
    "        print(\"---ROUTE QUESTION TO RAG---\")\n",
    "        \n",
    "        return \"vectorstore\"\n",
    "    \n",
    "\n",
    "# Edge: planner or web_search\n",
    "def decide_to_plan(state: State):\n",
    "    \"\"\"\n",
    "    Determines whether start planning, or search answer on the web.\n",
    "\n",
    "    Args:\n",
    "        state (dict): The current graph state\n",
    "\n",
    "    Returns:\n",
    "        str: Binary decision for next node to call\n",
    "    \"\"\"\n",
    "    print(\"---EVALUATE GRADED DOCUMENTS---\")\n",
    "    question = state[\"question\"]\n",
    "    websearch = state[\"web_search\"]\n",
    "    filtered_documents = state[\"documents\"]\n",
    "    \n",
    "    if websearch == \"yes\":  # Go to web\n",
    "        print(\"---DECISION: ALL DOCUMENTS ARE NOT RELEVANT TO QUESTION, INCLUDE WEB SEARCH---\")\n",
    "        \n",
    "        return \"websearch\"\n",
    "    else:   # The docs are relevant\n",
    "        print(\"---DECISION: PLANNER---\")\n",
    "        \n",
    "        return \"travel_planner\"\n",
    "\n",
    "\n",
    "# Edge: fact checking on docs\n",
    "def grade_generation_v_documents_and_question(state: State):\n",
    "    \"\"\"\n",
    "    Determines whether the planning is grounded in the document and answers question.\n",
    "\n",
    "    Args:\n",
    "        state (dict): The current graph state\n",
    "\n",
    "    Returns:\n",
    "        str: Decision for next node to call\n",
    "    \"\"\"\n",
    "    print(\"---CHECK HALLUCINATIONS---\")\n",
    "    question = state[\"question\"]\n",
    "    documents = state[\"documents\"]\n",
    "    max_retries = state.get(\"max_retries\", 3)\n",
    "    plan = state[\"planner\"]\n",
    "    \n",
    "    for doc in documents:\n",
    "        hallucination_score = hallucination_grader.invoke(\n",
    "            {\"documents\": doc, \"planner\": plan}\n",
    "        )\n",
    "        hallucination_grade = hallucination_score.binary_score\n",
    "    \n",
    "        # Check hallucination\n",
    "        if hallucination_grade == \"yes\":\n",
    "            print(\"---DECISION: GENERATION IS GROUNDED IN DOCUMENTS---\")\n",
    "            # Check question-answering\n",
    "            print(\"---GRADE GENERATION vs QUESTION---\")\n",
    "            answer_score = answer_grader.invoke({\"question\": question, \"planner\": plan})\n",
    "            answer_grade = answer_score.binary_score\n",
    "            \n",
    "            if answer_grade == \"yes\":\n",
    "                print(\"---DECISION: GENERATION ADDRESSES QUESTION---\")\n",
    "                return \"useful\"\n",
    "            elif state[\"loop_step\"] <= max_retries:\n",
    "                print(\"---DECISION: GENERATION DOES NOT ADDRESS QUESTION---\")\n",
    "                return \"not useful\"\n",
    "            else:\n",
    "                print(\"---DECISION: MAX RETRIES REACHED ❌---\")\n",
    "                return \"max retries\"\n",
    "        elif state[\"loop_step\"] <= max_retries:\n",
    "            print(f\"---DECISION: GENERATION IS NOT GROUNDED IN DOCUMENTS, RE-TRY---\")\n",
    "            return \"check\"\n",
    "        else:\n",
    "            print(\"---DECISION: MAX RETRIES REACHED ⚠️---\") # web\n",
    "            return \"max retries\"\n"
   ],
   "outputs": [],
   "execution_count": 326
  },
  {
   "metadata": {},
   "cell_type": "markdown",
   "source": "### Build the graph",
   "id": "832bf1194eeb41f8"
  },
  {
   "cell_type": "code",
   "id": "3f6657a62665d40b",
   "metadata": {
    "ExecuteTime": {
     "end_time": "2024-10-19T16:32:18.406171Z",
     "start_time": "2024-10-19T16:32:18.228094Z"
    }
   },
   "source": [
    "# Graph's state\n",
    "workflow = StateGraph(State)\n",
    "\n",
    "# Define the nodes\n",
    "workflow.add_node(node=\"retrieve\", action=retrieve)                 # retrieve\n",
    "workflow.add_node(node=\"grade_documents\", action=grade_documents)   # grade_documents\n",
    "workflow.add_node(node=\"websearch\", action=web_search)              # web_search\n",
    "workflow.add_node(node=\"travel_planner\", action=planner)            # travel_planner\n",
    "\n",
    "# Build graph: edges and condition\n",
    "workflow.add_conditional_edges(\n",
    "    START,\n",
    "    route_question,\n",
    "    {\n",
    "        \"websearch\": \"websearch\",\n",
    "        \"vectorstore\": \"retrieve\",\n",
    "    },\n",
    ")\n",
    "\n",
    "workflow.add_edge(\"websearch\", \"travel_planner\")\n",
    "workflow.add_edge(\"retrieve\", \"grade_documents\")\n",
    "\n",
    "workflow.add_conditional_edges(\n",
    "    \"grade_documents\",\n",
    "    decide_to_plan,\n",
    "    {\n",
    "        \"websearch\": \"websearch\",\n",
    "        \"travel_planner\": \"travel_planner\",\n",
    "    },\n",
    ")\n",
    "\n",
    "workflow.add_conditional_edges(\n",
    "    \"travel_planner\",\n",
    "    grade_generation_v_documents_and_question,\n",
    "    {\n",
    "        \"check\": \"travel_planner\",\n",
    "        \"useful\": END,\n",
    "        \"not useful\": \"websearch\",\n",
    "        \"max retries\": END,\n",
    "    },\n",
    ")\n",
    "\n",
    "# Compile\n",
    "graph = workflow.compile()\n",
    "# Display the graph\n",
    "display(Image(graph.get_graph().draw_mermaid_png(draw_method=MermaidDrawMethod.API)))\n"
   ],
   "outputs": [
    {
     "data": {
      "image/jpeg": "[encoded data removed]",
      "text/plain": [
       "<IPython.core.display.Image object>"
      ]
     },
     "metadata": {},
     "output_type": "display_data"
    }
   ],
   "execution_count": 323
  },
  {
   "cell_type": "code",
   "id": "159131350539ab8c",
   "metadata": {
    "ExecuteTime": {
     "end_time": "2024-10-19T16:32:42.146369Z",
     "start_time": "2024-10-19T16:32:26.068025Z"
    }
   },
   "source": [
    "# Test Graph\n",
    "answer = graph.invoke({\"question\": \"What kind of food can I eat while in Florence?\"})[\"planner\"]\n",
    "print(answer)\n"
   ],
   "outputs": [
    {
     "name": "stdout",
     "output_type": "stream",
     "text": [
      "---ROUTE QUESTION---\n",
      "---ROUTE QUESTION TO RAG---\n",
      "---RETRIEVE---\n",
      "---CHECK DOCUMENT RELEVANCE TO QUESTION---\n",
      "---GRADE: DOCUMENT RELEVANT---\n",
      "---GRADE: DOCUMENT RELEVANT---\n",
      "---GRADE: DOCUMENT RELEVANT---\n",
      "---GRADE: DOCUMENT RELEVANT---\n",
      "---EVALUATE GRADED DOCUMENTS---\n",
      "---DECISION: PLANNER---\n",
      "---PLANNER---\n",
      "---CHECK HALLUCINATIONS---\n",
      "---DECISION: GENERATION IS GROUNDED IN DOCUMENTS---\n",
      "---GRADE GENERATION vs QUESTION---\n",
      "---DECISION: GENERATION ADDRESSES QUESTION---\n",
      "Florence, the culinary gem of Italy! You're in for a treat when it comes to delicious Tuscan cuisine. Here are some traditional Florentine dishes and foods you should try while visiting:\n",
      "\n",
      "1. **Bistecca alla Fiorentina**: A thick, juicy T-bone steak served rare, often with beans and spinach.\n",
      "2. **Ribollita**: A hearty soup made from vegetables, bread, and cannellini beans.\n",
      "3. **Pappardelle al Cinghiale**: Wide, flat noodles served with a wild boar ragù.\n",
      "4. **Cantucci con Vin Santo**: Almond biscuits dipped in Vin Santo, a sweet dessert wine.\n",
      "5. **Panino con Lampredotto**: A sandwich filled with lampredotto (cow stomach), served with onions and tomato sauce.\n",
      "6. **Castagnaccio**: A traditional chestnut flour cake often served as a snack or dessert.\n",
      "7. **Focaccia**: A flatbread typically topped with olive oil, herbs, and sometimes cheese or cured meats.\n",
      "\n",
      "Don't forget to try some of the local wines, such as Chianti Classico or Vernaccia di San Gimignano.\n",
      "\n",
      "Some popular food markets and areas to explore in Florence include:\n",
      "\n",
      "1. **Mercato Centrale**: A bustling market offering a variety of fresh produce, cheeses, and prepared foods.\n",
      "2. **Oltrarno neighborhood**: Known for its charming streets, local eateries, and artisanal food shops.\n",
      "3. **San Lorenzo Market**: A historic market selling everything from fresh produce to souvenirs.\n",
      "\n",
      "Enjoy your culinary adventure in Florence!\n"
     ]
    }
   ],
   "execution_count": 324
  },
  {
   "metadata": {
    "ExecuteTime": {
     "end_time": "2024-10-19T16:34:11.168332Z",
     "start_time": "2024-10-19T16:33:22.428473Z"
    }
   },
   "cell_type": "code",
   "source": [
    "# Test Graph\n",
    "answer = graph.invoke({\"question\":\"Where I can find the fountain of Trevi?\"})[\"planner\"]\n",
    "print(answer)"
   ],
   "id": "258ff4624b02f6ca",
   "outputs": [
    {
     "name": "stdout",
     "output_type": "stream",
     "text": [
      "---ROUTE QUESTION---\n",
      "---ROUTE QUESTION TO RAG---\n",
      "---RETRIEVE---\n",
      "---CHECK DOCUMENT RELEVANCE TO QUESTION---\n",
      "---GRADE: DOCUMENT RELEVANT---\n",
      "---GRADE: DOCUMENT RELEVANT---\n",
      "---GRADE: DOCUMENT NOT RELEVANT---\n",
      "---GRADE: DOCUMENT NOT RELEVANT---\n",
      "---EVALUATE GRADED DOCUMENTS---\n",
      "---DECISION: ALL DOCUMENTS ARE NOT RELEVANT TO QUESTION, INCLUDE WEB SEARCH---\n",
      "---WEB SEARCH---\n",
      "---PLANNER---\n",
      "---CHECK HALLUCINATIONS---\n",
      "---DECISION: GENERATION IS NOT GROUNDED IN DOCUMENTS, RE-TRY---\n",
      "---PLANNER---\n",
      "---CHECK HALLUCINATIONS---\n",
      "---DECISION: GENERATION IS NOT GROUNDED IN DOCUMENTS, RE-TRY---\n",
      "---PLANNER---\n",
      "---CHECK HALLUCINATIONS---\n",
      "---DECISION: MAX RETRIES REACHED ⚠️---\n",
      "Hello! I'm so excited to help you plan your trip to Rome. You're looking for the famous Fountain of Trevi, and I just know you'll fall in love with it.\n",
      "\n",
      "The Fountain of Trevi is located in the heart of Rome, in a beautiful piazza called Piazza di Trevi. It's one of the most iconic landmarks in the city, and it's a must-see when visiting Rome. To find it, simply head to Piazza di Trevi, which is easily accessible by public transportation or on foot.\n",
      "\n",
      "As you walk into the piazza, you'll be greeted by the stunning baroque architecture and the beautiful fountain itself. The fountain is surrounded by cafes, shops, and street performers, making it a lively and vibrant spot to explore.\n",
      "\n",
      "One of the most famous traditions associated with the Fountain of Trevi is the legend that if you throw a coin into the water, you'll one day return to Rome. It's a fun and romantic tradition that many visitors enjoy, and I highly recommend giving it a try!\n",
      "\n",
      "Make sure to take some time to admire the beautiful architecture and sculptures surrounding the fountain, including the stunning statue of Oceanus on a chariot pulled by two horses. And don't forget to grab a coffee or snack from one of the cafes in the piazza – you'll want to fuel up for all the exploring you'll be doing!\n",
      "\n",
      "I hope this helps, and I'm sure you'll have an amazing time visiting the Fountain of Trevi!\n"
     ]
    }
   ],
   "execution_count": 327
  },
  {
   "metadata": {
    "ExecuteTime": {
     "end_time": "2024-10-19T16:34:36.049985Z",
     "start_time": "2024-10-19T16:34:11.178110Z"
    }
   },
   "cell_type": "code",
   "source": [
    "# Test Graph: expected generation grounded in docs\n",
    "answer = graph.invoke({\"question\":\"Where I need to go while in Aosta-valley?\"})[\"planner\"]\n",
    "print(answer)"
   ],
   "id": "9a98ed4c328d9e66",
   "outputs": [
    {
     "name": "stdout",
     "output_type": "stream",
     "text": [
      "---ROUTE QUESTION---\n",
      "---ROUTE QUESTION TO RAG---\n",
      "---RETRIEVE---\n",
      "---CHECK DOCUMENT RELEVANCE TO QUESTION---\n",
      "---GRADE: DOCUMENT RELEVANT---\n",
      "---GRADE: DOCUMENT RELEVANT---\n",
      "---GRADE: DOCUMENT RELEVANT---\n",
      "---GRADE: DOCUMENT RELEVANT---\n",
      "---EVALUATE GRADED DOCUMENTS---\n",
      "---DECISION: PLANNER---\n",
      "---PLANNER---\n",
      "---CHECK HALLUCINATIONS---\n",
      "---DECISION: GENERATION IS GROUNDED IN DOCUMENTS---\n",
      "---GRADE GENERATION vs QUESTION---\n",
      "---DECISION: GENERATION ADDRESSES QUESTION---\n",
      "Hello! I'm so excited to help you plan your trip to Aosta Valley. This beautiful region in northwest Italy is a treasure trove of natural wonders, rich history, and delicious local cuisine.\n",
      "\n",
      "First, let's talk about the must-see attractions. You'll love visiting the iconic Matterhorn mountain, which towers above the town of Zermatt in Switzerland. But if you're looking for something closer to home, be sure to check out the charming town of Aosta itself, with its medieval old town and stunning views of the valley.\n",
      "\n",
      "Another highlight is the Cervinia ski resort, which offers world-class skiing and breathtaking views of the surrounding mountains. And if you're visiting in winter, don't miss the opportunity to try heliskiing – it's an exhilarating experience that will take your breath away!\n",
      "\n",
      "But Aosta Valley isn't just about outdoor adventures; it's also a haven for foodies and culture lovers. Be sure to try some of the local specialties like tartiflette (a hearty dish made with potatoes, cheese, and cured meats) or polenta e osei (polenta with roasted game birds). And don't forget to wash it all down with a glass of excellent Val d'Aosta wine!\n",
      "\n",
      "Now, I know what you're thinking: \"What about the practical stuff?\" Don't worry, I've got you covered! Make sure to bring comfortable hiking boots or ski gear, depending on your plans. And if you're planning to explore the town, don't forget to try some of the local gelato – it's a game-changer!\n",
      "\n",
      "Lastly, be sure to check out the many festivals and events that take place throughout the year, like the Aosta Valley Wine Festival or the Matterhorn Marathon.\n",
      "\n",
      "I hope this gives you a good starting point for planning your trip. Remember to take your time, enjoy the scenery, and soak up the local culture – it's an experience you'll never forget!\n",
      "\n",
      "I hope you have an amazing time! Safe travels!\n"
     ]
    }
   ],
   "execution_count": 328
  },
  {
   "metadata": {
    "ExecuteTime": {
     "end_time": "2024-10-19T16:35:41.616823Z",
     "start_time": "2024-10-19T16:34:36.064214Z"
    }
   },
   "cell_type": "code",
   "source": [
    "# Test Graph: expected generation NOT grounded in docs\n",
    "answer = graph.invoke({\"question\":\"What kind of food I can eat while visiting Paris?\"})[\"planner\"]\n",
    "print(answer)\n"
   ],
   "id": "2bd35c6635b67d2f",
   "outputs": [
    {
     "name": "stdout",
     "output_type": "stream",
     "text": [
      "---ROUTE QUESTION---\n",
      "---ROUTE QUESTION TO WEB SEARCH---\n",
      "---WEB SEARCH---\n",
      "---PLANNER---\n",
      "---CHECK HALLUCINATIONS---\n",
      "---DECISION: GENERATION IS NOT GROUNDED IN DOCUMENTS, RE-TRY---\n",
      "---PLANNER---\n",
      "---CHECK HALLUCINATIONS---\n",
      "---DECISION: GENERATION IS NOT GROUNDED IN DOCUMENTS, RE-TRY---\n",
      "---PLANNER---\n",
      "---CHECK HALLUCINATIONS---\n",
      "---DECISION: MAX RETRIES REACHED ⚠️---\n",
      "Hello! Oh, I'm so excited to talk about the food in Paris! You're going to love it - it's truly one of the best culinary experiences you'll ever have. French cuisine is all about rich flavors, intricate preparations, and of course, exquisite presentation.\n",
      "\n",
      "First of all, let's start with a classic: croque-monsieur. This is essentially a grilled ham and cheese sandwich that's been elevated to an art form in Paris. You can find it on menus everywhere, from cozy cafes to high-end restaurants. And trust me, you won't be disappointed - the combination of melted cheese, crispy bread, and savory ham is absolute perfection.\n",
      "\n",
      "Another must-try is escargots. Now, I know what you're thinking: \"Snails? Really?\" But trust me, these little guys are a game-changer. They're typically served as an appetizer, and they're usually cooked in garlic butter - it's like a flavor explosion in your mouth!\n",
      "\n",
      "And then there's the famous French baguette. You can't leave Paris without trying a freshly baked baguette with some cheese and charcuterie. It's the perfect snack to grab on the go or enjoy at a charming sidewalk cafe.\n",
      "\n",
      "Now, I know you're probably thinking about dessert, and let me tell you - France has got it covered! One of my personal favorites is the baba au rhum. This rich, creamy pastry is filled with rum-infused custard and topped with caramelized sugar - it's like a little piece of heaven in every bite.\n",
      "\n",
      "Of course, no trip to Paris would be complete without trying some macarons. These delicate meringue-based cookies are sandwiched together with ganache or buttercream fillings, and they come in a variety of flavors. You'll find them at bakeries and patisseries all over the city.\n",
      "\n",
      "And finally, let's talk about profiteroles. These cream-filled choux pastry balls are essentially French cream puffs, but don't be fooled - they're so much more than that! They're light, airy, and utterly addictive.\n",
      "\n",
      "Now, I know you might be thinking, \"Okay, this all sounds amazing, but where do I go to try it?\" Well, my friend, the good news is that Paris has an incredible food scene. You can find these dishes at restaurants, cafes, and even street vendors throughout the city. Just remember to always eat at a reputable establishment, especially when trying new foods.\n",
      "\n",
      "One last tip: don't be afraid to try some of the lesser-known dishes or hidden gems. That's where you'll really discover the authentic flavors of Paris. And don't forget to bring your appetite!\n",
      "\n",
      "I hope you have an amazing time exploring the culinary delights of Paris! Safe travels, and bon appétit!\n"
     ]
    }
   ],
   "execution_count": 329
  },
  {
   "metadata": {},
   "cell_type": "markdown",
   "source": "## ",
   "id": "c445ed8050f147b4"
  }
 ],
 "metadata": {
  "kernelspec": {
   "display_name": "Python 3 (ipykernel)",
   "language": "python",
   "name": "python3"
  },
  "language_info": {
   "codemirror_mode": {
    "name": "ipython",
    "version": 3
   },
   "file_extension": ".py",
   "mimetype": "text/x-python",
   "name": "python",
   "nbconvert_exporter": "python",
   "pygments_lexer": "ipython3",
   "version": "3.12.0"
  }
 },
 "nbformat": 4,
 "nbformat_minor": 5
}
