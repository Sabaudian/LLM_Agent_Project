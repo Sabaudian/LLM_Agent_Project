{
 "cells": [
  {
   "metadata": {},
   "cell_type": "markdown",
   "source": "# Project Title",
   "id": "1dd8e93f30822961"
  },
  {
   "metadata": {},
   "cell_type": "markdown",
   "source": "## Import",
   "id": "9e31f05146607c0f"
  },
  {
   "cell_type": "code",
   "id": "initial_id",
   "metadata": {
    "collapsed": true
   },
   "source": [
    "# Install required packages\n",
    "%pip install -qU chromadb\n",
    "%pip install -qU tiktoken\n",
    "%pip install -qU langchain\n",
    "%pip install -qU langgraph\n",
    "%pip install -qU langchainhub\n",
    "%pip install -qU tavily-python\n",
    "%pip install -qU \"nomic[local]\"\n",
    "%pip install -qU langchain-nomic\n",
    "%pip install -qU langchain-ollama\n",
    "%pip install -qU langchain_community\n"
   ],
   "outputs": [],
   "execution_count": null
  },
  {
   "metadata": {
    "ExecuteTime": {
     "end_time": "2024-10-15T14:37:15.090794Z",
     "start_time": "2024-10-15T14:37:15.086283Z"
    }
   },
   "cell_type": "code",
   "source": [
    "# Import\n",
    "import os\n",
    "import getpass\n",
    "import operator\n",
    "\n",
    "from pydantic import BaseModel, Field\n",
    "from typing_extensions import TypedDict\n",
    "from typing import Annotated, List, Literal\n",
    "from IPython.display import Image, display\n",
    "from langchain_core.runnables.graph import MermaidDrawMethod\n",
    "\n",
    "from langchain import hub\n",
    "from langchain.schema import Document\n",
    "from langchain_ollama import ChatOllama\n",
    "from langchain_community.vectorstores import Chroma\n",
    "from langchain_core.prompts import ChatPromptTemplate\n",
    "from langchain_nomic.embeddings import NomicEmbeddings\n",
    "from langchain_core.output_parsers import StrOutputParser\n",
    "from langchain_community.document_loaders import WebBaseLoader\n",
    "from langchain.text_splitter import RecursiveCharacterTextSplitter\n",
    "from langchain_community.tools.tavily_search import TavilySearchResults\n",
    "\n",
    "from langgraph.graph import START, END, StateGraph\n",
    "\n",
    "import warnings\n",
    "warnings.filterwarnings(\"ignore\")\n"
   ],
   "id": "cdcb8304d4ee8aca",
   "outputs": [],
   "execution_count": 109
  },
  {
   "metadata": {},
   "cell_type": "markdown",
   "source": "## Setup",
   "id": "e016b0c8bbdfba8e"
  },
  {
   "metadata": {
    "ExecuteTime": {
     "end_time": "2024-10-15T13:38:55.207615Z",
     "start_time": "2024-10-15T13:38:31.600851Z"
    }
   },
   "cell_type": "code",
   "source": [
    "# Setup environment \n",
    "def _set_env(key: str) -> None:\n",
    "    \"\"\"\n",
    "    Set the environment variables.\n",
    "        Args:\n",
    "            key (str): The name of the environment variable.\n",
    "    \"\"\"\n",
    "    if key not in os.environ:\n",
    "        os.environ[key] = getpass.getpass(f\"Enter {key}:\")\n",
    "\n",
    "_set_env(\"LANGCHAIN_API_KEY\")\n",
    "_set_env(\"NOMIC_API_KEY\")\n",
    "_set_env(\"TAVILY_API_KEY\")\n",
    "\n",
    "# LangChain key: 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\n",
    "# Nomic key: nk-2lWlK26_eyFeHHN8bAA4tiIaqEJNjJ8vCGkIlnBiz1M\n",
    "# Tavily key: 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\n"
   ],
   "id": "9da72bbf3b9d71c8",
   "outputs": [],
   "execution_count": 6
  },
  {
   "metadata": {
    "ExecuteTime": {
     "end_time": "2024-10-15T14:16:41.407992Z",
     "start_time": "2024-10-15T14:16:41.365635Z"
    }
   },
   "cell_type": "code",
   "source": [
    "# LLM\n",
    "local_llm = \"llama3.2\"\n",
    "llm = ChatOllama(model=local_llm, temperature=0)\n"
   ],
   "id": "89c73d74d3d4243d",
   "outputs": [],
   "execution_count": 73
  },
  {
   "metadata": {},
   "cell_type": "markdown",
   "source": "## Vectorstore",
   "id": "e23514490ceacc1"
  },
  {
   "metadata": {
    "ExecuteTime": {
     "end_time": "2024-10-15T14:18:30.216954Z",
     "start_time": "2024-10-15T14:18:23.171224Z"
    }
   },
   "cell_type": "code",
   "source": [
    "# Documents\n",
    "urls = [\n",
    "    \"https://www.italia.it/en/lazio/rome/guide-history-facts\",\n",
    "    \"https://www.italia.it/en/lombardy/milan/guide-history-facts\",\n",
    "    \"https://www.italia.it/en/piedmont/turin/guide-history-facts\",\n",
    "    \"https://www.italia.it/en/emilia-romagna/bologna/guide-history-facts\",\n",
    "    \"https://www.italia.it/en/tuscany/florence/guide-history-facts\",\n",
    "    \"https://www.italia.it/en/campania/naples/guide-history-facts\",\n",
    "    \"https://www.italia.it/en/sicily/palermo/guide-history-facts\",\n",
    "    \"https://www.italia.it/en/trentino/trento/guide-history-facts\",\n",
    "    \"https://www.italia.it/en/aosta-valley/aosta/guide-history-facts\",\n",
    "    \"https://www.italia.it/en/veneto/venice/guide-history-facts\",\n",
    "    \"https://www.italia.it/en/sardinia/cagliari/guide-history-facts\",\n",
    "    \"https://www.italia.it/en/puglia/bari/guide-history-facts\",\n",
    "]\n",
    "\n",
    "# Load documents\n",
    "docs = [WebBaseLoader(url).load() for url in urls]\n",
    "docs_list = [item for sublist in docs for item in sublist]\n",
    "\n",
    "# Split documents\n",
    "text_splitter = RecursiveCharacterTextSplitter.from_tiktoken_encoder(\n",
    "    chunk_size=500, chunk_overlap=0\n",
    ")\n",
    "doc_splits = text_splitter.split_documents(docs_list)\n",
    "\n",
    "# Set embeddings\n",
    "embeddings = NomicEmbeddings(model=\"nomic-embed-text-v1.5\")\n",
    "\n",
    "# Add to vectorstore\n",
    "vectorstore = Chroma.from_documents(documents=doc_splits, embedding=embeddings)\n",
    "\n",
    "# Create retriever\n",
    "retriever = vectorstore.as_retriever(search_type=\"similarity\", search_kwargs={\"k\": 3})\n"
   ],
   "id": "c2d4139929c0d430",
   "outputs": [],
   "execution_count": 75
  },
  {
   "metadata": {
    "ExecuteTime": {
     "end_time": "2024-10-15T14:27:53.986451Z",
     "start_time": "2024-10-15T14:27:53.081430Z"
    }
   },
   "cell_type": "code",
   "source": [
    "# Retrieve example\n",
    "retriever.invoke(\"Duomo\")"
   ],
   "id": "58d907e55ddba0cf",
   "outputs": [
    {
     "data": {
      "text/plain": [
       "[Document(metadata={'description': 'Discover what to see in Milan, city of Duomo and Castello Sforzesco. Find on Italia.it new ideas for your holidays in Italy.', 'language': 'en', 'source': 'https://www.italia.it/en/lombardy/milan/guide-history-facts', 'title': 'Milan, much more than the capital of fashion - Italia.it'}, page_content=\"Previous\\n\\n\\n\\n\\n\\nCity\\n\\n\\n\\nLike\\n\\n\\n\\n\\n\\n\\n\\n\\n\\n\\n\\nMilan\\n\\n\\n\\nLombardy, Milan\\n\\n\\n\\n\\n\\n\\n\\n\\nNext\\n\\n\\n\\n\\n\\n\\n\\n\\n\\n\\n\\n\\n\\n\\n\\n\\n                Generic error\\n            \\n\\n\\n\\n\\n\\n\\n\\n\\n\\nWhat to see in Milan on 11 stops\\n\\n\\n\\n\\n\\n\\n\\n\\n\\n\\n\\n\\n\\n\\n\\nThe first thing to do when you arrive is to visit Milan’s quintessential central monument: the Duomo, with its majestically soaring spires and the golden Madonnina statue at the top overlooking the city. It is a marvellous example of Gothic art and architecture and the largest church in Italy.\\n\\nLeaving the Duomo aside, there are many other things to see in Lombardy's capital. Below is a list of them arranged by topic.\\nMilan and modernity\\nMilan is home to true jewels of contemporary architecture, such as the futuristic CityLife district (designed by architects Arata Isozaki, Daniel Libeskind and Zaha Hadid) with its Three Towers or the Bosco Verticale, the Vertical Forest, two apartment blocks covered in greenery, the result of a metropolitan reforestation project designed by Boeri Studio. In front of the Italian stock exchange is Piazza Affari, home to the provocative sculpture Love by Maurizio Cattelan.\"),\n",
       " Document(metadata={'description': 'Discover what to see in Milan, city of Duomo and Castello Sforzesco. Find on Italia.it new ideas for your holidays in Italy.', 'language': 'en', 'source': 'https://www.italia.it/en/lombardy/milan/guide-history-facts', 'title': 'Milan, much more than the capital of fashion - Italia.it'}, page_content=\"Previous\\n\\n\\n\\n\\n\\nCity\\n\\n\\n\\nLike\\n\\n\\n\\n\\n\\n\\n\\n\\n\\n\\n\\nMilan\\n\\n\\n\\nLombardy, Milan\\n\\n\\n\\n\\n\\n\\n\\n\\nNext\\n\\n\\n\\n\\n\\n\\n\\n\\n\\n\\n\\n\\n\\n\\n\\n\\n                Generic error\\n            \\n\\n\\n\\n\\n\\n\\n\\n\\n\\nWhat to see in Milan on 11 stops\\n\\n\\n\\n\\n\\n\\n\\n\\n\\n\\n\\n\\n\\n\\n\\nThe first thing to do when you arrive is to visit Milan’s quintessential central monument: the Duomo, with its majestically soaring spires and the golden Madonnina statue at the top overlooking the city. It is a marvellous example of Gothic art and architecture and the largest church in Italy.\\n\\nLeaving the Duomo aside, there are many other things to see in Lombardy's capital. Below is a list of them arranged by topic.\\nMilan and modernity\\nMilan is home to true jewels of contemporary architecture, such as the futuristic CityLife district (designed by architects Arata Isozaki, Daniel Libeskind and Zaha Hadid) with its Three Towers or the Bosco Verticale, the Vertical Forest, two apartment blocks covered in greenery, the result of a metropolitan reforestation project designed by Boeri Studio. In front of the Italian stock exchange is Piazza Affari, home to the provocative sculpture Love by Maurizio Cattelan.\"),\n",
       " Document(metadata={'description': 'Discover what to see in Milan, city of Duomo and Castello Sforzesco. Find on Italia.it new ideas for your holidays in Italy.', 'language': 'en', 'source': 'https://www.italia.it/en/lombardy/milan/guide-history-facts', 'title': 'Milan, much more than the capital of fashion - Italia.it'}, page_content=\"Previous\\n\\n\\n\\n\\n\\nCity\\n\\n\\n\\nLike\\n\\n\\n\\n\\n\\n\\n\\n\\n\\n\\n\\nMilan\\n\\n\\n\\nLombardy, Milan\\n\\n\\n\\n\\n\\n\\n\\n\\nNext\\n\\n\\n\\n\\n\\n\\n\\n\\n\\n\\n\\n\\n\\n\\n\\n\\n                Generic error\\n            \\n\\n\\n\\n\\n\\n\\n\\n\\n\\nWhat to see in Milan on 11 stops\\n\\n\\n\\n\\n\\n\\n\\n\\n\\n\\n\\n\\n\\n\\n\\nThe first thing to do when you arrive is to visit Milan’s quintessential central monument: the Duomo, with its majestically soaring spires and the golden Madonnina statue at the top overlooking the city. It is a marvellous example of Gothic art and architecture and the largest church in Italy.\\n\\nLeaving the Duomo aside, there are many other things to see in Lombardy's capital. Below is a list of them arranged by topic.\\nMilan and modernity\\nMilan is home to true jewels of contemporary architecture, such as the futuristic CityLife district (designed by architects Arata Isozaki, Daniel Libeskind and Zaha Hadid) with its Three Towers or the Bosco Verticale, the Vertical Forest, two apartment blocks covered in greenery, the result of a metropolitan reforestation project designed by Boeri Studio. In front of the Italian stock exchange is Piazza Affari, home to the provocative sculpture Love by Maurizio Cattelan.\")]"
      ]
     },
     "execution_count": 76,
     "metadata": {},
     "output_type": "execute_result"
    }
   ],
   "execution_count": 76
  },
  {
   "metadata": {},
   "cell_type": "markdown",
   "source": "## Components",
   "id": "aaad6c70d3a07fde"
  },
  {
   "metadata": {
    "ExecuteTime": {
     "end_time": "2024-10-15T15:16:32.246378Z",
     "start_time": "2024-10-15T15:16:32.241122Z"
    }
   },
   "cell_type": "code",
   "source": [
    "## Router\n",
    "class QueryRoute(BaseModel):\n",
    "    \"\"\"\n",
    "      Route a user query to the most relevant datasource.\n",
    "    \"\"\"\n",
    "    datasource: Literal[\"vectorstore\", \"web_search\"] = Field(\n",
    "        ...,\n",
    "        description=\"Given a user question choose to route it to web search or a vectorstore.\",\n",
    "    )\n"
   ],
   "id": "502286dda58571e",
   "outputs": [],
   "execution_count": 133
  },
  {
   "metadata": {
    "ExecuteTime": {
     "end_time": "2024-10-15T15:16:33.224456Z",
     "start_time": "2024-10-15T15:16:33.219940Z"
    }
   },
   "cell_type": "code",
   "source": [
    "# LLM\n",
    "structured_llm_router = llm.with_structured_output(QueryRoute)\n",
    "\n",
    "# System prompt\n",
    "router_instructions = \"\"\"You are an expert at routing a user question to a vectorstore or web search.\n",
    "The vectorstore contains documents related to some famous italian city, touristic and historical places, food and travel tips for tourists.\n",
    "Use the vectorstore for questions on these topics. Otherwise, use web-search.\"\"\"\n",
    "\n",
    "# Combine the system message and user question in a prompt template\n",
    "route_prompt = ChatPromptTemplate.from_messages(\n",
    "    [\n",
    "        (\"system\", router_instructions),\n",
    "        (\"human\", \"{question}\"),\n",
    "    ]\n",
    ")\n",
    "question_router = route_prompt | structured_llm_router\n"
   ],
   "id": "eccbabb5cf436257",
   "outputs": [],
   "execution_count": 134
  },
  {
   "metadata": {
    "ExecuteTime": {
     "end_time": "2024-10-15T15:16:35.940234Z",
     "start_time": "2024-10-15T15:16:34.329598Z"
    }
   },
   "cell_type": "code",
   "source": [
    "## Test router\n",
    "print(question_router.invoke({\"question\": \"Where is the Colosseum?\"})) # expected result: vectorstore\n",
    "\n",
    "print(question_router.invoke({\"question\": \"What is the capital of France?\"})) # expected result: web_search"
   ],
   "id": "983a9fd150bab4e7",
   "outputs": [
    {
     "name": "stdout",
     "output_type": "stream",
     "text": [
      "datasource='vectorstore'\n",
      "datasource='web_search'\n"
     ]
    }
   ],
   "execution_count": 135
  },
  {
   "metadata": {
    "ExecuteTime": {
     "end_time": "2024-10-15T15:16:54.598090Z",
     "start_time": "2024-10-15T15:16:54.594349Z"
    }
   },
   "cell_type": "code",
   "source": [
    "# Retrieval Grader\n",
    "class GradeDocs(BaseModel):\n",
    "    \"\"\"Binary score for relevance check on retrieved documents.\"\"\"\n",
    "\n",
    "    binary_score: str = Field(\n",
    "        description=\"Documents are relevant to the question, 'yes' or 'no'\"\n",
    "    )\n"
   ],
   "id": "6bf37bfe0c3e49a6",
   "outputs": [],
   "execution_count": 136
  },
  {
   "metadata": {
    "ExecuteTime": {
     "end_time": "2024-10-15T15:16:55.975007Z",
     "start_time": "2024-10-15T15:16:55.970171Z"
    }
   },
   "cell_type": "code",
   "source": [
    "# LLM\n",
    "structured_llm_grader = llm.with_structured_output(GradeDocs)\n",
    "\n",
    "# Prompt\n",
    "doc_grader_instructions = \"\"\"You are a grader assessing relevance of a retrieved document to a user question. \\n \n",
    "    If the document contains keyword(s) or semantic meaning related to the user question, grade it as relevant. \\n\n",
    "    It does not need to be a stringent test. The goal is to filter out erroneous retrievals. \\n\n",
    "    Give a binary score 'yes' or 'no' score to indicate whether the document is relevant to the question.\"\"\"\n",
    "\n",
    "\n",
    "grade_prompt = ChatPromptTemplate.from_messages(\n",
    "    [\n",
    "        (\"system\", doc_grader_instructions),\n",
    "        (\"human\", \"Retrieved document: \\n\\n {document} \\n\\n User question: {question}\"),\n",
    "    ]\n",
    ")\n",
    "retrieval_grader = grade_prompt | structured_llm_grader"
   ],
   "id": "b88c7cde3cff0e8d",
   "outputs": [],
   "execution_count": 137
  },
  {
   "metadata": {
    "ExecuteTime": {
     "end_time": "2024-10-15T15:17:02.957689Z",
     "start_time": "2024-10-15T15:16:57.984762Z"
    }
   },
   "cell_type": "code",
   "source": [
    "## Test grader\n",
    "\n",
    "# First question: expected score = yes\n",
    "question_1 = \"Where is the Colosseum located?\"\n",
    "relevant_document_1 = retriever.get_relevant_documents(question_1)\n",
    "docs_text_1 = relevant_document_1[1].page_content\n",
    "print(retrieval_grader.invoke({\"question\": question_1, \"document\": docs_text_1}))\n",
    "\n",
    "# Second question: expected score = no\n",
    "question_2 = \"Who won the olympics 2024?\"\n",
    "relevant_document_2 = retriever.get_relevant_documents(question_2)\n",
    "docs_text_2 = relevant_document_2[1].page_content\n",
    "print(retrieval_grader.invoke({\"question\": question_2, \"document\": docs_text_2}))"
   ],
   "id": "50aa1188cc7afb7f",
   "outputs": [
    {
     "name": "stdout",
     "output_type": "stream",
     "text": [
      "binary_score='yes'\n",
      "binary_score='no'\n"
     ]
    }
   ],
   "execution_count": 138
  },
  {
   "metadata": {
    "ExecuteTime": {
     "end_time": "2024-10-15T15:17:06.514727Z",
     "start_time": "2024-10-15T15:17:05.564209Z"
    }
   },
   "cell_type": "code",
   "source": [
    "## Generate\n",
    "\n",
    "# Prompt \n",
    "rag_prompt = hub.pull(\"rlm/rag-prompt\")\n",
    "\n",
    "# Post-processing\n",
    "def format_docs(documents):\n",
    "    return \"\\n\\n\".join(doc.page_content for doc in documents)\n",
    "\n",
    "# Chain\n",
    "rag_chain = rag_prompt | llm | StrOutputParser()\n"
   ],
   "id": "c8412720329adfdb",
   "outputs": [],
   "execution_count": 139
  },
  {
   "metadata": {
    "ExecuteTime": {
     "end_time": "2024-10-15T15:17:13.650347Z",
     "start_time": "2024-10-15T15:17:08.101543Z"
    }
   },
   "cell_type": "code",
   "source": [
    "# Generator execution example\n",
    "generate_answer = rag_chain.invoke({\"context\": relevant_document_1, \"question\": question_1})\n",
    "print(generate_answer)"
   ],
   "id": "2e1b929e92164beb",
   "outputs": [
    {
     "name": "stdout",
     "output_type": "stream",
     "text": [
      "The Colosseum is located in Rome, Italy. It is one of the capital's symbols and was built between 70 and 80 AD as the largest and most famous Roman amphitheatre in the world. The Colosseum is situated near Piazza Venezia at the foot of Campidoglio.\n"
     ]
    }
   ],
   "execution_count": 140
  },
  {
   "metadata": {
    "ExecuteTime": {
     "end_time": "2024-10-15T15:17:15.544422Z",
     "start_time": "2024-10-15T15:17:15.540762Z"
    }
   },
   "cell_type": "code",
   "source": [
    "# Hallucination Grader\n",
    "class GradeHallucinations(BaseModel):\n",
    "    \"\"\"Binary score for hallucination present in generation answer.\"\"\"\n",
    "\n",
    "    binary_score: str = Field(\n",
    "        description=\"Answer is grounded in the facts, 'yes' or 'no'\"\n",
    "    )\n",
    "    "
   ],
   "id": "3a1168eb123bfef6",
   "outputs": [],
   "execution_count": 141
  },
  {
   "metadata": {
    "ExecuteTime": {
     "end_time": "2024-10-15T15:17:16.659161Z",
     "start_time": "2024-10-15T15:17:16.654935Z"
    }
   },
   "cell_type": "code",
   "source": [
    "# LLM\n",
    "structured_llm_grader = llm.with_structured_output(GradeHallucinations)\n",
    "\n",
    "# Prompt\n",
    "hallucination_grader_instructions = \"\"\"You are a grader assessing whether an LLM generation is grounded in / supported by a set of retrieved facts. \\n \n",
    "     Give a binary score 'yes' or 'no'. 'Yes' means that the answer is grounded in / supported by the set of facts.\"\"\"\n",
    "\n",
    "hallucination_grader_prompt = ChatPromptTemplate.from_messages(\n",
    "    [\n",
    "        (\"system\", hallucination_grader_instructions),\n",
    "        (\"human\", \"Set of facts: \\n\\n {documents} \\n\\n LLM generation: {generation}\"),\n",
    "    ]\n",
    ")\n",
    "hallucination_grader = hallucination_grader_prompt | structured_llm_grader\n"
   ],
   "id": "f1d465ebb6cc8fae",
   "outputs": [],
   "execution_count": 142
  },
  {
   "metadata": {
    "ExecuteTime": {
     "end_time": "2024-10-15T15:17:22.761978Z",
     "start_time": "2024-10-15T15:17:18.073324Z"
    }
   },
   "cell_type": "code",
   "source": [
    "# Test hallucination grader\n",
    "hallucination_grader.invoke({\"documents\": relevant_document_1, \"generation\": generate_answer})\n"
   ],
   "id": "79f59939b7856167",
   "outputs": [
    {
     "data": {
      "text/plain": [
       "GradeHallucinations(binary_score='yes')"
      ]
     },
     "execution_count": 143,
     "metadata": {},
     "output_type": "execute_result"
    }
   ],
   "execution_count": 143
  },
  {
   "metadata": {
    "ExecuteTime": {
     "end_time": "2024-10-15T15:17:22.783392Z",
     "start_time": "2024-10-15T15:17:22.779756Z"
    }
   },
   "cell_type": "code",
   "source": [
    "# Answer Grader\n",
    "class GradeAnswers(BaseModel):\n",
    "    \"\"\"Binary score to assess answer addresses question.\"\"\"\n",
    "\n",
    "    answer_is_good: str = Field(\n",
    "        description=\"Answer addresses the question, 'yes' or 'no'\"\n",
    "    )\n",
    "    "
   ],
   "id": "48c72983b2bfbd88",
   "outputs": [],
   "execution_count": 144
  },
  {
   "metadata": {
    "ExecuteTime": {
     "end_time": "2024-10-15T15:17:22.797010Z",
     "start_time": "2024-10-15T15:17:22.794168Z"
    }
   },
   "cell_type": "code",
   "source": [
    "# LLM\n",
    "structured_llm_grader = llm.with_structured_output(GradeAnswers)\n",
    "\n",
    "# Prompt\n",
    "answer_grader_instructions = \"\"\"You are a grader assessing whether an answer addresses / resolves a question \\n \n",
    "     Give a binary score 'yes' or 'no'. Yes' means that the answer resolves the question.\"\"\"\n",
    "\n",
    "answer_prompt = ChatPromptTemplate.from_messages(\n",
    "    [\n",
    "        (\"system\", answer_grader_instructions),\n",
    "        (\"human\", \"User question: \\n\\n {question} \\n\\n LLM generation: {generation}\"),\n",
    "    ]\n",
    ")\n",
    "\n",
    "answer_grader = answer_prompt | structured_llm_grader\n"
   ],
   "id": "1c722ee3669c9cb1",
   "outputs": [],
   "execution_count": 145
  },
  {
   "metadata": {
    "ExecuteTime": {
     "end_time": "2024-10-15T15:17:23.742652Z",
     "start_time": "2024-10-15T15:17:22.806536Z"
    }
   },
   "cell_type": "code",
   "source": [
    "# Answer grader execution example\n",
    "answer_grader.invoke({\"question\": question_1, \"generation\": generate_answer})\n"
   ],
   "id": "8aa7b6de0e0c7ed1",
   "outputs": [
    {
     "data": {
      "text/plain": [
       "GradeAnswers(answer_is_good='yes')"
      ]
     },
     "execution_count": 146,
     "metadata": {},
     "output_type": "execute_result"
    }
   ],
   "execution_count": 146
  },
  {
   "metadata": {},
   "cell_type": "markdown",
   "source": "# Questions Re-writer\n",
   "id": "49af23b45bd3d6cf"
  },
  {
   "metadata": {
    "ExecuteTime": {
     "end_time": "2024-10-15T15:17:42.736513Z",
     "start_time": "2024-10-15T15:17:42.733375Z"
    }
   },
   "cell_type": "code",
   "source": [
    "# Prompt\n",
    "re_write_instructions = \"\"\"You are a question re-writer that converts an input question to a better version that is optimized \\n \n",
    "     for vectorstore retrieval. Look at the input and try to reason about the underlying semantic intent / meaning.\"\"\"\n",
    "\n",
    "re_write_prompt = ChatPromptTemplate.from_messages(\n",
    "    [\n",
    "        (\"system\", re_write_instructions),\n",
    "        (\n",
    "            \"human\",\n",
    "            \"Here is the initial question: \\n\\n {question} \\n Formulate an improved question.\",\n",
    "        ),\n",
    "    ]\n",
    ")\n",
    "\n",
    "question_rewriter = re_write_prompt | llm | StrOutputParser()\n"
   ],
   "id": "d9931d0cf0bda834",
   "outputs": [],
   "execution_count": 148
  },
  {
   "metadata": {
    "ExecuteTime": {
     "end_time": "2024-10-15T15:17:48.072252Z",
     "start_time": "2024-10-15T15:17:43.878187Z"
    }
   },
   "cell_type": "code",
   "source": [
    "# Test question re-writer \n",
    "question_rewriter.invoke({\"question\": question_1})\n"
   ],
   "id": "ae2fce3bfed98dac",
   "outputs": [
    {
     "data": {
      "text/plain": [
       "'Improved Question:\\nWhat city in Italy is home to the ancient Roman amphitheater known as the Colosseum?\\n\\nReasoning:\\n\\n1. **Location specificity**: The original question asks for a general location, whereas the improved question specifies that it\\'s looking for a city in Italy.\\n2. **Contextualization**: Adding \"ancient Roman\" and \"amphitheater\" provides more context about what is being referred to, making it easier for search algorithms to understand the intent behind the query.\\n3. **Reducing ambiguity**: By specifying \"Colosseum\", we\\'re reducing the likelihood of returning results for other similar structures or landmarks.\\n\\nThis improved question is better suited for vector store retrieval because it:\\n\\n* Provides more specific and relevant information\\n* Reduces ambiguity and noise in search results\\n* Is more likely to return accurate and relevant results from the vector store.'"
      ]
     },
     "execution_count": 149,
     "metadata": {},
     "output_type": "execute_result"
    }
   ],
   "execution_count": 149
  },
  {
   "metadata": {},
   "cell_type": "markdown",
   "source": "# Tavily: web search tool",
   "id": "6402affb0ad722ed"
  },
  {
   "metadata": {
    "ExecuteTime": {
     "end_time": "2024-10-15T15:17:52.707038Z",
     "start_time": "2024-10-15T15:17:48.093421Z"
    }
   },
   "cell_type": "code",
   "source": [
    "# Initialize Tavily to retrieve the top 3 web search results\n",
    "tavily_web_search = TavilySearchResults(max_results=3)\n",
    "\n",
    "# example of use\n",
    "tavily_web_search.invoke({\"query\": \"What is the typical dessert of the city of Treviso?\"})"
   ],
   "id": "46f0efe4667406b",
   "outputs": [
    {
     "data": {
      "text/plain": [
       "[{'url': 'https://www.accademiadeltiramisu.com/en/tiramisu-from-treviso-italys-patriotic-dessert/',\n",
       "  'content': 'Tiramisù, a typical dessert from Treviso, was the first dessert to have patriotic ingredients. Looking at these ingredients, and at the historic period and the development of the recipe, it is easy to understand many aspects of the Treviso origins of this dessert. Lo scrittore Giovanni Comisso (1895 - 1969) In the 19th century, during the ...'},\n",
       " {'url': 'https://www.visititaly.eu/food-and-flavours/treviso-tiramisu-taste-and-tradition',\n",
       "  'content': \"The pride of Treviso Tiramisù's gastronomic offerings is the traditional recipe that, from the tables of the city of Treviso, ... Instead, head to the first floor if, in addition to Tiramisù and typical desserts, you want to savor classic local recipes revisited in a modern and creative way.\"},\n",
       " {'url': 'https://www.arcaguesthouse.it/en/2022/01/14/tiramisu-the-best-dessert-in-treviso/',\n",
       "  'content': 'On this day, you can stroll through the streets of the city, sampling different preparations of the dessert here and there. Here are some typical little places where you can taste Treviso\\'s delicious and aphrodisiac tiramisu. -Il Tiramisù. \"A fetina\", \"a vantiera\", \"el vaseto\" and \"a crema\" … you can choose from a number of ...'}]"
      ]
     },
     "execution_count": 150,
     "metadata": {},
     "output_type": "execute_result"
    }
   ],
   "execution_count": 150
  },
  {
   "metadata": {},
   "cell_type": "markdown",
   "source": "## Building the graph",
   "id": "717d1acf42306cf9"
  },
  {
   "metadata": {
    "ExecuteTime": {
     "end_time": "2024-10-15T15:17:52.732197Z",
     "start_time": "2024-10-15T15:17:52.729789Z"
    }
   },
   "cell_type": "code",
   "source": [
    "class State(TypedDict):\n",
    "    \"\"\"\n",
    "    Represents the state of our graph.\n",
    "\n",
    "    Attributes:\n",
    "        question: question.\n",
    "        generation: LLM generation.\n",
    "        documents: list of documents.\n",
    "        max_retries: the maximum number of hallucination checks permitted.\n",
    "        loop_step: Indicates the current step in a looping process.\n",
    "    \"\"\"\n",
    "    question: str\n",
    "    generation: str\n",
    "    documents: List[str]\n",
    "    max_retries: int\n",
    "    loop_step: Annotated[int, operator.add]\n",
    "    "
   ],
   "id": "d0ac06cb9d3ba98",
   "outputs": [],
   "execution_count": 151
  },
  {
   "metadata": {},
   "cell_type": "markdown",
   "source": "### Define the Nodes",
   "id": "a01fed4e0fa0970b"
  },
  {
   "metadata": {
    "ExecuteTime": {
     "end_time": "2024-10-15T15:17:52.746412Z",
     "start_time": "2024-10-15T15:17:52.741843Z"
    }
   },
   "cell_type": "code",
   "source": [
    "# Node: retrieve documents\n",
    "def retrieve(state: State):\n",
    "    \"\"\"\n",
    "    Retrieve documents from vectorstore\n",
    "\n",
    "    Args:\n",
    "        state (dict): The current graph state\n",
    "\n",
    "    Returns:\n",
    "        state (dict): New key added to state, documents, that contains retrieved documents\n",
    "    \"\"\"\n",
    "    print(\"---RETRIEVE---\")\n",
    "    question = state[\"question\"]\n",
    "\n",
    "    # Retrieval\n",
    "    documents = retriever.invoke(question)\n",
    "    return {\"documents\": documents, \"question\": question}\n",
    "\n",
    "\n",
    "# Node: generate answer\n",
    "def generate(state: State):\n",
    "    \"\"\"\n",
    "    Generate answer using RAG on retrieved documents\n",
    "\n",
    "    Args:\n",
    "        state (dict): The current graph state\n",
    "\n",
    "    Returns:\n",
    "        state (dict): New key added to state, generation, that contains LLM generation\n",
    "    \"\"\"\n",
    "    print(\"---GENERATE---\")\n",
    "    question = state[\"question\"]\n",
    "    documents = state[\"documents\"]\n",
    "    loop_step = state.get(\"loop_step\", 0)\n",
    "\n",
    "    # RAG generation\n",
    "    generation = rag_chain.invoke({\"context\": documents, \"question\": question})\n",
    "    return {\"documents\": documents, \"question\": question, \"generation\": generation, \"loop_step\": loop_step + 1}\n",
    "\n",
    "\n",
    "def grade_documents(state: State):\n",
    "    \"\"\"\n",
    "    Determines whether the retrieved documents are relevant to the question.\n",
    "\n",
    "    Args:\n",
    "        state (dict): The current graph state\n",
    "\n",
    "    Returns:\n",
    "        state (dict): Updates documents key with only filtered relevant documents\n",
    "    \"\"\"\n",
    "\n",
    "    print(\"---CHECK DOCUMENT RELEVANCE TO QUESTION---\")\n",
    "    question = state[\"question\"]\n",
    "    documents = state[\"documents\"]\n",
    "\n",
    "    # Score each doc\n",
    "    filtered_docs = []\n",
    "    for d in documents:\n",
    "        score = retrieval_grader.invoke(\n",
    "            {\"question\": question, \"document\": d.page_content}\n",
    "        )\n",
    "        grade = score.binary_score\n",
    "        if grade == \"yes\":\n",
    "            print(\"---GRADE: DOCUMENT RELEVANT---\")\n",
    "            filtered_docs.append(d)\n",
    "        else:\n",
    "            print(\"---GRADE: DOCUMENT NOT RELEVANT---\")\n",
    "            continue\n",
    "    return {\"documents\": filtered_docs, \"question\": question}\n",
    "\n",
    "\n",
    "def transform_query(state: State):\n",
    "    \"\"\"\n",
    "    Transform the query to produce a better question.\n",
    "\n",
    "    Args:\n",
    "        state (dict): The current graph state\n",
    "\n",
    "    Returns:\n",
    "        state (dict): Updates question key with a re-phrased question\n",
    "    \"\"\"\n",
    "\n",
    "    print(\"---TRANSFORM QUERY---\")\n",
    "    question = state[\"question\"]\n",
    "    documents = state[\"documents\"]\n",
    "\n",
    "    # Re-write question\n",
    "    better_question = question_rewriter.invoke({\"question\": question})\n",
    "    return {\"documents\": documents, \"question\": better_question}\n",
    "\n",
    "\n",
    "def web_search(state: State):\n",
    "    \"\"\"\n",
    "    Web search based on the re-phrased question.\n",
    "\n",
    "    Args:\n",
    "        state (dict): The current graph state\n",
    "\n",
    "    Returns:\n",
    "        state (dict): Updates documents key with appended web results\n",
    "    \"\"\"\n",
    "\n",
    "    print(\"---WEB SEARCH---\")\n",
    "    question = state[\"question\"]\n",
    "\n",
    "    # Web search\n",
    "    documents = tavily_web_search.invoke({\"query\": question})\n",
    "    web_results = \"\\n\".join([d[\"content\"] for d in documents])\n",
    "    web_results = Document(page_content=web_results)\n",
    "\n",
    "    return {\"documents\": web_results, \"question\": question}\n",
    "    "
   ],
   "id": "4519601d13bef003",
   "outputs": [],
   "execution_count": 152
  },
  {
   "metadata": {},
   "cell_type": "markdown",
   "source": "### Define the Edges",
   "id": "15869e86f241f21d"
  },
  {
   "metadata": {
    "ExecuteTime": {
     "end_time": "2024-10-15T15:43:29.439888Z",
     "start_time": "2024-10-15T15:43:29.434414Z"
    }
   },
   "cell_type": "code",
   "source": [
    "def route_question(state: State):\n",
    "    \"\"\"\n",
    "    Route question to web search or RAG.\n",
    "\n",
    "    Args:\n",
    "        state (dict): The current graph state\n",
    "\n",
    "    Returns:\n",
    "        str: Next node to call\n",
    "    \"\"\"\n",
    "\n",
    "    print(\"---ROUTE QUESTION---\")\n",
    "    question = state[\"question\"]\n",
    "    source = question_router.invoke({\"question\": question})\n",
    "    if source.datasource == \"web_search\":\n",
    "        print(\"---ROUTE QUESTION TO WEB SEARCH---\")\n",
    "        return \"web_search\"\n",
    "    elif source.datasource == \"vectorstore\":\n",
    "        print(\"---ROUTE QUESTION TO RAG---\")\n",
    "        return \"vectorstore\"\n",
    "\n",
    "\n",
    "def decide_to_generate(state: State):\n",
    "    \"\"\"\n",
    "    Determines whether to generate an answer, or re-generate a question.\n",
    "\n",
    "    Args:\n",
    "        state (dict): The current graph state\n",
    "\n",
    "    Returns:\n",
    "        str: Binary decision for next node to call\n",
    "    \"\"\"\n",
    "\n",
    "    print(\"---ASSESS GRADED DOCUMENTS---\")\n",
    "    # question = state[\"question\"]\n",
    "    filtered_documents = state[\"documents\"]\n",
    "\n",
    "    if not filtered_documents:\n",
    "        # All documents have been filtered check_relevance\n",
    "        # We will re-generate a new query\n",
    "        print(\n",
    "            \"---DECISION: ALL DOCUMENTS ARE NOT RELEVANT TO QUESTION, TRANSFORM QUERY---\"\n",
    "        )\n",
    "        return \"transform_query\"  #### or I can return web_search\n",
    "    else:\n",
    "        # We have relevant documents, so generate answer\n",
    "        print(\"---DECISION: GENERATE---\")\n",
    "        return \"generate\"\n",
    "\n",
    "\n",
    "def grade_generation_v_documents_and_question(state: State):\n",
    "    \"\"\"\n",
    "    Determines whether the generation is grounded in the document and answers question.\n",
    "\n",
    "    Args:\n",
    "        state (dict): The current graph state\n",
    "\n",
    "    Returns:\n",
    "        str: Decision for next node to call\n",
    "    \"\"\"\n",
    "    print(\"---CHECK HALLUCINATIONS---\")\n",
    "    question = state[\"question\"]\n",
    "    documents = state[\"documents\"]\n",
    "    generation = state[\"generation\"]\n",
    "    max_retries = state.get(\"max_retries\", 3)  # Default to 3 if not provided\n",
    "\n",
    "    score = hallucination_grader.invoke(\n",
    "        {\"documents\": documents, \"generation\": generation}\n",
    "    )\n",
    "    grade = score.binary_score\n",
    "\n",
    "    # Check hallucination\n",
    "    if grade == \"yes\":\n",
    "        print(\"---DECISION: GENERATION IS GROUNDED IN DOCUMENTS---\")\n",
    "        # Check question-answering\n",
    "        print(\"---GRADE GENERATION vs QUESTION---\")\n",
    "        score = answer_grader.invoke({\"question\": question, \"generation\": generation})\n",
    "        grade = score.answer_is_good\n",
    "        \n",
    "        if grade == \"yes\":\n",
    "            print(\"---DECISION: GENERATION ADDRESSES QUESTION---\")\n",
    "            return \"useful\"\n",
    "        elif state[\"loop_step\"] <= max_retries:\n",
    "            print(\"---DECISION: GENERATION DOES NOT ADDRESS QUESTION---\")\n",
    "            return \"not useful\"\n",
    "        else:\n",
    "            print(\"---DECISION: MAX RETRIES REACHED---\")\n",
    "            return \"max retries\"\n",
    "    elif state[\"loop_step\"] <= max_retries:\n",
    "        print(f\"---DECISION: GENERATION IS NOT GROUNDED IN DOCUMENTS, RE-TRY---\")\n",
    "        return \"not supported\"\n",
    "    else:\n",
    "        print(\"---DECISION: MAX RETRIES REACHED---\")\n",
    "        return \"max retries\"\n"
   ],
   "id": "c45d4114fd88bd88",
   "outputs": [],
   "execution_count": 172
  },
  {
   "metadata": {
    "ExecuteTime": {
     "end_time": "2024-10-15T15:49:38.600824Z",
     "start_time": "2024-10-15T15:49:38.596369Z"
    }
   },
   "cell_type": "code",
   "source": [
    "# Graph's state\n",
    "workflow = StateGraph(State)\n",
    "\n",
    "# Define the nodes\n",
    "workflow.add_node(\"web_search\", web_search)  # web_search\n",
    "workflow.add_node(\"retrieve\", retrieve)  # retrieve\n",
    "workflow.add_node(\"grade_documents\", grade_documents)  # grade_documents\n",
    "workflow.add_node(\"generate\", generate)  # generate\n",
    "# workflow.add_node(\"transform_query\", transform_query)  # transform_query\n",
    "\n",
    "# Build graph: add the edges and condition\n",
    "workflow.add_conditional_edges(\n",
    "    START,\n",
    "    route_question,\n",
    "    {\n",
    "        \"web_search\": \"web_search\",\n",
    "        \"vectorstore\": \"retrieve\",\n",
    "    },\n",
    ")\n",
    "workflow.add_edge(\"web_search\", \"generate\")\n",
    "workflow.add_edge(\"retrieve\", \"grade_documents\")\n",
    "workflow.add_conditional_edges(\n",
    "    \"grade_documents\",\n",
    "    decide_to_generate,\n",
    "    {\n",
    "        # \"transform_query\": \"transform_query\",\n",
    "        \"generate\": \"generate\",\n",
    "        \"web_search\": \"web_search\",\n",
    "    },\n",
    ")\n",
    "# workflow.add_edge(\"transform_query\", \"retrieve\")\n",
    "workflow.add_conditional_edges(\n",
    "    \"generate\",\n",
    "    grade_generation_v_documents_and_question,\n",
    "    {\n",
    "        \"not supported\": \"generate\",\n",
    "        \"useful\": END,\n",
    "        \"not useful\": \"web_search\",\n",
    "        \"max retries\": END,\n",
    "    },\n",
    ")\n",
    "\n",
    "# Compile\n",
    "graph = workflow.compile()\n"
   ],
   "id": "e8699e5be93fc2d",
   "outputs": [],
   "execution_count": 182
  },
  {
   "metadata": {},
   "cell_type": "markdown",
   "source": "### Plot the graph",
   "id": "8910f8344d96ceb5"
  },
  {
   "metadata": {
    "ExecuteTime": {
     "end_time": "2024-10-15T15:49:43.004424Z",
     "start_time": "2024-10-15T15:49:41.916058Z"
    }
   },
   "cell_type": "code",
   "source": [
    "# Display the graph\n",
    "display(Image(graph.get_graph().draw_mermaid_png(draw_method=MermaidDrawMethod.API)))\n"
   ],
   "id": "a3e362ff4952701f",
   "outputs": [
    {
     "data": {
      "image/jpeg": "[encoded data removed]",
      "text/plain": [
       "<IPython.core.display.Image object>"
      ]
     },
     "metadata": {},
     "output_type": "display_data"
    }
   ],
   "execution_count": 183
  },
  {
   "metadata": {
    "ExecuteTime": {
     "end_time": "2024-10-15T15:50:39.228113Z",
     "start_time": "2024-10-15T15:50:03.278330Z"
    }
   },
   "cell_type": "code",
   "source": [
    "# Test Graph\n",
    "answer = graph.invoke({\"question\":\"What kind of food I can eat while visiting Rome?\"})[\"generation\"]\n",
    "print(answer)"
   ],
   "id": "2fcccff2c1e14741",
   "outputs": [
    {
     "name": "stdout",
     "output_type": "stream",
     "text": [
      "---ROUTE QUESTION---\n",
      "---ROUTE QUESTION TO RAG---\n",
      "---RETRIEVE---\n",
      "---CHECK DOCUMENT RELEVANCE TO QUESTION---\n",
      "---GRADE: DOCUMENT RELEVANT---\n",
      "---GRADE: DOCUMENT RELEVANT---\n",
      "---GRADE: DOCUMENT RELEVANT---\n",
      "---ASSESS GRADED DOCUMENTS---\n",
      "---DECISION: GENERATE---\n",
      "---GENERATE---\n",
      "---CHECK HALLUCINATIONS---\n",
      "---DECISION: GENERATION IS NOT GROUNDED IN DOCUMENTS, RE-TRY---\n",
      "---GENERATE---\n",
      "---CHECK HALLUCINATIONS---\n",
      "---DECISION: GENERATION IS NOT GROUNDED IN DOCUMENTS, RE-TRY---\n",
      "---GENERATE---\n",
      "---CHECK HALLUCINATIONS---\n",
      "---DECISION: MAX RETRIES REACHED---\n",
      "You can try traditional Roman dishes such as Pasta alla carbonara, Bucatini all'amatriciana, and Roman gnocchi. Meat dishes like Saltimbocca alla romana, Coda alla vaccinara, and Trippa alla romana are also highly recommended. Additionally, you can explore local markets and try fresh produce, cheeses, and pastries.\n"
     ]
    }
   ],
   "execution_count": 184
  },
  {
   "metadata": {
    "ExecuteTime": {
     "end_time": "2024-10-15T15:56:49.414595Z",
     "start_time": "2024-10-15T15:56:36.861930Z"
    }
   },
   "cell_type": "code",
   "source": [
    "# See more details\n",
    "inputs = {\"question\": \"What kind of food I can eat while visiting Paris?\", \"max_retries\": 3}\n",
    "for event in graph.stream(inputs, stream_mode=\"values\"):\n",
    "    print(event)"
   ],
   "id": "ef98248d9d62b8bd",
   "outputs": [
    {
     "name": "stdout",
     "output_type": "stream",
     "text": [
      "---ROUTE QUESTION---\n",
      "---ROUTE QUESTION TO WEB SEARCH---\n",
      "{'question': 'What kind of food I can eat while visiting Paris?', 'max_retries': 3, 'loop_step': 0}\n",
      "---WEB SEARCH---\n",
      "{'question': 'What kind of food I can eat while visiting Paris?', 'documents': Document(metadata={}, page_content=\"9. Poulet Rôti. There is nothing like the sight and smell of whole rotisserie chickens slowly turn on a roaster. Poulet rôti, also known as rotisserie chicken, is a classic Paris food that is inexpensive, easy to find in every neighborhood, and completely satisfying.\\nThese sandwiches are made to perfection, and we’ll tell you more about just how amazing Parisian bread and cheese are in a moment, which should convince you to eat as a local would!\\nWhere to get it: Croques can be found at nearly every Parisian restaurant, and each has its own take, but the best is at Faste.\\n12. The flavor is a perfect harmony of sweet and savory, and although you could eat it anywhere in the world or make it at home, Paris makes it best and is a tourist meal that allows for a full Paris food scene experience.\\n These light flakey pastries are perfect to pair with sweet or savory toppings and can be found just about anywhere in the city, but you can head to a boulangerie in Paris for these delicacies and kick off your day the right way with a delicious breakfast in Paris.\\n If you want a dessert fit for kings, look no further than the Baba au Rhum to fill your tum.\\nWhere to get it: Stohrer was named after the Baba au Rhum inventor himself, so it is the perfect place to get this dessert.\\n If you want to know what to eat in Paris and the best place to find it, you will love these 24 signature treats and dishes that make up the Paris food scene.\\n\\nMost food tours in Paris offer cheese and wine, but we include a full, sit-down meal! Enjoy a feast of French cheeses, oysters, street food, boeuf bourguignon, crème brûlée, and more. This 3-hour food tour combines the best of Paris' culinary heritage and you won't find a better deal out there!\"), 'max_retries': 3, 'loop_step': 0}\n",
      "---GENERATE---\n",
      "---CHECK HALLUCINATIONS---\n",
      "---DECISION: GENERATION IS GROUNDED IN DOCUMENTS---\n",
      "---GRADE GENERATION vs QUESTION---\n",
      "---DECISION: GENERATION ADDRESSES QUESTION---\n",
      "{'question': 'What kind of food I can eat while visiting Paris?', 'generation': 'You can try Poulet Rôti (rotisserie chicken), flaky pastries, or the signature Baba au Rhum dessert while visiting Paris. These classic French foods are easy to find in every neighborhood and offer a satisfying dining experience. You can also consider taking a food tour that includes a full meal with French cheeses, oysters, and other local specialties.', 'documents': Document(metadata={}, page_content=\"9. Poulet Rôti. There is nothing like the sight and smell of whole rotisserie chickens slowly turn on a roaster. Poulet rôti, also known as rotisserie chicken, is a classic Paris food that is inexpensive, easy to find in every neighborhood, and completely satisfying.\\nThese sandwiches are made to perfection, and we’ll tell you more about just how amazing Parisian bread and cheese are in a moment, which should convince you to eat as a local would!\\nWhere to get it: Croques can be found at nearly every Parisian restaurant, and each has its own take, but the best is at Faste.\\n12. The flavor is a perfect harmony of sweet and savory, and although you could eat it anywhere in the world or make it at home, Paris makes it best and is a tourist meal that allows for a full Paris food scene experience.\\n These light flakey pastries are perfect to pair with sweet or savory toppings and can be found just about anywhere in the city, but you can head to a boulangerie in Paris for these delicacies and kick off your day the right way with a delicious breakfast in Paris.\\n If you want a dessert fit for kings, look no further than the Baba au Rhum to fill your tum.\\nWhere to get it: Stohrer was named after the Baba au Rhum inventor himself, so it is the perfect place to get this dessert.\\n If you want to know what to eat in Paris and the best place to find it, you will love these 24 signature treats and dishes that make up the Paris food scene.\\n\\nMost food tours in Paris offer cheese and wine, but we include a full, sit-down meal! Enjoy a feast of French cheeses, oysters, street food, boeuf bourguignon, crème brûlée, and more. This 3-hour food tour combines the best of Paris' culinary heritage and you won't find a better deal out there!\"), 'max_retries': 3, 'loop_step': 1}\n"
     ]
    }
   ],
   "execution_count": 186
  },
  {
   "metadata": {},
   "cell_type": "code",
   "outputs": [],
   "execution_count": null,
   "source": "",
   "id": "6b20ba69f3095a3e"
  }
 ],
 "metadata": {
  "kernelspec": {
   "display_name": "Python 3",
   "language": "python",
   "name": "python3"
  },
  "language_info": {
   "codemirror_mode": {
    "name": "ipython",
    "version": 2
   },
   "file_extension": ".py",
   "mimetype": "text/x-python",
   "name": "python",
   "nbconvert_exporter": "python",
   "pygments_lexer": "ipython2",
   "version": "2.7.6"
  }
 },
 "nbformat": 4,
 "nbformat_minor": 5
}
