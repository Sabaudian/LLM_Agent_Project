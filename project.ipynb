{
 "cells": [
  {
   "cell_type": "markdown",
   "id": "1dd8e93f30822961",
   "metadata": {},
   "source": [
    "# Project Title"
   ]
  },
  {
   "cell_type": "markdown",
   "id": "9e31f05146607c0f",
   "metadata": {},
   "source": [
    "## Import"
   ]
  },
  {
   "cell_type": "code",
   "id": "initial_id",
   "metadata": {
    "ExecuteTime": {
     "end_time": "2024-10-18T12:59:44.141073Z",
     "start_time": "2024-10-18T12:59:35.711498Z"
    }
   },
   "source": [
    "# Install required packages\n",
    "%pip install -qU bs4\n",
    "%pip install -qU chromadb\n",
    "%pip install -qU tiktoken\n",
    "%pip install -qU langchain\n",
    "%pip install -qU langgraph\n",
    "%pip install -qU langchainhub\n",
    "%pip install -qU tavily-python\n",
    "%pip install -qU \"nomic[local]\"\n",
    "%pip install -qU langchain-nomic\n",
    "%pip install -qU langchain-ollama\n",
    "%pip install -qU langchain_community\n"
   ],
   "outputs": [
    {
     "name": "stdout",
     "output_type": "stream",
     "text": [
      "Note: you may need to restart the kernel to use updated packages.\n",
      "Note: you may need to restart the kernel to use updated packages.\n",
      "Note: you may need to restart the kernel to use updated packages.\n",
      "Note: you may need to restart the kernel to use updated packages.\n",
      "Note: you may need to restart the kernel to use updated packages.\n",
      "Note: you may need to restart the kernel to use updated packages.\n",
      "Note: you may need to restart the kernel to use updated packages.\n",
      "Note: you may need to restart the kernel to use updated packages.\n",
      "Note: you may need to restart the kernel to use updated packages.\n",
      "Note: you may need to restart the kernel to use updated packages.\n",
      "Note: you may need to restart the kernel to use updated packages.\n"
     ]
    }
   ],
   "execution_count": 1
  },
  {
   "cell_type": "code",
   "id": "cdcb8304d4ee8aca",
   "metadata": {
    "ExecuteTime": {
     "end_time": "2024-10-18T13:00:08.054912Z",
     "start_time": "2024-10-18T13:00:08.051770Z"
    }
   },
   "source": [
    "# Import\n",
    "import os\n",
    "import getpass\n",
    "import operator\n",
    "import requests\n",
    "\n",
    "from bs4 import BeautifulSoup\n",
    "from urllib.parse import urljoin\n",
    "from pydantic import BaseModel, Field\n",
    "from typing_extensions import TypedDict\n",
    "from IPython.display import Image, display\n",
    "from typing import Annotated, List, Literal\n",
    "\n",
    "# from langchain import hub\n",
    "from langchain.schema import Document\n",
    "from langchain_ollama import ChatOllama\n",
    "from langchain_community.vectorstores import Chroma\n",
    "from langchain_core.prompts import ChatPromptTemplate\n",
    "from langchain_nomic.embeddings import NomicEmbeddings\n",
    "from langchain_core.output_parsers import StrOutputParser\n",
    "from langchain_core.runnables.graph import MermaidDrawMethod\n",
    "from langchain_community.document_loaders import WebBaseLoader\n",
    "from langchain.text_splitter import RecursiveCharacterTextSplitter\n",
    "from langchain_community.tools.tavily_search import TavilySearchResults\n",
    "\n",
    "from langgraph.graph import START, END, StateGraph\n",
    "\n",
    "import warnings\n",
    "warnings.filterwarnings(\"ignore\")\n"
   ],
   "outputs": [],
   "execution_count": 3
  },
  {
   "metadata": {
    "ExecuteTime": {
     "end_time": "2024-10-18T13:32:06.545386Z",
     "start_time": "2024-10-18T13:32:06.542944Z"
    }
   },
   "cell_type": "code",
   "source": [
    "## Constants\n",
    "\n",
    "# The base URL and the webpage to crawl\n",
    "ITA_HOMEPAGE_URL = \"https://www.italia.it/en\"       # WebPage for Data extraction \n",
    "EN_BASE_URL = \"https://www.italia.it/en\"   # Base URL address for crawling internal URLs \n",
    "\n",
    "# # Regions List for URLs\n",
    "# REGIONS = [\"abbruzzo\", \"aosta-valley\", \"puglia\", \"basilicata\", \"calabria\", \"campania\", \"emilia-romagna\", \"friuli-venezia-giulia\", \"lazio\", \"liguria\", \"lombardy\", \"marche\", \"piedmont\", \"sardinia\", \"trentino\", \"south-tyrol\", \"tuscany\", \"umbria\", \"veneto\"] \n"
   ],
   "id": "7a3f9774a315c7c3",
   "outputs": [],
   "execution_count": 10
  },
  {
   "cell_type": "markdown",
   "id": "e016b0c8bbdfba8e",
   "metadata": {},
   "source": [
    "## Setup"
   ]
  },
  {
   "cell_type": "code",
   "id": "9da72bbf3b9d71c8",
   "metadata": {
    "ExecuteTime": {
     "end_time": "2024-10-18T13:00:34.220204Z",
     "start_time": "2024-10-18T13:00:16.849540Z"
    }
   },
   "source": [
    "# Setup environment \n",
    "def _set_env(key: str) -> None:\n",
    "    \"\"\"\n",
    "    Set the environment variables.\n",
    "        Args:\n",
    "            key (str): The name of the environment variable.\n",
    "    \"\"\"\n",
    "    if key not in os.environ:\n",
    "        os.environ[key] = getpass.getpass(f\"Enter {key}:\")\n",
    "\n",
    "# _set_env(\"LANGCHAIN_API_KEY\")\n",
    "_set_env(\"NOMIC_API_KEY\")\n",
    "_set_env(\"TAVILY_API_KEY\")\n",
    "\n",
    "# LangChain key: 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\n",
    "# Nomic key: nk-2lWlK26_eyFeHHN8bAA4tiIaqEJNjJ8vCGkIlnBiz1M\n",
    "# Tavily key: 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\n"
   ],
   "outputs": [],
   "execution_count": 4
  },
  {
   "cell_type": "code",
   "id": "89c73d74d3d4243d",
   "metadata": {
    "ExecuteTime": {
     "end_time": "2024-10-18T14:43:23.275357Z",
     "start_time": "2024-10-18T14:43:23.231136Z"
    }
   },
   "source": [
    "# LLM \n",
    "local_llm = \"llama3.2\"  \n",
    "llm = ChatOllama(model=local_llm, temperature=0)\n",
    "\n",
    "# Initialize Tavily to retrieve the top 3 web search results\n",
    "tavily_web_search = TavilySearchResults(max_results=3)\n"
   ],
   "outputs": [],
   "execution_count": 42
  },
  {
   "metadata": {
    "ExecuteTime": {
     "end_time": "2024-10-18T16:53:03.779667Z",
     "start_time": "2024-10-18T16:53:03.554154Z"
    }
   },
   "cell_type": "code",
   "source": [
    "# retrieve internal links from a webpage \n",
    "def get_internal_links(website_url, base_url):\n",
    "    \"\"\"\n",
    "        Retrieves internal links from the given webpage URL that start with the base URL.\n",
    "    \n",
    "        Args:\n",
    "        - website_url (str): The URL of the webpage to crawl.\n",
    "        - base_url (str): The base URL to filter internal links (e.g., \"https://www.italia.it/en\").\n",
    "    \n",
    "        Returns:\n",
    "        - list[str]: A list of internal URLs that begin with the base URL.\n",
    "    \"\"\"\n",
    "    # Send a request to the website\n",
    "    response = requests.get(website_url)\n",
    "    \n",
    "    # Parse the content of the webpage\n",
    "    soup = BeautifulSoup(response.content, \"html.parser\")\n",
    "    \n",
    "    # Set of internal links\n",
    "    internal_links = set()\n",
    "    \n",
    "    # Find all <a> tags with href attributes\n",
    "    for link in soup.find_all(\"a\", href=True):\n",
    "        # Convert relative URLs to absolute URLs\n",
    "        href = urljoin(base_url, link[\"href\"])\n",
    "        \n",
    "        # Check if the URL starts with the base URL\n",
    "        if href.startswith(base_url):\n",
    "            internal_links.add(href)\n",
    "    \n",
    "    return list(internal_links)\n",
    "\n",
    "# The base URL and the webpage to crawl\n",
    "italian_url = \"https://www.italia.it/en\"\n",
    "en_base_address = \"https://www.italia.it/en\"\n",
    "\n",
    "# # List to store internal URLs from all regions\n",
    "# all_internal_urls = []\n",
    "# \n",
    "# # Craw internal URLs\n",
    "# for region in REGIONS:\n",
    "#     # Dynamically create the base URL for each region\n",
    "#     base_url = f\"{italian_url}/{region}\"\n",
    "#     \n",
    "#     # Get internal URLs for the specific region\n",
    "#     internal_urls = get_internal_links(base_url, base_url)\n",
    "#     \n",
    "#     # Add the retrieved URLs to the overall list\n",
    "#     all_internal_urls.extend(internal_urls)\n",
    "# \n",
    "# counter = 0\n",
    "# # Print all internal URLs from all regions\n",
    "# for internal_url in all_internal_urls:\n",
    "#     counter += 1\n",
    "#     print(internal_url)\n",
    "# \n",
    "# print(f\"Counter: {counter}\")\n",
    "\n",
    "# Get the internal URLs\n",
    "urls = get_internal_links(website_url=italian_url, base_url=en_base_address)\n",
    "\n",
    "# Print the list of internal URLs\n",
    "for url in urls:\n",
    "    print(url)\n"
   ],
   "id": "4030e57f7f4e5632",
   "outputs": [
    {
     "name": "stdout",
     "output_type": "stream",
     "text": [
      "https://www.italia.it/en/italy/things-to-do/art-culture/unesco-world-heritage-sites-italy\n",
      "https://www.italia.it/en/login\n",
      "https://www.italia.it/en/italy/things-to-do/small-towns-in-italy-by-the-sea\n",
      "https://www.italia.it/en/basilicata/things-to-do/outdoors-basilicata\n",
      "https://www.italia.it/en/italy/things-to-do/relax-and-wellness\n",
      "https://www.italia.it/en/sicily/catania/things-to-do/event-ottobrata-zafferanese\n",
      "https://www.italia.it/en/italy/things-to-do/luxury-experiences-and-destinations\n",
      "https://www.italia.it/en/sicily/things-to-do/castelmola\n",
      "https://www.italia.it/en/italy/things-to-do/nature/countryside-hills\n",
      "https://www.italia.it/en/italy/seasons/summer\n",
      "https://www.italia.it/en/italy/things-to-do/spirituality\n",
      "https://www.italia.it/en/friuli-venezia-giulia\n",
      "https://www.italia.it/en/south-tyrol/bolzano/things-to-do/event-maratona-di-bolzano\n",
      "https://www.italia.it/en/italy/practical-information/money-payments-and-tipping-in-italy\n",
      "https://www.italia.it/en/italy/beach-destinations\n",
      "https://www.italia.it/en/piedmont/turin/things-to-do/event-nitto-atp-finals-2024\n",
      "https://www.italia.it/en/sicily/lampedusa-island\n",
      "https://www.italia.it/en/tuscany/florence/things-to-do/event-sagra-marroni-marradi\n",
      "https://www.italia.it/en/italy/seasons/spring\n",
      "https://www.italia.it/en/campania\n",
      "https://www.italia.it/en/piedmont/things-to-do/event-fiera-internazionale-tartufo-bianco-alba\n",
      "https://www.italia.it/en/italy/practical-information/travel-document-italy\n",
      "https://www.italia.it/en/practical-information\n",
      "https://www.italia.it/en/lazio\n",
      "https://www.italia.it/en/italy/things-to-do/shopping-markets\n",
      "https://www.italia.it/en/italy/travel-ideas/solo-holidays\n",
      "https://www.italia.it/en/umbria\n",
      "https://www.italia.it/en/italy/things-to-do/italian-best-rural-villages-named-by-unwto\n",
      "https://www.italia.it/en/italy/practical-information/how-to-travel-to-italy-transports\n",
      "https://www.italia.it/en/campania/naples\n",
      "https://www.italia.it/en/italy/things-to-do/nature/national-parks\n",
      "https://www.italia.it/en/emilia-romagna/rimini/things-to-do/event-ecomondo\n",
      "https://www.italia.it/en/italy/italian-cities\n",
      "https://www.italia.it/en/italy/things-to-do/leisure\n",
      "https://www.italia.it/en/marche\n",
      "https://www.italia.it/en/tuscany/capalbio-and-maremma-regional-park\n",
      "https://www.italia.it/en/piedmont\n",
      "https://www.italia.it/en/italy/things-to-do/tax-breaks-for-moving-to-the-italian-villages\n",
      "https://www.italia.it/en/search\n",
      "https://www.italia.it/en/sardinia/costa-smeralda\n",
      "https://www.italia.it/en/tuscany/prato/things-to-do/event-eat-prato\n",
      "https://www.italia.it/en\n",
      "https://www.italia.it/en/sicily\n",
      "https://www.italia.it/en/italy/travel-ideas\n",
      "https://www.italia.it/en/trentino/things-to-do/typical-food-and-dishes-in-trentino-italy\n",
      "https://www.italia.it/en/italy/things-to-do/event-open-wineyards-2024\n",
      "https://www.italia.it/en/campania/things-to-do/cilento\n",
      "https://www.italia.it/en/piedmont/turin/things-to-do/event-artissima-2024\n",
      "https://www.italia.it/en/campania/ischia/things-to-do/thermal-gardens-and-beaches-in-ischia-itinerary\n",
      "https://www.italia.it/en/aosta-valley/courmayeur-style-and-tradition\n",
      "https://www.italia.it/en/veneto/cortina-dampezzo\n",
      "https://www.italia.it/en/italy/things-to-do/art-culture\n",
      "https://www.italia.it/en/italy/italian-regions\n",
      "https://www.italia.it/en/abruzzo\n",
      "https://www.italia.it/en/italy\n",
      "https://www.italia.it/en/accessibility\n",
      "https://www.italia.it/en/italy/where-to-sleep\n",
      "https://www.italia.it/en/lazio/rome/things-to-do/event-romaeuropa-arts-festival-rome\n",
      "https://www.italia.it/en/tuscany/pisa/things-to-do/event-maratona-pisa\n",
      "https://www.italia.it/en/veneto/things-to-do/albano-and-montegrotto-terme-spas-in-2-days\n",
      "https://www.italia.it/en/italy/things-to-do\n",
      "https://www.italia.it/en/emilia-romagna/modena/things-to-do/modena-historic-centre\n",
      "https://www.italia.it/en/italy/things-to-do/nature/lakes\n",
      "https://www.italia.it/en/trentino\n",
      "https://www.italia.it/en/emilia-romagna/things-to-do/wellbeing-on-the-romagna-apennines\n",
      "https://www.italia.it/en/italy/tourist-guides\n",
      "https://www.italia.it/en/emilia-romagna\n",
      "https://www.italia.it/en/calabria\n",
      "https://www.italia.it/en/italy/things-to-do/art-culture/unesco-sites\n",
      "https://www.italia.it/en/aosta-valley/things-to-do/aosta-valley-food-chestnuts\n",
      "https://www.italia.it/en/umbria/perugia/things-to-do/eurochocolate-event-perugia-2024\n",
      "https://www.italia.it/en/lombardy/bergamo/things-to-do/event-salone-del-mobile-bergamo\n",
      "https://www.italia.it/en/cookie-policy\n",
      "https://www.italia.it/en/piedmont/turin\n",
      "https://www.italia.it/en/molise/things-to-do/italian-villages-frosolone\n",
      "https://www.italia.it/en/lazio/rome\n",
      "https://www.italia.it/en/italy/travel-ideas/young-people-holidays\n",
      "https://www.italia.it/en/trentino/madonna-di-campiglio\n",
      "https://www.italia.it/en/italy/tourist-destinations\n",
      "https://www.italia.it/en/italy/seasons\n",
      "https://www.italia.it/en/italy/lake-maggiore-villages-islands-castles\n",
      "https://www.italia.it/en#content\n",
      "https://www.italia.it/en/italy/things-to-do/nature\n",
      "https://www.italia.it/en/piedmont/verbania/things-to-do/event-lago-maggiore-marathon\n",
      "https://www.italia.it/en/italy/rail-transport\n",
      "https://www.italia.it/en/sardinia\n",
      "https://www.italia.it/en/italy/things-to-do/art-culture/museums\n",
      "https://www.italia.it/en/liguria\n",
      "https://www.italia.it/en/campania/isole-del-golfo-capri-procida-ischia\n",
      "https://www.italia.it/en/lombardy/milan\n",
      "https://www.italia.it/en/italy/lake-garda-endless-emotions\n",
      "https://www.italia.it/en/tuscany/chianti\n",
      "https://www.italia.it/en/italea\n",
      "https://www.italia.it/en/lombardy/cremona/things-to-do/event-cremona-s-nougat-festival\n",
      "https://www.italia.it/en/abruzzo/things-to-do/abruzzo-by-bike-cycling-paths\n",
      "https://www.italia.it/en/terms-and-conditions\n",
      "https://www.italia.it/en/italy/things-to-do/sports\n",
      "https://www.italia.it/en/italy/things-to-do/bycicle-touring-italy\n",
      "https://www.italia.it/en/molise\n",
      "https://www.italia.it/en/tuscany\n",
      "https://www.italia.it/en/open-to-meraviglia\n",
      "https://www.italia.it/en/italy/things-to-do/food-and-wine\n",
      "https://www.italia.it/en/italy/things-to-do/dolomites\n",
      "https://www.italia.it/en/italy/things-to-do/art-culture/villages-borghi\n",
      "https://www.italia.it/en/veneto/venice/things-to-do/event-venice-marathon\n",
      "https://www.italia.it/en/tuscany/things-to-do/tuscany-wine-and-food\n",
      "https://www.italia.it/en/puglia\n",
      "https://www.italia.it/en/italy/practical-information/time-zones-and-public-holidays-italy\n",
      "https://www.italia.it/en/veneto\n",
      "https://www.italia.it/en/italy/things-to-do/itineraries\n",
      "https://www.italia.it/en/south-tyrol/bolzano/merano/things-to-do/event-merano-wine-festival-2024\n",
      "https://www.italia.it/en/lombardy/things-to-do/bergamo-cuisine-in-val-brembana\n",
      "https://www.italia.it/en/emilia-romagna/bologna\n",
      "https://www.italia.it/en/profile/wishlist\n",
      "https://www.italia.it/en/italy/things-to-do/events\n",
      "https://www.italia.it/en/italy/practical-information/emergency-and-assistance\n",
      "https://www.italia.it/en/italy/things-to-do/tours-excursions\n",
      "https://www.italia.it/en/tuscany/things-to-do/montecatini-terme-unesco-grandi-terme-europa\n",
      "https://www.italia.it/en/italy/travel-agencies\n",
      "https://www.italia.it/en/italy/practical-information/phones-internet-and-data-roaming-italy\n",
      "https://www.italia.it/en/veneto/venice/things-to-do/5-outdoor-places-to-visit\n",
      "https://www.italia.it/en/italy/mountain-destinations\n",
      "https://www.italia.it/en/italy/nautical-tourism\n",
      "https://www.italia.it/en/italy/things-to-do/intangible-heritage-unesco-italy\n",
      "https://www.italia.it/en/abruzzo/things-to-do/spa-caramanico\n",
      "https://www.italia.it/en/tuscany/arezzo/things-to-do/event-arezzo-antiques-fair\n",
      "https://www.italia.it/en/south-tyrol/bolzano/merano/things-to-do/merano\n",
      "https://www.italia.it/en/privacy-policy\n",
      "https://www.italia.it/en/contact-us\n",
      "https://www.italia.it/en/italy/things-to-do/spirituality/giubileo-2025\n",
      "https://www.italia.it/en/abruzzo/things-to-do/hiking-in-abruzzo-via-dei-lupi\n",
      "https://www.italia.it/en/tuscany/things-to-do/pienza-the-ideal-city\n",
      "https://www.italia.it/en/umbria/things-to-do/outdoor-activities-to-do-in-umbria\n",
      "https://www.italia.it/en/lombardy\n",
      "https://www.italia.it/en/lombardy/milan/things-to-do/event-milan-games-week-e-cartoomics\n",
      "https://www.italia.it/en/puglia/things-to-do/alberobello\n",
      "https://www.italia.it/en/lombardy/milan/things-to-do/event-eicma-2024\n",
      "https://www.italia.it/en/sardinia/barbagia\n",
      "https://www.italia.it/en/italy/travel-ideas/family-holidays\n",
      "https://www.italia.it/en/italy/things-to-do/italian-art-cities-to-explore-by-bike\n",
      "https://www.italia.it/en/basilicata\n",
      "https://www.italia.it/en/italy/things-to-do/getting-back-into-shape-10000-steps-in-unesco-sites\n",
      "https://www.italia.it/en/lombardy/milan/things-to-do/5-parks-to-visit-in-milan\n",
      "https://www.italia.it/en/italy/where-to-eat\n",
      "https://www.italia.it/en/aosta-valley\n",
      "https://www.italia.it/en/abruzzo/things-to-do/italian-truffle-abruzzo\n",
      "https://www.italia.it/en/puglia/gargano\n",
      "https://www.italia.it/en/trentino/things-to-do/modern-and-contemporary-art-museums-of-trentino\n",
      "https://www.italia.it/en/tuscany/florence/things-to-do/eight-alternative-ways-to-visit-florence\n",
      "https://www.italia.it/en/italy/travel-ideas/couple-holidays\n",
      "https://www.italia.it/en/lazio/things-to-do/5-most-beautiful-outdoor-spas-in-lazio\n",
      "https://www.italia.it/en/veneto/venice\n",
      "https://www.italia.it/en/italy/travel-magazine\n",
      "https://www.italia.it/en/italy/seasons/winter\n",
      "https://www.italia.it/en/italy/practical-information/medical-care-and-embassies-italy\n",
      "https://www.italia.it/en/italy/seasons/autumn\n",
      "https://www.italia.it/en/italy/practical-information/how-to-travel-around-italy\n",
      "https://www.italia.it/en/south-tyrol\n"
     ]
    }
   ],
   "execution_count": 175
  },
  {
   "cell_type": "markdown",
   "id": "e23514490ceacc1",
   "metadata": {},
   "source": [
    "## Vectorstore"
   ]
  },
  {
   "cell_type": "code",
   "id": "c2d4139929c0d430",
   "metadata": {},
   "source": [
    "# Load documents\n",
    "docs = [WebBaseLoader(url).load() for url in urls]\n",
    "docs_list = [item for sublist in docs for item in sublist]\n",
    "\n",
    "# Split documents\n",
    "text_splitter = RecursiveCharacterTextSplitter.from_tiktoken_encoder(chunk_size=500, chunk_overlap=0)\n",
    "doc_splits = text_splitter.split_documents(docs_list)\n",
    "\n",
    "# Set embeddings\n",
    "embeddings = NomicEmbeddings(model=\"nomic-embed-text-v1.5\", inference_mode=\"local\")\n",
    "\n",
    "# Add to vectorstore\n",
    "vectorstore = Chroma.from_documents(documents=doc_splits, embedding=embeddings)\n",
    "\n",
    "# Create retriever\n",
    "retriever = vectorstore.as_retriever(k=3)\n"
   ],
   "outputs": [],
   "execution_count": null
  },
  {
   "cell_type": "code",
   "id": "58d907e55ddba0cf",
   "metadata": {
    "ExecuteTime": {
     "end_time": "2024-10-18T17:11:37.141870Z",
     "start_time": "2024-10-18T17:11:37.044067Z"
    }
   },
   "source": [
    "# Test retriever\n",
    "retriever.invoke(\"Duomo\")\n"
   ],
   "outputs": [
    {
     "data": {
      "text/plain": [
       "[Document(metadata={'description': 'From The Last Supper to Milan Cathedral, discover the things to see and do in Milan. Visit the city of fashion and design.', 'language': 'en', 'source': 'https://www.italia.it/en/lombardy/milan', 'title': 'Milan: Things to do & Attractions to visit - Italia.it'}, page_content='The most famous and important square in Milan\\nIt is impossible to travel to Milan and not pass through Piazza Duomo, the central square of the city. With its square shape, it is one of the largest in Italy, and an ideal place to start a tour. It is towered over by the Duomo, \"Domm\" in Milanese, the Gothic style cathedral with spires that is the icon of the Lombardy’s capital. A visit to the Duomo Museum, housed in the halls of the Royal Palace, is recommended. At the center of the square is the monument dedicated to Vittorio Emanuele II, an equestrian statue in bronze, representing the King intent on rein in his horse.\\nA stop at the Galleria Vittorio Emanuele II with its large archway opening onto the square is almost a must. The city’s living room and shopping hub, the elegant and refined Gallery is the perfect place for breakfast or an aperitif. Also on the square is Palazzo dell\\'Arengario which houses the Museo del Novecento.\\n\\n                \\n            \\n\\n\\n\\nLombardy , Milano\\n\\n\\n\\n\\n\\n\\n\\n\\nHistorical sites\\n\\n\\n\\nLike\\n\\n\\n\\n\\n\\n\\n\\n\\n\\n\\n\\n\\n                Navigli'),\n",
       " Document(metadata={'description': 'From The Last Supper to Milan Cathedral, discover the things to see and do in Milan. Visit the city of fashion and design.', 'language': 'en', 'source': 'https://www.italia.it/en/lombardy/milan', 'title': 'Milan: Things to do & Attractions to visit - Italia.it'}, page_content='The most famous and important square in Milan\\nIt is impossible to travel to Milan and not pass through Piazza Duomo, the central square of the city. With its square shape, it is one of the largest in Italy, and an ideal place to start a tour. It is towered over by the Duomo, \"Domm\" in Milanese, the Gothic style cathedral with spires that is the icon of the Lombardy’s capital. A visit to the Duomo Museum, housed in the halls of the Royal Palace, is recommended. At the center of the square is the monument dedicated to Vittorio Emanuele II, an equestrian statue in bronze, representing the King intent on rein in his horse.\\nA stop at the Galleria Vittorio Emanuele II with its large archway opening onto the square is almost a must. The city’s living room and shopping hub, the elegant and refined Gallery is the perfect place for breakfast or an aperitif. Also on the square is Palazzo dell\\'Arengario which houses the Museo del Novecento.\\n\\n                \\n            \\n\\n\\n\\nLombardy , Milano\\n\\n\\n\\n\\n\\n\\n\\n\\nHistorical sites\\n\\n\\n\\nLike\\n\\n\\n\\n\\n\\n\\n\\n\\n\\n\\n\\n\\n                Navigli'),\n",
       " Document(metadata={'description': 'From The Last Supper to Milan Cathedral, discover the things to see and do in Milan. Visit the city of fashion and design.', 'language': 'en', 'source': 'https://www.italia.it/en/lombardy/milan', 'title': 'Milan: Things to do & Attractions to visit - Italia.it'}, page_content=\"The covered passageway between the Teatro alla Scala and the Duomo of Milan\\nGalleria Vittorio Emanuele II is the most famous shopping gallery in Italy. Built in neo-Renaissance style, it is one of the greatest examples of iron architecture in Europe.\\nWith its great triumphal arch entrance that stands out majestically next to the Duomo of Milan, it has a cross-shaped plan and the intersection is called the Octagon, with the central dome measuring 47 meters in height.\\nWhen you visit Milan, this is a must see!\\nTwo-hundred-fifty linear meters where you can find iconic historical stores and those of the most luxurious brands, a 7-star hotel and the Prada Observatory, in a unique historical and architectural context.\\nDon't miss a walk on the roofs, to see Piazza Duomo from above while enjoying an aperitif.\\nAnd don't forget, as a superstitious gesture, to spin three times on the bull’s groin area, a mosaic on the floor at the center of the Gallery.\\n\\n                \\n            \\n\\n\\n\\nLombardia , Milano\\n\\n\\n\\n\\n\\n\\n\\n\\nMuseums and monuments\\n\\n\\n\\nLike\\n\\n\\n\\n\\n\\n\\n\\n\\n\\n\\n\\n\\n                Sforzesco Castle\\n            \\n\\n                \\n                    One of the symbols of the city of Milan\"),\n",
       " Document(metadata={'description': 'From The Last Supper to Milan Cathedral, discover the things to see and do in Milan. Visit the city of fashion and design.', 'language': 'en', 'source': 'https://www.italia.it/en/lombardy/milan', 'title': 'Milan: Things to do & Attractions to visit - Italia.it'}, page_content=\"The covered passageway between the Teatro alla Scala and the Duomo of Milan\\nGalleria Vittorio Emanuele II is the most famous shopping gallery in Italy. Built in neo-Renaissance style, it is one of the greatest examples of iron architecture in Europe.\\nWith its great triumphal arch entrance that stands out majestically next to the Duomo of Milan, it has a cross-shaped plan and the intersection is called the Octagon, with the central dome measuring 47 meters in height.\\nWhen you visit Milan, this is a must see!\\nTwo-hundred-fifty linear meters where you can find iconic historical stores and those of the most luxurious brands, a 7-star hotel and the Prada Observatory, in a unique historical and architectural context.\\nDon't miss a walk on the roofs, to see Piazza Duomo from above while enjoying an aperitif.\\nAnd don't forget, as a superstitious gesture, to spin three times on the bull’s groin area, a mosaic on the floor at the center of the Gallery.\\n\\n                \\n            \\n\\n\\n\\nLombardia , Milano\\n\\n\\n\\n\\n\\n\\n\\n\\nMuseums and monuments\\n\\n\\n\\nLike\\n\\n\\n\\n\\n\\n\\n\\n\\n\\n\\n\\n\\n                Sforzesco Castle\\n            \\n\\n                \\n                    One of the symbols of the city of Milan\")]"
      ]
     },
     "execution_count": 207,
     "metadata": {},
     "output_type": "execute_result"
    }
   ],
   "execution_count": 207
  },
  {
   "cell_type": "markdown",
   "id": "aaad6c70d3a07fde",
   "metadata": {},
   "source": "### Router"
  },
  {
   "cell_type": "code",
   "id": "502286dda58571e",
   "metadata": {
    "ExecuteTime": {
     "end_time": "2024-10-18T17:00:40.898034Z",
     "start_time": "2024-10-18T17:00:40.890296Z"
    }
   },
   "source": [
    "## Router\n",
    "class QueryRoute(BaseModel):\n",
    "    \"\"\"\n",
    "      Route a user query to the most relevant datasource.\n",
    "    \"\"\"\n",
    "    datasource: Literal[\"vectorstore\", \"web_search\"] = Field(\n",
    "        ...,\n",
    "        description=\"Given a user question choose to route it to web search or a vectorstore.\",\n",
    "    )\n",
    "\n",
    "# LLM\n",
    "structured_llm_router = llm.with_structured_output(QueryRoute)\n",
    "\n",
    "# System prompt\n",
    "router_instructions = \"\"\"You are an expert at routing a user question to a vectorstore or web search.\n",
    "The vectorstore contains documents related to some famous italian city, touristic and historical places, food and travel tips for tourists.\n",
    "Use the vectorstore for questions on these topics. Otherwise, use web-search.\"\"\"\n",
    "\n",
    "# Combine the system message and user question in a prompt template\n",
    "route_prompt = ChatPromptTemplate.from_messages(\n",
    "    [\n",
    "        (\"system\", router_instructions),\n",
    "        (\"human\", \"{question}\"),\n",
    "    ]\n",
    ")\n",
    "question_router = route_prompt | structured_llm_router\n"
   ],
   "outputs": [],
   "execution_count": 178
  },
  {
   "cell_type": "code",
   "id": "983a9fd150bab4e7",
   "metadata": {
    "ExecuteTime": {
     "end_time": "2024-10-18T17:00:45.553818Z",
     "start_time": "2024-10-18T17:00:43.243145Z"
    }
   },
   "source": [
    "## Test router\n",
    "print(question_router.invoke({\"question\": \"Where is the Colosseum?\"})) # expected result: vectorstore\n",
    "\n",
    "print(question_router.invoke({\"question\": \"What is the capital of France?\"})) # expected result: web_search"
   ],
   "outputs": [
    {
     "name": "stdout",
     "output_type": "stream",
     "text": [
      "datasource='vectorstore'\n",
      "datasource='web_search'\n"
     ]
    }
   ],
   "execution_count": 179
  },
  {
   "metadata": {},
   "cell_type": "markdown",
   "source": "### Relevance",
   "id": "16d06c021b384042"
  },
  {
   "cell_type": "code",
   "id": "6bf37bfe0c3e49a6",
   "metadata": {
    "ExecuteTime": {
     "end_time": "2024-10-18T17:01:51.985971Z",
     "start_time": "2024-10-18T17:01:51.978985Z"
    }
   },
   "source": [
    "# Retrieval Grader\n",
    "class GradeDocs(BaseModel):\n",
    "    \"\"\"Binary score for relevance check on retrieved documents.\"\"\"\n",
    "\n",
    "    binary_score: str = Field(\n",
    "        description=\"Documents are relevant to the question, 'yes' or 'no'\"\n",
    "    )\n",
    "\n",
    "# LLM\n",
    "structured_llm_retrieval = llm.with_structured_output(GradeDocs)\n",
    "\n",
    "# Prompt\n",
    "doc_grader_instructions = \"\"\"You are a grader assessing relevance of a retrieved document to a user question.  \n",
    "    If the document contains keyword(s) or semantic meaning related to the user question, grade it as relevant. \n",
    "    It does not need to be a stringent test. The goal is to filter out erroneous retrievals. \n",
    "    Give a binary score 'yes' or 'no' score to indicate whether the document is relevant to the question.\"\"\"\n",
    "\n",
    "\n",
    "grade_prompt = ChatPromptTemplate.from_messages(\n",
    "    [\n",
    "        (\"system\", doc_grader_instructions),\n",
    "        (\"human\", \"Retrieved document: \\n\\n {document} \\n\\n User question: {question}\"),\n",
    "    ]\n",
    ")\n",
    "retrieval_grader = grade_prompt | structured_llm_retrieval\n"
   ],
   "outputs": [],
   "execution_count": 180
  },
  {
   "cell_type": "code",
   "id": "50aa1188cc7afb7f",
   "metadata": {
    "ExecuteTime": {
     "end_time": "2024-10-18T17:02:13.341962Z",
     "start_time": "2024-10-18T17:02:10.694399Z"
    }
   },
   "source": [
    "## Test grader\n",
    "question_1 = \"Where is the Colosseum located?\"  # First question: expected score = yes\n",
    "relevant_document_1 = retriever.get_relevant_documents(question_1)\n",
    "docs_text_1 = relevant_document_1[1].page_content\n",
    "print(retrieval_grader.invoke({\"question\": question_1, \"document\": docs_text_1}))\n",
    "\n",
    "question_2 = \"Who won the olympics 2024?\"   # Second question: expected score = no\n",
    "relevant_document_2 = retriever.get_relevant_documents(question_2)\n",
    "docs_text_2 = relevant_document_2[1].page_content\n",
    "print(retrieval_grader.invoke({\"question\": question_2, \"document\": docs_text_2}))\n"
   ],
   "outputs": [
    {
     "name": "stdout",
     "output_type": "stream",
     "text": [
      "binary_score='yes'\n",
      "binary_score='no'\n"
     ]
    }
   ],
   "execution_count": 181
  },
  {
   "cell_type": "code",
   "id": "c8412720329adfdb",
   "metadata": {
    "ExecuteTime": {
     "end_time": "2024-10-18T09:43:00.565847Z",
     "start_time": "2024-10-18T09:42:59.813272Z"
    }
   },
   "source": [
    "# ## Generate\n",
    "# \n",
    "# # Prompt \n",
    "# rag_prompt = hub.pull(\"rlm/rag-prompt\")\n",
    "# # rag_prompt.pretty_print()\n",
    "# \n",
    "# # Post-processing\n",
    "# def format_docs(documents):\n",
    "#     return \"\\n\\n\".join(doc.page_content for doc in documents)\n",
    "# \n",
    "# # Chain\n",
    "# rag_chain = rag_prompt | llm | StrOutputParser()\n"
   ],
   "outputs": [],
   "execution_count": 119
  },
  {
   "cell_type": "code",
   "id": "2e1b929e92164beb",
   "metadata": {},
   "source": [
    "# # Generator execution example\n",
    "# generate_answer = rag_chain.invoke({\"context\": relevant_document_1, \"question\": \"Where is the fountain of Trevi?\"})\n",
    "# print(generate_answer)\n"
   ],
   "outputs": [],
   "execution_count": null
  },
  {
   "metadata": {},
   "cell_type": "markdown",
   "source": "### Planning",
   "id": "7301bbeb4d5406fe"
  },
  {
   "metadata": {
    "ExecuteTime": {
     "end_time": "2024-10-18T17:02:46.098815Z",
     "start_time": "2024-10-18T17:02:46.094450Z"
    }
   },
   "cell_type": "code",
   "source": [
    "## Planning\n",
    "\n",
    "# Prompt\n",
    "planner_instructions = \"\"\"\n",
    "You are an expert travel planner with a kind and friendly personality. Always start the conversation by saying hello. You're excited to help travelers plan their perfect vacation with engaging and heartfelt recommendations. Present the information as if you are talking to a friend, making sure to be warm, conversational, and enthusiastic about the places to visit, the local cuisine, and tips for the trip. Make it feel like a personal guide. Don't be concise, but be conversational.\n",
    "\n",
    "Question: {question}\n",
    "Context: {context}\n",
    "\n",
    "Plan:\n",
    "- **Places to Visit**: \n",
    "    Start by warmly describing the main attractions, what makes them special, and why they're must-sees. Use friendly language like \"You’ll love visiting...\" or \"Make sure to check out...\"\n",
    "    \n",
    "- **Local Cuisine**: \n",
    "    Describe the local dishes with enthusiasm, like you're sharing a favorite meal with a friend. Phrases like \"You can't leave without trying...\" or \"One bite of this and you'll see why it's a local favorite...\" will make it feel personal.\n",
    "\n",
    "- **Tips for Travelers**: \n",
    "    Offer helpful advice as if you're giving insider knowledge, with kind reminders like \"Don’t forget to bring...\" or \"It's always good to know that...\"\n",
    "\n",
    "End with a friendly closing note like: \"I hope you have an amazing time! Safe travels!\"\n",
    "\"\"\"\n",
    "\n",
    "planner_prompt = ChatPromptTemplate.from_messages(\n",
    "    [\n",
    "        (\"system\", planner_instructions),\n",
    "        (\"human\", \"User question: \\n\\n {question}\"),\n",
    "    ]\n",
    ")\n",
    "plan_chain = planner_prompt | llm | StrOutputParser()\n"
   ],
   "id": "b6053c79b5c28389",
   "outputs": [],
   "execution_count": 182
  },
  {
   "metadata": {
    "ExecuteTime": {
     "end_time": "2024-10-18T16:34:56.225647Z",
     "start_time": "2024-10-18T16:34:44.374683Z"
    }
   },
   "cell_type": "code",
   "source": [
    "# Test planner\n",
    "planner_question = \"What kind of places can I visit in Rome?\"\n",
    "relevant_docs = retriever.get_relevant_documents(planner_question)\n",
    "generated_plan = plan_chain.invoke({\"context\": relevant_docs, \"question\": planner_question})\n",
    "print(generated_plan)\n"
   ],
   "id": "fabd8be62ea0dec",
   "outputs": [
    {
     "name": "stdout",
     "output_type": "stream",
     "text": [
      "Rome, the Eternal City, is a treasure trove of history, architecture, art, and culture. There are countless amazing places to visit in Rome, but here are some of the top attractions:\n",
      "\n",
      "**Historical Landmarks**\n",
      "\n",
      "1. Colosseum (Il Colosseo): This ancient amphitheater is one of Rome's most iconic landmarks and a must-visit.\n",
      "2. Roman Forum (Foro Romano): Explore the ancient heart of Rome, featuring ruins of temples, basilicas, and markets.\n",
      "3. Pantheon (Pantheon di Roma): Admire this magnificently preserved ancient temple with an impressive dome.\n",
      "\n",
      "**Vatican City**\n",
      "\n",
      "1. Vatican Museums (Musei Vaticani): Discover art and history from the Vatican's vast collections, including works by Michelangelo and Raphael.\n",
      "2. Sistine Chapel (Capella Sistina): Marvel at Michelangelo's famous ceiling paintings in this iconic chapel.\n",
      "3. St. Peter's Basilica (Basilica di San Pietro): The largest Christian church in the world, featuring stunning architecture and art.\n",
      "\n",
      "**Other Attractions**\n",
      "\n",
      "1. Trevi Fountain (Fontana di Trevi): Toss a coin into this beautiful baroque fountain to ensure your return to Rome.\n",
      "2. Spanish Steps (Scalinata di Spagna): One of Rome's most famous landmarks, offering great views of the city.\n",
      "3. Castel Sant'Angelo: Explore this ancient fortress-turned-museum with stunning views of the Tiber Island.\n",
      "\n",
      "**Neighborhoods and Markets**\n",
      "\n",
      "1. Trastevere: A charming neighborhood known for its narrow streets, beautiful piazzas, and lively nightlife.\n",
      "2. Campo de' Fiori: Visit this bustling market square to sample local food and drinks.\n",
      "3. Piazza Navona: Admire the beautiful baroque architecture and fountains in this vibrant square.\n",
      "\n",
      "**Parks and Gardens**\n",
      "\n",
      "1. Villa Borghese: A peaceful oasis with gardens, a lake, and several museums.\n",
      "2. Giardino degli Aranci (Orange Garden): A tranquil spot with stunning views of the city.\n",
      "3. Capuchin Crypt (Cripta dei Cappuccini): Explore this unique and fascinating crypt.\n",
      "\n",
      "These are just a few of the many amazing places to visit in Rome. With so much history, art, and culture on offer, you're sure to have an unforgettable experience in this incredible city!\n"
     ]
    }
   ],
   "execution_count": 138
  },
  {
   "metadata": {},
   "cell_type": "markdown",
   "source": "### Check for hallucination",
   "id": "c7757286ddef5f63"
  },
  {
   "cell_type": "code",
   "id": "3a1168eb123bfef6",
   "metadata": {
    "ExecuteTime": {
     "end_time": "2024-10-18T17:15:35.276687Z",
     "start_time": "2024-10-18T17:15:35.271281Z"
    }
   },
   "source": [
    "# Hallucination Grader\n",
    "class GradeHallucinations(BaseModel):\n",
    "    \"\"\"Binary score for hallucination present in generation answer.\"\"\"\n",
    "\n",
    "    binary_score: str = Field(\n",
    "        description=\"Answer is grounded in the facts, 'yes' or 'no'\"\n",
    "    )\n",
    "    \n",
    "# LLM\n",
    "structured_llm_hallucination = llm.with_structured_output(GradeHallucinations)\n",
    "\n",
    "# Prompt\n",
    "hallucination_grader_instructions = \"\"\"\n",
    "You are a grader assessing whether the travel planner is grounded in / supported by a set of retrieved facts.\n",
    "Give a binary score 'yes' or 'no'. 'Yes' means that the answer is grounded in / supported by the set of facts.\"\"\"\n",
    "\n",
    "hallucination_grader_prompt = ChatPromptTemplate.from_messages(\n",
    "    [\n",
    "        (\"system\", hallucination_grader_instructions),\n",
    "        (\"human\", \"Set of facts: \\n\\n {documents} \\n\\n Plan: {planner}\"),\n",
    "    ]\n",
    ")\n",
    "hallucination_grader = hallucination_grader_prompt | structured_llm_hallucination\n"
   ],
   "outputs": [],
   "execution_count": 213
  },
  {
   "cell_type": "code",
   "id": "79f59939b7856167",
   "metadata": {
    "ExecuteTime": {
     "end_time": "2024-10-18T17:15:55.611228Z",
     "start_time": "2024-10-18T17:15:52.942401Z"
    }
   },
   "source": [
    "# Test hallucination grader\n",
    "hallucination = hallucination_grader.invoke({\"documents\": relevant_docs[1].page_content, \"planner\": generated_plan})\n",
    "print(hallucination)\n"
   ],
   "outputs": [
    {
     "name": "stdout",
     "output_type": "stream",
     "text": [
      "binary_score='yes'\n"
     ]
    }
   ],
   "execution_count": 215
  },
  {
   "metadata": {
    "ExecuteTime": {
     "end_time": "2024-10-18T17:16:22.563514Z",
     "start_time": "2024-10-18T17:15:58.967475Z"
    }
   },
   "cell_type": "code",
   "source": [
    "for doc in relevant_docs:\n",
    "    hallucination = hallucination_grader.invoke({\"documents\": doc.page_content, \"planner\": generated_plan})\n",
    "    print(hallucination.binary_score)"
   ],
   "id": "5da69b50de21e6d9",
   "outputs": [
    {
     "name": "stdout",
     "output_type": "stream",
     "text": [
      "yes\n",
      "yes\n",
      "yes\n",
      "yes\n",
      "no\n",
      "yes\n",
      "no\n",
      "no\n",
      "yes\n",
      "no\n"
     ]
    }
   ],
   "execution_count": 216
  },
  {
   "metadata": {},
   "cell_type": "markdown",
   "source": "### Answer evaluation",
   "id": "1e01900473b7519f"
  },
  {
   "cell_type": "code",
   "id": "48c72983b2bfbd88",
   "metadata": {
    "ExecuteTime": {
     "end_time": "2024-10-18T17:04:27.323356Z",
     "start_time": "2024-10-18T17:04:27.317764Z"
    }
   },
   "source": [
    "# Answer Grader\n",
    "class GradeAnswers(BaseModel):\n",
    "    \"\"\"Binary score to assess answer addresses question.\"\"\"\n",
    "\n",
    "    binary_score: str = Field(\n",
    "        description=\"Answer addresses the question, 'yes' or 'no'\"\n",
    "    )\n",
    "    \n",
    "# LLM\n",
    "structured_llm_grader = llm.with_structured_output(GradeAnswers)\n",
    "\n",
    "# Prompt\n",
    "answer_grader_instructions = \"\"\"You are a grader assessing whether the planner addresses / resolves a request \\n \n",
    "     Give a binary score 'yes' or 'no'. Yes' means that the answer resolves the request.\"\"\"\n",
    "\n",
    "answer_prompt = ChatPromptTemplate.from_messages(\n",
    "    [\n",
    "        (\"system\", answer_grader_instructions),\n",
    "        (\"human\", \"User question: \\n\\n {question} \\n\\n Plan: {planner}\"),\n",
    "    ]\n",
    ")\n",
    "answer_grader = answer_prompt | structured_llm_grader\n"
   ],
   "outputs": [],
   "execution_count": 187
  },
  {
   "cell_type": "code",
   "id": "8aa7b6de0e0c7ed1",
   "metadata": {
    "ExecuteTime": {
     "end_time": "2024-10-18T15:31:09.479497Z",
     "start_time": "2024-10-18T15:31:07.436524Z"
    }
   },
   "source": [
    "# Test answer grader\n",
    "answer_grader.invoke({\"question\": planner_question, \"planner\": generated_plan})\n"
   ],
   "outputs": [
    {
     "data": {
      "text/plain": [
       "GradeAnswers(binary_score='yes')"
      ]
     },
     "execution_count": 75,
     "metadata": {},
     "output_type": "execute_result"
    }
   ],
   "execution_count": 75
  },
  {
   "metadata": {},
   "cell_type": "markdown",
   "source": "### Re-write query",
   "id": "dbb13cb898349f04"
  },
  {
   "cell_type": "code",
   "id": "d9931d0cf0bda834",
   "metadata": {
    "ExecuteTime": {
     "end_time": "2024-10-18T17:04:29.460091Z",
     "start_time": "2024-10-18T17:04:29.456263Z"
    }
   },
   "source": [
    "# Prompt\n",
    "re_write_instructions = \"\"\"You are a question re-writer that converts an input question to a better version that is optimized \\n \n",
    "     for vectorstore retrieval. Look at the input and try to reason about the underlying semantic intent / meaning.\"\"\"\n",
    "\n",
    "re_write_prompt = ChatPromptTemplate.from_messages(\n",
    "    [\n",
    "        (\"system\", re_write_instructions),\n",
    "        (\n",
    "            \"human\",\n",
    "            \"Here is the initial question: \\n\\n {question} \\n Formulate an improved question.\",\n",
    "        ),\n",
    "    ]\n",
    ")\n",
    "question_rewriter = re_write_prompt | llm | StrOutputParser()\n"
   ],
   "outputs": [],
   "execution_count": 188
  },
  {
   "cell_type": "code",
   "id": "ae2fce3bfed98dac",
   "metadata": {
    "ExecuteTime": {
     "end_time": "2024-10-18T17:04:36.401516Z",
     "start_time": "2024-10-18T17:04:32.590966Z"
    }
   },
   "source": [
    "# Test question re-writer \n",
    "question_rewriter.invoke({\"question\": planner_question})\n"
   ],
   "outputs": [
    {
     "data": {
      "text/plain": [
       "'Improved Question:\\n\"What are some popular tourist attractions, landmarks, or neighborhoods to explore in Rome?\"\\n\\nReasoning:\\n\\n* The original question is quite broad and open-ended, which may lead to a wide range of irrelevant results.\\n* By adding \"popular\" and \"tourist attractions\", we\\'re narrowing down the scope to well-known and frequently visited places in Rome.\\n* Adding \"landmarks\" provides more specificity, as it implies iconic structures or monuments that are often associated with Rome\\'s history and culture.\\n* Finally, \"neighborhoods\" suggests a desire to explore local areas, which could lead to recommendations for residential districts, shopping areas, or other community-focused destinations.\\n\\nThis revised question is more targeted and specific, making it easier for the vector store retrieval system to provide relevant results.'"
      ]
     },
     "execution_count": 189,
     "metadata": {},
     "output_type": "execute_result"
    }
   ],
   "execution_count": 189
  },
  {
   "cell_type": "markdown",
   "id": "6402affb0ad722ed",
   "metadata": {},
   "source": [
    "# Tavily: web search tool"
   ]
  },
  {
   "cell_type": "code",
   "id": "46f0efe4667406b",
   "metadata": {
    "ExecuteTime": {
     "end_time": "2024-10-18T17:04:43.096516Z",
     "start_time": "2024-10-18T17:04:38.693270Z"
    }
   },
   "source": [
    "# Test Tavily \n",
    "tavily_web_search.invoke({\"query\": \"What is the typical dessert of the city of Treviso?\"})\n"
   ],
   "outputs": [
    {
     "data": {
      "text/plain": [
       "[{'url': 'https://www.accademiadeltiramisu.com/en/tiramisu-from-treviso-italys-patriotic-dessert/',\n",
       "  'content': 'Tiramisù, a typical dessert from Treviso, was the first dessert to have patriotic ingredients. Looking at these ingredients, and at the historic period and the development of the recipe, it is easy to understand many aspects of the Treviso origins of this dessert. Lo scrittore Giovanni Comisso (1895 - 1969) In the 19th century, during the'},\n",
       " {'url': 'https://www.visititaly.eu/food-and-flavours/treviso-tiramisu-taste-and-tradition',\n",
       "  'content': \"The pride of Treviso Tiramisù's gastronomic offerings is the traditional recipe that, from the tables of the city of Treviso, ... Instead, head to the first floor if, in addition to Tiramisù and typical desserts, you want to savor classic local recipes revisited in a modern and creative way.\"},\n",
       " {'url': 'https://www.italyheritage.com/learn-italian/recipes/tiramisu.htm',\n",
       "  'content': 'Here is an interview with Roberto Linguanotto, aka Loli, the pastry chef who invented the Tiramesù (in Venetian dialect) at \"Alle Beccherie\" restaurant in Treviso, in the years 1969-1970. With just five ingredients - egg yolks, mascarpone, coffee, cocoa and ladyfingers (or variation with sponge cake) - Roberto mixed sweet and bitter tastes'}]"
      ]
     },
     "execution_count": 190,
     "metadata": {},
     "output_type": "execute_result"
    }
   ],
   "execution_count": 190
  },
  {
   "cell_type": "markdown",
   "id": "717d1acf42306cf9",
   "metadata": {},
   "source": "## Graph: Nodes & Edges"
  },
  {
   "cell_type": "code",
   "id": "f1b1b0f1a74c7cc3",
   "metadata": {
    "ExecuteTime": {
     "end_time": "2024-10-18T16:43:55.546543Z",
     "start_time": "2024-10-18T16:43:55.543340Z"
    }
   },
   "source": [
    "# Graph's state\n",
    "class State(TypedDict):\n",
    "    \"\"\"\n",
    "    Represents the state of the graph.\n",
    "\n",
    "    Attributes:\n",
    "        documents: list of documents.\n",
    "        max_retries: the maximum number of hallucination checks permitted.\n",
    "        loop_step: Indicates the current step in a looping process.\n",
    "        planner: LLM planning.\n",
    "        question: question.\n",
    "        web_search: run web search\n",
    "    \"\"\"\n",
    "    documents: List[str]\n",
    "    max_retries: int\n",
    "    loop_step: Annotated[int, operator.add]\n",
    "    planner: str\n",
    "    question: str\n",
    "    web_search: str\n",
    "    "
   ],
   "outputs": [],
   "execution_count": 146
  },
  {
   "metadata": {
    "ExecuteTime": {
     "end_time": "2024-10-18T17:16:22.592457Z",
     "start_time": "2024-10-18T17:16:22.585722Z"
    }
   },
   "cell_type": "code",
   "source": [
    "# Node: retrieve documents\n",
    "def retrieve(state: State):\n",
    "    \"\"\"\n",
    "        Retrieve documents from vectorstore\n",
    "    \n",
    "        Args:\n",
    "            state (dict): The current graph state\n",
    "    \n",
    "        Returns:\n",
    "            state (dict): New key added to state, documents, that contains retrieved documents\n",
    "    \"\"\"\n",
    "    print(\"---RETRIEVE---\")\n",
    "    question = state[\"question\"]\n",
    "\n",
    "    # Retrieval\n",
    "    documents = retriever.invoke(question)\n",
    "    return {\"documents\": documents}\n",
    "\n",
    "\n",
    "# Node: docs are relevant or not\n",
    "def grade_documents(state: State):\n",
    "    \"\"\"\n",
    "        Determines whether the retrieved documents are relevant to the question.\n",
    "    \n",
    "        Args:\n",
    "            state (dict): The current graph state\n",
    "    \n",
    "        Returns:\n",
    "            state (dict): Updates documents key with only filtered relevant documents\n",
    "    \"\"\"\n",
    "    print(\"---CHECK DOCUMENT RELEVANCE TO QUESTION---\")\n",
    "    question = state[\"question\"]    \n",
    "    documents = state[\"documents\"] \n",
    "\n",
    "    relevant_documents = []  # Score each doc\n",
    "    select_web= \"No\"         # web_search tag \n",
    "    \n",
    "    for d in documents:\n",
    "        retrieval_score = retrieval_grader.invoke(\n",
    "            {\"question\": question, \"document\": d.page_content}\n",
    "        )\n",
    "        retrieval_grade = retrieval_score.binary_score\n",
    "        \n",
    "        if retrieval_grade.lower() == \"yes\":\n",
    "            print(\"---GRADE: DOCUMENT RELEVANT---\")\n",
    "            relevant_docs.append(doc)\n",
    "        else:\n",
    "            print(\"---GRADE: DOCUMENT NOT RELEVANT---\")\n",
    "            # set a flag to indicate that we want to run web search\n",
    "            select_web = \"Yes\"\n",
    "            continue\n",
    "            \n",
    "    return {\"documents\": relevant_documents, \"web_search\": select_web}\n",
    "\n",
    "\n",
    "# Node: make query great again\n",
    "def transform_query(state: State):\n",
    "    \"\"\"\n",
    "        Transform the query to produce a better question.\n",
    "    \n",
    "        Args:\n",
    "            state (dict): The current graph state\n",
    "    \n",
    "        Returns:\n",
    "            state (dict): Updates question key with a re-phrased question\n",
    "    \"\"\"\n",
    "    print(\"---TRANSFORM QUERY---\")\n",
    "    question = state[\"question\"]\n",
    "\n",
    "    # Re-write question\n",
    "    better_question = question_rewriter.invoke({\"question\": question})\n",
    "    \n",
    "    return {\"question\": better_question}\n",
    "\n",
    "\n",
    "# Node: planning\n",
    "def planner(state: State):\n",
    "    \"\"\"\n",
    "        Generates a plan based on the provided query.\n",
    "        \n",
    "        Args:\n",
    "            state (dict): The current graph state.\n",
    "    \n",
    "        Returns:\n",
    "            state (dict): Updates planner key with the generated plan and\n",
    "                the loop step, incremented by 1.\n",
    "    \"\"\"\n",
    "    print(\"---PLANNER---\")\n",
    "    question = state[\"question\"]            # get question state\n",
    "    documents = state[\"documents\"]          # get documents state\n",
    "    loop_step = state.get(\"loop_step\", 0)   # Init loop_step \n",
    "    \n",
    "    # RAG planning\n",
    "    make_plan = plan_chain.invoke({\"context\": documents, \"question\": question})\n",
    "    \n",
    "    return {\"planner\": make_plan, \"loop_step\": loop_step + 1}\n",
    "\n",
    "\n",
    "# Node: search on the web\n",
    "def web_search(state: State):\n",
    "    \"\"\"\n",
    "    Web search based on the query.\n",
    "\n",
    "    Args:\n",
    "        state (dict): The current graph state\n",
    "\n",
    "    Returns:\n",
    "        state (dict): Updates documents key with appended web results\n",
    "    \"\"\"\n",
    "\n",
    "    print(\"---WEB SEARCH---\")\n",
    "    question = state[\"question\"]          \n",
    "    documents = state.get(\"documents\", []) \n",
    "\n",
    "    # Perform a web search using the Tavily\n",
    "    web_docs = tavily_web_search.invoke({\"query\": question})\n",
    "    web_results = \"\\n\".join([doc[\"content\"] for doc in web_docs])\n",
    "    web_results = Document(page_content=web_results)\n",
    "    documents.append(web_results)\n",
    "    \n",
    "    return {\"documents\": documents}\n",
    "    "
   ],
   "id": "edfc036e805b5a90",
   "outputs": [],
   "execution_count": 217
  },
  {
   "cell_type": "code",
   "id": "b0990194e2b14bc7",
   "metadata": {
    "ExecuteTime": {
     "end_time": "2024-10-18T17:25:56.211154Z",
     "start_time": "2024-10-18T17:25:56.204658Z"
    }
   },
   "source": [
    "# Edge: RAG or web\n",
    "def route_question(state: State):\n",
    "    \"\"\"\n",
    "        Route question to web search or RAG.\n",
    "    \n",
    "        Args:\n",
    "            state (dict): The current graph state\n",
    "    \n",
    "        Returns:\n",
    "            str: Next node to call\n",
    "    \"\"\"\n",
    "\n",
    "    print(\"---ROUTE QUESTION---\")\n",
    "    question = state[\"question\"]\n",
    "    source = question_router.invoke({\"question\": question})\n",
    "    \n",
    "    if source.datasource == \"web_search\": \n",
    "        print(\"---ROUTE QUESTION TO WEB SEARCH---\")\n",
    "        \n",
    "        return \"websearch\"\n",
    "    \n",
    "    elif source.datasource == \"vectorstore\":\n",
    "        print(\"---ROUTE QUESTION TO RAG---\")\n",
    "        \n",
    "        return \"vectorstore\"\n",
    "    \n",
    "\n",
    "# Edge: planner or web_search\n",
    "def decide_to_plan(state: State):\n",
    "    \"\"\"\n",
    "    Determines whether start planning, or search answer on the web.\n",
    "\n",
    "    Args:\n",
    "        state (dict): The current graph state\n",
    "\n",
    "    Returns:\n",
    "        str: Binary decision for next node to call\n",
    "    \"\"\"\n",
    "\n",
    "    print(\"---ASSESS GRADED DOCUMENTS---\")\n",
    "    question = state[\"question\"]\n",
    "    websearch = state[\"web_search\"]\n",
    "    filtered_documents = state[\"documents\"]\n",
    "\n",
    "    if websearch == \"yes\":  # Go to web\n",
    "        print(\n",
    "            \"---DECISION: ALL DOCUMENTS ARE NOT RELEVANT TO QUESTION, INCLUDE WEB SEARCH---\"\n",
    "        )\n",
    "        return \"websearch\"\n",
    "    else:   # The docs are relevant\n",
    "        print(\"---DECISION: PLANNER---\")\n",
    "        return \"travel_planner\"\n",
    "\n",
    "\n",
    "# Edge: fact checking on docs\n",
    "def grade_generation_v_documents_and_question(state: State):\n",
    "    \"\"\"\n",
    "    Determines whether the planning is grounded in the document and answers question.\n",
    "\n",
    "    Args:\n",
    "        state (dict): The current graph state\n",
    "\n",
    "    Returns:\n",
    "        str: Decision for next node to call\n",
    "    \"\"\"\n",
    "    print(\"---CHECK HALLUCINATIONS---\")\n",
    "    documents = state[\"documents\"]\n",
    "    max_retries = state.get(\"max_retries\", 3)\n",
    "    plan = state[\"planner\"]\n",
    "    question = state[\"question\"]\n",
    "    \n",
    "    hallucination_score = hallucination_grader.invoke(\n",
    "        {\"documents\": documents, \"planner\": plan}\n",
    "    )\n",
    "    hallucination_grade = hallucination_score.binary_score\n",
    "\n",
    "    # Check hallucination\n",
    "    if hallucination_grade == \"yes\":\n",
    "        print(\"---DECISION: GENERATION IS GROUNDED IN DOCUMENTS---\")\n",
    "        # Check question-answering\n",
    "        print(\"---GRADE GENERATION vs QUESTION---\")\n",
    "        answer_score = answer_grader.invoke({\"question\": question, \"planner\": plan})\n",
    "        answer_grade = answer_score.binary_score\n",
    "        \n",
    "        if answer_grade == \"yes\":\n",
    "            print(\"---DECISION: GENERATION ADDRESSES QUESTION---\")\n",
    "            return \"useful\"\n",
    "        elif state[\"loop_step\"] <= max_retries:\n",
    "            print(\"---DECISION: GENERATION DOES NOT ADDRESS QUESTION---\")\n",
    "            return \"not useful\"\n",
    "        else:\n",
    "            print(\"---DECISION: MAX RETRIES REACHED---\")\n",
    "            return \"max retries\"\n",
    "    elif state[\"loop_step\"] <= max_retries:\n",
    "        print(f\"---DECISION: GENERATION IS NOT GROUNDED IN DOCUMENTS, RE-TRY---\")\n",
    "        return \"check\"\n",
    "    else:\n",
    "        print(\"---DECISION: MAX RETRIES REACHED---\")\n",
    "        return \"max retries\"\n"
   ],
   "outputs": [],
   "execution_count": 239
  },
  {
   "metadata": {},
   "cell_type": "markdown",
   "source": "### Build the graph",
   "id": "832bf1194eeb41f8"
  },
  {
   "cell_type": "code",
   "id": "3f6657a62665d40b",
   "metadata": {
    "ExecuteTime": {
     "end_time": "2024-10-18T17:28:01.803075Z",
     "start_time": "2024-10-18T17:28:00.568511Z"
    }
   },
   "source": [
    "# Graph's state\n",
    "workflow = StateGraph(State)\n",
    "\n",
    "# Define the nodes\n",
    "workflow.add_node(node=\"retrieve\", action=retrieve)                 # retrieve\n",
    "workflow.add_node(node=\"grade_documents\", action=grade_documents)   # grade_documents\n",
    "workflow.add_node(node=\"websearch\", action=web_search)              # web_search\n",
    "workflow.add_node(node=\"travel_planner\", action=planner)            # travel_planner\n",
    "\n",
    "# Build graph: edges and condition\n",
    "workflow.add_conditional_edges(\n",
    "    START,\n",
    "    route_question,\n",
    "    {\n",
    "        \"websearch\": \"websearch\",\n",
    "        \"vectorstore\": \"retrieve\",\n",
    "    },\n",
    ")\n",
    "\n",
    "workflow.add_edge(\"websearch\", \"travel_planner\")\n",
    "workflow.add_edge(\"retrieve\", \"grade_documents\")\n",
    "\n",
    "workflow.add_conditional_edges(\n",
    "    \"grade_documents\",\n",
    "    decide_to_plan,\n",
    "    {\n",
    "        \"websearch\": \"websearch\",\n",
    "        \"travel_planner\": \"travel_planner\",\n",
    "    },\n",
    ")\n",
    "\n",
    "workflow.add_conditional_edges(\n",
    "    \"travel_planner\",\n",
    "    grade_generation_v_documents_and_question,\n",
    "    {\n",
    "        \"check\": \"travel_planner\",\n",
    "        \"useful\": END,\n",
    "        \"not useful\": \"websearch\",\n",
    "        \"max retries\": END,\n",
    "    },\n",
    ")\n",
    "\n",
    "# Compile\n",
    "graph = workflow.compile()\n",
    "# Display the graph\n",
    "display(Image(graph.get_graph().draw_mermaid_png(draw_method=MermaidDrawMethod.API)))\n"
   ],
   "outputs": [
    {
     "data": {
      "image/jpeg": "[encoded data removed]",
      "text/plain": [
       "<IPython.core.display.Image object>"
      ]
     },
     "metadata": {},
     "output_type": "display_data"
    }
   ],
   "execution_count": 242
  },
  {
   "cell_type": "code",
   "id": "159131350539ab8c",
   "metadata": {
    "ExecuteTime": {
     "end_time": "2024-10-18T17:26:42.972172Z",
     "start_time": "2024-10-18T17:26:02.326505Z"
    }
   },
   "source": [
    "# Test Graph\n",
    "answer = graph.invoke({\"question\": \"What kind of food can I eat while in Florence?\"})[\"planner\"]\n",
    "print(answer)"
   ],
   "outputs": [
    {
     "name": "stdout",
     "output_type": "stream",
     "text": [
      "---ROUTE QUESTION---\n",
      "---ROUTE QUESTION TO RAG---\n",
      "---RETRIEVE---\n",
      "---CHECK DOCUMENT RELEVANCE TO QUESTION---\n",
      "---GRADE: DOCUMENT RELEVANT---\n",
      "---GRADE: DOCUMENT RELEVANT---\n",
      "---GRADE: DOCUMENT RELEVANT---\n",
      "---GRADE: DOCUMENT RELEVANT---\n",
      "---ASSESS GRADED DOCUMENTS---\n",
      "---DECISION: PLANNER---\n",
      "---PLANNER---\n",
      "---CHECK HALLUCINATIONS---\n",
      "---DECISION: GENERATION IS NOT GROUNDED IN DOCUMENTS, RE-TRY (not supported in docs)---\n",
      "---PLANNER---\n",
      "---CHECK HALLUCINATIONS---\n",
      "---DECISION: GENERATION IS NOT GROUNDED IN DOCUMENTS, RE-TRY (not supported in docs)---\n",
      "---PLANNER---\n",
      "---CHECK HALLUCINATIONS---\n",
      "---DECISION: MAX RETRIES REACHED---\n",
      "Hello! Oh, I'm so excited to talk about the food in Florence - it's truly one of my favorite parts of traveling there!\n",
      "\n",
      "You'll love visiting Florence, and the food is a huge part of that experience. The city is known for its incredible Tuscan cuisine, which is all about fresh ingredients, simple preparation methods, and hearty portions.\n",
      "\n",
      "One dish you absolutely can't leave without trying is ribollita - it's a traditional Tuscan soup made with vegetables, bread, and cannellini beans. It's like a warm hug in a bowl! You'll find it on menus throughout the city, but I recommend trying it at a local trattoria or osteria for an authentic experience.\n",
      "\n",
      "Another must-try is pappardelle al cinghiale - it's a type of wide pasta served with a rich wild boar ragù that's just divine. And don't even get me started on the gelato - you'll find some of the best in Italy right here in Florence!\n",
      "\n",
      "But what really sets Tuscan cuisine apart is its emphasis on local ingredients and seasonal produce. You'll see plenty of fresh vegetables, fruits, and cheeses on menus, all sourced from nearby farms and markets.\n",
      "\n",
      "Now, I know what you're thinking: \"What about the wine?\" Ah, my friend, you're in luck! Tuscany is famous for its Chianti wines, which pair perfectly with many of the local dishes. Be sure to try a glass (or two) at a local vineyard or winery - it's a great way to experience the region's hospitality.\n",
      "\n",
      "Tips for travelers: don't forget to bring your appetite and a willingness to try new things! And if you're looking for a unique foodie experience, consider taking a cooking class or food tour - it's a fantastic way to learn about the local culture and cuisine.\n",
      "\n",
      "I hope you have an amazing time exploring Florence's culinary scene! Safe travels!\n"
     ]
    }
   ],
   "execution_count": 240
  },
  {
   "metadata": {
    "ExecuteTime": {
     "end_time": "2024-10-18T17:21:42.983553Z",
     "start_time": "2024-10-18T17:21:26.300944Z"
    }
   },
   "cell_type": "code",
   "source": [
    "# Test Graph\n",
    "answer = graph.invoke({\"question\":\"Where I can find the fountain of Trevi?\"})[\"planner\"]\n",
    "print(answer)"
   ],
   "id": "258ff4624b02f6ca",
   "outputs": [
    {
     "name": "stdout",
     "output_type": "stream",
     "text": [
      "---ROUTE QUESTION---\n",
      "---ROUTE QUESTION TO RAG---\n",
      "---RETRIEVE---\n",
      "---CHECK DOCUMENT RELEVANCE TO QUESTION---\n",
      "---GRADE: DOCUMENT RELEVANT---\n",
      "---GRADE: DOCUMENT RELEVANT---\n",
      "---GRADE: DOCUMENT NOT RELEVANT---\n",
      "---GRADE: DOCUMENT NOT RELEVANT---\n",
      "---ASSESS GRADED DOCUMENTS---\n",
      "---DECISION: PLANNER---\n",
      "---PLANNER---\n",
      "---CHECK HALLUCINATIONS---\n",
      "---DECISION: GENERATION IS GROUNDED IN DOCUMENTS---\n",
      "---GRADE GENERATION vs QUESTION---\n",
      "---DECISION: GENERATION ADDRESSES QUESTION---\n",
      "Hello! I'm so excited to help you plan your trip!\n",
      "\n",
      "You're looking for the famous Fountain of Trevi, and I just know you'll love it when you see it in person. This stunning baroque fountain is one of Rome's most iconic landmarks, and it's a must-see when visiting the Eternal City.\n",
      "\n",
      "The Fountain of Trevi is located in the heart of Rome, in the beautiful Piazza di Trevi. To get there, simply head to the city center and make your way to Via dei Condotti, which runs through the historic center. From there, follow the signs to Piazza di Trevi, and you'll find yourself standing in front of this breathtaking masterpiece.\n",
      "\n",
      "As you approach the fountain, take a moment to appreciate its grandeur. The Fountain of Trevi is adorned with intricate carvings, statues, and ornate details that will leave you in awe. And don't forget to toss a coin into the water – legend has it that if you do, you'll one day return to Rome!\n",
      "\n",
      "Now, let's talk about what to eat while you're there. You absolutely have to try some delicious Italian cuisine while visiting Piazza di Trevi. One of my personal favorites is the classic Carbonara, which is a rich and creamy pasta dish made with bacon or pancetta, eggs, parmesan cheese, and black pepper. It's a local favorite that will leave you wanting more.\n",
      "\n",
      "Tips for travelers: Don't forget to bring your camera to capture the stunning views of the fountain at sunset – it's truly magical! Also, be prepared for crowds, especially during peak tourist season. But trust me, it's worth the wait!\n",
      "\n",
      "I hope you have an amazing time exploring Rome and visiting the Fountain of Trevi! Safe travels!\n"
     ]
    }
   ],
   "execution_count": 227
  },
  {
   "metadata": {
    "ExecuteTime": {
     "end_time": "2024-10-18T17:27:53.162102Z",
     "start_time": "2024-10-18T17:27:05.906962Z"
    }
   },
   "cell_type": "code",
   "source": [
    "# Test Graph: expected generation grounded in docs\n",
    "answer = graph.invoke({\"question\":\"Where I need to go while in Aosta-valley?\"})[\"planner\"]\n",
    "print(answer)"
   ],
   "id": "9a98ed4c328d9e66",
   "outputs": [
    {
     "name": "stdout",
     "output_type": "stream",
     "text": [
      "---ROUTE QUESTION---\n",
      "---ROUTE QUESTION TO RAG---\n",
      "---RETRIEVE---\n",
      "---CHECK DOCUMENT RELEVANCE TO QUESTION---\n",
      "---GRADE: DOCUMENT RELEVANT---\n",
      "---GRADE: DOCUMENT RELEVANT---\n",
      "---GRADE: DOCUMENT RELEVANT---\n",
      "---GRADE: DOCUMENT RELEVANT---\n",
      "---ASSESS GRADED DOCUMENTS---\n",
      "---DECISION: PLANNER---\n",
      "---PLANNER---\n",
      "---CHECK HALLUCINATIONS---\n",
      "---DECISION: GENERATION IS NOT GROUNDED IN DOCUMENTS, RE-TRY (not supported in docs)---\n",
      "---PLANNER---\n",
      "---CHECK HALLUCINATIONS---\n",
      "---DECISION: GENERATION IS NOT GROUNDED IN DOCUMENTS, RE-TRY (not supported in docs)---\n",
      "---PLANNER---\n",
      "---CHECK HALLUCINATIONS---\n",
      "---DECISION: MAX RETRIES REACHED---\n",
      "Hello! I'm so excited to help you plan your trip to Aosta Valley!\n",
      "\n",
      "Aosta Valley is a stunning region in the northwest of Italy, nestled in the heart of the Alps. It's a paradise for outdoor enthusiasts and foodies alike. Let me tell you about some of the must-see places you shouldn't miss while you're there.\n",
      "\n",
      "First up, we have the breathtaking **Valle d'Aosta** itself! This valley is surrounded by towering mountains, picturesque villages, and crystal-clear rivers. It's a nature lover's dream come true. Take a hike in the Gran Paradiso National Park, explore the charming town of Aosta, or simply soak up the stunning views from one of the many mountain tops.\n",
      "\n",
      "Next, I want to recommend **Verrès**, a tiny village perched on a hilltop that's steeped in history and culture. This is where you'll find the beautiful **Castello di Verrès**, a medieval fortress with breathtaking views of the valley below. And don't forget to try some of the local specialties, like **tartiflette** (a hearty potato and cheese dish) or **bollito misto** (boiled meat served with polenta).\n",
      "\n",
      "Now, let's talk about food! Aosta Valley is famous for its delicious cuisine, which is heavily influenced by the region's rich history and cultural heritage. Be sure to try some of the local specialties like **casoncelli** (stuffed pasta), **bresaola** (air-dried beef), or **focaccia** (a crispy flatbread perfect for snacking). And don't forget to wash it all down with a glass of **Aosta Valley wine**, which is made from the local **Gressoney** grape variety.\n",
      "\n",
      "Finally, I want to give you some insider tips for travelers. Make sure to bring comfortable hiking boots and layers for your trip, as the weather in Aosta Valley can be quite unpredictable. Also, don't miss out on the opportunity to try some of the local **cider**, which is made from apples grown in the region.\n",
      "\n",
      "I hope this helps you plan an unforgettable trip to Aosta Valley! You'll love visiting this beautiful region and experiencing all it has to offer.\n",
      "\n",
      "I hope you have an amazing time! Safe travels!\n"
     ]
    }
   ],
   "execution_count": 241
  },
  {
   "metadata": {},
   "cell_type": "code",
   "source": [
    "# Test Graph: expected generation NOT grounded in docs\n",
    "answer = graph.invoke({\"question\":\"What kind of food I can eat while visiting Paris?\"})[\"planner\"]\n",
    "print(answer)\n"
   ],
   "id": "2bd35c6635b67d2f",
   "outputs": [],
   "execution_count": null
  },
  {
   "metadata": {},
   "cell_type": "markdown",
   "source": "## ",
   "id": "c445ed8050f147b4"
  }
 ],
 "metadata": {
  "kernelspec": {
   "display_name": "Python 3 (ipykernel)",
   "language": "python",
   "name": "python3"
  },
  "language_info": {
   "codemirror_mode": {
    "name": "ipython",
    "version": 3
   },
   "file_extension": ".py",
   "mimetype": "text/x-python",
   "name": "python",
   "nbconvert_exporter": "python",
   "pygments_lexer": "ipython3",
   "version": "3.12.0"
  }
 },
 "nbformat": 4,
 "nbformat_minor": 5
}
