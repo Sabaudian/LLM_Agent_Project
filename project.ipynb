{
 "cells": [
  {
   "cell_type": "markdown",
   "id": "1dd8e93f30822961",
   "metadata": {},
   "source": "# LangGraph Travel Advisor"
  },
  {
   "cell_type": "markdown",
   "id": "9e31f05146607c0f",
   "metadata": {},
   "source": [
    "## Import"
   ]
  },
  {
   "cell_type": "code",
   "id": "initial_id",
   "metadata": {},
   "source": [
    "# Install required packages\n",
    "%pip install -qU bs4\n",
    "%pip install -qU chromadb\n",
    "%pip install -qU tiktoken\n",
    "%pip install -qU langchain\n",
    "%pip install -qU langgraph\n",
    "%pip install -qU langchainhub\n",
    "%pip install -qU tavily-python\n",
    "%pip install -qU \"nomic[local]\"\n",
    "%pip install -qU langchain-nomic\n",
    "%pip install -qU langchain-ollama\n",
    "%pip install -qU langchain_community\n"
   ],
   "outputs": [],
   "execution_count": null
  },
  {
   "cell_type": "code",
   "id": "cdcb8304d4ee8aca",
   "metadata": {},
   "source": [
    "# Import\n",
    "import os\n",
    "import re\n",
    "import getpass\n",
    "import operator\n",
    "import requests\n",
    "\n",
    "from bs4 import BeautifulSoup\n",
    "from urllib.parse import urljoin\n",
    "from pydantic import BaseModel, Field\n",
    "from typing_extensions import TypedDict\n",
    "from IPython.display import Image, display\n",
    "from typing import Annotated, List, Literal\n",
    "\n",
    "# from langchain import hub\n",
    "from langchain.schema import Document\n",
    "from langchain_ollama import ChatOllama\n",
    "from langchain_community.vectorstores import Chroma\n",
    "from langchain_core.prompts import ChatPromptTemplate\n",
    "from langchain_nomic.embeddings import NomicEmbeddings\n",
    "from langchain_core.output_parsers import StrOutputParser\n",
    "from langchain_core.runnables.graph import MermaidDrawMethod\n",
    "from langchain_community.document_loaders import WebBaseLoader\n",
    "from langchain.text_splitter import RecursiveCharacterTextSplitter\n",
    "from langchain_community.tools.tavily_search import TavilySearchResults\n",
    "\n",
    "from langgraph.graph import START, END, StateGraph\n",
    "\n",
    "import warnings\n",
    "warnings.filterwarnings(\"ignore\")\n"
   ],
   "outputs": [],
   "execution_count": null
  },
  {
   "metadata": {
    "ExecuteTime": {
     "end_time": "2024-10-22T07:43:04.539737Z",
     "start_time": "2024-10-22T07:43:04.536860Z"
    }
   },
   "cell_type": "code",
   "source": [
    "# # Constants\n",
    "\n",
    "# URL to crawl to data retrieval\n",
    "EN_URL = \"https://www.italia.it/en\"  \n",
    "\n",
    "# Regions List for URLs\n",
    "REGIONS = [\n",
    "    \"abruzzo\", \"aosta-valley\", \"puglia\", \"basilicata\", \"calabria\", \"campania\", \"emilia-romagna\", \n",
    "    \"friuli-venezia-giulia\", \"lazio\", \"liguria\", \"lombardy\", \"marche\", \"molise\", \"piedmont\", \n",
    "    \"sardinia\", \"sicily\", \"south-tyrol\", \"trentino\", \"tuscany\", \"umbria\", \"veneto\"\n",
    "]\n",
    "\n",
    "test_travel_query = [\n",
    "    \"What are the must-visit historical landmarks in Tuscany, and how can I plan a week-long trip around them?\",\n",
    "    \"What are the best hiking trails in the Dolomites, and how should I prepare for a trip in South Tyrol?\",\n",
    "    \"Which coastal towns in Liguria offer the best seafood and picturesque beaches for a relaxing vacation?\",\n",
    "    \"What unique local festivals should I explore in Sicily during the summer, and how can I immerse myself in the culture?\",\n",
    "    \"How can I plan an itinerary through Umbria to experience its medieval towns and wine tours?\",\n",
    "    \"What are the top tourist attractions to explore in Kyoto, Japan, during the cherry blossom season?\",\n",
    "    \"What are the best islands to visit in the Maldives for honeymooners seeking a secluded getaway?\",\n",
    "    \"How can I plan a wildlife safari in Kenya, including the best national parks to visit and ideal travel months?\",\n",
    "    \"What are the must-see natural wonders in Iceland for a 10-day road trip around the island?\",\n",
    "    \"Which cities in New Zealand offer the best adventure activities, from bungee jumping to glacier hikes?\",\n",
    "]\n",
    "\n",
    "test_general_query = [\n",
    "    \"How does artificial intelligence impact job automation, and what industries are most affected by this shift?\",\n",
    "    \"What are the key differences between renewable energy sources like solar and wind, and how do they contribute to reducing carbon emissions?\",\n",
    "    \"What role does social media play in shaping public opinion, and how can it influence political movements?\",\n",
    "    \"What are the psychological effects of long-term isolation, and how can individuals maintain mental well-being in such conditions?\",\n",
    "    \"How do global supply chain disruptions affect the economy, and what strategies can businesses use to mitigate risks?\",\n",
    "]\n"
   ],
   "id": "7a3f9774a315c7c3",
   "outputs": [],
   "execution_count": 3
  },
  {
   "cell_type": "markdown",
   "id": "e016b0c8bbdfba8e",
   "metadata": {},
   "source": "## APIs"
  },
  {
   "cell_type": "code",
   "id": "9da72bbf3b9d71c8",
   "metadata": {
    "ExecuteTime": {
     "end_time": "2024-10-22T07:43:21.072046Z",
     "start_time": "2024-10-22T07:43:08.987503Z"
    }
   },
   "source": [
    "# Setup environment \n",
    "def _set_env(key: str) -> None:\n",
    "    \"\"\"\n",
    "    Set the environment variables.\n",
    "        Args:\n",
    "            key (str): The name of the environment variable.\n",
    "    \"\"\"\n",
    "    if key not in os.environ:\n",
    "        os.environ[key] = getpass.getpass(f\"Enter {key}:\")\n",
    "\n",
    "# Nomic and Tavily APIs \n",
    "_set_env(\"NOMIC_API_KEY\")\n",
    "_set_env(\"TAVILY_API_KEY\")\n"
   ],
   "outputs": [],
   "execution_count": 4
  },
  {
   "cell_type": "code",
   "id": "89c73d74d3d4243d",
   "metadata": {
    "ExecuteTime": {
     "end_time": "2024-10-22T07:43:23.427186Z",
     "start_time": "2024-10-22T07:43:23.390038Z"
    }
   },
   "source": [
    "# # Model & Tool\n",
    "# LLM \n",
    "local_llm = \"llama3.2\"  \n",
    "llm = ChatOllama(model=local_llm, temperature=0)\n",
    "\n",
    "# Initialize Tavily web search tool\n",
    "tavily_web_search = TavilySearchResults(max_results=3)\n"
   ],
   "outputs": [],
   "execution_count": 5
  },
  {
   "metadata": {},
   "cell_type": "markdown",
   "source": "## Get Data",
   "id": "55c05f40fb2b0983"
  },
  {
   "metadata": {
    "ExecuteTime": {
     "end_time": "2024-10-22T07:43:52.770443Z",
     "start_time": "2024-10-22T07:43:25.089607Z"
    }
   },
   "cell_type": "code",
   "source": [
    "# retrieve internal links from a webpage \n",
    "def get_internal_links(home_url: str, max_links: int = 5) -> List[str]:\n",
    "    \"\"\"\n",
    "        Retrieves internal links from the given webpage URL.\n",
    "    \n",
    "        Args:\n",
    "            - website_url: The URL of the webpage to crawl.\n",
    "            - max_links: The maximum number of URLs to retrieve (default is 5).\n",
    "        Returns:\n",
    "            A list of internal URLs.\n",
    "    \"\"\"\n",
    "    # Send a request to the website\n",
    "    response = requests.get(home_url)\n",
    "    \n",
    "    # Parse the content of the webpage\n",
    "    soup = BeautifulSoup(response.content, \"html.parser\")\n",
    "    \n",
    "    # Set of internal links\n",
    "    internal_links = set()\n",
    "    \n",
    "    # Find all <a> tags with href attributes\n",
    "    for link in soup.find_all(\"a\", href=True):\n",
    "        # Convert relative URLs to absolute URLs\n",
    "        href = urljoin(home_url, link[\"href\"])\n",
    "        \n",
    "        # Check if the URL starts with the base URL\n",
    "        if href.startswith(home_url) and '#' not in href:\n",
    "            internal_links.add(href)\n",
    "        \n",
    "        # Stop if we have enough links\n",
    "        if len(internal_links) >= max_links:\n",
    "            break\n",
    "    \n",
    "    return list(internal_links)\n",
    "\n",
    "\n",
    "# internal urls\n",
    "urls = []\n",
    "# Craw internal URLs\n",
    "for region in REGIONS:\n",
    "    base_url = f\"{EN_URL}/{region}\"  # URL for each region\n",
    "    internal_urls = get_internal_links(home_url=base_url) # Get internal URLs \n",
    "    urls.extend(internal_urls)\n",
    "\n",
    "counter = 0\n",
    "# Print all internal URLs from all regions\n",
    "for internal_url in urls:\n",
    "    counter += 1\n",
    "    print(internal_url)\n",
    "\n",
    "print(f\"Counter: {counter}\")"
   ],
   "id": "f806b6f9dad1046a",
   "outputs": [
    {
     "name": "stdout",
     "output_type": "stream",
     "text": [
      "https://www.italia.it/en/abruzzo\n",
      "https://www.italia.it/en/abruzzo/teramo\n",
      "https://www.italia.it/en/abruzzo/pescara\n",
      "https://www.italia.it/en/abruzzo/l-aquila\n",
      "https://www.italia.it/en/abruzzo/chieti\n",
      "https://www.italia.it/en/aosta-valley\n",
      "https://www.italia.it/en/aosta-valley/courmayeur-style-and-tradition\n",
      "https://www.italia.it/en/aosta-valley/aosta\n",
      "https://www.italia.it/en/aosta-valley/things-to-do/aosta-valley-castles\n",
      "https://www.italia.it/en/aosta-valley/things-to-do/spas-wellness-holidays-aosta-valley\n",
      "https://www.italia.it/en/puglia/foggia\n",
      "https://www.italia.it/en/puglia\n",
      "https://www.italia.it/en/puglia/barletta-andria-trani\n",
      "https://www.italia.it/en/puglia/bari\n",
      "https://www.italia.it/en/puglia/gargano\n",
      "https://www.italia.it/en/basilicata/potenza\n",
      "https://www.italia.it/en/basilicata/matera\n",
      "https://www.italia.it/en/basilicata/things-to-do/basilicata-itineraries\n",
      "https://www.italia.it/en/basilicata\n",
      "https://www.italia.it/en/basilicata/matera/things-to-do/matera-the-sassi\n",
      "https://www.italia.it/en/calabria/crotone\n",
      "https://www.italia.it/en/calabria/catanzaro\n",
      "https://www.italia.it/en/calabria/vibo-valentia\n",
      "https://www.italia.it/en/calabria/cosenza\n",
      "https://www.italia.it/en/calabria\n",
      "https://www.italia.it/en/campania/isole-del-golfo-capri-procida-ischia\n",
      "https://www.italia.it/en/campania/naples\n",
      "https://www.italia.it/en/campania/caserta\n",
      "https://www.italia.it/en/campania/benevento\n",
      "https://www.italia.it/en/campania\n",
      "https://www.italia.it/en/emilia-romagna/piacenza-via-francigena\n",
      "https://www.italia.it/en/emilia-romagna/reggio-emilia\n",
      "https://www.italia.it/en/emilia-romagna/parma\n",
      "https://www.italia.it/en/emilia-romagna/bologna\n",
      "https://www.italia.it/en/emilia-romagna\n",
      "https://www.italia.it/en/friuli-venezia-giulia\n",
      "https://www.italia.it/en/friuli-venezia-giulia/trieste\n",
      "https://www.italia.it/en/friuli-venezia-giulia/udine\n",
      "https://www.italia.it/en/friuli-venezia-giulia/pordenone\n",
      "https://www.italia.it/en/friuli-venezia-giulia/gorizia\n",
      "https://www.italia.it/en/lazio/rome\n",
      "https://www.italia.it/en/lazio/viterbo\n",
      "https://www.italia.it/en/lazio\n",
      "https://www.italia.it/en/lazio/latina\n",
      "https://www.italia.it/en/lazio/rieti\n",
      "https://www.italia.it/en/liguria/genoa\n",
      "https://www.italia.it/en/liguria/la-spezia\n",
      "https://www.italia.it/en/liguria/savona\n",
      "https://www.italia.it/en/liguria/imperia\n",
      "https://www.italia.it/en/liguria\n",
      "https://www.italia.it/en/lombardy/como\n",
      "https://www.italia.it/en/lombardy/lecco\n",
      "https://www.italia.it/en/lombardy/sondrio\n",
      "https://www.italia.it/en/lombardy/milan\n",
      "https://www.italia.it/en/lombardy\n",
      "https://www.italia.it/en/marche/pesaro-e-urbino\n",
      "https://www.italia.it/en/marche/macerata\n",
      "https://www.italia.it/en/marche/ancona\n",
      "https://www.italia.it/en/marche\n",
      "https://www.italia.it/en/marche/fermo\n",
      "https://www.italia.it/en/molise/campobasso\n",
      "https://www.italia.it/en/molise/things-to-do/hang-gliding-italy-molise\n",
      "https://www.italia.it/en/molise/things-to-do/maack-an-open-air-art-museum-in-molise-in-italy\n",
      "https://www.italia.it/en/molise/isernia\n",
      "https://www.italia.it/en/molise\n",
      "https://www.italia.it/en/piedmont/verbania\n",
      "https://www.italia.it/en/piedmont/turin\n",
      "https://www.italia.it/en/piedmont\n",
      "https://www.italia.it/en/piedmont/novara\n",
      "https://www.italia.it/en/piedmont/vercelli\n",
      "https://www.italia.it/en/sardinia/costa-smeralda\n",
      "https://www.italia.it/en/sardinia/sassari\n",
      "https://www.italia.it/en/sardinia\n",
      "https://www.italia.it/en/sardinia/cagliari\n",
      "https://www.italia.it/en/sardinia/barbagia\n",
      "https://www.italia.it/en/sicily/palermo\n",
      "https://www.italia.it/en/sicily/trapani\n",
      "https://www.italia.it/en/sicily/lampedusa-island\n",
      "https://www.italia.it/en/sicily/messina\n",
      "https://www.italia.it/en/sicily\n",
      "https://www.italia.it/en/south-tyrol/bolzano\n",
      "https://www.italia.it/en/south-tyrol\n",
      "https://www.italia.it/en/south-tyrol/things-to-do/wine-therapy-south-tyrol\n",
      "https://www.italia.it/en/south-tyrol/things-to-do/ice-sculpture-festival-in-san-candido-and-san-vigilio\n",
      "https://www.italia.it/en/south-tyrol/bolzano/guide-history-facts\n",
      "https://www.italia.it/en/trentino\n",
      "https://www.italia.it/en/trentino/trento\n",
      "https://www.italia.it/en/trentino/things-to-do/5-ski-resots-in-italy\n",
      "https://www.italia.it/en/trentino/madonna-di-campiglio\n",
      "https://www.italia.it/en/trentino/trento/madonna-di-campiglio\n",
      "https://www.italia.it/en/tuscany/chianti\n",
      "https://www.italia.it/en/tuscany/capalbio-and-maremma-regional-park\n",
      "https://www.italia.it/en/tuscany/florence\n",
      "https://www.italia.it/en/tuscany\n",
      "https://www.italia.it/en/tuscany/massa-carrara\n",
      "https://www.italia.it/en/umbria/perugia\n",
      "https://www.italia.it/en/umbria\n",
      "https://www.italia.it/en/umbria/perugia/gubbio\n",
      "https://www.italia.it/en/umbria/lago-trasimeno\n",
      "https://www.italia.it/en/umbria/terni/marmore-falls\n",
      "https://www.italia.it/en/veneto/vicenza\n",
      "https://www.italia.it/en/veneto/belluno\n",
      "https://www.italia.it/en/veneto\n",
      "https://www.italia.it/en/veneto/venice\n",
      "https://www.italia.it/en/veneto/cortina-dampezzo\n",
      "Counter: 105\n"
     ]
    }
   ],
   "execution_count": 6
  },
  {
   "cell_type": "markdown",
   "id": "e23514490ceacc1",
   "metadata": {},
   "source": [
    "## Vectorstore"
   ]
  },
  {
   "cell_type": "code",
   "id": "e28d8ef09e20e9f7",
   "metadata": {
    "ExecuteTime": {
     "end_time": "2024-10-22T07:55:09.884534Z",
     "start_time": "2024-10-22T07:45:09.531484Z"
    }
   },
   "source": [
    "# Load documents\n",
    "docs = [WebBaseLoader(url).load() for url in urls]\n",
    "docs_list = [item for sublist in docs for item in sublist]\n",
    "\n",
    "# Split documents\n",
    "text_splitter = RecursiveCharacterTextSplitter.from_tiktoken_encoder(chunk_size=500, chunk_overlap=0)\n",
    "doc_splits = text_splitter.split_documents(docs_list)\n",
    "\n",
    "# Set embeddings\n",
    "embeddings = NomicEmbeddings(model=\"nomic-embed-text-v1.5\", inference_mode=\"local\")\n",
    "\n",
    "# Add to vectorstore\n",
    "vectorstore = Chroma.from_documents(documents=doc_splits, embedding=embeddings)\n",
    "\n",
    "# Create retriever\n",
    "retriever = vectorstore.as_retriever(search_kwargs={\"k\": 5})\n"
   ],
   "outputs": [],
   "execution_count": 7
  },
  {
   "cell_type": "code",
   "id": "58d907e55ddba0cf",
   "metadata": {
    "ExecuteTime": {
     "end_time": "2024-10-22T08:41:50.733305Z",
     "start_time": "2024-10-22T08:41:50.634954Z"
    }
   },
   "source": [
    "# Test retriever\n",
    "retrieved_docs = retriever.invoke(\"Duomo\")\n",
    "print(retrieved_docs)\n"
   ],
   "outputs": [
    {
     "name": "stdout",
     "output_type": "stream",
     "text": [
      "[Document(metadata={'description': 'From The Last Supper to Milan Cathedral, discover the things to see and do in Milan. Visit the city of fashion and design.', 'language': 'en', 'source': 'https://www.italia.it/en/lombardy/milan', 'title': 'Milan: Things to do & Attractions to visit - Italia.it'}, page_content='The most famous and important square in Milan\\nIt is impossible to travel to Milan and not pass through Piazza Duomo, the central square of the city. With its square shape, it is one of the largest in Italy, and an ideal place to start a tour. It is towered over by the Duomo, \"Domm\" in Milanese, the Gothic style cathedral with spires that is the icon of the Lombardy’s capital. A visit to the Duomo Museum, housed in the halls of the Royal Palace, is recommended. At the center of the square is the monument dedicated to Vittorio Emanuele II, an equestrian statue in bronze, representing the King intent on rein in his horse.\\nA stop at the Galleria Vittorio Emanuele II with its large archway opening onto the square is almost a must. The city’s living room and shopping hub, the elegant and refined Gallery is the perfect place for breakfast or an aperitif. Also on the square is Palazzo dell\\'Arengario which houses the Museo del Novecento.\\n\\n                \\n            \\n\\n\\n\\nLombardy , Milano\\n\\n\\n\\n\\n\\n\\n\\n\\nHistorical sites\\n\\n\\n\\nLike\\n\\n\\n\\n\\n\\n\\n\\n\\n\\n\\n\\n\\n                Navigli'), Document(metadata={'description': 'From The Last Supper to Milan Cathedral, discover the things to see and do in Milan. Visit the city of fashion and design.', 'language': 'en', 'source': 'https://www.italia.it/en/lombardy/milan', 'title': 'Milan: Things to do & Attractions to visit - Italia.it'}, page_content=\"The covered passageway between the Teatro alla Scala and the Duomo of Milan\\nGalleria Vittorio Emanuele II is the most famous shopping gallery in Italy. Built in neo-Renaissance style, it is one of the greatest examples of iron architecture in Europe.\\nWith its great triumphal arch entrance that stands out majestically next to the Duomo of Milan, it has a cross-shaped plan and the intersection is called the Octagon, with the central dome measuring 47 meters in height.\\nWhen you visit Milan, this is a must see!\\nTwo-hundred-fifty linear meters where you can find iconic historical stores and those of the most luxurious brands, a 7-star hotel and the Prada Observatory, in a unique historical and architectural context.\\nDon't miss a walk on the roofs, to see Piazza Duomo from above while enjoying an aperitif.\\nAnd don't forget, as a superstitious gesture, to spin three times on the bull’s groin area, a mosaic on the floor at the center of the Gallery.\\n\\n                \\n            \\n\\n\\n\\nLombardia , Milano\\n\\n\\n\\n\\n\\n\\n\\n\\nMuseums and monuments\\n\\n\\n\\nLike\\n\\n\\n\\n\\n\\n\\n\\n\\n\\n\\n\\n\\n                Sforzesco Castle\\n            \\n\\n                \\n                    One of the symbols of the city of Milan\"), Document(metadata={'description': 'Experience the atmosphere of Parma, city of parmigiano reggiano and Parma ham. Discover the top attractions to visit and events.\\r\\n', 'language': 'en', 'source': 'https://www.italia.it/en/emilia-romagna/parma', 'title': 'Parma city: Attractions & Things to do - Italia.it'}, page_content='Place of art, history and worship in Piazza Duomo\\nParma\\'s most important place of worship, it stands in Piazza Duomo and is part of an architectural complex that also includes the Baptistery and the Bishop\\'s Palace.\\nThe Cathedral was consecrated in 1106, and what we see today is not the original construction, having experienced several fires and restorations over the centuries.\\nA testimony of Romanesque art, it has a \"gabled\" facade, with the lower part smooth and undecorated, while the upper part becomes more elaborate, consisting of arches and columns forming several orders of loggias.\\nTo the right, the 63-meter-high bell tower stands tall, built to replace an older tower.\\nThe interior houses bas-reliefs by Benedetto Antelami and frescoes by Correggio particularly the marble Deposition made by the sculptor and the Assumption of the Virgin, a fresco that covers the entire inside of the dome, by the painter.\\n\\n                \\n            \\n\\n\\n\\nEmilia-Romagna , Parma\\n\\n\\n\\n\\n\\n\\n\\n\\nSpirituality\\n\\n\\n\\nLike\\n\\n\\n\\n\\n\\n\\n\\n\\n\\n\\n\\n\\n                Baptistery of Parma'), Document(metadata={'description': 'From The Last Supper to Milan Cathedral, discover the things to see and do in Milan. Visit the city of fashion and design.', 'language': 'en', 'source': 'https://www.italia.it/en/lombardy/milan', 'title': 'Milan: Things to do & Attractions to visit - Italia.it'}, page_content=\"View all\\n                        \\n\\n\\n\\n\\n\\n\\n\\n\\n\\n\\n\\n\\n\\n                            City\\n                        \\n\\n                            The metropolis that finds a perfect and dynamic balance between history and modernity\\n                        \\n\\nAmid the busy city life, Milan also cherishes its history and traditions, starting with the church of its patron saint, Sant'Ambrogio, and the Duomo of Milan, sporting its statue of the Madonnina on top. Extraordinary new neighbourhoods such as Porta Nuova and CityLife host world-class skyscrapers such as Bosco verticale (Vertical Forest) and Tre Torri (Three Towers). Be sure not to miss out on a visit to the Quadrilatero della Moda shopping centre, where you can feast your eyes on the stunning shop window displays of the big fashion houses.\\xa0\\xa0\\n\\n\\n                            Find out more\"), Document(metadata={'description': 'From Conero to Frasassi Caves, discover the Italian region of Marche with the things to do and cities to visit.', 'language': 'en', 'source': 'https://www.italia.it/en/marche', 'title': 'Visit Marche: Cities & Things to do - Italia.it'}, page_content=\"the true heart and symbol of Fermo. Piazza del Popolo, which has seen so much of the life of this city over the centuries, is also a beautiful gateway to the Girofalco hill. Overlooking the square are the city's iconic landmarks including the Renaissance-era Palazzo dei Priori, a historic building contains the public art gallery and the Sala del Mappamondo, or Globe Room. It is home to the library's oldest map collections and takes its name from the globe created in 1713 by the cartographer Amanzio Moroncelli from Fabriano. In the city centre you'll also find the Apostolic Palace and the Duomo, with its asymmetric facade made of Istrian stone. Inside, you'll find an impressive collection of artworks, including a 12th-century Greek-Byzantine icon and the remains of the mosaic floor from the 5th-century Paleochristian church on which it was built. The square with its loggia architecture is also used as a market area and meeting point, and is and the perfect place for a relaxing walk through the arcades. The loggia balcony connecting Palazzo dei Priori to Palazzo degli Studi is very beautiful: remember to look upwards as you walk along it, so as not to miss the beautiful frescoed vaults. And if you do happen to be in Fermo on a Thursday evening during the summer, you certainly won't want to miss the antiques and crafts market held in the arcades throughout July and August.\")]\n"
     ]
    }
   ],
   "execution_count": 8
  },
  {
   "metadata": {},
   "cell_type": "markdown",
   "source": "## Components",
   "id": "d646f1b1b9b4252f"
  },
  {
   "metadata": {},
   "cell_type": "markdown",
   "source": "### Query is Relevant?",
   "id": "4473c70007bbfb8c"
  },
  {
   "metadata": {
    "ExecuteTime": {
     "end_time": "2024-10-22T08:44:42.413190Z",
     "start_time": "2024-10-22T08:44:42.405898Z"
    }
   },
   "cell_type": "code",
   "source": [
    "class QueryIsRelevant(BaseModel):\n",
    "    \"\"\"\n",
    "      Verify if the query is relevant to the topic of travel or not.\n",
    "    \"\"\"\n",
    "    subject: Literal[\"travel\", \"other\"] = Field(\n",
    "        description=\"Given a user question choose to route it to 'travel' or 'other'.\"\n",
    "    )\n",
    "    \n",
    "# LLM\n",
    "structured_llm_relevant = llm.with_structured_output(QueryIsRelevant)\n",
    "\n",
    "# System prompt\n",
    "relevant_instructions = \"\"\"You are an expert at evaluating the topics of a user question.\n",
    "Use 'travel' if the question concern the topics and concepts related to travel and tourism. Otherwise, use 'other'.\n",
    "\"\"\"\n",
    "\n",
    "# Combine the system message and user question in a prompt template\n",
    "relevant_query_prompt = ChatPromptTemplate.from_messages(\n",
    "    [\n",
    "        (\"system\", relevant_instructions),\n",
    "        (\"human\", \"{question}\"),\n",
    "    ]\n",
    ")\n",
    "relevant_query = relevant_query_prompt | structured_llm_relevant\n"
   ],
   "id": "3100b8edbc43e8fd",
   "outputs": [],
   "execution_count": 9
  },
  {
   "metadata": {
    "ExecuteTime": {
     "end_time": "2024-10-22T08:44:53.068042Z",
     "start_time": "2024-10-22T08:44:46.475128Z"
    }
   },
   "cell_type": "code",
   "source": [
    "# # Test relevance\n",
    "# expected result: vectorstore\n",
    "relevant_1 = relevant_query.invoke({ \n",
    "    \"question\": \"Where is the Colosseum?\"\n",
    "})\n",
    "print(relevant_1)\n",
    "\n",
    "# expected result: web_search\n",
    "relevant_2 = relevant_query.invoke({ \n",
    "    \"question\": \"What is the capital of France?\"\n",
    "})\n",
    "print(relevant_2)\n"
   ],
   "id": "d8a31b05fff625ad",
   "outputs": [
    {
     "name": "stdout",
     "output_type": "stream",
     "text": [
      "subject='travel'\n",
      "subject='other'\n"
     ]
    }
   ],
   "execution_count": 10
  },
  {
   "cell_type": "markdown",
   "id": "aaad6c70d3a07fde",
   "metadata": {},
   "source": "### Router"
  },
  {
   "cell_type": "code",
   "id": "502286dda58571e",
   "metadata": {
    "ExecuteTime": {
     "end_time": "2024-10-22T08:44:58.286495Z",
     "start_time": "2024-10-22T08:44:58.282043Z"
    }
   },
   "source": [
    "## Router\n",
    "class QueryRoute(BaseModel):\n",
    "    \"\"\"\n",
    "      Route a user query to the most relevant datasource -> vectorstore or websearch.\n",
    "    \"\"\"\n",
    "    datasource: Literal[\"vectorstore\", \"web_search\"] = Field(\n",
    "        description=\"Given a user question choose to route it to web search or a vectorstore.\",\n",
    "    )\n",
    "\n",
    "# LLM\n",
    "structured_llm_router = llm.with_structured_output(QueryRoute)\n",
    "\n",
    "# System prompt\n",
    "router_instructions = \"\"\"You are an expert at routing a user question to a vectorstore or web search.\n",
    "The vectorstore contains documents related to some famous italian city, touristic and historical places, food and travel tips for tourists.\n",
    "Use the vectorstore for questions on these topics. Otherwise, use web-search.\"\"\"\n",
    "\n",
    "# Combine the system message and user question in a prompt template\n",
    "route_prompt = ChatPromptTemplate.from_messages(\n",
    "    [\n",
    "        (\"system\", router_instructions),\n",
    "        (\"human\", \"{question}\"),\n",
    "    ]\n",
    ")\n",
    "question_router = route_prompt | structured_llm_router\n"
   ],
   "outputs": [],
   "execution_count": 11
  },
  {
   "cell_type": "code",
   "id": "983a9fd150bab4e7",
   "metadata": {
    "ExecuteTime": {
     "end_time": "2024-10-22T08:45:04.517743Z",
     "start_time": "2024-10-22T08:45:02.951922Z"
    }
   },
   "source": [
    "# # Test router\n",
    "# expected result: vectorstore\n",
    "router_1 = question_router.invoke({ \n",
    "    \"question\": \"Where is the Colosseum?\"\n",
    "})\n",
    "print(router_1)\n",
    "\n",
    "# expected result: web_search\n",
    "router_2 = question_router.invoke({ \n",
    "    \"question\": \"Where is the Eiffel tower?\"\n",
    "})\n",
    "print(router_2)\n"
   ],
   "outputs": [
    {
     "name": "stdout",
     "output_type": "stream",
     "text": [
      "datasource='vectorstore'\n",
      "datasource='web_search'\n"
     ]
    }
   ],
   "execution_count": 12
  },
  {
   "metadata": {},
   "cell_type": "markdown",
   "source": "### Docs Relevance",
   "id": "16d06c021b384042"
  },
  {
   "cell_type": "code",
   "id": "6bf37bfe0c3e49a6",
   "metadata": {
    "ExecuteTime": {
     "end_time": "2024-10-22T09:05:32.404226Z",
     "start_time": "2024-10-22T09:05:32.398118Z"
    }
   },
   "source": [
    "# Docs are relevant or not\n",
    "class GradeDocs(BaseModel):\n",
    "    \"\"\"\n",
    "        Binary score for relevance check on retrieved documents.\n",
    "    \"\"\"\n",
    "    relevance: str = Field(\n",
    "        description=\"Documents are relevant to the question, 'yes' or 'no'\"\n",
    "    )\n",
    "\n",
    "# LLM\n",
    "structured_llm_retrieval = llm.with_structured_output(GradeDocs)\n",
    "\n",
    "# System prompt\n",
    "doc_grader_instructions = \"\"\"\n",
    "You are a grader assessing relevance of a retrieved document to a user question.  \n",
    "If the document contains keyword(s), shares concepts or semantic meaning related to the user question, grade it as relevant. \n",
    "It does not need to be a stringent test. The goal is to filter out erroneous retrievals.\n",
    "Give a binary score 'yes' or 'no' score to indicate whether the document is relevant to the question.\"\"\"\n",
    "\n",
    "grade_prompt = ChatPromptTemplate.from_messages(\n",
    "    [\n",
    "        (\"system\", doc_grader_instructions),\n",
    "        (\"human\", \"Retrieved document: \\n\\n {document} \\n\\n User question: {question}\"),\n",
    "    ]\n",
    ")\n",
    "retrieval_grader = grade_prompt | structured_llm_retrieval\n"
   ],
   "outputs": [],
   "execution_count": 49
  },
  {
   "cell_type": "code",
   "id": "50aa1188cc7afb7f",
   "metadata": {
    "ExecuteTime": {
     "end_time": "2024-10-22T09:05:37.337588Z",
     "start_time": "2024-10-22T09:05:34.101106Z"
    }
   },
   "source": [
    "# # Test grader\n",
    "# First question: expected score = yes\n",
    "question_1 = \"Where is the Colosseum?\" \n",
    "retrieve_document_1 = retriever.invoke(question_1)\n",
    "docs_text_1 = retrieve_document_1[0]\n",
    "print(retrieval_grader.invoke({\"question\": question_1, \"document\": docs_text_1}))\n",
    "\n",
    "# Second question: expected score = no\n",
    "question_2 = \"Where is the Eiffel tower?\"   \n",
    "retrieve_document_2 = retriever.invoke(question_2) \n",
    "docs_text_2 = retrieve_document_2[0]\n",
    "print(retrieval_grader.invoke({\"question\": question_2, \"document\": docs_text_2}))\n"
   ],
   "outputs": [
    {
     "name": "stdout",
     "output_type": "stream",
     "text": [
      "relevance='yes'\n",
      "relevance='no'\n"
     ]
    }
   ],
   "execution_count": 50
  },
  {
   "metadata": {},
   "cell_type": "markdown",
   "source": "### Summarize Docs",
   "id": "168542f2fd422908"
  },
  {
   "metadata": {
    "ExecuteTime": {
     "end_time": "2024-10-22T08:46:53.775230Z",
     "start_time": "2024-10-22T08:46:53.772175Z"
    }
   },
   "cell_type": "code",
   "source": [
    "# Post-processing\n",
    "def format_docs(documents):\n",
    "    \"\"\"\n",
    "    Formats and cleans the page contents of documents into a single string.\n",
    "\n",
    "    Args:\n",
    "        documents (list): A list of document objects, each containing a 'page_content' attribute.\n",
    "\n",
    "    Returns:\n",
    "        str: A single cleaned string containing the combined page contents,\n",
    "              with excessive whitespace removed.\n",
    "    \"\"\"\n",
    "    # Combine page contents\n",
    "    combined_text = \"\\n\\n\".join(doc.page_content for doc in documents)\n",
    "\n",
    "    # Clean the combined text by removing excessive whitespace\n",
    "    cleaned_text = re.sub(r'\\s+', ' ', combined_text).strip()\n",
    "\n",
    "    return cleaned_text\n"
   ],
   "id": "6ec35ffc5b60efd0",
   "outputs": [],
   "execution_count": 16
  },
  {
   "metadata": {
    "ExecuteTime": {
     "end_time": "2024-10-22T08:46:55.287331Z",
     "start_time": "2024-10-22T08:46:55.284840Z"
    }
   },
   "cell_type": "code",
   "source": [
    "# System prompt\n",
    "summarization_instructions = \"\"\"\n",
    "You are a travel summarization assistant. Your task is to summarize the given document in a concise way, \n",
    "highlighting the core concepts and key information about travel topics. \n",
    "Ensure that the response is optimized for brevity while keeping all important information.\n",
    "\"\"\"\n",
    "\n",
    "# Define the summarization prompt template\n",
    "summarization_prompt = ChatPromptTemplate.from_messages(\n",
    "    [\n",
    "        (\"system\", summarization_instructions),\n",
    "        (\n",
    "            \"human\",\n",
    "            \"Here is the document text to summarize: \\n\\n {documents} \\n Provide a concise summary.\",\n",
    "        ),\n",
    "    ]\n",
    ")\n",
    "\n",
    "# Create the summarization chain\n",
    "summarizer_chain = summarization_prompt | llm | StrOutputParser()\n"
   ],
   "id": "41d12bcaba0929ec",
   "outputs": [],
   "execution_count": 17
  },
  {
   "metadata": {
    "ExecuteTime": {
     "end_time": "2024-10-22T08:47:15.545963Z",
     "start_time": "2024-10-22T08:47:04.897245Z"
    }
   },
   "cell_type": "code",
   "source": [
    "# # Test summarize\n",
    "docs_txt = format_docs(retrieve_document_1)\n",
    "docs_summary = summarizer_chain.invoke({\n",
    "    \"documents\": docs_txt\n",
    "})\n",
    "print(docs_summary)\n"
   ],
   "id": "952ac99fa3e1b6ac",
   "outputs": [
    {
     "name": "stdout",
     "output_type": "stream",
     "text": [
      "Here's a concise summary of the document:\n",
      "\n",
      "**Rome and Italy**\n",
      "\n",
      "* Colosseum: one of the 7 Wonders of the World, a must-see for anyone visiting Rome\n",
      "* Roman Forum: a futuristic district with modern architecture and historical sites like the Palace of Roman Civilization\n",
      "* Campo de' Fiori: a historic neighborhood market in Rome\n",
      "\n",
      "**UNESCO Sites**\n",
      "\n",
      "* Pompeii, Herculaneum, and Torre Annunziata: an archaeological area near Naples that lets you travel back in time\n",
      "* Pantheon: one of the best-preserved Roman monuments in the world with a unique hemispherical dome\n",
      "\n",
      "**Other Destinations**\n",
      "\n",
      "* Crotone: an ancient Greek colony with unspoilt nature, culture, and tradition; visit the Cathedral of Santa Maria Assunta and Capo Colonna archaeological site\n",
      "* Vibo Valentia: a charming town near the Ionian Sea with red-sand beaches and a Marine Protected Area\n",
      "\n",
      "**Key Information**\n",
      "\n",
      "* Rome has numerous museums, including the Luigi Pigorini National Museum of Prehistory and Ethnography\n",
      "* The Pantheon is famous for its astronomical effect where light enters the building at midday on April 21st\n",
      "* Crotone is nicknamed the city of Pythagoras due to its connection to the philosopher\n"
     ]
    }
   ],
   "execution_count": 18
  },
  {
   "metadata": {},
   "cell_type": "markdown",
   "source": "### Planning",
   "id": "7301bbeb4d5406fe"
  },
  {
   "metadata": {
    "ExecuteTime": {
     "end_time": "2024-10-22T08:49:59.124779Z",
     "start_time": "2024-10-22T08:49:59.121136Z"
    }
   },
   "cell_type": "code",
   "source": [
    "# System prompt\n",
    "planner_instructions = \"\"\"\n",
    "You are an expert travel planner with a kind and friendly personality. Always start the conversation by saying hello. You're excited to help travelers plan their perfect vacation with engaging and heartfelt recommendations. Present the information as if you are talking to a friend, making sure to be warm, conversational, and enthusiastic about the places to visit, the local cuisine, and tips for the trip. Make it feel like a personal guide. Don't be concise, but be conversational.\n",
    "\n",
    "Question: {question}\n",
    "Context: {context}\n",
    "\n",
    "Plan:\n",
    "- **Places to Visit**: \n",
    "    Start by warmly describing the main attractions, what makes them special, and why they're must-sees. Use friendly language like \"You’ll love visiting...\" or \"Make sure to check out...\"\n",
    "    \n",
    "- **Recommended Itineraries**: \n",
    "    Suggest possible itineraries that would help travelers make the most of their time. Use phrases like \"If you have 3 days, I recommend starting with...\" or \"For a week-long trip, here's how you could plan each day...\" to give them flexible but structured options.\n",
    "    \n",
    "- **Local Cuisine**: \n",
    "    Describe the local dishes with enthusiasm, like you're sharing a favorite meal with a friend. Phrases like \"You can't leave without trying...\" or \"One bite of this and you'll see why it's a local favorite...\" will make it feel personal.\n",
    "\n",
    "- **Tips for Travelers**: \n",
    "    Offer helpful advice as if you're giving insider knowledge, with kind reminders like \"Don’t forget to bring...\" or \"It's always good to know that...\"\n",
    "\n",
    "End with a friendly closing note like: \"I hope you have an amazing time! Safe travels!\"\n",
    "\"\"\"\n",
    "planner_prompt = ChatPromptTemplate.from_messages(\n",
    "    [\n",
    "        (\"system\", planner_instructions),\n",
    "        (\"human\", \"Question: \\n\\n {question}\"),\n",
    "    ]\n",
    ")\n",
    "plan_chain = planner_prompt | llm | StrOutputParser()\n"
   ],
   "id": "b6053c79b5c28389",
   "outputs": [],
   "execution_count": 24
  },
  {
   "metadata": {
    "ExecuteTime": {
     "end_time": "2024-10-22T08:53:09.731795Z",
     "start_time": "2024-10-22T08:53:01.503772Z"
    }
   },
   "cell_type": "code",
   "source": [
    "# Test planner\n",
    "planner_docs = retriever.invoke(question_1)\n",
    "planner_docs_txt = format_docs(planner_docs)\n",
    "\n",
    "generated_plan = plan_chain.invoke({\n",
    "    \"context\": docs_summary, \n",
    "    \"question\": question_1,\n",
    "})\n",
    "print(generated_plan)\n"
   ],
   "id": "fabd8be62ea0dec",
   "outputs": [
    {
     "name": "stdout",
     "output_type": "stream",
     "text": [
      "Hello! I'm so excited to help you plan your trip!\n",
      "\n",
      "The Colosseum, one of the most iconic landmarks in Rome, Italy, is actually located in the heart of the city. You can't miss it! It's situated in the center of the Roman Forum, which was once the main hub of ancient Rome.\n",
      "\n",
      "Imagine walking through the cobblestone streets of Rome and suddenly, you're standing in front of this incredible ancient amphitheater. The Colosseum is an engineering marvel that could hold up to 50,000 spectators during gladiator battles, animal hunts, and even re-enactments of famous battles. It's truly awe-inspiring!\n",
      "\n",
      "You'll love visiting the Colosseum because it's steeped in history and offers a glimpse into ancient Rome's grandeur. Take a guided tour to learn more about its construction, the emperors who ruled from here, and the events that took place within its walls.\n",
      "\n",
      "Make sure to check out the surrounding Roman Forum, which is also filled with ancient ruins, temples, and basilicas. It's like stepping back in time!\n",
      "\n",
      "Now, I know what you're thinking... \"How do I get there?\" Don't worry, it's easy! The Colosseum is within walking distance of many popular attractions, including the Pantheon and the Trevi Fountain.\n",
      "\n",
      "Are you ready to start planning your Roman adventure?\n"
     ]
    }
   ],
   "execution_count": 34
  },
  {
   "metadata": {},
   "cell_type": "markdown",
   "source": "### Check for hallucination",
   "id": "c7757286ddef5f63"
  },
  {
   "cell_type": "code",
   "id": "3a1168eb123bfef6",
   "metadata": {
    "ExecuteTime": {
     "end_time": "2024-10-22T08:58:56.991001Z",
     "start_time": "2024-10-22T08:58:56.985412Z"
    }
   },
   "source": [
    "# Hallucination Grader\n",
    "class GradeHallucinations(BaseModel):\n",
    "    \"\"\"\n",
    "        Binary score for hallucination present in planner answer.\n",
    "    \"\"\"\n",
    "\n",
    "    coherence: str = Field(\n",
    "        description=\"Answer is consistent with the documents, 'yes' or 'no'\"\n",
    "    )\n",
    "    \n",
    "# LLM\n",
    "structured_llm_hallucination = llm.with_structured_output(GradeHallucinations)\n",
    "\n",
    "# System prompt\n",
    "hallucination_instructions = \"\"\"\n",
    "You are a rater who evaluates whether the planner is consistent with the information in the documents. \n",
    "You assign a binary score of \"yes\" or \"no\". \"yes\" means the answer is consistent with the documents.\"\"\"\n",
    "\n",
    "hallucination_prompt = ChatPromptTemplate.from_messages(\n",
    "    [\n",
    "        (\"system\", hallucination_instructions),\n",
    "        (\"human\", \"documents: \\n\\n {documents} \\n\\n planner: {planner}\"),\n",
    "    ]\n",
    ")\n",
    "hallucination_grader = hallucination_prompt | structured_llm_hallucination\n"
   ],
   "outputs": [],
   "execution_count": 39
  },
  {
   "metadata": {
    "ExecuteTime": {
     "end_time": "2024-10-22T08:58:55.147563Z",
     "start_time": "2024-10-22T08:58:52.169312Z"
    }
   },
   "cell_type": "code",
   "source": [
    "# # Test hallucination\n",
    "hallucination = hallucination_grader.invoke({\n",
    "    \"documents\": docs_summary,  \n",
    "    \"planner\": generated_plan  \n",
    "})\n",
    "print(hallucination)\n"
   ],
   "id": "79f59939b7856167",
   "outputs": [
    {
     "name": "stdout",
     "output_type": "stream",
     "text": [
      "coherence='yes'\n"
     ]
    }
   ],
   "execution_count": 38
  },
  {
   "metadata": {},
   "cell_type": "markdown",
   "source": "### Answer evaluation",
   "id": "1e01900473b7519f"
  },
  {
   "cell_type": "code",
   "id": "48c72983b2bfbd88",
   "metadata": {
    "ExecuteTime": {
     "end_time": "2024-10-22T09:01:04.773801Z",
     "start_time": "2024-10-22T09:01:04.768304Z"
    }
   },
   "source": [
    "# Answer Grader\n",
    "class GradeAnswers(BaseModel):\n",
    "    \"\"\"Binary score to assess answer addresses question.\"\"\"\n",
    "\n",
    "    evaluation: str = Field(\n",
    "        description=\"Answer addresses the question, 'yes' or 'no'\"\n",
    "    )\n",
    "    \n",
    "# LLM\n",
    "structured_llm_grader = llm.with_structured_output(GradeAnswers)\n",
    "\n",
    "# System prompt\n",
    "answer_grader_instructions = \"\"\"\n",
    "You are a grader assessing whether the planner addresses / resolves a request\n",
    "Give a binary score 'yes' or 'no'. Yes' means that the answer resolves the request.\"\"\"\n",
    "\n",
    "answer_prompt = ChatPromptTemplate.from_messages(\n",
    "    [\n",
    "        (\"system\", answer_grader_instructions),\n",
    "        (\"human\", \"User question: \\n\\n {question} \\n\\n Planner: {planner}\"),\n",
    "    ]\n",
    ")\n",
    "answer_grader = answer_prompt | structured_llm_grader\n"
   ],
   "outputs": [],
   "execution_count": 43
  },
  {
   "cell_type": "code",
   "id": "8aa7b6de0e0c7ed1",
   "metadata": {
    "ExecuteTime": {
     "end_time": "2024-10-22T09:01:07.744405Z",
     "start_time": "2024-10-22T09:01:06.601777Z"
    }
   },
   "source": [
    "# # Test grade answer\n",
    "grade_answer = answer_grader.invoke({\n",
    "    \"question\": question_1, \n",
    "    \"planner\": generated_plan\n",
    "})\n",
    "print(grade_answer)"
   ],
   "outputs": [
    {
     "name": "stdout",
     "output_type": "stream",
     "text": [
      "evaluation='yes'\n"
     ]
    }
   ],
   "execution_count": 44
  },
  {
   "metadata": {},
   "cell_type": "markdown",
   "source": "### Re-write query",
   "id": "dbb13cb898349f04"
  },
  {
   "cell_type": "code",
   "id": "d9931d0cf0bda834",
   "metadata": {
    "ExecuteTime": {
     "end_time": "2024-10-22T09:01:19.722556Z",
     "start_time": "2024-10-22T09:01:19.719250Z"
    }
   },
   "source": [
    "# System prompt\n",
    "re_write_instructions = \"\"\"You are a question re-writer that converts an input question to a better version that is optimized \\n \n",
    "     for vectorstore retrieval. Look at the input and try to reason about the underlying semantic intent / meaning.\"\"\"\n",
    "\n",
    "re_write_prompt = ChatPromptTemplate.from_messages(\n",
    "    [\n",
    "        (\"system\", re_write_instructions),\n",
    "        (\n",
    "            \"human\",\n",
    "            \"Here is the initial question: \\n\\n {question} \\n Formulate an improved question.\",\n",
    "        ),\n",
    "    ]\n",
    ")\n",
    "question_rewriter = re_write_prompt | llm | StrOutputParser()\n"
   ],
   "outputs": [],
   "execution_count": 45
  },
  {
   "cell_type": "code",
   "id": "ae2fce3bfed98dac",
   "metadata": {
    "ExecuteTime": {
     "end_time": "2024-10-22T09:01:26.823144Z",
     "start_time": "2024-10-22T09:01:22.083585Z"
    }
   },
   "source": [
    "# Test question re-writer \n",
    "question_rewriter.invoke({\"question\": question_1})\n"
   ],
   "outputs": [
    {
     "data": {
      "text/plain": [
       "'Improved Question:\\nWhat is the location of the ancient Roman amphitheater known as the Colosseum?\\n\\nReasoning:\\n\\n1. **Specificity**: The original question is quite general, asking for a location without specifying which one (e.g., Rome, Italy). The improved question adds specificity by mentioning \"the ancient Roman amphitheater,\" which helps to narrow down the search results.\\n2. **Contextualization**: By adding \"ancient Roman\" and \"amphitheater,\" we provide more context about what is being asked. This can help the vector store retrieve a more accurate result, as it\\'s clear that we\\'re looking for information about a specific historical landmark.\\n3. **Precision**: The phrase \"known as the Colosseum\" adds precision to the question, making it clear that we\\'re referring to this particular structure rather than another similar one.\\n\\nBy rephrasing the question in this way, we\\'ve made it more informative and targeted, which can lead to better retrieval results from a vector store.'"
      ]
     },
     "execution_count": 46,
     "metadata": {},
     "output_type": "execute_result"
    }
   ],
   "execution_count": 46
  },
  {
   "cell_type": "markdown",
   "id": "6402affb0ad722ed",
   "metadata": {},
   "source": [
    "# Tavily: web search tool"
   ]
  },
  {
   "cell_type": "code",
   "id": "46f0efe4667406b",
   "metadata": {
    "ExecuteTime": {
     "end_time": "2024-10-22T09:01:34.932930Z",
     "start_time": "2024-10-22T09:01:30.317696Z"
    }
   },
   "source": [
    "# Test Tavily \n",
    "tavily_web_search.invoke({\"query\": \"What is the answer to the ultimate question of life, the universe, and everything?\"})\n"
   ],
   "outputs": [
    {
     "data": {
      "text/plain": [
       "[{'url': 'https://simple.wikipedia.org/wiki/42_(answer)',\n",
       "  'content': '42 (answer) 42 is the \"Answer to the Ultimate Question of Life, the Universe, and Everything\" in The Hitchhiker\\'s Guide to the Galaxy books. It was computed by Deep Thought, the second greatest computer ever. [1] The descendants of Deep Thought\\'s creators are upset by the numeric nature of the answer, not understanding what to do with it or'},\n",
       " {'url': 'https://news.mit.edu/2019/answer-life-universe-and-everything-sum-three-cubes-mathematics-0910',\n",
       "  'content': 'Suggestions or feedback?\\nMIT News | Massachusetts Institute of Technology\\nBrowse By\\nTopics\\nDepartments\\nCenters, Labs, & Programs\\nSchools\\nThe answer to life, the universe, and everything\\nPress Contact:\\nPrevious image\\nNext image\\nA team led by Andrew Sutherland of MIT and Andrew Booker of Bristol University has solved the final piece of a famous 65-year old math puzzle with an answer for the most elusive number of all: 42.\\n The method of using Charity Engine is similar to part of the plot surrounding the number 42 in the \"Hitchhiker\" novel: After Deep Thought’s answer of 42 proves unsatisfying to the scientists, who don’t know the question it is meant to answer, the supercomputer decides to compute the Ultimate Question by building a supercomputer powered by Earth … in other words, employing a worldwide massively parallel computation platform.\\n “It’s very gratifying.”\\nPrevious item\\nNext item\\nRelated Links\\nRelated Topics\\nRelated Articles\\nInternational team launches vast atlas of mathematical objects\\nPrevious item\\nNext item\\nMore MIT News\\nOptimizing nuclear fuels for next-generation reactors\\nRead full story →\\nStudy: Life’s building blocks are surprisingly stable in Venus-like conditions\\nRead full story →\\nCreative collisions: “Well, any computer *can* solve the problem, provided you are willing\\xa0to wait long enough, but with roughly half a million PCs working on the problem in parallel (each with multiple cores), we were able to complete the computation much more quickly than we could have using the Bristol machine (or any of the machines here at MIT),” says Sutherland.\\nUsing the Charity Engine network is also more energy-efficient. The number 42 is especially significant to fans of science fiction novelist Douglas Adams’ “The Hitchhiker’s Guide to the Galaxy,” because that number is the answer given by a supercomputer to “the Ultimate Question of Life, the Universe, and Everything.”\\n'},\n",
       " {'url': \"https://en.wikipedia.org/wiki/Phrases_from_The_Hitchhiker's_Guide_to_the_Galaxy\",\n",
       "  'content': 'There is another theory mentioned, which states that this has already happened.[7]\\nSome readers who were trying to find a deeper meaning in the passage soon noticed a certain veracity when using base-13; 610 × 910 = 5410, which can be expressed as 4213 (i.e. the decimal expression 54 is encoded as 42 in base-13).[7]:\\u200a128\\u200a When confronted with this, the author claimed that it was a mere coincidence, stating that \"I may be a sorry case, but I don\\'t write jokes in base 13.\"[8]\\nIn Life, the Universe and Everything, a character named \"Prak\", who \"knows all that is true,\" confirms that 42 is indeed The Answer, and that it is impossible for both The Answer and The Question to be known in the same universe, as they will cancel each other out and take the Universe with them—to be replaced by something even more bizarre (as described in the first theory) and that it may have already happened (as described in the second).[9] In The Restaurant at the End of the Universe, this reason is revealed to have been a ruse: the Vogons had been hired to destroy the Earth by a consortium of psychiatrists, led by Gag Halfrunt, who feared for the loss of their careers when the Ultimate Question became known.[5]\\nLacking a real question, the mice (pan-dimensional beings) decide not to go through the whole process again and instead settle for the out-of-thin-air suggestion \"How many roads must a man walk down? Many writers on popular science, such as Fred Alan Wolf, Paul Davies, and Michio Kaku, have used quotations in their books to illustrate facts about cosmology or philosophy.[1][2][3]\\nThe Answer to the Ultimate Question of Life, the Universe, and Everything is 42[edit]\\nIn the radio series and the first novel, a group of hyper-intelligent pan-dimensional beings demand to learn the Answer to the Ultimate Question of Life, The Universe, and Everything from the supercomputer Deep Thought, specially built for this purpose. This leaves the symbolic meaning that the answer to life, the universe, and everything is anything you, the user, would like it to be.[21]\\n42 Puzzle[edit]\\nThe 42 Puzzle is a game devised by Douglas Adams in 1994 for the United States series of The Hitchhiker\\'s Guide to the Galaxy books. They find further evidence of Carroll\\'s influence in the fact that Adams entitled the episodes of the original radio series of The Hitchhiker\\'s Guide to the Galaxy \"fits\", the word Carroll used to name the chapters of The Hunting of the Snark.\\n'}]"
      ]
     },
     "execution_count": 47,
     "metadata": {},
     "output_type": "execute_result"
    }
   ],
   "execution_count": 47
  },
  {
   "cell_type": "markdown",
   "id": "717d1acf42306cf9",
   "metadata": {},
   "source": "## Graph: State"
  },
  {
   "cell_type": "code",
   "id": "f1b1b0f1a74c7cc3",
   "metadata": {
    "ExecuteTime": {
     "end_time": "2024-10-22T10:06:03.993706Z",
     "start_time": "2024-10-22T10:06:03.990300Z"
    }
   },
   "source": [
    "# Graph's state\n",
    "class State(TypedDict):\n",
    "    \"\"\"\n",
    "    Represents the state of the graph.\n",
    "\n",
    "    Attributes:\n",
    "        documents: list of documents.\n",
    "        max_retries: the maximum number of hallucination checks permitted.\n",
    "        loop_step: Indicates the current step in a looping process.\n",
    "        planner: LLM planning.\n",
    "        question: question.\n",
    "        web_search: run web search\n",
    "    \"\"\"\n",
    "    documents: List[str]\n",
    "    max_retries: int\n",
    "    loop_step: Annotated[int, operator.add]\n",
    "    planner: str\n",
    "    route: str\n",
    "    topic: str\n",
    "    question: str\n",
    "    web_search: str\n",
    "    "
   ],
   "outputs": [],
   "execution_count": 225
  },
  {
   "metadata": {},
   "cell_type": "markdown",
   "source": "### Graph: Nodes",
   "id": "1124acf9be5cf752"
  },
  {
   "metadata": {
    "ExecuteTime": {
     "end_time": "2024-10-22T10:41:23.454861Z",
     "start_time": "2024-10-22T10:41:23.447395Z"
    }
   },
   "cell_type": "code",
   "source": [
    "# Node: query subject\n",
    "def subject(state: State) -> dict:\n",
    "    \"\"\"\n",
    "        Get the subject of the user query\n",
    "        Args:\n",
    "            state: The current graph state \n",
    "        Returns:\n",
    "            Updates subject key based on the user query\n",
    "    \"\"\"\n",
    "    print(\"---ESTABLISH SUBJECT---\")\n",
    "    question = state[\"question\"]\n",
    "    \n",
    "    subject_score = relevant_query.invoke({\n",
    "        \"question\": question\n",
    "    })\n",
    "    # Return state\n",
    "    return {\"topic\": subject_score, \"question\": question}\n",
    "\n",
    "\n",
    "# Node: off-topic response\n",
    "def llm_standard_response(state: State) -> dict:\n",
    "    \"\"\"\n",
    "    Responds with a standard message.\n",
    "\n",
    "    Args:\n",
    "        The current state of the graph.\n",
    "\n",
    "    Returns:\n",
    "        Updates planner key.\n",
    "    \"\"\"\n",
    "    # Standard response message to inform the user.\n",
    "    standard_response = (\n",
    "        \"Hello! I'm your travel assistant, and I can help with questions related to travel.\"\n",
    "    )\n",
    "    # Update the state\n",
    "    state[\"planner\"] = standard_response\n",
    "    \n",
    "    # Return state \n",
    "    return {\"planner\": state[\"planner\"]}\n",
    "\n",
    "\n",
    "# Node: query route\n",
    "def router(state: State) -> dict:\n",
    "    \"\"\"\n",
    "        Get the route of the user query\n",
    "    \n",
    "        Args:\n",
    "            state (dict): The current graph state\n",
    "    \n",
    "        Returns:\n",
    "            Updates route key based on the relevant user query\n",
    "    \"\"\"\n",
    "    print(\"---ESTABLISH ROUTE---\")\n",
    "    question = state[\"question\"]\n",
    "    \n",
    "    route_score = question_router.invoke({\n",
    "        \"question\": question\n",
    "    }) \n",
    "    # Return state\n",
    "    return {\"route\": route_score, \"question\": question}\n",
    "\n",
    "    \n",
    "# Node: retrieve documents\n",
    "def retrieve(state: State) -> dict:\n",
    "    \"\"\"\n",
    "        Retrieve documents from vectorstore\n",
    "    \n",
    "        Args:\n",
    "            state: The current graph state\n",
    "    \n",
    "        Returns:\n",
    "            state: Updates documents key with only filtered relevant documents\n",
    "    \"\"\"\n",
    "    print(\"---RETRIEVE DOCS---\")\n",
    "    question = state[\"question\"]\n",
    "\n",
    "    # Retrieval\n",
    "    documents = retriever.invoke(question)\n",
    "    \n",
    "    return {\"documents\": documents, \"question\": question}\n",
    "\n",
    "\n",
    "# Node: docs are relevant or not\n",
    "def grade_documents(state: State) -> dict:\n",
    "    \"\"\"\n",
    "        Determines whether the retrieved documents are relevant to the question.\n",
    "    \n",
    "        Args:\n",
    "            state: The current graph state\n",
    "    \n",
    "        Returns:\n",
    "            state: Updates documents key with only filtered relevant documents\n",
    "    \"\"\"\n",
    "    print(\"---CHECK DOCUMENT RELEVANCE---\")\n",
    "    question = state[\"question\"]    \n",
    "    documents = state[\"documents\"] \n",
    "\n",
    "    relevant_documents = []\n",
    "    select_web= \"NO\"\n",
    "    yes_count = 0\n",
    "    \n",
    "    for doc in documents:\n",
    "        retrieval_score = retrieval_grader.invoke({\n",
    "            \"question\": question, \n",
    "            \"document\": doc.page_content\n",
    "        })\n",
    "        retrieval_grade = retrieval_score.relevance\n",
    "        \n",
    "        if retrieval_grade == \"yes\":\n",
    "            print(\"---DOCUMENT RELEVANCE---\")\n",
    "            relevant_documents.append(doc)\n",
    "            yes_count += 1\n",
    "        else:\n",
    "            print(\"---DOCUMENT NOT RELEVANCE---\")\n",
    "            # select_web = \"yes\"\n",
    "            continue\n",
    "            \n",
    "    # Set web_search to \"yes\" only if the majority of docs are graded as \"no\"\n",
    "    total_docs = len(documents)\n",
    "    if yes_count <= total_docs // 2:\n",
    "        select_web = \"YES\"\n",
    "    \n",
    "    return {\"documents\": relevant_documents, \"web_search\": select_web}\n",
    "\n",
    "\n",
    "# # Node: Summarize Documents\n",
    "# def summarize_documents(state: State) -> dict:\n",
    "#     \"\"\"\n",
    "#     Summarizes the relevant documents for easier planning and evaluation.\n",
    "#     \n",
    "#     Args:\n",
    "#         state: The current graph state.\n",
    "#     \n",
    "#     Returns:\n",
    "#         state: Updates documents key with the summarized content.\n",
    "#     \"\"\"\n",
    "#     print(\"---SUMMARIZE DOCUMENTS---\")\n",
    "#     documents = state[\"documents\"]\n",
    "#     \n",
    "#     # Combine documents into a single text block for summarization\n",
    "#     document_text = format_docs(documents)\n",
    "#     \n",
    "#     # Summarize the documents\n",
    "#     summarized_docs = summarizer_chain.run({\"documents\": document_text})\n",
    "#     \n",
    "#     return {\"documents\": summarized_docs}\n",
    "\n",
    "\n",
    "# # Node: make query great again\n",
    "# def transform_query(state: State) -> dict:\n",
    "#     \"\"\"\n",
    "#         Transform the query to produce a better question.\n",
    "#     \n",
    "#         Args:\n",
    "#             state (dict): The current graph state\n",
    "#     \n",
    "#         Returns:\n",
    "#             state (dict): Updates question key with a re-phrased question\n",
    "#     \"\"\"\n",
    "#     print(\"---TRANSFORM QUERY---\")\n",
    "#     question = state[\"question\"]\n",
    "#     documents = state[\"documents\"]\n",
    "# \n",
    "#     # Re-write question\n",
    "#     better_question = question_rewriter.invoke({\"question\": question})\n",
    "#     \n",
    "#     return {\"documents\": documents, \"question\": better_question}\n",
    "\n",
    "\n",
    "# Node: planning\n",
    "def planner(state: State) -> dict:\n",
    "    \"\"\"\n",
    "        Generates a plan based on the provided query.\n",
    "        \n",
    "        Args:\n",
    "            state (dict): The current graph state.\n",
    "    \n",
    "        Returns:\n",
    "            state (dict): Updates planner key with the generated plan and\n",
    "                the loop step, incremented by 1.\n",
    "    \"\"\"\n",
    "    print(\"---PLANNER---\")\n",
    "    question = state[\"question\"]            # Get question state\n",
    "    documents = state[\"documents\"]          # Get documents state\n",
    "    loop_step = state.get(\"loop_step\", 0)   # Get loop_step state\n",
    "    \n",
    "    # RAG planning\n",
    "    make_plan = plan_chain.invoke({\n",
    "        \"context\": documents,\n",
    "        \"question\": question\n",
    "    })\n",
    "    # Return state\n",
    "    return {\"documents\": documents, \"question\": question, \"planner\": make_plan, \"loop_step\": loop_step + 1}\n",
    "\n",
    "\n",
    "# Node: search on the web\n",
    "def web_search(state: State) -> dict:\n",
    "    \"\"\"\n",
    "    Web search based on the query.\n",
    "\n",
    "    Args:\n",
    "        state (dict): The current graph state\n",
    "\n",
    "    Returns:\n",
    "        state (dict): Updates documents key with appended web results\n",
    "    \"\"\"\n",
    "    print(\"---WEB SEARCH---\")\n",
    "    question = state[\"question\"]          \n",
    "    documents = state.get(\"documents\", []) \n",
    "\n",
    "    # Perform a web search using the Tavily\n",
    "    web_docs = tavily_web_search.invoke({\"query\": question})\n",
    "    web_results = \"\\n\".join([doc[\"content\"] for doc in web_docs])\n",
    "    web_results = Document(page_content=web_results)\n",
    "    documents.append(web_results)\n",
    "    # Return state\n",
    "    return {\"documents\": documents, \"question\": question}\n",
    "    "
   ],
   "id": "edfc036e805b5a90",
   "outputs": [],
   "execution_count": 258
  },
  {
   "metadata": {},
   "cell_type": "markdown",
   "source": "### Graph: Edges",
   "id": "ea6962bf9bbc3053"
  },
  {
   "cell_type": "code",
   "id": "b0990194e2b14bc7",
   "metadata": {
    "ExecuteTime": {
     "end_time": "2024-10-22T10:41:25.461852Z",
     "start_time": "2024-10-22T10:41:25.455899Z"
    }
   },
   "source": [
    "# Edge: 'off-topic' or 'on-topic'\n",
    "def route_subject(state: State) -> str:\n",
    "    \"\"\"\n",
    "        Route question to travel or other.\n",
    "    \n",
    "        Args:\n",
    "            state (dict): The current graph state\n",
    "\n",
    "        Returns:\n",
    "            str: Next node to call\n",
    "    \"\"\"\n",
    "    topic = state[\"topic\"]\n",
    "    topic_grade = topic.subject\n",
    "    \n",
    "    # Determine if subject is off-topic or not\n",
    "    if topic_grade == \"other\":\n",
    "        print(\"===SUBJECT: OTHER===\")\n",
    "        return \"off-topic\"\n",
    "    elif topic_grade == \"travel\":\n",
    "        print(\"===SUBJECT: TRAVEL===\")\n",
    "        return \"on-topic\"\n",
    "    \n",
    "    \n",
    "# Edge: RAG or web\n",
    "def route_question(state: State) -> str:\n",
    "    \"\"\"\n",
    "        Route question to web search or RAG.\n",
    "    \n",
    "        Args:\n",
    "            state (dict): The current graph state\n",
    "\n",
    "        Returns:\n",
    "            str: Next node to call\n",
    "    \"\"\"\n",
    "    source = state[\"route\"]\n",
    "    source_grade = source.datasource\n",
    "    \n",
    "    # Decide if route to 'web_search' or 'vectorstore'\n",
    "    if source_grade == \"web_search\": \n",
    "        print(\"===ROUTE: WEB SEARCH===\")\n",
    "        return \"websearch\"    \n",
    "    elif source_grade == \"vectorstore\":\n",
    "        print(\"===ROUTE: RAG===\")\n",
    "        return \"vectorstore\"\n",
    "    \n",
    "\n",
    "# Edge: planner or web_search\n",
    "def decide_to_plan(state: State) -> str:\n",
    "    \"\"\"\n",
    "    Determines whether start planning, or search answer on the web.\n",
    "\n",
    "    Args:\n",
    "        state (dict): The current graph state\n",
    "\n",
    "    Returns:\n",
    "        str: Binary decision for next node to call\n",
    "    \"\"\"\n",
    "    print(\"===EVALUATE GRADED DOCUMENTS===\")\n",
    "    # question = state[\"question\"]\n",
    "    go_to_web = state[\"web_search\"]\n",
    "    # filtered_documents = state[\"documents\"]\n",
    "    \n",
    "    if go_to_web == \"YES\":\n",
    "        print(\"===DECISION: ALL DOCUMENTS ARE NOT RELEVANT TO QUESTION, INCLUDE WEB SEARCH===\")\n",
    "        return \"websearch\"\n",
    "    else: \n",
    "        print(\"===DECISION: PLANNER===\")\n",
    "        return \"travel_planner\"\n",
    "\n",
    "\n",
    "# Edge: fact checking on docs\n",
    "def grade_generation_v_documents_and_question(state: State) -> str:\n",
    "    \"\"\"\n",
    "    Determines whether the planning is grounded in the document and answers question.\n",
    "\n",
    "    Args:\n",
    "        state (dict): The current graph state\n",
    "\n",
    "    Returns:\n",
    "        str: Decision for next node to call\n",
    "    \"\"\"\n",
    "    print(\"===CHECK HALLUCINATIONS===\")\n",
    "    question = state[\"question\"]\n",
    "    documents = state[\"documents\"]\n",
    "    loop_step = state[\"loop_step\"]\n",
    "    max_retries = state.get(\"max_retries\", 3)\n",
    "    plan = state[\"planner\"]\n",
    "    \n",
    "    hallucination_score = hallucination_grader.invoke({\n",
    "        \"documents\": format_docs(documents), \n",
    "        \"planner\": plan\n",
    "    })\n",
    "    hallucination_grade = hallucination_score.coherence\n",
    "    \n",
    "    # Check hallucination\n",
    "    if hallucination_grade == \"yes\":\n",
    "        print(\"===DECISION: PLANNER IS GROUNDED IN DOCUMENTS===\")\n",
    "        \n",
    "        # Check question-answering\n",
    "        print(\"===GRADE PLANNER vs QUESTION===\")\n",
    "        answer_score = answer_grader.invoke({\n",
    "            \"question\": question,\n",
    "            \"planner\": plan\n",
    "        })\n",
    "        answer_grade = answer_score.evaluation \n",
    "        \n",
    "        if answer_grade == \"yes\":\n",
    "            print(\"===DECISION: PLANNER ADDRESSES QUESTION===\")\n",
    "            return \"useful\"\n",
    "        elif loop_step <= max_retries:\n",
    "            print(\"===DECISION: PLANNER DOES NOT ADDRESS QUESTION===\")\n",
    "            return \"not useful\"\n",
    "        else:\n",
    "            print(\"===DECISION: MAX RETRIES REACHED===\")\n",
    "            return \"max retries\"\n",
    "    elif loop_step <= max_retries:\n",
    "        print(f\"===DECISION: PLANNER IS NOT GROUNDED IN DOCUMENTS, RE-TRY===\")\n",
    "        return \"check\"\n",
    "    else:\n",
    "        print(\"===DECISION: MAX RETRIES REACHED===\")\n",
    "        return \"max retries\"\n"
   ],
   "outputs": [],
   "execution_count": 259
  },
  {
   "metadata": {},
   "cell_type": "markdown",
   "source": "### Build the graph",
   "id": "832bf1194eeb41f8"
  },
  {
   "cell_type": "code",
   "id": "3f6657a62665d40b",
   "metadata": {
    "ExecuteTime": {
     "end_time": "2024-10-22T10:41:33.839525Z",
     "start_time": "2024-10-22T10:41:33.679745Z"
    }
   },
   "source": [
    "# Graph's state\n",
    "workflow = StateGraph(State)\n",
    "\n",
    "# Define the nodes\n",
    "workflow.add_node(node=\"subject\", action=subject)\n",
    "workflow.add_node(node=\"llm\", action=llm_standard_response)\n",
    "workflow.add_node(node=\"router\", action=router)                     \n",
    "workflow.add_node(node=\"retrieve\", action=retrieve)                 \n",
    "workflow.add_node(node=\"grade_documents\", action=grade_documents)   \n",
    "workflow.add_node(node=\"websearch\", action=web_search)              \n",
    "workflow.add_node(node=\"travel_planner\", action=planner)           \n",
    "\n",
    "# Build graph: edges and condition\n",
    "workflow.add_edge(START, \"subject\")\n",
    "workflow.add_conditional_edges(\n",
    "    \"subject\",\n",
    "    route_subject,\n",
    "    {\n",
    "        \"on-topic\": \"router\",\n",
    "        \"off-topic\": \"llm\",\n",
    "    }\n",
    ")\n",
    "workflow.add_edge(\"llm\", END)\n",
    "\n",
    "workflow.add_conditional_edges(\n",
    "    \"router\",\n",
    "    route_question,\n",
    "    {\n",
    "        \"websearch\": \"websearch\",\n",
    "        \"vectorstore\": \"retrieve\",\n",
    "    },\n",
    ")\n",
    "\n",
    "workflow.add_edge(\"websearch\", \"travel_planner\")\n",
    "workflow.add_edge(\"retrieve\", \"grade_documents\")\n",
    "\n",
    "workflow.add_conditional_edges(\n",
    "    \"grade_documents\",\n",
    "    decide_to_plan,\n",
    "    {\n",
    "        \"websearch\": \"websearch\",\n",
    "        \"travel_planner\": \"travel_planner\",\n",
    "    },\n",
    ")\n",
    "\n",
    "workflow.add_conditional_edges(\n",
    "    \"travel_planner\",\n",
    "    grade_generation_v_documents_and_question,\n",
    "    {\n",
    "        \"check\": \"travel_planner\",\n",
    "        \"useful\": END,\n",
    "        \"not useful\": \"websearch\",\n",
    "        \"max retries\": END,\n",
    "    },\n",
    ")\n",
    "\n",
    "# Compile\n",
    "graph = workflow.compile()\n",
    "# Display the graph\n",
    "display(Image(graph.get_graph().draw_mermaid_png(draw_method=MermaidDrawMethod.API)))\n"
   ],
   "outputs": [
    {
     "data": {
      "image/jpeg": "[encoded data removed]",
      "text/plain": [
       "<IPython.core.display.Image object>"
      ]
     },
     "metadata": {},
     "output_type": "display_data"
    }
   ],
   "execution_count": 261
  },
  {
   "metadata": {
    "ExecuteTime": {
     "end_time": "2024-10-22T10:42:06.740667Z",
     "start_time": "2024-10-22T10:41:33.857896Z"
    }
   },
   "cell_type": "code",
   "source": [
    "# Test Graph\n",
    "answer = graph.invoke({\"question\":\"Hi, I'd like to plan a vacation in Italy, in the Sardinia region. What do you suggest me?\"})[\"planner\"]\n",
    "print(f\"Final state: {answer}\")\n"
   ],
   "id": "2e523374ed1af5d1",
   "outputs": [
    {
     "name": "stdout",
     "output_type": "stream",
     "text": [
      "---ESTABLISH SUBJECT---\n",
      "===SUBJECT: TRAVEL===\n",
      "---ESTABLISH ROUTE---\n",
      "===ROUTE: RAG===\n",
      "---RETRIEVE DOCS---\n",
      "---CHECK DOCUMENT RELEVANCE---\n",
      "---DOCUMENT RELEVANCE---\n",
      "---DOCUMENT RELEVANCE---\n",
      "---DOCUMENT RELEVANCE---\n",
      "---DOCUMENT RELEVANCE---\n",
      "---DOCUMENT NOT RELEVANCE---\n",
      "===EVALUATE GRADED DOCUMENTS===\n",
      "===DECISION: PLANNER===\n",
      "---PLANNER---\n",
      "===CHECK HALLUCINATIONS===\n",
      "===DECISION: PLANNER IS GROUNDED IN DOCUMENTS===\n",
      "===GRADE PLANNER vs QUESTION===\n",
      "===DECISION: PLANNER ADDRESSES QUESTION===\n",
      "Final state: Italy, and specifically Sardinia, is one of my favorite destinations! You're going to have an amazing time exploring this beautiful island.\n",
      "\n",
      "Let's start with some must-see places. You'll love visiting the stunning beaches like La Pelosa in Stintino, known for its crystal-clear waters and white sand. Or head to Chia Beach, which offers breathtaking views of the Mediterranean Sea. If you're looking for something a bit more adventurous, visit the Grotta di Nettuno, a natural sea cave that's perfect for snorkeling or simply taking in the stunning scenery.\n",
      "\n",
      "Another must-see attraction is the ancient city of Tharros, which dates back to the Phoenicians and Romans. You can explore the ruins, learn about the history, and enjoy the breathtaking views of the surrounding landscape.\n",
      "\n",
      "Now, let's talk about itineraries. If you have 3 days, I recommend starting with a visit to the north coast, where you can explore the charming towns of Stintino and Alghero. From there, head south to Chia Beach and spend the rest of your day soaking up the sun.\n",
      "\n",
      "For a week-long trip, here's how you could plan each day:\n",
      "\n",
      "Day 1: Explore the north coast, visit Tharros, and enjoy the stunning beaches.\n",
      "Day 2: Head to the south coast, visit the Grotta di Nettuno, and relax on Chia Beach.\n",
      "Day 3: Visit the ancient city of Cagliari, explore the narrow streets, and enjoy the local cuisine.\n",
      "Day 4: Take a boat tour to the nearby islands, such as La Maddalena or Sardinia's own island paradise, Tavolara.\n",
      "Day 5: Explore the stunning natural beauty of the Gennargentu National Park.\n",
      "Day 6: Visit the charming town of Castelsardo, explore its narrow streets, and enjoy the local wine.\n",
      "Day 7: Spend your last day relaxing on one of Sardinia's many beautiful beaches or exploring a new town.\n",
      "\n",
      "Now, let's talk about food! You have to try some of Sardinia's delicious seafood dishes, like the famous \"Fregula con Aragosta\" (small pasta with lobster). Or, head to a local restaurant and order the \"Carciofi alla Sarda\" (artichokes in a traditional Sardinian sauce).\n",
      "\n",
      "Some tips for travelers: Don't forget to bring sunscreen, sunglasses, and a hat to protect yourself from the sun. Also, be sure to try some of the local wines, like Cannonau or Vermentino.\n",
      "\n",
      "I hope you have an amazing time exploring Sardinia! Safe travels!\n"
     ]
    }
   ],
   "execution_count": 262
  },
  {
   "cell_type": "code",
   "id": "159131350539ab8c",
   "metadata": {
    "ExecuteTime": {
     "end_time": "2024-10-22T10:42:39.616890Z",
     "start_time": "2024-10-22T10:42:06.766074Z"
    }
   },
   "source": [
    "# Test Graph\n",
    "answer = graph.invoke({\"question\":\"Hi, I'd like to plan a vacation in Italy, in the Sardinia region. What do you suggest me?\"})[\"planner\"]\n",
    "print(answer)\n"
   ],
   "outputs": [
    {
     "name": "stdout",
     "output_type": "stream",
     "text": [
      "---ESTABLISH SUBJECT---\n",
      "===SUBJECT: TRAVEL===\n",
      "---ESTABLISH ROUTE---\n",
      "===ROUTE: RAG===\n",
      "---RETRIEVE DOCS---\n",
      "---CHECK DOCUMENT RELEVANCE---\n",
      "---DOCUMENT RELEVANCE---\n",
      "---DOCUMENT RELEVANCE---\n",
      "---DOCUMENT RELEVANCE---\n",
      "---DOCUMENT RELEVANCE---\n",
      "---DOCUMENT NOT RELEVANCE---\n",
      "===EVALUATE GRADED DOCUMENTS===\n",
      "===DECISION: PLANNER===\n",
      "---PLANNER---\n",
      "===CHECK HALLUCINATIONS===\n",
      "===DECISION: PLANNER IS GROUNDED IN DOCUMENTS===\n",
      "===GRADE PLANNER vs QUESTION===\n",
      "===DECISION: PLANNER ADDRESSES QUESTION===\n",
      "Italy, and specifically Sardinia, is one of my favorite destinations! You're going to have an amazing time exploring this beautiful island.\n",
      "\n",
      "Let's start with some must-see places. You'll love visiting the stunning beaches like La Pelosa in Stintino, known for its crystal-clear waters and white sand. Or head to Chia Beach, which offers breathtaking views of the Mediterranean Sea. If you're looking for something a bit more adventurous, visit the Grotta di Nettuno, a natural sea cave that's perfect for snorkeling or simply taking in the stunning scenery.\n",
      "\n",
      "Another must-see attraction is the ancient city of Tharros, which dates back to the Phoenicians and Romans. You can explore the ruins, learn about the history, and enjoy the breathtaking views of the surrounding landscape.\n",
      "\n",
      "Now, let's talk about itineraries. If you have 3 days, I recommend starting with a visit to the north coast, where you can explore the charming towns of Stintino and Alghero. From there, head south to Chia Beach and spend the rest of your day soaking up the sun.\n",
      "\n",
      "For a week-long trip, here's how you could plan each day:\n",
      "\n",
      "Day 1: Explore the north coast, visit Tharros, and enjoy the stunning beaches.\n",
      "Day 2: Head to the south coast, visit the Grotta di Nettuno, and relax on Chia Beach.\n",
      "Day 3: Visit the ancient city of Cagliari, explore the narrow streets, and enjoy the local cuisine.\n",
      "Day 4: Take a boat tour to the nearby islands, such as La Maddalena or Sardinia's own island paradise, Tavolara.\n",
      "Day 5: Explore the stunning natural beauty of the Gennargentu National Park.\n",
      "Day 6: Visit the charming town of Castelsardo, explore its narrow streets, and enjoy the local wine.\n",
      "Day 7: Spend your last day relaxing on one of Sardinia's many beautiful beaches or exploring a new town.\n",
      "\n",
      "Now, let's talk about food! You have to try some of Sardinia's delicious seafood dishes, like the famous \"Fregula con Aragosta\" (small pasta with lobster). Or, head to a local restaurant and order the \"Carciofi alla Sarda\" (artichokes in a traditional Sardinian sauce).\n",
      "\n",
      "Some tips for travelers: Don't forget to bring sunscreen, sunglasses, and a hat to protect yourself from the sun. Also, be sure to try some of the local wines, like Cannonau or Vermentino.\n",
      "\n",
      "I hope you have an amazing time exploring Sardinia! Safe travels!\n"
     ]
    }
   ],
   "execution_count": 263
  },
  {
   "metadata": {
    "ExecuteTime": {
     "end_time": "2024-10-22T10:43:49.556393Z",
     "start_time": "2024-10-22T10:43:48.967472Z"
    }
   },
   "cell_type": "code",
   "source": [
    "# Test Graph\n",
    "answer = graph.invoke({\"question\":\"Who won the Olympics 2024?\"})[\"planner\"]\n",
    "print(answer)"
   ],
   "id": "258ff4624b02f6ca",
   "outputs": [
    {
     "name": "stdout",
     "output_type": "stream",
     "text": [
      "---ESTABLISH SUBJECT---\n",
      "===SUBJECT: OTHER===\n",
      "Hello! I'm your travel assistant, and I can help with questions related to travel.\n"
     ]
    }
   ],
   "execution_count": 265
  },
  {
   "metadata": {
    "ExecuteTime": {
     "end_time": "2024-10-22T10:44:38.761231Z",
     "start_time": "2024-10-22T10:44:14.269078Z"
    }
   },
   "cell_type": "code",
   "source": [
    "# Test Graph\n",
    "answer = graph.invoke({\"question\":\"Define an itinerary for the Aosta-valley region?\"})[\"planner\"]\n",
    "print(answer)\n"
   ],
   "id": "9a98ed4c328d9e66",
   "outputs": [
    {
     "name": "stdout",
     "output_type": "stream",
     "text": [
      "---ESTABLISH SUBJECT---\n",
      "===SUBJECT: TRAVEL===\n",
      "---ESTABLISH ROUTE---\n",
      "===ROUTE: RAG===\n",
      "---RETRIEVE DOCS---\n",
      "---CHECK DOCUMENT RELEVANCE---\n",
      "---DOCUMENT RELEVANCE---\n",
      "---DOCUMENT RELEVANCE---\n",
      "---DOCUMENT RELEVANCE---\n",
      "---DOCUMENT RELEVANCE---\n",
      "---DOCUMENT RELEVANCE---\n",
      "===EVALUATE GRADED DOCUMENTS===\n",
      "===DECISION: PLANNER===\n",
      "---PLANNER---\n",
      "===CHECK HALLUCINATIONS===\n",
      "===DECISION: PLANNER IS GROUNDED IN DOCUMENTS===\n",
      "===GRADE PLANNER vs QUESTION===\n",
      "===DECISION: PLANNER ADDRESSES QUESTION===\n",
      "The Aosta Valley is a beautiful region in northwest Italy, known for its stunning mountain scenery, rich history, and vibrant culture. Here's a suggested 7-day itinerary for exploring the Aosta Valley:\n",
      "\n",
      "Day 1: Arrival in Aosta and Exploration of the City\n",
      "\n",
      "* Arrive in Aosta, the capital city of the valley\n",
      "* Visit the Roman ruins of Augustus' Palace and the Cathedral of S. Lorenzo\n",
      "* Explore the historic center, including the Piazza Principe and the Palazzo Ducale\n",
      "* Enjoy traditional Aosta Valley cuisine for dinner\n",
      "\n",
      "Day 2: Aosta Valley's Natural Beauty\n",
      "\n",
      "* Take a cable car ride to the top of Monte Bianco (Mont Blanc) for breathtaking views\n",
      "* Visit the picturesque village of La Thuile, nestled in the heart of the Gran Paradiso National Park\n",
      "* Hike or bike through the stunning scenery of the park, with options ranging from easy strolls to challenging treks\n",
      "\n",
      "Day 3: The Valley's History and Culture\n",
      "\n",
      "* Visit the Museo Civico d'Aosta, which showcases the region's history and art\n",
      "* Explore the medieval town of Fossano, with its well-preserved castle and charming streets\n",
      "* Enjoy a traditional Aosta Valley dinner at a local trattoria\n",
      "\n",
      "Day 4: The Gran Paradiso National Park\n",
      "\n",
      "* Spend the day exploring the park's stunning scenery, including the Lago di Valsavarenche and the Col de Balme pass\n",
      "* Take a guided hike or horseback ride through the park's beautiful trails\n",
      "* Enjoy a picnic lunch amidst the breathtaking scenery\n",
      "\n",
      "Day 5: The Valley's Wine Country\n",
      "\n",
      "* Visit the wineries of the Aosta Valley, including the famous Château de Fossano\n",
      "* Learn about the region's wine production and taste some of its excellent wines\n",
      "* Enjoy a wine-tasting dinner at a local restaurant\n",
      "\n",
      "Day 6: The Villages of the Valley\n",
      "\n",
      "* Visit the charming village of Courmayeur, with its picturesque streets and stunning mountain views\n",
      "* Explore the historic center of Saint-Vincent, with its beautiful church and charming shops\n",
      "* Enjoy a traditional Aosta Valley dinner in one of the valley's many cozy restaurants\n",
      "\n",
      "Day 7: Departure from Aosta\n",
      "\n",
      "* Spend the morning shopping for souvenirs or exploring Aosta's historic center\n",
      "* Depart for home, bringing back memories of the Aosta Valley's stunning natural beauty and rich culture.\n",
      "\n",
      "This itinerary provides a mix of outdoor activities, cultural experiences, and delicious food and wine. Of course, feel free to customize it to suit your interests and preferences!\n"
     ]
    }
   ],
   "execution_count": 266
  },
  {
   "metadata": {
    "ExecuteTime": {
     "end_time": "2024-10-22T10:45:38.601353Z",
     "start_time": "2024-10-22T10:45:05.492564Z"
    }
   },
   "cell_type": "code",
   "source": [
    "# Test Graph: expected generation NOT grounded in docs\n",
    "answer = graph.invoke({\"question\":\"What kind of food I can eat while visiting Paris?\"})[\"planner\"]\n",
    "print(answer)\n"
   ],
   "id": "2bd35c6635b67d2f",
   "outputs": [
    {
     "name": "stdout",
     "output_type": "stream",
     "text": [
      "---ESTABLISH SUBJECT---\n",
      "===SUBJECT: TRAVEL===\n",
      "---ESTABLISH ROUTE---\n",
      "===ROUTE: WEB SEARCH===\n",
      "---WEB SEARCH---\n",
      "---PLANNER---\n",
      "===CHECK HALLUCINATIONS===\n",
      "===DECISION: PLANNER IS GROUNDED IN DOCUMENTS===\n",
      "===GRADE PLANNER vs QUESTION===\n",
      "===DECISION: PLANNER ADDRESSES QUESTION===\n",
      "Hello! Oh, I'm so excited to talk about the food in Paris! You're going to love it - it's truly one of the best culinary experiences in the world. From classic French dishes to delicious pastries and sweet treats, you'll find something to satisfy every craving.\n",
      "\n",
      "First of all, let's start with the quintessential French dish: Coq au Vin. This classic recipe originated in the Burgundy region, but you can find it on menus throughout Paris. It's a must-try for any foodie visiting the city. The combination of tender chicken cooked in red wine with mushrooms and bacon is absolute perfection.\n",
      "\n",
      "Of course, no trip to Paris would be complete without trying some delicious French bread and cheese. You'll find croque-monsieur sandwiches at nearly every café and restaurant - they're essentially grilled ham and cheese sandwiches that are perfect for a quick snack or light meal. And don't even get me started on the pastries! Flaky, buttery croissants and delicate macarons are just a few of the sweet treats you'll find in Paris.\n",
      "\n",
      "One of my personal favorite French desserts is the Baba au Rhum. This rich, creamy dessert is made with rum-soaked cake and topped with whipped cream - it's truly decadent. And if you're looking for something a little more unique, be sure to try some profiteroles (or cream puffs) at Profiterole Cherie. These bite-sized treats are filled with a light and airy cream that will leave you wanting more.\n",
      "\n",
      "Now, I know what you're thinking: \"What about the famous French cuisine?\" Well, let me tell you - Paris is home to some of the best restaurants in the world. From Michelin-starred eateries to cozy bistros, there's something for every taste and budget. And don't even get me started on the markets! The Marché aux Enfants Rouges and the Marché d'Aligre are just two of the many markets where you can find fresh produce, artisanal cheeses, and delicious prepared foods.\n",
      "\n",
      "If you have 3 days in Paris, I recommend starting with a classic French breakfast at a charming café. Try a croissant or pain au chocolat with a cup of coffee or tea - it's the perfect way to start your day. Then, head to the Eiffel Tower for breathtaking views of the city and a delicious lunch at one of the many restaurants in the area.\n",
      "\n",
      "For a week-long trip, here's how you could plan each day:\n",
      "\n",
      "Day 1: Explore the Latin Quarter, where you'll find charming streets, historic buildings, and some of the best food in Paris. Be sure to try some classic French dishes like Coq au Vin or Bouillabaisse at one of the many restaurants in the area.\n",
      "\n",
      "Day 2: Visit the famous markets, like the Marché aux Enfants Rouges or the Marché d'Aligre. You'll find everything from fresh produce to artisanal cheeses and delicious prepared foods.\n",
      "\n",
      "Day 3: Take a day trip to the Champs-Élysées, where you can visit some of Paris's most famous landmarks, like the Arc de Triomphe and the Eiffel Tower. Be sure to try some classic French cuisine at one of the many restaurants in the area.\n",
      "\n",
      "And don't forget to bring your appetite! You'll want to try as much of the local food as possible during your trip.\n",
      "\n",
      "I hope you have an amazing time in Paris, and I'm sure you'll fall in love with the food just like I did. Bon appétit!\n"
     ]
    }
   ],
   "execution_count": 268
  },
  {
   "metadata": {},
   "cell_type": "markdown",
   "source": "## ",
   "id": "c445ed8050f147b4"
  }
 ],
 "metadata": {
  "kernelspec": {
   "display_name": "Python 3 (ipykernel)",
   "language": "python",
   "name": "python3"
  },
  "language_info": {
   "codemirror_mode": {
    "name": "ipython",
    "version": 3
   },
   "file_extension": ".py",
   "mimetype": "text/x-python",
   "name": "python",
   "nbconvert_exporter": "python",
   "pygments_lexer": "ipython3",
   "version": "3.12.0"
  }
 },
 "nbformat": 4,
 "nbformat_minor": 5
}
